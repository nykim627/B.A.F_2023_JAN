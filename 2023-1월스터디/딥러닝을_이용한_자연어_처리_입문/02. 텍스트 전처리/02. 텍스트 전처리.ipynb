{
 "cells": [
  {
   "cell_type": "markdown",
   "id": "13601644",
   "metadata": {},
   "source": [
    "*__텍스트전처리란?__*   \n",
    "-> 풀고자 하는 문제의 용도에 맞게 텍스트를 사전에 처리하는 작업\n",
    "\n",
    "*__NLP?__*    \n",
    "-> 자연어 처리(Natural Language Processing)\n",
    "\n",
    "*__코퍼스?__*   \n",
    "-> 말뭉치(corpus)   \n",
    "-> 자연어 연구를 위해 특정한 목적을 가지고 언어의 표본을 추출한 집합\n",
    "\n",
    "*__패딩(Padding)?__*   \n",
    "-> 문장의 길이를 동일하게 바꿔주는 작업\n",
    "\n",
    "---"
   ]
  },
  {
   "cell_type": "markdown",
   "id": "a856bce4",
   "metadata": {},
   "source": [
    "# 1. 토큰화(Tokenization)\n",
    "- 자연어 처리 과정 ; 데이터를 사용하고자 하는 용도에 맞게 토큰화 / 클리닝 / 정규화 진행.   \n",
    "- 토큰화 : 주어진 코퍼스(corpus. 또는 말뭉치)에서 토큰(token)이라 불리는 단위로 나누는 작업. 토큰의 단위는 상황에 따라 다르며, 보통 의미있는 단위로 토큰을 정의."
   ]
  },
  {
   "cell_type": "markdown",
   "id": "ce8283f4",
   "metadata": {},
   "source": [
    "## 1.1 단어 토큰화(Word Tokenization)\n",
    "_**토큰의 기준을 단어(word)로 하는 경우.**_\n",
    "## 1.2 토큰화 중 생기는 선택의 순간\n",
    "_**토큰화의 기준을 생각해보게 되는 경우.**_   \n",
    "ex) Apostrophe(')가 들어간 상황에서 토큰화 방법은 여러가지일 수 있다.   \n",
    "사용자는 토큰화 도구 직접 설계학거나 기존에 공개된 도구를 사용 (사용자의 목적에 맞도록)\n",
    "- NLTK는 영어 코퍼스를 토큰화하기 위한 도구 제공.\n",
    "- NLTK는 각 실습마다 필요한 NLTK Data가 있으므로, 만약 데이터가 없다는 에러 발생 시에는 nltk.download(필요한 데이터)라는 커맨드를 통해 다운로드 할 수 있다."
   ]
  },
  {
   "cell_type": "code",
   "execution_count": 1,
   "id": "832a3299",
   "metadata": {
    "ExecuteTime": {
     "end_time": "2023-01-29T12:02:36.983865Z",
     "start_time": "2023-01-29T12:02:36.972865Z"
    }
   },
   "outputs": [],
   "source": [
    "#!pip install nltk\n",
    "#!pip install tensorflow"
   ]
  },
  {
   "cell_type": "code",
   "execution_count": 2,
   "id": "869f0836",
   "metadata": {
    "ExecuteTime": {
     "end_time": "2023-01-29T12:02:36.999864Z",
     "start_time": "2023-01-29T12:02:36.986866Z"
    }
   },
   "outputs": [],
   "source": [
    "#import nltk\n",
    "#nltk.download('punkt')"
   ]
  },
  {
   "cell_type": "code",
   "execution_count": 3,
   "id": "881021fa",
   "metadata": {
    "ExecuteTime": {
     "end_time": "2023-01-29T12:02:47.056962Z",
     "start_time": "2023-01-29T12:02:37.001866Z"
    }
   },
   "outputs": [],
   "source": [
    "# NLTK\n",
    "from nltk.tokenize import word_tokenize\n",
    "from nltk.tokenize import WordPunctTokenizer\n",
    "from tensorflow.keras.preprocessing.text import text_to_word_sequence"
   ]
  },
  {
   "cell_type": "code",
   "execution_count": 4,
   "id": "d0368e8f",
   "metadata": {
    "ExecuteTime": {
     "end_time": "2023-01-29T12:02:47.102571Z",
     "start_time": "2023-01-29T12:02:47.059874Z"
    }
   },
   "outputs": [
    {
     "name": "stdout",
     "output_type": "stream",
     "text": [
      "단어 토큰화1 : ['Do', \"n't\", 'be', 'fooled', 'by', 'the', 'dark', 'sounding', 'name', ',', 'Mr.', 'Jone', \"'s\", 'Orphanage', 'is', 'as', 'cheery', 'as', 'cheery', 'goes', 'for', 'a', 'pastry', 'shop', '.']\n"
     ]
    }
   ],
   "source": [
    "#1. word_tokenize 사용\n",
    "print('단어 토큰화1 :',word_tokenize(\"Don't be fooled by the dark sounding name,\\\n",
    " Mr. Jone's Orphanage is as cheery as cheery goes for a pastry shop.\"))"
   ]
  },
  {
   "cell_type": "markdown",
   "id": "f4b66ed4",
   "metadata": {},
   "source": [
    "* Don't -> Do + n't \n",
    "* Jone's -> Jone + 's"
   ]
  },
  {
   "cell_type": "code",
   "execution_count": 5,
   "id": "429935de",
   "metadata": {
    "ExecuteTime": {
     "end_time": "2023-01-29T12:02:47.118586Z",
     "start_time": "2023-01-29T12:02:47.105497Z"
    }
   },
   "outputs": [
    {
     "name": "stdout",
     "output_type": "stream",
     "text": [
      "단어 토큰화2 : ['Don', \"'\", 't', 'be', 'fooled', 'by', 'the', 'dark', 'sounding', 'name', ',', 'Mr', '.', 'Jone', \"'\", 's', 'Orphanage', 'is', 'as', 'cheery', 'as', 'cheery', 'goes', 'for', 'a', 'pastry', 'shop', '.']\n"
     ]
    }
   ],
   "source": [
    "#2. WordPunctTokenizer 사용\n",
    "print('단어 토큰화2 :',WordPunctTokenizer().tokenize(\"Don't be fooled by the dark\\\n",
    " sounding name, Mr. Jone's Orphanage is as cheery as cheery goes for a pastry shop.\"))"
   ]
  },
  {
   "cell_type": "markdown",
   "id": "a74d07eb",
   "metadata": {
    "ExecuteTime": {
     "end_time": "2023-01-05T10:43:48.955359Z",
     "start_time": "2023-01-05T10:43:48.933751Z"
    }
   },
   "source": [
    "-> 구두점을 별도로 분류하는 특징\n",
    "* Don't -> Don + ' + t\n",
    "* Jone's -> Jone + ' + s"
   ]
  },
  {
   "cell_type": "code",
   "execution_count": 6,
   "id": "28f10f41",
   "metadata": {
    "ExecuteTime": {
     "end_time": "2023-01-29T12:02:47.133889Z",
     "start_time": "2023-01-29T12:02:47.120493Z"
    }
   },
   "outputs": [
    {
     "name": "stdout",
     "output_type": "stream",
     "text": [
      "단어 토큰화3 : [\"don't\", 'be', 'fooled', 'by', 'the', 'dark', 'sounding', 'name', 'mr', \"jone's\", 'orphanage', 'is', 'as', 'cheery', 'as', 'cheery', 'goes', 'for', 'a', 'pastry', 'shop']\n"
     ]
    }
   ],
   "source": [
    "#3. text_to_word_sequence 사용\n",
    "print('단어 토큰화3 :',text_to_word_sequence(\"Don't be fooled by the dark sounding\\\n",
    " name, Mr. Jone's Orphanage is as cheery as cheery goes for a pastry shop.\"))"
   ]
  },
  {
   "cell_type": "markdown",
   "id": "e07c0632",
   "metadata": {},
   "source": [
    "- 구두점 중 period, comma, explamation mark등의 구두점은 제거.    \n",
    "- but Apostrophe는 보존. \n",
    "- 모든 alphaber을 lower case로 change"
   ]
  },
  {
   "cell_type": "markdown",
   "id": "7f62ddf0",
   "metadata": {},
   "source": [
    "## 1.3 토큰화에서 고려해야할 사항\n",
    "1) 구두점이나 특수 문자를 단순 제외해서는 안 된다.\n",
    "- period는 문장의 경계를 아는 데 도움이 되므로 제외하지 않을 수도.\n",
    "- 단어 자체에 구두점을 갖는 경우도 존재    ex) m.p.h / Ph.D\n",
    "- '$' : 가격 의미, 01/02/06 : 날짜 의미 -> 같이 취급하고 싶을수도\n",
    "- 수치 표현 시 숫자 사이에 comma 들어감. (123,456,789)\n",
    "\n",
    "2) 줄임말과 단어 내에 띄어쓰기 있는 경우\n",
    "- 줄임말 : we're / I'm   ->  압축된 단어 다시 펼치기\n",
    "- 단어 내 띄어쓰기 : rock 'n' roll     ->  이러한 단어도 하나로 인식할 수 있어야...\n",
    "\n",
    "3) 표준 토큰화 예제 : Penn Treebank Tokenization의 규칙\n",
    "- 1) hyphen(-)으로 구성된 단어는 하나로 유지\n",
    "- 2) doesn't와 같이 apostrophe로 '접어'가 함께하는 단어는 분리"
   ]
  },
  {
   "cell_type": "code",
   "execution_count": 7,
   "id": "0d801970",
   "metadata": {
    "ExecuteTime": {
     "end_time": "2023-01-29T12:02:47.149133Z",
     "start_time": "2023-01-29T12:02:47.136797Z"
    }
   },
   "outputs": [
    {
     "name": "stdout",
     "output_type": "stream",
     "text": [
      "트리뱅크 워드토크나이저 :  ['Starting', 'a', 'home-based', 'restaurant', 'may', 'be', 'an', 'ideal.', 'it', 'does', \"n't\", 'have', 'a', 'food', 'chain', 'or', 'restaurant', 'of', 'their', 'own', '.']\n"
     ]
    }
   ],
   "source": [
    "# 표준 토큰화 예제 : Penn Treebank Tokenization\n",
    "from nltk.tokenize import TreebankWordTokenizer\n",
    "\n",
    "tokenizer = TreebankWordTokenizer()\n",
    "\n",
    "text = \"Starting a home-based restaurant may be an ideal. it doesn't have a food\\\n",
    " chain or restaurant of their own.\"\n",
    "print('트리뱅크 워드토크나이저 : ', tokenizer.tokenize(text))"
   ]
  },
  {
   "cell_type": "markdown",
   "id": "27dcb530",
   "metadata": {},
   "source": [
    "## 1.4 문장 토큰화(Sentence Tokenization)\n",
    "_**토큰의 단위가 문장(sentence)일 경우**_\n",
    "exclamation mark(!)나 question mark(?)는 문장의 구분을 위한 꽤 명확한 구분자(boundary) 역할을 하지만 마침표는 그렇지 않다. 문장의 끝이 아니더라도 나타남.   \n",
    "ex) IP 192.168.56.31 / Ph.D   \n",
    "\n",
    "사용하는 코퍼스가 어떤 국적의 언어인지, 또는 해당 코퍼스 내에서 특수문자들이 어떻게 사용되고 있는지에 따라서 직접 규칙들을 정의할 수 있다.   \n",
    "\n",
    "- NLTK에서는 영어 문장의 토큰화를 수행하는 sent_tokenize를 지원.\n",
    "- 한국어의 경우 KSS(Korean Sentence Splitter) 추천"
   ]
  },
  {
   "cell_type": "code",
   "execution_count": 8,
   "id": "2bf1e084",
   "metadata": {
    "ExecuteTime": {
     "end_time": "2023-01-29T12:02:47.165046Z",
     "start_time": "2023-01-29T12:02:47.152046Z"
    }
   },
   "outputs": [
    {
     "name": "stdout",
     "output_type": "stream",
     "text": [
      "문장 토큰화1 : ['His barber kept his word.', 'But keeping such a huge secret to himself was driving him crazy.', 'Finally, the barber went up a mountain and almost to the edge of a cliff.', 'He dug a hole in the midst of some reeds.', 'He looked about, to make sure no one was near.']\n"
     ]
    }
   ],
   "source": [
    "# NLTK를 통한 영어 문장 토큰화 - 1. 간단 버전\n",
    "from nltk.tokenize import sent_tokenize\n",
    "\n",
    "text = \"His barber kept his word. But keeping such a huge secret to himself was\\\n",
    " driving him crazy. Finally, the barber went up a mountain and almost to the edge\\\n",
    " of a cliff. He dug a hole in the midst of some reeds. He looked about, to make\\\n",
    " sure no one was near.\"\n",
    "print('문장 토큰화1 :',sent_tokenize(text))"
   ]
  },
  {
   "cell_type": "code",
   "execution_count": 9,
   "id": "31104736",
   "metadata": {
    "ExecuteTime": {
     "end_time": "2023-01-29T12:02:47.181148Z",
     "start_time": "2023-01-29T12:02:47.171046Z"
    },
    "scrolled": true
   },
   "outputs": [
    {
     "name": "stdout",
     "output_type": "stream",
     "text": [
      "문장 토큰화2 : ['I am actively looking for Ph.D. students.', 'And you are a Ph.D student.']\n"
     ]
    }
   ],
   "source": [
    "# NLTK를 통한 영어 문장 토큰화 - 2. 마침표 다수 등장\n",
    "text = \"I am actively looking for Ph.D. students. And you are a Ph.D student.\"\n",
    "print('문장 토큰화2 :',sent_tokenize(text))"
   ]
  },
  {
   "cell_type": "markdown",
   "id": "c2484660",
   "metadata": {},
   "source": [
    "-> NLTK는 단순히 마침표를 구분자로 하여 문장을 구분하지 않았기 때문에, Ph.D.를 문장 내의 단어로 인식하여 성공적으로 인식한다."
   ]
  },
  {
   "cell_type": "code",
   "execution_count": 10,
   "id": "56d47f93",
   "metadata": {
    "ExecuteTime": {
     "end_time": "2023-01-29T12:02:47.197646Z",
     "start_time": "2023-01-29T12:02:47.184648Z"
    }
   },
   "outputs": [],
   "source": [
    "#!pip install kss"
   ]
  },
  {
   "cell_type": "code",
   "execution_count": 11,
   "id": "fdf33060",
   "metadata": {
    "ExecuteTime": {
     "end_time": "2023-01-29T12:02:48.315324Z",
     "start_time": "2023-01-29T12:02:47.200651Z"
    }
   },
   "outputs": [
    {
     "name": "stderr",
     "output_type": "stream",
     "text": [
      "[Kss]: Because there's no supported C++ morpheme analyzer, Kss will take pecab as a backend. :D\n",
      "For your information, Kss also supports mecab backend.\n",
      "We recommend you to install mecab or konlpy.tag.Mecab for faster execution of Kss.\n",
      "Please refer to following web sites for details:\n",
      "- mecab: https://cleancode-ws.tistory.com/97\n",
      "- konlpy.tag.Mecab: https://uwgdqo.tistory.com/363\n",
      "\n"
     ]
    },
    {
     "name": "stdout",
     "output_type": "stream",
     "text": [
      "한국어 문장 토큰화 : ['딥 러닝 자연어 처리가 재미있기는 합니다.', '그런데 문제는 영어보다 한국어로 할 때 너무 어렵습니다.', '이제 해보면 알걸요?']\n"
     ]
    }
   ],
   "source": [
    "# kss를 통한 한국어 문장 토큰화\n",
    "import kss\n",
    "\n",
    "text = '딥 러닝 자연어 처리가 재미있기는 합니다. 그런데 문제는 영어보다 한국어로\\\n",
    " 할 때 너무 어렵습니다. 이제 해보면 알걸요?'\n",
    "print('한국어 문장 토큰화 :',kss.split_sentences(text))"
   ]
  },
  {
   "cell_type": "markdown",
   "id": "f9246eb8",
   "metadata": {},
   "source": [
    "-> 출력 결과는 정상적으로 모든 문장이 분리된 결과를 보여준다."
   ]
  },
  {
   "cell_type": "markdown",
   "id": "dd4d76c2",
   "metadata": {
    "ExecuteTime": {
     "end_time": "2023-01-05T11:14:21.253247Z",
     "start_time": "2023-01-05T11:14:21.233791Z"
    }
   },
   "source": [
    "## 1.5 한국어에서의 토큰화의 어려움\n",
    "한국어는 영어와는 달리 띄어쓰기만으로는 토큰화를 하기에 부족.    \n",
    "한국어의 경우에는 띄어쓰기 단위가 되는 단위를 '어절'이라고 하는데 어절 토큰화는 한국어 NLP에서 지양한다. 어절 토큰화와 단어 토큰화는 같지 않기 때문.       \n",
    "근본적인 이유는 한국어가 영어와는 다른 형태를 가지는 언어인 교착어이기 때문.   \n",
    "(형태소의 개념 이해 필요)\n",
    "\n",
    "1) 교착어의 특성\n",
    "- 교착어 : 조사, 어미 등을 붙여서 말을 만드는 언어\n",
    "- **한국어에서 영어에서의 단어 토큰화와 유사한 형태를 얻으려면 어절 토큰화가 아니라 형태소 토큰화를 수행해야 한다!**\n",
    "\n",
    "2) 한국어는 영어보다 띄어쓰기가 잘 지켜지지 않는다.\n",
    "- 띄어쓰기가지켜지지않아도글을쉽게이애할수있기때문이다.\n",
    "- 즉 한국어는 수많은 코퍼스에서 띄어쓰기가 무시되는 경우가 많아 자연어 처리가 어려워진 것."
   ]
  },
  {
   "cell_type": "markdown",
   "id": "ff4895a0",
   "metadata": {},
   "source": [
    "## 1.6 품사 태깅(Part-of-speech tagging)\n",
    "- 단어의 표기는 같지만 품사에 따라서 단어의 의미가 달라지기도 한다. 영어와 한국어 모두 마찬가지.   \n",
    "- 결국 단어의 의미를 제대로 파악하기 위해서는 해당 단어가 어떤 품사로 쓰였는지를 보는 것이 중요.   \n",
    "- 그에 따라 단어 토큰화 과정에서 각 단어가 어떤 품사로 쓰였는지를 구분해놓기도 하는데, 이 작업을 품사 태깅이라고 한다. NLTK와 KoNLPy를 통해 품사 태깅 실습을 진행해보자."
   ]
  },
  {
   "cell_type": "markdown",
   "id": "2a37ebb5",
   "metadata": {},
   "source": [
    "## 1.7 NLTK와 KoNLPy를 이용한 영어, 한국어 토큰화 실습"
   ]
  },
  {
   "cell_type": "markdown",
   "id": "460b18f5",
   "metadata": {},
   "source": [
    "### 1.7.1 NLTK에서는 Penn Treebank POS Tags라는 기준을 사용하여 품사를 태깅한다.\n",
    "- PRP : 인칭 대명사\n",
    "- VBP : 동사\n",
    "- RB : 부사\n",
    "- VBG : 현재동사\n",
    "- IN : 전치사\n",
    "- NNP : 고유 명사\n",
    "- NNS : 복수형 명사\n",
    "- CC : 접속사\n",
    "- DT : 관사\n",
    "\n",
    "* [추가태그정보]    \n",
    ": https://excelsior-cjh.tistory.com/71   \n",
    ": https://www.ling.upenn.edu/courses/Fall_2003/ling001/penn_treebank_pos.html"
   ]
  },
  {
   "cell_type": "code",
   "execution_count": 12,
   "id": "592f6a08",
   "metadata": {
    "ExecuteTime": {
     "end_time": "2023-01-29T12:02:48.331329Z",
     "start_time": "2023-01-29T12:02:48.317326Z"
    }
   },
   "outputs": [],
   "source": [
    "#import nltk\n",
    "#nltk.download('averaged_perceptron_tagger')"
   ]
  },
  {
   "cell_type": "code",
   "execution_count": 13,
   "id": "e502afdf",
   "metadata": {
    "ExecuteTime": {
     "end_time": "2023-01-29T12:02:48.440874Z",
     "start_time": "2023-01-29T12:02:48.333327Z"
    }
   },
   "outputs": [
    {
     "name": "stdout",
     "output_type": "stream",
     "text": [
      "단어 토큰화 : ['I', 'am', 'actively', 'looking', 'for', 'Ph.D.', 'students', '.', 'and', 'you', 'are', 'a', 'Ph.D.', 'student', '.']\n",
      "품사 태깅 : [('I', 'PRP'), ('am', 'VBP'), ('actively', 'RB'), ('looking', 'VBG'), ('for', 'IN'), ('Ph.D.', 'NNP'), ('students', 'NNS'), ('.', '.'), ('and', 'CC'), ('you', 'PRP'), ('are', 'VBP'), ('a', 'DT'), ('Ph.D.', 'NNP'), ('student', 'NN'), ('.', '.')]\n"
     ]
    }
   ],
   "source": [
    "from nltk.tokenize import word_tokenize\n",
    "from nltk.tag import pos_tag\n",
    "\n",
    "text = \"I am actively looking for Ph.D. students. and you are a Ph.D. student.\"\n",
    "tokenized_sentence = word_tokenize(text)\n",
    "\n",
    "print('단어 토큰화 :',tokenized_sentence)\n",
    "print('품사 태깅 :',pos_tag(tokenized_sentence))"
   ]
  },
  {
   "cell_type": "markdown",
   "id": "73944259",
   "metadata": {},
   "source": [
    "### 1.7.2 한국어 자연어 처리를 위해서는 KoNLPy(코엔엘파이)라는 파이썬 패키지를 사용한다.\n",
    "1) 사용가능한 형태소 분석기 종류\n",
    "- Okt(Open Korea Text)\n",
    "- 메캅(Mecab)\n",
    "- 코모란(Komoran)\n",
    "- 한나눔(Hannanum)\n",
    "- 꼬꼬마(Kkma)\n",
    "\n",
    "2) 위의 형태소 분석기들은 공통적으로 아래의 메소드들을 제공한다.\n",
    "- morphs : 형태소 추출   \n",
    "- pos : 품사 태깅(Part-of-speech tagging)    \n",
    "- nouns : 명사 추출"
   ]
  },
  {
   "cell_type": "code",
   "execution_count": 14,
   "id": "6320b8e0",
   "metadata": {
    "ExecuteTime": {
     "end_time": "2023-01-29T12:02:48.456298Z",
     "start_time": "2023-01-29T12:02:48.443227Z"
    }
   },
   "outputs": [],
   "source": [
    "# KoNLPy 설치\n",
    "#!pip install konlpy"
   ]
  },
  {
   "cell_type": "code",
   "execution_count": 15,
   "id": "febf6ed0",
   "metadata": {
    "ExecuteTime": {
     "end_time": "2023-01-29T12:02:48.471354Z",
     "start_time": "2023-01-29T12:02:48.459265Z"
    }
   },
   "outputs": [],
   "source": [
    "#import konlpy\n",
    "#konlpy.__version__"
   ]
  },
  {
   "cell_type": "code",
   "execution_count": 16,
   "id": "a3d5767e",
   "metadata": {
    "ExecuteTime": {
     "end_time": "2023-01-29T12:02:48.487136Z",
     "start_time": "2023-01-29T12:02:48.473307Z"
    }
   },
   "outputs": [],
   "source": [
    "# 파이썬 버전 확인 - 3.9\n",
    "#!pip install sys\n",
    "#import sys\n",
    "#print(sys.version)"
   ]
  },
  {
   "cell_type": "markdown",
   "id": "c8e26853",
   "metadata": {},
   "source": [
    "> **< 파이썬 pip whl 파일 설치 에러 >**   \n",
    "'JPype1-1.4.0-cp39-cp39-win_amd64.whl is not a supported wheel on this platform.'이란 ERROR가 자꾸 뜸.    --->   *플랫폼과 버전이 안맞으면 나오는 에러!*\n",
    "> * 문제1) 나의 아나콘다 가상환경 내 파이썬 버전(3.9)과 로컬 컴퓨터 내 파이썬 버전(3.7)이 달라서 헷갈림.   \n",
    "> * 문제2) 나는 현재 가상환경 사용중이므로 3.9를 깔아야 하는데, 이때 가상환경을 '실행한 상태'에서 3.9를 설치해야 정상적으로 설치 이루어짐! (프롬프트에서 해당 파일의 경로로 이동하는 경로 설정도 해줘야함.)"
   ]
  },
  {
   "cell_type": "markdown",
   "id": "2fa19fde",
   "metadata": {},
   "source": [
    "> **< java 설치 안되어 있었음...>**   \n",
    "설치파일 이용해서 다시 설치 후 아래 블로그 참고해서 환경 변수 설정까지 완료. \n",
    "> * [자바설치 및 환경변수 설정 (https://languagestory.tistory.com/11)]  \n",
    "\n",
    "> cmd창 이용해서 자바 버전 확인했을 때 이번에는 제대로 떴다. (16.0.2)"
   ]
  },
  {
   "cell_type": "code",
   "execution_count": 17,
   "id": "bd907553",
   "metadata": {
    "ExecuteTime": {
     "end_time": "2023-01-29T12:02:53.492355Z",
     "start_time": "2023-01-29T12:02:48.491015Z"
    }
   },
   "outputs": [
    {
     "name": "stdout",
     "output_type": "stream",
     "text": [
      "OKT 형태소 분석 : ['열심히', '코딩', '한', '당신', ',', '연휴', '에는', '여행', '을', '가봐요']\n",
      "OKT 품사 태깅 : [('열심히', 'Adverb'), ('코딩', 'Noun'), ('한', 'Josa'), ('당신', 'Noun'), (',', 'Punctuation'), ('연휴', 'Noun'), ('에는', 'Josa'), ('여행', 'Noun'), ('을', 'Josa'), ('가봐요', 'Verb')]\n",
      "OKT 명사 추출 : ['코딩', '당신', '연휴', '여행']\n"
     ]
    }
   ],
   "source": [
    "# Okt\n",
    "from konlpy.tag import Okt\n",
    "\n",
    "okt = Okt()\n",
    "\n",
    "print('OKT 형태소 분석 :',okt.morphs(\"열심히 코딩한 당신, 연휴에는 여행을 가봐요\"))\n",
    "print('OKT 품사 태깅 :',okt.pos(\"열심히 코딩한 당신, 연휴에는 여행을 가봐요\"))\n",
    "print('OKT 명사 추출 :',okt.nouns(\"열심히 코딩한 당신, 연휴에는 여행을 가봐요\")) "
   ]
  },
  {
   "cell_type": "code",
   "execution_count": 18,
   "id": "c7b42ae6",
   "metadata": {
    "ExecuteTime": {
     "end_time": "2023-01-29T12:03:00.887418Z",
     "start_time": "2023-01-29T12:02:53.494327Z"
    },
    "scrolled": true
   },
   "outputs": [
    {
     "name": "stdout",
     "output_type": "stream",
     "text": [
      "꼬꼬마 형태소 분석 : ['열심히', '코딩', '하', 'ㄴ', '당신', ',', '연휴', '에', '는', '여행', '을', '가보', '아요']\n",
      "꼬꼬마 품사 태깅 : [('열심히', 'MAG'), ('코딩', 'NNG'), ('하', 'XSV'), ('ㄴ', 'ETD'), ('당신', 'NP'), (',', 'SP'), ('연휴', 'NNG'), ('에', 'JKM'), ('는', 'JX'), ('여행', 'NNG'), ('을', 'JKO'), ('가보', 'VV'), ('아요', 'EFN')]\n",
      "꼬꼬마 명사 추출 : ['코딩', '당신', '연휴', '여행']\n"
     ]
    }
   ],
   "source": [
    "# 꼬꼬마\n",
    "from konlpy.tag import Kkma\n",
    "\n",
    "kkma = Kkma()\n",
    "\n",
    "print('꼬꼬마 형태소 분석 :',kkma.morphs(\"열심히 코딩한 당신, 연휴에는 여행을 가봐요\"))\n",
    "print('꼬꼬마 품사 태깅 :',kkma.pos(\"열심히 코딩한 당신, 연휴에는 여행을 가봐요\"))\n",
    "print('꼬꼬마 명사 추출 :',kkma.nouns(\"열심히 코딩한 당신, 연휴에는 여행을 가봐요\"))  "
   ]
  },
  {
   "cell_type": "markdown",
   "id": "d0211475",
   "metadata": {},
   "source": [
    "Okt 형태소 분석기와 꼬꼬마 형태소 분석기의 결과가 다르다.\n",
    "> 즉 **각 형태소 분석기는 성능과 결과가 다르게 나오기** 때문에, 형태소 분석기의 선택은 사용하고자 하는 필요 용도에 어떤 형태소 분석기가 가장 적절한지를 판단하고 사용해야 한다.   \n",
    "ex) 만약 속도를 중시한다면 메캅을 사용할 수 있다."
   ]
  },
  {
   "cell_type": "markdown",
   "id": "539d52a5",
   "metadata": {},
   "source": [
    "# 2 정제(Cleaning) and 정규화(Normalization)\n",
    "토큰화 작업 전, 후에는 텍스트 데이터를 용도에 맞게 정제(cleaning) 및 정규화(normalization)하는 일이 항상 따라온다.\n",
    "* 정제(cleaning) : 갖고 있는 코퍼스로부터 노이즈 데이터를 제거한다.\n",
    "* 정규화(normalization) : 표현 방법이 다른 단어들을 통합시켜서 같은 단어로 만들어준다.\n",
    "     - 정규화의 지향점은 언제나 갖고 있는 코퍼스로부터 복잡성을 줄이는 일이다."
   ]
  },
  {
   "cell_type": "markdown",
   "id": "babb75be",
   "metadata": {},
   "source": [
    "## 2.1 정규화) 규칙에 기반한 표기가 다른 단어들의 통합\n",
    "같은 의미를 갖고있음에도 표기가 다른 단어들을 하나의 단어로 정규화 \n",
    "ex) US = USA\n",
    "## 2.2 정규화) 대, 소문자 통합\n",
    "영어권 언어에서 대문자는 문장의 맨 앞 등과 같은 특정 상황에서만 쓰이고, 대부분의 글은 소문자로 작성되기 때문에 대, 소문자 통합 작업은 대부분 대문자를 소문자로 변환하는 소문자 변환작업으로 이루어진다.   \n",
    "물론 대문자와 소문자를 무작정 통합해서는 안 된다. 가령 미국을 뜻하는 단어 US와 우리를 뜻하는 us는 구분되어야 한다. 또 회사 이름(General Motors)나, 사람 이름(Bush) 등은 대문자로 유지되어야 한다."
   ]
  },
  {
   "cell_type": "markdown",
   "id": "d5b3edb7",
   "metadata": {},
   "source": [
    "## 2.3 정제) 불필요한 단어의 제거\n",
    "noise data : 자연어가 아니면서 아무 의미도 갖지 않는 글자들(특수 문자 등) + 분석하고자 하는 목적에 맞지 않는 불필요 단어들\n",
    "\n",
    "불필요 단어들을 제거하는 방법\n",
    "1) 등장 빈도가 적은 단어\n",
    "2) 길이가 짧은 단어\n",
    "- 영어권 언어에서 길이가 짧은 단어들은 대부분 불용어에 해당.\n",
    "- 길이를 조건으로 텍스트를 삭제하면서 단어가 아닌 구두점들까지도 한꺼번에 제거 가능.\n",
    "- BUT, 한국어에서는 이 방법이 크게 유효하지 않을 수 있다. (주의!)"
   ]
  },
  {
   "cell_type": "markdown",
   "id": "6b786a00",
   "metadata": {},
   "source": [
    "## 2.4 정제) 정규 표현식(Regular Expression)\n",
    "얻어낸 코퍼스에서 노이즈 데이터의 특징을 잡아낼 수 있다면, 정규 표현식을 통해서 이를 제거할 수 있는 경우가 많다.   \n",
    "ex1) HTML 문서로부터 가져온 코퍼스라면 문서 여기저기에 HTML 태그 존재   \n",
    "ex2) 뉴스 기사 크롤링한 경우 기사마다 게재 시간 적혀 있을 것.   \n",
    "\n",
    "**--> 정규 표현식은 이러한 코퍼스 내에 계속해서 등장하는 글자들을 규칙에 기반하여 한 번에 제거하는 방식으로서 매우 유용하다.**"
   ]
  },
  {
   "cell_type": "markdown",
   "id": "20860fa6",
   "metadata": {
    "ExecuteTime": {
     "end_time": "2023-01-05T12:43:57.549368Z",
     "start_time": "2023-01-05T12:43:57.539935Z"
    }
   },
   "source": [
    "# 3 어간 추출(Stemming) and 표제어 추출(Lemmatization)\n",
    "정규화 기법 중 코퍼스에 있는 단어의 개수를 줄일 수 있는 기법.   \n",
    "--> 눈으로 봤을 때는 서로 다른 단어들이지만, **하나의 단어로 일반화시킬 수 있다면 하나의 단어로 일반화시켜서** 문서 내의 단어 수를 줄이고자 한다!\n",
    "\n",
    "* BoW(Bag of Words) 표현을 사용하는 자연어 처리 문제에서 주로 사용(지금은 넘어가자. 뒤에 배울 것.) "
   ]
  },
  {
   "cell_type": "markdown",
   "id": "a456c431",
   "metadata": {
    "ExecuteTime": {
     "end_time": "2023-01-05T12:51:54.845326Z",
     "start_time": "2023-01-05T12:51:54.832623Z"
    }
   },
   "source": [
    "## 3.1 표제어 추출(Lemmatization)\n",
    "표제어 : 기본 사전형 단어\n",
    "표제어 추출 : 단어들로부터 표제어를 찾아가는 과정\n",
    "* 표제어 추출은 단어들이 다른 형태를 가지더라도, 그 뿌리 단어를 찾아가서 단어의 개수를 줄일 수 있는지 판단한다!    \n",
    "    - ex) am, are, is의 표제어 : be\n",
    "* NLTK에서는 표제어 추출을 위한 도구인 WordNetLemmatizer를 지원. 이를 통해 표제어 추출 실습을 해보자."
   ]
  },
  {
   "cell_type": "code",
   "execution_count": 19,
   "id": "b51750ae",
   "metadata": {
    "ExecuteTime": {
     "end_time": "2023-01-29T12:03:00.902697Z",
     "start_time": "2023-01-29T12:03:00.892677Z"
    }
   },
   "outputs": [],
   "source": [
    "#import nltk\n",
    "#nltk.download('wordnet')"
   ]
  },
  {
   "cell_type": "code",
   "execution_count": 20,
   "id": "e1e28d3c",
   "metadata": {
    "ExecuteTime": {
     "end_time": "2023-01-29T12:03:04.776184Z",
     "start_time": "2023-01-29T12:03:00.907698Z"
    }
   },
   "outputs": [
    {
     "name": "stdout",
     "output_type": "stream",
     "text": [
      "표제어 추출 전 : ['policy', 'doing', 'organization', 'have', 'going', 'love', 'lives', 'fly', 'dies', 'watched', 'has', 'starting']\n",
      "표제어 추출 후 : ['policy', 'doing', 'organization', 'have', 'going', 'love', 'life', 'fly', 'dy', 'watched', 'ha', 'starting']\n"
     ]
    }
   ],
   "source": [
    "from nltk.stem import WordNetLemmatizer\n",
    "\n",
    "lemmatizer = WordNetLemmatizer()\n",
    "\n",
    "words = ['policy', 'doing', 'organization', 'have', 'going', 'love', 'lives',\\\n",
    "         'fly', 'dies', 'watched', 'has', 'starting']\n",
    "\n",
    "print('표제어 추출 전 :',words)\n",
    "print('표제어 추출 후 :',[lemmatizer.lemmatize(word) for word in words])"
   ]
  },
  {
   "cell_type": "markdown",
   "id": "1b795e01",
   "metadata": {},
   "source": [
    "> 표제어 추출은 (어간 추출과는 달리) 단어의 형태가 적절히 보존되는 양상을 보이는 특징이 있다.    \n",
    "\n",
    "> 하지만 위의 결과에서는 dy나 ha와 같이 적절하지 못한 단어를 출력하기도 한다.\n",
    "> * 표제어 추출기가 본래 단어의 품사 정보를 알아야만 정확한 결과를 얻을 수 있기 때문!\n",
    "> * WordNetLemmatizer는 입력으로 단어의 품사 정보를 알려줄 수 있다."
   ]
  },
  {
   "cell_type": "code",
   "execution_count": 21,
   "id": "d67e245b",
   "metadata": {
    "ExecuteTime": {
     "end_time": "2023-01-29T12:03:04.791185Z",
     "start_time": "2023-01-29T12:03:04.778069Z"
    }
   },
   "outputs": [
    {
     "name": "stdout",
     "output_type": "stream",
     "text": [
      "die\n",
      "watch\n",
      "have\n"
     ]
    }
   ],
   "source": [
    "print(lemmatizer.lemmatize('dies', 'v'))\n",
    "print(lemmatizer.lemmatize('watched', 'v'))\n",
    "print(lemmatizer.lemmatize('has', 'v'))"
   ]
  },
  {
   "cell_type": "markdown",
   "id": "6c4bd39d",
   "metadata": {},
   "source": [
    "> 이처럼 표제어 추출은 문맥을 고려하며, 추출 결과 해당 단어의 품사 정보를 보존한다.    \n",
    "> 하지만, 어간 추출을 수행한 결과는 품사 정보가 보존되지 않는다. 또한 사전에 존재하지 않는 단어일 경우가 많다."
   ]
  },
  {
   "cell_type": "markdown",
   "id": "e02448fc",
   "metadata": {},
   "source": [
    "## 3.2 어간 추출(Stemming)\n",
    "어간 추출은 형태학적 분석을 단순화한 버전이라고 볼 수도 있고, 정해진 규칙만 보고 단어의 어미를 자르는 어림짐작의 작업이라고 볼 수도 있다.   \n",
    "규칙 기반의 접근을 하는 이러한 작업은 섬세한 작업이 아니므로 어간 추출 후에 나오는 결과 단어는 사전에 존재하지 않는 단어일 수도 있다.\n",
    "\n",
    "NLTK의 어간 추출 알고리즘\n",
    "* 포터 알고리즘(Porter Algorithm)\n",
    "* 랭커스터 스태머 알고리즘(Lancaster Stemmer Algorithm)\n",
    "\n",
    "이미 알려진 알고리즘을 사용할 때는, **사용하고자 하는 코퍼스에 스태머를 적용해보고 어떤 스태머가 해당 코퍼스에 적합한지를 판단한 후에 사용해야 한다.**   \n",
    "어간 추출 속도는 표제어 추출보다 일반적으로 빠른데, 포터 어간 추출기는 정밀하게 설계되어 정확도가 높으므로 영어 자연어 처리에서 어간 추출을 하고자 한다면 가장 준수한 선택이다.   \n",
    "*※ Porter 알고리즘의 상세 규칙은 마틴 포터의 홈페이지에서 확인할 수 있다.*"
   ]
  },
  {
   "cell_type": "code",
   "execution_count": 22,
   "id": "c832b74c",
   "metadata": {
    "ExecuteTime": {
     "end_time": "2023-01-29T12:03:04.806632Z",
     "start_time": "2023-01-29T12:03:04.793082Z"
    }
   },
   "outputs": [
    {
     "name": "stdout",
     "output_type": "stream",
     "text": [
      "어간 추출 전 : ['policy', 'doing', 'organization', 'have', 'going', 'love', 'lives', 'fly', 'dies', 'watched', 'has', 'starting']\n",
      "포터 스테머의 어간 추출 후: ['polici', 'do', 'organ', 'have', 'go', 'love', 'live', 'fli', 'die', 'watch', 'ha', 'start']\n",
      "랭커스터 스테머의 어간 추출 후: ['policy', 'doing', 'org', 'hav', 'going', 'lov', 'liv', 'fly', 'die', 'watch', 'has', 'start']\n"
     ]
    }
   ],
   "source": [
    "# 포터 알고리즘과 랭커스터 알고리즘 비교\n",
    "from nltk.stem import PorterStemmer\n",
    "from nltk.stem import LancasterStemmer\n",
    "\n",
    "porter_stemmer = PorterStemmer()\n",
    "lancaster_stemmer = LancasterStemmer()\n",
    "\n",
    "words = ['policy', 'doing', 'organization', 'have', 'going', 'love', 'lives',\\\n",
    "         'fly', 'dies', 'watched', 'has', 'starting']\n",
    "\n",
    "print('어간 추출 전 :', words)\n",
    "print('포터 스테머의 어간 추출 후:',[porter_stemmer.stem(w) for w in words])\n",
    "print('랭커스터 스테머의 어간 추출 후:',[lancaster_stemmer.stem(w) for w in words])"
   ]
  },
  {
   "cell_type": "markdown",
   "id": "c1750874",
   "metadata": {},
   "source": [
    "## 3.3 한국어에서의 어간 추출\n",
    "1) 한국어는 5언 9품사의 구조   \n",
    "- 체언 : 명사, 대명사, 수사\n",
    "- 수식언 : 관형사, 부사\n",
    "- 관계언 : 조사\n",
    "- 독립언 : 감탄사\n",
    "- **용언 : 동사, 형용사 -> 어간(stem)과 어미(ending)의 결합으로 구성**\n",
    "\n",
    "2) 규칙활용과 불규칙 활용\n",
    "- 활용이란 용언의 어간이 어미를 가지는 일을 말한다.\n",
    "- 어간의 모습이 일정하다면 규칙 활용, 어간이나 어미의 모습이 변한다면 불규칙 활용"
   ]
  },
  {
   "cell_type": "markdown",
   "id": "8fcc14a4",
   "metadata": {},
   "source": [
    "# 4 불용어(Stopword)\n",
    "자주 등장하지만 분석에 큰 의미가 없는 단어.   ex) I, my, me, over, 조사, 접미사 등...\n",
    "\n",
    "NLTK에서는 100여개 이상의 영단어들을 불용어로 패키지 내에서 미리 정의하고 있다.   \n",
    "물론 불용어는 개발자가 직접 정의할 수도 있다."
   ]
  },
  {
   "cell_type": "markdown",
   "id": "220a9069",
   "metadata": {},
   "source": [
    "## 4.1 NLTK에서 불용어 확인하기"
   ]
  },
  {
   "cell_type": "code",
   "execution_count": 23,
   "id": "78caba48",
   "metadata": {
    "ExecuteTime": {
     "end_time": "2023-01-29T12:03:04.822612Z",
     "start_time": "2023-01-29T12:03:04.808611Z"
    }
   },
   "outputs": [],
   "source": [
    "from nltk.corpus import stopwords\n",
    "from nltk.tokenize import word_tokenize \n",
    "from konlpy.tag import Okt"
   ]
  },
  {
   "cell_type": "code",
   "execution_count": 24,
   "id": "65bea1b0",
   "metadata": {
    "ExecuteTime": {
     "end_time": "2023-01-29T12:03:04.837739Z",
     "start_time": "2023-01-29T12:03:04.829630Z"
    }
   },
   "outputs": [],
   "source": [
    "#import nltk\n",
    "#nltk.download('stopwords')"
   ]
  },
  {
   "cell_type": "code",
   "execution_count": 25,
   "id": "24aadc9e",
   "metadata": {
    "ExecuteTime": {
     "end_time": "2023-01-29T12:03:04.853172Z",
     "start_time": "2023-01-29T12:03:04.840130Z"
    }
   },
   "outputs": [
    {
     "name": "stdout",
     "output_type": "stream",
     "text": [
      "불용어 개수 : 179\n",
      "불용어 10개 출력 : ['i', 'me', 'my', 'myself', 'we', 'our', 'ours', 'ourselves', 'you', \"you're\"]\n"
     ]
    }
   ],
   "source": [
    "# stopwords.words(\"english\") : NLTK가 정의한 영어 불용어 리스트를 리턴\n",
    "stop_words_list = stopwords.words('english')\n",
    "print('불용어 개수 :', len(stop_words_list))\n",
    "print('불용어 10개 출력 :',stop_words_list[:10])"
   ]
  },
  {
   "cell_type": "markdown",
   "id": "94f5ed7b",
   "metadata": {},
   "source": [
    "## 4.2 NLTK를 통해서 불용어 제거하기"
   ]
  },
  {
   "cell_type": "code",
   "execution_count": 26,
   "id": "c146447c",
   "metadata": {
    "ExecuteTime": {
     "end_time": "2023-01-29T12:03:04.868979Z",
     "start_time": "2023-01-29T12:03:04.855216Z"
    }
   },
   "outputs": [
    {
     "name": "stdout",
     "output_type": "stream",
     "text": [
      "불용어 제거 전 : ['Family', 'is', 'not', 'an', 'important', 'thing', '.', 'It', \"'s\", 'everything', '.']\n",
      "불용어 제거 후 : ['Family', 'important', 'thing', '.', 'It', \"'s\", 'everything', '.']\n"
     ]
    }
   ],
   "source": [
    "example = \"Family is not an important thing. It's everything.\"\n",
    "stop_words = set(stopwords.words('english')) \n",
    "\n",
    "word_tokens = word_tokenize(example)\n",
    "\n",
    "result = []\n",
    "for word in word_tokens: \n",
    "    if word not in stop_words: \n",
    "        result.append(word) \n",
    "\n",
    "print('불용어 제거 전 :',word_tokens) \n",
    "print('불용어 제거 후 :',result)"
   ]
  },
  {
   "cell_type": "markdown",
   "id": "7a37fef4",
   "metadata": {},
   "source": [
    "## 4.3 한국어에서 불용어 제거하기\n",
    "한국어에서 불용어를 제거하는 방법으로는 간단하게는 토큰화 후에 조사, 접속사 등을 제거하는 방법이 있다. 하지만 불용어를 제거하려고 하다보면 명사, 형용사와 같은 단어들 중 불용어로서 제거하고 싶은 단어들이 생기기도 한다. 결국 사용자가 직접 불용어 사전을 만들게 되는 경우가 많다.\n",
    "\n",
    "직접 불용어를 정의해보고, 주어진 문장으로부터 불용어를 제거해보자. 아래의 불용어는 임의선정한 것으로 실제 의미있는 선정 기준은 아니다."
   ]
  },
  {
   "cell_type": "code",
   "execution_count": 27,
   "id": "8a521954",
   "metadata": {
    "ExecuteTime": {
     "end_time": "2023-01-29T12:03:04.915413Z",
     "start_time": "2023-01-29T12:03:04.870988Z"
    }
   },
   "outputs": [
    {
     "name": "stdout",
     "output_type": "stream",
     "text": [
      "불용어 제거 전 : ['고기', '를', '아무렇게나', '구', '우려', '고', '하면', '안', '돼', '.', '고기', '라고', '다', '같은', '게', '아니거든', '.', '예컨대', '삼겹살', '을', '구울', '때', '는', '중요한', '게', '있지', '.']\n",
      "불용어 제거 후 : ['고기', '하면', '.', '고기', '라고', '다', '아니거든', '.', '예컨대', '삼겹살', '을', '중요한', '있지', '.']\n"
     ]
    }
   ],
   "source": [
    "okt = Okt()\n",
    "\n",
    "example = \"고기를 아무렇게나 구우려고 하면 안 돼. 고기라고 다 같은 게 아니거든.\\\n",
    " 예컨대 삼겹살을 구울 때는 중요한 게 있지.\"\n",
    "stop_words = \"를 아무렇게나 구 우려 고 안 돼 같은 게 구울 때 는\"\n",
    "\n",
    "stop_words = set(stop_words.split(' '))\n",
    "word_tokens = okt.morphs(example)\n",
    "\n",
    "result = [word for word in word_tokens if not word in stop_words]\n",
    "\n",
    "print('불용어 제거 전 :',word_tokens) \n",
    "print('불용어 제거 후 :',result)"
   ]
  },
  {
   "cell_type": "markdown",
   "id": "65bdad5f",
   "metadata": {
    "ExecuteTime": {
     "end_time": "2023-01-06T06:08:03.474971Z",
     "start_time": "2023-01-06T06:08:03.453562Z"
    }
   },
   "source": [
    "아래의 링크는 보편적으로 선택할 수 있는 한국어 불용어 리스트를 부여준다.   \n",
    "하지만, 여전히 절대적인 기준은 아니다.    \n",
    "[링크]: https://www.ranks.nl/stopwords/korean\n",
    "\n",
    "불용어가 많은 경우에는 코드 내에서 직접 정의하지 않고 txt 파일이나 csv 파일로 정리해놓고 이를 불러와서 사용하기도 한다."
   ]
  },
  {
   "cell_type": "markdown",
   "id": "9be5b5d3",
   "metadata": {},
   "source": [
    "# 5 정규 표현식(Regular Expression)\n",
    "파이썬에서 지원하고 있는 정규 표현식 모듈 re의 사용 방법과 NLTK를 통한 정규 표현식을 이용한 토큰화에 대해서 알아보자."
   ]
  },
  {
   "cell_type": "markdown",
   "id": "ef00322f",
   "metadata": {},
   "source": [
    "## 5.1 정규 표현식 문법과 모듈 함수\n",
    "파이썬에서는 정규 표현식 모듈 re을 지원하므로, 이를 이용하면 특정 규칙이 있는 텍스트 데이터를 빠르게 정제할 수 있다.   \n",
    "정규 표현식을 위해 사용되는 특수 문자와 모듈 함수에 대해서 표를 통해 정리해보자."
   ]
  },
  {
   "cell_type": "markdown",
   "id": "685a309f",
   "metadata": {},
   "source": [
    "![그림1](./re특수문자.png)\n",
    "![그림2](./re문자규칙.png)\n",
    "![그림3](./re모듈함수.png)"
   ]
  },
  {
   "cell_type": "markdown",
   "id": "087b07c7",
   "metadata": {},
   "source": [
    "## 5.2 정규 표현식 실습\n",
    "앞으로 진행될 실습에서는 re.compile()에 정규 표현식을 컴파일하고, re.search()를 통해서 해당 정규 표현식이 입력 텍스트와 매치되는지를 확인하면서 각 정규 표현식에 대해서 이해해자.    \n",
    "re.search()는 매치된다면 Match Object를 리턴하고 매치되지 않으면 아무런 값도 출력되지 않는다."
   ]
  },
  {
   "cell_type": "code",
   "execution_count": 28,
   "id": "9ebad03d",
   "metadata": {
    "ExecuteTime": {
     "end_time": "2023-01-29T12:03:04.931390Z",
     "start_time": "2023-01-29T12:03:04.916882Z"
    }
   },
   "outputs": [],
   "source": [
    "import re"
   ]
  },
  {
   "cell_type": "markdown",
   "id": "93ae8a01",
   "metadata": {},
   "source": [
    "### 1) .\n",
    ".은 한 개의 임의의 문자를 나타낸다. 예를 들어서 정규 표현식이 a.c라고 한다면, a와 c 사이에는 어떤 1개의 문자라도 올 수 있다. akc, azc, avc, a5c, a!c와 같은 형태는 모두 a.c의 정규 표현식과 매치된다."
   ]
  },
  {
   "cell_type": "code",
   "execution_count": 29,
   "id": "4ea07295",
   "metadata": {
    "ExecuteTime": {
     "end_time": "2023-01-29T12:03:04.946720Z",
     "start_time": "2023-01-29T12:03:04.933274Z"
    }
   },
   "outputs": [],
   "source": [
    "r = re.compile(\"a.c\")\n",
    "r.search(\"kkk\") # 아무런 결과도 출력되지 않는다."
   ]
  },
  {
   "cell_type": "code",
   "execution_count": 30,
   "id": "fa009426",
   "metadata": {
    "ExecuteTime": {
     "end_time": "2023-01-29T12:03:04.977978Z",
     "start_time": "2023-01-29T12:03:04.949793Z"
    }
   },
   "outputs": [
    {
     "data": {
      "text/plain": [
       "<re.Match object; span=(0, 3), match='abc'>"
      ]
     },
     "execution_count": 30,
     "metadata": {},
     "output_type": "execute_result"
    }
   ],
   "source": [
    "r.search(\"abc\")"
   ]
  },
  {
   "cell_type": "markdown",
   "id": "60ba7fca",
   "metadata": {
    "ExecuteTime": {
     "end_time": "2023-01-06T06:32:28.276283Z",
     "start_time": "2023-01-06T06:32:28.261014Z"
    }
   },
   "source": [
    "### 2) ?\n",
    "?는 ?앞의 문자가 존재할 수도 있고 존재하지 않을 수도 있는 경우를 나타낸다. 예를 들어서 정규 표현식이 ab?c라고 할 때, 이 정규 표현식에서의 b는 있다고 취급할 수도 있고, 없다고 취급할 수도 있다. 즉, abc와 ac 모두 매치할 수 있다."
   ]
  },
  {
   "cell_type": "code",
   "execution_count": 31,
   "id": "afd8de0b",
   "metadata": {
    "ExecuteTime": {
     "end_time": "2023-01-29T12:03:04.993910Z",
     "start_time": "2023-01-29T12:03:04.980903Z"
    }
   },
   "outputs": [],
   "source": [
    "r = re.compile(\"ab?c\")\n",
    "r.search(\"abbc\") # 아무런 결과도 출력되지 않는다."
   ]
  },
  {
   "cell_type": "code",
   "execution_count": 32,
   "id": "f3a648d7",
   "metadata": {
    "ExecuteTime": {
     "end_time": "2023-01-29T12:03:05.009519Z",
     "start_time": "2023-01-29T12:03:04.996912Z"
    }
   },
   "outputs": [
    {
     "data": {
      "text/plain": [
       "<re.Match object; span=(0, 3), match='abc'>"
      ]
     },
     "execution_count": 32,
     "metadata": {},
     "output_type": "execute_result"
    }
   ],
   "source": [
    "r.search(\"abc\")"
   ]
  },
  {
   "cell_type": "code",
   "execution_count": 33,
   "id": "d0d473ac",
   "metadata": {
    "ExecuteTime": {
     "end_time": "2023-01-29T12:03:05.025286Z",
     "start_time": "2023-01-29T12:03:05.011851Z"
    }
   },
   "outputs": [
    {
     "data": {
      "text/plain": [
       "<re.Match object; span=(0, 2), match='ac'>"
      ]
     },
     "execution_count": 33,
     "metadata": {},
     "output_type": "execute_result"
    }
   ],
   "source": [
    "r.search(\"ac\")"
   ]
  },
  {
   "cell_type": "markdown",
   "id": "d5de9516",
   "metadata": {},
   "source": [
    "### 3) *\n",
    "*은 바로 앞의 문자가 0개 이상일 경우를 나타낸다. 앞의 문자는 존재하지 않을 수도 있으며, 또는 여러 개일 수도 있다. 정규 표현식이 ab*c라면 ac, abc, abbc, abbbc 등과 매치할 수 있으며 b의 개수는 무수히 많을 수 있다."
   ]
  },
  {
   "cell_type": "code",
   "execution_count": 34,
   "id": "ecf1a827",
   "metadata": {
    "ExecuteTime": {
     "end_time": "2023-01-29T12:03:05.041298Z",
     "start_time": "2023-01-29T12:03:05.027286Z"
    }
   },
   "outputs": [],
   "source": [
    "r = re.compile(\"ab*c\")\n",
    "r.search(\"a\") # 아무런 결과도 출력되지 않는다."
   ]
  },
  {
   "cell_type": "code",
   "execution_count": 35,
   "id": "876e16ca",
   "metadata": {
    "ExecuteTime": {
     "end_time": "2023-01-29T12:03:05.057263Z",
     "start_time": "2023-01-29T12:03:05.042823Z"
    }
   },
   "outputs": [
    {
     "data": {
      "text/plain": [
       "<re.Match object; span=(0, 2), match='ac'>"
      ]
     },
     "execution_count": 35,
     "metadata": {},
     "output_type": "execute_result"
    }
   ],
   "source": [
    "r.search(\"ac\")"
   ]
  },
  {
   "cell_type": "code",
   "execution_count": 36,
   "id": "96ba9c61",
   "metadata": {
    "ExecuteTime": {
     "end_time": "2023-01-29T12:03:05.073159Z",
     "start_time": "2023-01-29T12:03:05.060148Z"
    }
   },
   "outputs": [
    {
     "data": {
      "text/plain": [
       "<re.Match object; span=(0, 3), match='abc'>"
      ]
     },
     "execution_count": 36,
     "metadata": {},
     "output_type": "execute_result"
    }
   ],
   "source": [
    "r.search(\"abc\")"
   ]
  },
  {
   "cell_type": "code",
   "execution_count": 37,
   "id": "49529b93",
   "metadata": {
    "ExecuteTime": {
     "end_time": "2023-01-29T12:03:05.088478Z",
     "start_time": "2023-01-29T12:03:05.076153Z"
    }
   },
   "outputs": [
    {
     "data": {
      "text/plain": [
       "<re.Match object; span=(0, 6), match='abbbbc'>"
      ]
     },
     "execution_count": 37,
     "metadata": {},
     "output_type": "execute_result"
    }
   ],
   "source": [
    "r.search(\"abbbbc\")"
   ]
  },
  {
   "cell_type": "markdown",
   "id": "20f07c8d",
   "metadata": {
    "ExecuteTime": {
     "end_time": "2023-01-06T06:34:22.380434Z",
     "start_time": "2023-01-06T06:34:22.363302Z"
    }
   },
   "source": [
    "### 4) +\n",
    "+는 \\*와 유사하다. 다른 점은 바로 앞의 문자가 최소 1개 이상이어야 한다는 것이다.(\\*는 0개 이상)      \n",
    "정규 표현식이 ab+c라고 한다면 ac는 매치되지 않는다. 하지만 abc, abbc, abbbc 등과 매치할 수 있으며 b의 개수는 무수히 많을 수 있다."
   ]
  },
  {
   "cell_type": "code",
   "execution_count": 38,
   "id": "c28cc5bc",
   "metadata": {
    "ExecuteTime": {
     "end_time": "2023-01-29T12:03:05.104088Z",
     "start_time": "2023-01-29T12:03:05.090390Z"
    }
   },
   "outputs": [],
   "source": [
    "r = re.compile(\"ab+c\")\n",
    "r.search(\"ac\") # 아무런 결과도 출력되지 않는다."
   ]
  },
  {
   "cell_type": "code",
   "execution_count": 39,
   "id": "5debf6b8",
   "metadata": {
    "ExecuteTime": {
     "end_time": "2023-01-29T12:03:05.120034Z",
     "start_time": "2023-01-29T12:03:05.107000Z"
    }
   },
   "outputs": [
    {
     "data": {
      "text/plain": [
       "<re.Match object; span=(0, 3), match='abc'>"
      ]
     },
     "execution_count": 39,
     "metadata": {},
     "output_type": "execute_result"
    }
   ],
   "source": [
    "r.search(\"abc\") "
   ]
  },
  {
   "cell_type": "code",
   "execution_count": 40,
   "id": "8375943e",
   "metadata": {
    "ExecuteTime": {
     "end_time": "2023-01-29T12:03:05.136176Z",
     "start_time": "2023-01-29T12:03:05.123015Z"
    }
   },
   "outputs": [
    {
     "data": {
      "text/plain": [
       "<re.Match object; span=(0, 6), match='abbbbc'>"
      ]
     },
     "execution_count": 40,
     "metadata": {},
     "output_type": "execute_result"
    }
   ],
   "source": [
    "r.search(\"abbbbc\") "
   ]
  },
  {
   "cell_type": "markdown",
   "id": "7952fd70",
   "metadata": {},
   "source": [
    "### 5) ^\n",
    "^는 시작되는 문자열을 지정한다. 정규표현식이 ^ab라면 문자열 ab로 시작되는 경우 매치합니다."
   ]
  },
  {
   "cell_type": "code",
   "execution_count": 41,
   "id": "b88d3f39",
   "metadata": {
    "ExecuteTime": {
     "end_time": "2023-01-29T12:03:05.152193Z",
     "start_time": "2023-01-29T12:03:05.139190Z"
    }
   },
   "outputs": [],
   "source": [
    "r = re.compile(\"^ab\")\n",
    "\n",
    "# 아무런 결과도 출력되지 않는다.\n",
    "r.search(\"bbc\")\n",
    "r.search(\"zab\")"
   ]
  },
  {
   "cell_type": "code",
   "execution_count": 42,
   "id": "7a28e001",
   "metadata": {
    "ExecuteTime": {
     "end_time": "2023-01-29T12:03:05.168202Z",
     "start_time": "2023-01-29T12:03:05.155263Z"
    }
   },
   "outputs": [
    {
     "data": {
      "text/plain": [
       "<re.Match object; span=(0, 2), match='ab'>"
      ]
     },
     "execution_count": 42,
     "metadata": {},
     "output_type": "execute_result"
    }
   ],
   "source": [
    "r.search(\"abz\")"
   ]
  },
  {
   "cell_type": "markdown",
   "id": "0f4a45f3",
   "metadata": {},
   "source": [
    "### 6) {숫자}\n",
    "문자에 해당 기호를 붙이면, 해당 문자를 숫자만큼 반복한 것을 나타낸다. 예를 들어서 정규 표현식이 ab{2}c라면 a와 c 사이에 b가 존재하면서 b가 2개인 문자열에 대해서 매치한다."
   ]
  },
  {
   "cell_type": "code",
   "execution_count": 43,
   "id": "d163891d",
   "metadata": {
    "ExecuteTime": {
     "end_time": "2023-01-29T12:03:05.184289Z",
     "start_time": "2023-01-29T12:03:05.171230Z"
    }
   },
   "outputs": [],
   "source": [
    "r = re.compile(\"ab{2}c\")\n",
    "\n",
    "# 아무런 결과도 출력되지 않는다.\n",
    "r.search(\"ac\")\n",
    "r.search(\"abc\")\n",
    "r.search(\"abbbbbc\")"
   ]
  },
  {
   "cell_type": "code",
   "execution_count": 44,
   "id": "3dc00047",
   "metadata": {
    "ExecuteTime": {
     "end_time": "2023-01-29T12:03:05.199487Z",
     "start_time": "2023-01-29T12:03:05.187189Z"
    }
   },
   "outputs": [
    {
     "data": {
      "text/plain": [
       "<re.Match object; span=(0, 4), match='abbc'>"
      ]
     },
     "execution_count": 44,
     "metadata": {},
     "output_type": "execute_result"
    }
   ],
   "source": [
    "r.search(\"abbc\")"
   ]
  },
  {
   "cell_type": "markdown",
   "id": "108d1a77",
   "metadata": {},
   "source": [
    "### 7) {숫자1, 숫자2}\n",
    "문자에 해당 기호를 붙이면, 해당 문자를 숫자1 이상 숫자2 이하만큼 반복한다. 예를 들어서 정규 표현식이 ab{2,8}c라면 a와 c 사이에 b가 존재하면서 b는 2개 이상 8개 이하인 문자열에 대해서 매치한다."
   ]
  },
  {
   "cell_type": "code",
   "execution_count": 45,
   "id": "f10cf255",
   "metadata": {
    "ExecuteTime": {
     "end_time": "2023-01-29T12:03:05.215423Z",
     "start_time": "2023-01-29T12:03:05.201403Z"
    }
   },
   "outputs": [],
   "source": [
    "r = re.compile(\"ab{2,8}c\")\n",
    "\n",
    "# 아무런 결과도 출력되지 않는다.\n",
    "r.search(\"ac\")\n",
    "r.search(\"abc\")\n",
    "r.search(\"abbbbbbbbbc\")"
   ]
  },
  {
   "cell_type": "code",
   "execution_count": 46,
   "id": "e54c3d6c",
   "metadata": {
    "ExecuteTime": {
     "end_time": "2023-01-29T12:03:05.230506Z",
     "start_time": "2023-01-29T12:03:05.217425Z"
    }
   },
   "outputs": [
    {
     "data": {
      "text/plain": [
       "<re.Match object; span=(0, 4), match='abbc'>"
      ]
     },
     "execution_count": 46,
     "metadata": {},
     "output_type": "execute_result"
    }
   ],
   "source": [
    "r.search(\"abbc\")"
   ]
  },
  {
   "cell_type": "code",
   "execution_count": 47,
   "id": "3679c3a2",
   "metadata": {
    "ExecuteTime": {
     "end_time": "2023-01-29T12:03:05.246424Z",
     "start_time": "2023-01-29T12:03:05.232547Z"
    }
   },
   "outputs": [
    {
     "data": {
      "text/plain": [
       "<re.Match object; span=(0, 10), match='abbbbbbbbc'>"
      ]
     },
     "execution_count": 47,
     "metadata": {},
     "output_type": "execute_result"
    }
   ],
   "source": [
    "r.search(\"abbbbbbbbc\")"
   ]
  },
  {
   "cell_type": "markdown",
   "id": "3b55af66",
   "metadata": {},
   "source": [
    "### 8) {숫자,}\n",
    "문자에 해당 기호를 붙이면 해당 문자를 숫자 이상 만큼 반복한다. 예를 들어서 정규 표현식이 a{2,}bc라면 뒤에 bc가 붙으면서 a의 개수가 2개 이상인 경우인 문자열과 매치한다. 또한 만약 {0,}을 쓴다면 \\*와 동일한 의미가 되며, {1,}을 쓴다면 +와 동일한 의미가 된다."
   ]
  },
  {
   "cell_type": "code",
   "execution_count": 48,
   "id": "0db5c542",
   "metadata": {
    "ExecuteTime": {
     "end_time": "2023-01-29T12:03:05.261550Z",
     "start_time": "2023-01-29T12:03:05.248432Z"
    }
   },
   "outputs": [
    {
     "name": "stdout",
     "output_type": "stream",
     "text": [
      "None\n",
      "None\n",
      "None\n"
     ]
    }
   ],
   "source": [
    "r = re.compile(\"a{2,}bc\")\n",
    "\n",
    "# 아무런 결과도 출력되지 않는다.\n",
    "print(r.search(\"bc\"))\n",
    "print(r.search(\"abc\"))\n",
    "print(r.search(\"aa\"))"
   ]
  },
  {
   "cell_type": "code",
   "execution_count": 49,
   "id": "ffecf241",
   "metadata": {
    "ExecuteTime": {
     "end_time": "2023-01-29T12:03:05.276563Z",
     "start_time": "2023-01-29T12:03:05.265468Z"
    }
   },
   "outputs": [
    {
     "data": {
      "text/plain": [
       "<re.Match object; span=(0, 4), match='aabc'>"
      ]
     },
     "execution_count": 49,
     "metadata": {},
     "output_type": "execute_result"
    }
   ],
   "source": [
    "r.search(\"aabc\")"
   ]
  },
  {
   "cell_type": "code",
   "execution_count": 50,
   "id": "84dc0762",
   "metadata": {
    "ExecuteTime": {
     "end_time": "2023-01-29T12:03:05.292474Z",
     "start_time": "2023-01-29T12:03:05.279470Z"
    }
   },
   "outputs": [
    {
     "data": {
      "text/plain": [
       "<re.Match object; span=(0, 10), match='aaaaaaaabc'>"
      ]
     },
     "execution_count": 50,
     "metadata": {},
     "output_type": "execute_result"
    }
   ],
   "source": [
    "r.search(\"aaaaaaaabc\")"
   ]
  },
  {
   "cell_type": "markdown",
   "id": "ce86cb3d",
   "metadata": {},
   "source": [
    "### 9) [ ]\n",
    "[ ]안에 문자들을 넣으면 그 문자들 중 한 개의 문자와 매치라는 의미를 가진다. 예를 들어서 정규 표현식이 [abc]라면, a 또는 b또는 c가 들어가있는 문자열과 매치된다. 범위를 지정하는 것도 가능하다. [a-zA-Z]는 알파벳 전부를 의미하며, [0-9]는 숫자 전부를 의미한다."
   ]
  },
  {
   "cell_type": "code",
   "execution_count": 51,
   "id": "99ab2b79",
   "metadata": {
    "ExecuteTime": {
     "end_time": "2023-01-29T12:03:05.308157Z",
     "start_time": "2023-01-29T12:03:05.294472Z"
    }
   },
   "outputs": [],
   "source": [
    "r = re.compile(\"[abc]\") # [abc]는 [a-c]와 같다.\n",
    "r.search(\"zzz\") # 아무런 결과도 출력되지 않는다."
   ]
  },
  {
   "cell_type": "code",
   "execution_count": 52,
   "id": "6f5ef921",
   "metadata": {
    "ExecuteTime": {
     "end_time": "2023-01-29T12:03:05.324108Z",
     "start_time": "2023-01-29T12:03:05.312075Z"
    }
   },
   "outputs": [
    {
     "data": {
      "text/plain": [
       "<re.Match object; span=(0, 1), match='a'>"
      ]
     },
     "execution_count": 52,
     "metadata": {},
     "output_type": "execute_result"
    }
   ],
   "source": [
    "r.search(\"a\")"
   ]
  },
  {
   "cell_type": "code",
   "execution_count": 53,
   "id": "28910871",
   "metadata": {
    "ExecuteTime": {
     "end_time": "2023-01-29T12:03:05.340182Z",
     "start_time": "2023-01-29T12:03:05.326080Z"
    }
   },
   "outputs": [
    {
     "data": {
      "text/plain": [
       "<re.Match object; span=(0, 1), match='a'>"
      ]
     },
     "execution_count": 53,
     "metadata": {},
     "output_type": "execute_result"
    }
   ],
   "source": [
    "r.search(\"aaaaaaa\")"
   ]
  },
  {
   "cell_type": "code",
   "execution_count": 54,
   "id": "15bdb606",
   "metadata": {
    "ExecuteTime": {
     "end_time": "2023-01-29T12:03:05.356185Z",
     "start_time": "2023-01-29T12:03:05.343076Z"
    }
   },
   "outputs": [
    {
     "data": {
      "text/plain": [
       "<re.Match object; span=(0, 1), match='b'>"
      ]
     },
     "execution_count": 54,
     "metadata": {},
     "output_type": "execute_result"
    }
   ],
   "source": [
    "r.search(\"baac\")"
   ]
  },
  {
   "cell_type": "code",
   "execution_count": 55,
   "id": "fae58421",
   "metadata": {
    "ExecuteTime": {
     "end_time": "2023-01-29T12:03:05.372078Z",
     "start_time": "2023-01-29T12:03:05.359071Z"
    }
   },
   "outputs": [
    {
     "data": {
      "text/plain": [
       "<re.Match object; span=(1, 2), match='a'>"
      ]
     },
     "execution_count": 55,
     "metadata": {},
     "output_type": "execute_result"
    }
   ],
   "source": [
    "r.search(\"dac\")"
   ]
  },
  {
   "cell_type": "code",
   "execution_count": 56,
   "id": "e4349aaa",
   "metadata": {
    "ExecuteTime": {
     "end_time": "2023-01-29T12:03:05.388198Z",
     "start_time": "2023-01-29T12:03:05.374167Z"
    }
   },
   "outputs": [
    {
     "data": {
      "text/plain": [
       "<re.Match object; span=(0, 1), match='c'>"
      ]
     },
     "execution_count": 56,
     "metadata": {},
     "output_type": "execute_result"
    }
   ],
   "source": [
    "r.search(\"cdbewa\")"
   ]
  },
  {
   "cell_type": "code",
   "execution_count": 57,
   "id": "b4413d2d",
   "metadata": {
    "ExecuteTime": {
     "end_time": "2023-01-29T12:03:05.403737Z",
     "start_time": "2023-01-29T12:03:05.391216Z"
    }
   },
   "outputs": [],
   "source": [
    "# 알파벳 소문자에 대한 범위 지정\n",
    "r = re.compile(\"[a-z]\")\n",
    "\n",
    "# 아무런 결과도 출력되지 않는다.\n",
    "r.search(\"AAA\")\n",
    "r.search(\"111\") "
   ]
  },
  {
   "cell_type": "code",
   "execution_count": 58,
   "id": "e873cf84",
   "metadata": {
    "ExecuteTime": {
     "end_time": "2023-01-29T12:03:05.419875Z",
     "start_time": "2023-01-29T12:03:05.407753Z"
    }
   },
   "outputs": [
    {
     "data": {
      "text/plain": [
       "<re.Match object; span=(0, 1), match='a'>"
      ]
     },
     "execution_count": 58,
     "metadata": {},
     "output_type": "execute_result"
    }
   ],
   "source": [
    "r.search(\"aBC\")"
   ]
  },
  {
   "cell_type": "code",
   "execution_count": 59,
   "id": "f04a98d4",
   "metadata": {
    "ExecuteTime": {
     "end_time": "2023-01-29T12:03:05.435201Z",
     "start_time": "2023-01-29T12:03:05.422777Z"
    }
   },
   "outputs": [
    {
     "data": {
      "text/plain": [
       "<re.Match object; span=(1, 2), match='b'>"
      ]
     },
     "execution_count": 59,
     "metadata": {},
     "output_type": "execute_result"
    }
   ],
   "source": [
    "r.search(\"Abc\")"
   ]
  },
  {
   "cell_type": "code",
   "execution_count": 60,
   "id": "d5d2eef1",
   "metadata": {
    "ExecuteTime": {
     "end_time": "2023-01-29T12:03:05.451267Z",
     "start_time": "2023-01-29T12:03:05.438188Z"
    }
   },
   "outputs": [
    {
     "data": {
      "text/plain": [
       "<re.Match object; span=(2, 3), match='a'>"
      ]
     },
     "execution_count": 60,
     "metadata": {},
     "output_type": "execute_result"
    }
   ],
   "source": [
    "r.search(\"BCa\")"
   ]
  },
  {
   "cell_type": "code",
   "execution_count": 61,
   "id": "8a60da08",
   "metadata": {
    "ExecuteTime": {
     "end_time": "2023-01-29T12:03:05.467214Z",
     "start_time": "2023-01-29T12:03:05.453185Z"
    }
   },
   "outputs": [
    {
     "data": {
      "text/plain": [
       "<re.Match object; span=(1, 2), match='z'>"
      ]
     },
     "execution_count": 61,
     "metadata": {},
     "output_type": "execute_result"
    }
   ],
   "source": [
    "r.search(\"BzbcsC\")"
   ]
  },
  {
   "cell_type": "markdown",
   "id": "cbea936c",
   "metadata": {},
   "source": [
    "### 10) [^문자]\n",
    "[^문자]는 ^기호 뒤에 붙은 문자들을 제외한 모든 문자를 매치하는 역할을 한다. 예를 들어서 [^abc]라는 정규 표현식이 있다면, a 또는 b 또는 c가 들어간 문자열을 제외한 모든 문자열을 매치한다."
   ]
  },
  {
   "cell_type": "code",
   "execution_count": 62,
   "id": "b3324b39",
   "metadata": {
    "ExecuteTime": {
     "end_time": "2023-01-29T12:03:05.483330Z",
     "start_time": "2023-01-29T12:03:05.470185Z"
    }
   },
   "outputs": [],
   "source": [
    "r = re.compile(\"[^abc]\")\n",
    "\n",
    "# 아무런 결과도 출력되지 않는다.\n",
    "r.search(\"a\")\n",
    "r.search(\"ab\") \n",
    "r.search(\"b\")"
   ]
  },
  {
   "cell_type": "code",
   "execution_count": 63,
   "id": "7db8f8e4",
   "metadata": {
    "ExecuteTime": {
     "end_time": "2023-01-29T12:03:05.499320Z",
     "start_time": "2023-01-29T12:03:05.486191Z"
    }
   },
   "outputs": [
    {
     "data": {
      "text/plain": [
       "<re.Match object; span=(0, 1), match='d'>"
      ]
     },
     "execution_count": 63,
     "metadata": {},
     "output_type": "execute_result"
    }
   ],
   "source": [
    "r.search(\"d\")"
   ]
  },
  {
   "cell_type": "code",
   "execution_count": 64,
   "id": "6fd90ca8",
   "metadata": {
    "ExecuteTime": {
     "end_time": "2023-01-29T12:03:05.514712Z",
     "start_time": "2023-01-29T12:03:05.503214Z"
    }
   },
   "outputs": [
    {
     "data": {
      "text/plain": [
       "<re.Match object; span=(0, 1), match='1'>"
      ]
     },
     "execution_count": 64,
     "metadata": {},
     "output_type": "execute_result"
    }
   ],
   "source": [
    "r.search(\"1\")  "
   ]
  },
  {
   "cell_type": "code",
   "execution_count": 65,
   "id": "396977bc",
   "metadata": {
    "ExecuteTime": {
     "end_time": "2023-01-29T12:03:05.530714Z",
     "start_time": "2023-01-29T12:03:05.519753Z"
    }
   },
   "outputs": [
    {
     "data": {
      "text/plain": [
       "<re.Match object; span=(2, 3), match='5'>"
      ]
     },
     "execution_count": 65,
     "metadata": {},
     "output_type": "execute_result"
    }
   ],
   "source": [
    "r.search(\"ab5A\")  "
   ]
  },
  {
   "cell_type": "code",
   "execution_count": 66,
   "id": "f8e95f7b",
   "metadata": {
    "ExecuteTime": {
     "end_time": "2023-01-29T12:03:05.546704Z",
     "start_time": "2023-01-29T12:03:05.534709Z"
    }
   },
   "outputs": [
    {
     "data": {
      "text/plain": [
       "<re.Match object; span=(1, 2), match='B'>"
      ]
     },
     "execution_count": 66,
     "metadata": {},
     "output_type": "execute_result"
    }
   ],
   "source": [
    "r.search(\"cBn\")  "
   ]
  },
  {
   "cell_type": "code",
   "execution_count": 67,
   "id": "61f68659",
   "metadata": {
    "ExecuteTime": {
     "end_time": "2023-01-29T12:03:05.562711Z",
     "start_time": "2023-01-29T12:03:05.549706Z"
    }
   },
   "outputs": [
    {
     "data": {
      "text/plain": [
       "<re.Match object; span=(1, 2), match='n'>"
      ]
     },
     "execution_count": 67,
     "metadata": {},
     "output_type": "execute_result"
    }
   ],
   "source": [
    "r.search(\"cnB\")  "
   ]
  },
  {
   "cell_type": "markdown",
   "id": "6e51df68",
   "metadata": {},
   "source": [
    "## 5.3 정규 표현식 모듈 함수 예제\n",
    "앞서 사용한 re.compile()과 re.search()가 아닌 다른 정규 표현식 모듈 함수에 대해서 실습을 진행해보자."
   ]
  },
  {
   "cell_type": "markdown",
   "id": "36d77376",
   "metadata": {},
   "source": [
    "### 5.3.1 re.match() 와 re.search()의 차이\n",
    "search()가 정규 표현식 전체에 대해서 문자열이 매치하는지를 본다면, match()는 문자열의 첫 부분부터 정규 표현식과 매치하는지를 확인한다. 문자열 중간에 찾을 패턴이 있더라도 match 함수는 문자열의 시작에서 패턴이 일치하지 않으면 찾지 않는다."
   ]
  },
  {
   "cell_type": "code",
   "execution_count": 68,
   "id": "4c3e0fbe",
   "metadata": {
    "ExecuteTime": {
     "end_time": "2023-01-29T12:03:05.577712Z",
     "start_time": "2023-01-29T12:03:05.566706Z"
    }
   },
   "outputs": [
    {
     "name": "stdout",
     "output_type": "stream",
     "text": [
      "match 이용 :  None\n",
      "search 이용 :  <re.Match object; span=(3, 6), match='abc'>\n"
     ]
    }
   ],
   "source": [
    "r = re.compile(\"ab.\")\n",
    "print('match 이용 : ', r.match(\"kkkabc\")) # 아무런 결과도 출력되지 않는다.\n",
    "print('search 이용 : ', r.search(\"kkkabc\"))"
   ]
  },
  {
   "cell_type": "code",
   "execution_count": 69,
   "id": "12135ad6",
   "metadata": {
    "ExecuteTime": {
     "end_time": "2023-01-29T12:03:05.608426Z",
     "start_time": "2023-01-29T12:03:05.599894Z"
    }
   },
   "outputs": [
    {
     "data": {
      "text/plain": [
       "<re.Match object; span=(0, 3), match='abc'>"
      ]
     },
     "execution_count": 69,
     "metadata": {},
     "output_type": "execute_result"
    }
   ],
   "source": [
    "r.match(\"abckkk\")  "
   ]
  },
  {
   "cell_type": "markdown",
   "id": "68ed557a",
   "metadata": {},
   "source": [
    "> 위 경우 정규 표현식이 ab. 이기때문에, ab 다음에는 어떤 한 글자가 존재할 수 있다는 패턴을 의미한다. search 모듈 함수에 kkkabc라는 문자열을 넣어 매치되는지 확인한다면 abc라는 문자열에서 매치되어 Match object를 리턴한다. 하지만 match 모듈 함수의 경우 앞 부분이 ab.와 매치되지 않기때문에, 아무런 결과도 출력되지 않는다. 하지만 반대로 abckkk로 매치를 시도해보면, 시작 부분에서 패턴과 매치되었기 때문에 정상적으로 Match object를 리턴한다."
   ]
  },
  {
   "cell_type": "markdown",
   "id": "482bbe6c",
   "metadata": {},
   "source": [
    "### 5.3.2 re.split()\n",
    "split() 함수는 입력된 정규 표현식을 기준으로 문자열들을 분리하여 리스트로 리턴한다. 토큰화에 유용하게 쓰일 수 있다."
   ]
  },
  {
   "cell_type": "code",
   "execution_count": 70,
   "id": "1a22ee2a",
   "metadata": {
    "ExecuteTime": {
     "end_time": "2023-01-29T12:03:05.623494Z",
     "start_time": "2023-01-29T12:03:05.611428Z"
    }
   },
   "outputs": [
    {
     "data": {
      "text/plain": [
       "['사과', '딸기', '수박', '메론', '바나나']"
      ]
     },
     "execution_count": 70,
     "metadata": {},
     "output_type": "execute_result"
    }
   ],
   "source": [
    "# 공백 기준 분리\n",
    "text = \"사과 딸기 수박 메론 바나나\"\n",
    "re.split(\" \", text)"
   ]
  },
  {
   "cell_type": "code",
   "execution_count": 71,
   "id": "73b8acdf",
   "metadata": {
    "ExecuteTime": {
     "end_time": "2023-01-29T12:03:05.639507Z",
     "start_time": "2023-01-29T12:03:05.625417Z"
    }
   },
   "outputs": [
    {
     "data": {
      "text/plain": [
       "['사과', '딸기', '수박', '메론', '바나나']"
      ]
     },
     "execution_count": 71,
     "metadata": {},
     "output_type": "execute_result"
    }
   ],
   "source": [
    "# 줄바꿈 기준 분리\n",
    "text = \"\"\"사과\n",
    "딸기\n",
    "수박\n",
    "메론\n",
    "바나나\"\"\"\n",
    "\n",
    "re.split(\"\\n\", text)"
   ]
  },
  {
   "cell_type": "code",
   "execution_count": 72,
   "id": "7311f6cd",
   "metadata": {
    "ExecuteTime": {
     "end_time": "2023-01-29T12:03:05.654736Z",
     "start_time": "2023-01-29T12:03:05.642736Z"
    }
   },
   "outputs": [
    {
     "data": {
      "text/plain": [
       "['사과', '딸기', '수박', '메론', '바나나']"
      ]
     },
     "execution_count": 72,
     "metadata": {},
     "output_type": "execute_result"
    }
   ],
   "source": [
    "# '+'를 기준으로 분리\n",
    "text = \"사과+딸기+수박+메론+바나나\"\n",
    "\n",
    "re.split(\"\\+\", text)"
   ]
  },
  {
   "cell_type": "markdown",
   "id": "54d3ae8b",
   "metadata": {},
   "source": [
    "### 5.3.3 re.findall()\n",
    "findall() 함수는 정규 표현식과 매치되는 모든 문자열들을 리스트로 리턴한다. 단, 매치되는 문자열이 없다면 빈 리스트를 리턴한다. 임의의 텍스트에 정규 표현식으로 숫자를 의미하는 규칙으로 findall()을 수행하면 전체 텍스트로부터 숫자만 찾아내서 리스트로 리턴한다."
   ]
  },
  {
   "cell_type": "code",
   "execution_count": 73,
   "id": "59ca80d9",
   "metadata": {
    "ExecuteTime": {
     "end_time": "2023-01-29T12:03:05.685737Z",
     "start_time": "2023-01-29T12:03:05.659742Z"
    }
   },
   "outputs": [
    {
     "data": {
      "text/plain": [
       "['010', '1234', '1234', '30']"
      ]
     },
     "execution_count": 73,
     "metadata": {},
     "output_type": "execute_result"
    }
   ],
   "source": [
    "text = \"\"\"이름 : 김철수\n",
    "전화번호 : 010 - 1234 - 1234\n",
    "나이 : 30\n",
    "성별 : 남\"\"\"\n",
    "\n",
    "re.findall(\"\\d+\", text)   # 앞에 숫자가 한 개 이상 존재"
   ]
  },
  {
   "cell_type": "markdown",
   "id": "cf7b3e96",
   "metadata": {},
   "source": [
    "> **< 헷갈리는 부분 >**   \n",
    "어떻게 뭉탱이 숫자로 출력되는 것인가?(숫자 한 개씩이 아니라,,,) 원리를 정확히 모르겠음... 아래 링크 봐도 정확히 이해는 안됨...\n",
    "> * [링크참고] https://codechacha.com/ko/python-extract-integers-from-string/"
   ]
  },
  {
   "cell_type": "code",
   "execution_count": 74,
   "id": "34c12cac",
   "metadata": {
    "ExecuteTime": {
     "end_time": "2023-01-29T12:03:05.701216Z",
     "start_time": "2023-01-29T12:03:05.689754Z"
    }
   },
   "outputs": [
    {
     "data": {
      "text/plain": [
       "[]"
      ]
     },
     "execution_count": 74,
     "metadata": {},
     "output_type": "execute_result"
    }
   ],
   "source": [
    "# 만약 입력 텍스트에 숫자가 없다면 빈 리스트를 리턴한다.\n",
    "re.findall(\"\\d+\", \"문자열입니다.\")"
   ]
  },
  {
   "cell_type": "markdown",
   "id": "9f2d69eb",
   "metadata": {},
   "source": [
    "### 5.3.4 re.sub()\n",
    "sub() 함수는 정규 표현식 패턴과 일치하는 문자열을 찾아 다른 문자열로 대체할 수 있다.       \n",
    "\n",
    "아래와 같은 정제 작업에 많이 사용되는데, 영어 문장에 각주 등과 같은 이유로 특수 문자가 섞여있는 경우에 특수 문자를 제거하고 싶다면 알파벳 외의 문자는 공백으로 처리하는 등의 용도로 쓸 수 있다."
   ]
  },
  {
   "cell_type": "code",
   "execution_count": 75,
   "id": "f07ab7b0",
   "metadata": {
    "ExecuteTime": {
     "end_time": "2023-01-29T12:03:05.716458Z",
     "start_time": "2023-01-29T12:03:05.704364Z"
    }
   },
   "outputs": [
    {
     "name": "stdout",
     "output_type": "stream",
     "text": [
      "Regular expression   A regular expression  regex or regexp     sometimes called a rational expression        is  in theoretical computer science and formal language theory  a sequence of characters that define a search pattern \n"
     ]
    }
   ],
   "source": [
    "text = \"Regular expression : A regular expression, regex or regexp[1]\\\n",
    " (sometimes called a rational expression)[2][3] is, in theoretical computer\\\n",
    " science and formal language theory, a sequence of characters that define a search pattern.\"\n",
    "\n",
    "preprocessed_text = re.sub('[^a-zA-Z]', ' ', text)\n",
    "print(preprocessed_text)"
   ]
  },
  {
   "cell_type": "markdown",
   "id": "f8e7d917",
   "metadata": {},
   "source": [
    "## 5.4 정규 표현식 텍스트 전처리 예제"
   ]
  },
  {
   "cell_type": "code",
   "execution_count": 76,
   "id": "ca604993",
   "metadata": {
    "ExecuteTime": {
     "end_time": "2023-01-29T12:03:05.732456Z",
     "start_time": "2023-01-29T12:03:05.720365Z"
    }
   },
   "outputs": [],
   "source": [
    "# 테이블 형식의 데이터를 텍스트에 저장\n",
    "text = \"\"\"100 John    PROF\n",
    "101 James   STUD\n",
    "102 Mac   STUD\"\"\""
   ]
  },
  {
   "cell_type": "markdown",
   "id": "f4c66f85",
   "metadata": {},
   "source": [
    "### 5.4.1 '\\s+' \n",
    "공백을 찾아내는 정규표현식. 뒤에 붙는 +는 최소 1개 이상의 패턴을 찾아낸다는 의미이다. s는 공백을 의미하기 때문에 최소 1개 이상의 공백인 패턴을 찾아낸다. split은 주어진 정규표현식을 기준으로 분리하므로 결과는 아래와 같다. 공백을 기준으로 값이 구분된 것을 확인할 수 있다."
   ]
  },
  {
   "cell_type": "code",
   "execution_count": 77,
   "id": "fa80914a",
   "metadata": {
    "ExecuteTime": {
     "end_time": "2023-01-29T12:03:05.747371Z",
     "start_time": "2023-01-29T12:03:05.736368Z"
    }
   },
   "outputs": [
    {
     "data": {
      "text/plain": [
       "['100', 'John', 'PROF', '101', 'James', 'STUD', '102', 'Mac', 'STUD']"
      ]
     },
     "execution_count": 77,
     "metadata": {},
     "output_type": "execute_result"
    }
   ],
   "source": [
    "re.split('\\s+', text)  "
   ]
  },
  {
   "cell_type": "markdown",
   "id": "34f9506c",
   "metadata": {},
   "source": [
    "### 5.4.2 '\\d+' \n",
    "숫자에 해당되는 정규표현식. +를 붙이면 최소 1개 이상의 숫자에 해당하는 값을 의미한다. findall()은 해당 표현식에 일치하는 값을 찾아낸다."
   ]
  },
  {
   "cell_type": "code",
   "execution_count": 78,
   "id": "4fb79448",
   "metadata": {
    "ExecuteTime": {
     "end_time": "2023-01-29T12:03:05.763362Z",
     "start_time": "2023-01-29T12:03:05.750361Z"
    }
   },
   "outputs": [
    {
     "data": {
      "text/plain": [
       "['100', '101', '102']"
      ]
     },
     "execution_count": 78,
     "metadata": {},
     "output_type": "execute_result"
    }
   ],
   "source": [
    "re.findall('\\d+',text)  "
   ]
  },
  {
   "cell_type": "markdown",
   "id": "7c530bc4",
   "metadata": {
    "ExecuteTime": {
     "end_time": "2023-01-06T07:09:46.035523Z",
     "start_time": "2023-01-06T07:09:46.025372Z"
    }
   },
   "source": [
    "#### 5.4.2.1 대문자\n",
    "텍스트로부터 대문자인 행의 값만 가져와보자. 이 경우 정규 표현식에 대문자를 기준으로 매치시키면 된다. 하지만 정규 표현식에 대문자라는 기준만을 넣을 경우에는 문자열을 가져오는 것이 아니라 모든 대문자 각각을 갖고오게 된다."
   ]
  },
  {
   "cell_type": "code",
   "execution_count": 79,
   "id": "7969a035",
   "metadata": {
    "ExecuteTime": {
     "end_time": "2023-01-29T12:03:05.778988Z",
     "start_time": "2023-01-29T12:03:05.765887Z"
    }
   },
   "outputs": [
    {
     "data": {
      "text/plain": [
       "['J', 'P', 'R', 'O', 'F', 'J', 'S', 'T', 'U', 'D', 'M', 'S', 'T', 'U', 'D']"
      ]
     },
     "execution_count": 79,
     "metadata": {},
     "output_type": "execute_result"
    }
   ],
   "source": [
    "re.findall('[A-Z]',text)"
   ]
  },
  {
   "cell_type": "markdown",
   "id": "3254b7fc",
   "metadata": {},
   "source": [
    "대문자가 연속적으로 네 번 등장하는 경우라는 조건을 추가해보자.   \n",
    "대문자로 구성된 문자열들을 가져오는 것들 확인할 수 있다."
   ]
  },
  {
   "cell_type": "code",
   "execution_count": 80,
   "id": "c0b80993",
   "metadata": {
    "ExecuteTime": {
     "end_time": "2023-01-29T12:03:05.794379Z",
     "start_time": "2023-01-29T12:03:05.782889Z"
    }
   },
   "outputs": [
    {
     "data": {
      "text/plain": [
       "['PROF', 'STUD', 'STUD']"
      ]
     },
     "execution_count": 80,
     "metadata": {},
     "output_type": "execute_result"
    }
   ],
   "source": [
    "re.findall('[A-Z]{4}',text) "
   ]
  },
  {
   "cell_type": "markdown",
   "id": "1d6f2fbc",
   "metadata": {},
   "source": [
    "이름의 경우에는 대문자와 소문자가 섞여있는 상황이다. 이름에 대한 행의 값을 갖고오고 싶다면 처음에 대문자가 등장한 후에 소문자가 여러번 등장하는 경우에 매치하게 한다."
   ]
  },
  {
   "cell_type": "code",
   "execution_count": 81,
   "id": "d362c645",
   "metadata": {
    "ExecuteTime": {
     "end_time": "2023-01-29T12:03:05.809761Z",
     "start_time": "2023-01-29T12:03:05.798272Z"
    }
   },
   "outputs": [
    {
     "data": {
      "text/plain": [
       "['John', 'James', 'Mac']"
      ]
     },
     "execution_count": 81,
     "metadata": {},
     "output_type": "execute_result"
    }
   ],
   "source": [
    "re.findall('[A-Z][a-z]+',text)"
   ]
  },
  {
   "cell_type": "markdown",
   "id": "0310bb65",
   "metadata": {},
   "source": [
    "## 5.5 정규 표현식을 이용한 토큰화\n",
    "NLTK에서는 정규 표현식을 사용해서 단어 토큰화를 수행하는 RegexpTokenizer를 지원한다. RegexpTokenizer()에서 괄호 안에 하나의 토큰으로 규정하기를 원하는 정규 표현식을 넣어서 토큰화를 수행한다. "
   ]
  },
  {
   "cell_type": "code",
   "execution_count": 82,
   "id": "7b123db7",
   "metadata": {
    "ExecuteTime": {
     "end_time": "2023-01-29T12:03:05.825827Z",
     "start_time": "2023-01-29T12:03:05.812761Z"
    }
   },
   "outputs": [
    {
     "name": "stdout",
     "output_type": "stream",
     "text": [
      "['Don', 't', 'be', 'fooled', 'by', 'the', 'dark', 'sounding', 'name', 'Mr', 'Jone', 's', 'Orphanage', 'is', 'as', 'cheery', 'as', 'cheery', 'goes', 'for', 'a', 'pastry', 'shop']\n",
      "[\"Don't\", 'be', 'fooled', 'by', 'the', 'dark', 'sounding', 'name,', 'Mr.', \"Jone's\", 'Orphanage', 'is', 'as', 'cheery', 'as', 'cheery', 'goes', 'for', 'a', 'pastry', 'shop']\n"
     ]
    }
   ],
   "source": [
    "from nltk.tokenize import RegexpTokenizer\n",
    "\n",
    "text = \"Don't be fooled by the dark sounding name, Mr. Jone's Orphanage is\\\n",
    " as cheery as cheery goes for a pastry shop\"\n",
    "\n",
    "tokenizer1 = RegexpTokenizer(\"[\\w]+\")\n",
    "tokenizer2 = RegexpTokenizer(\"\\s+\", gaps=True)\n",
    "\n",
    "print(tokenizer1.tokenize(text))\n",
    "print(tokenizer2.tokenize(text))"
   ]
  },
  {
   "cell_type": "markdown",
   "id": "28ee5f14",
   "metadata": {},
   "source": [
    "> tokenizer1에 사용한 \\w+는 문자 또는 숫자가 1개 이상인 경우를 의미한다.   \n",
    "\n",
    "> tokenizer2에서는 공백을 기준으로 토큰화한다. gaps=true는 해당 정규 표현식을 토큰으로 나누기 위한 기준으로 사용한다는 의미이다. 만약 gaps=True라는 부분을 기재하지 않는다면, 토큰화의 결과는 공백들만 나오게 된다.\n",
    "\n",
    "> tokenizer2의 결과는 tokenizer1의 결과와는 달리 아포스트로피나 온점을 제외하지 않고 토큰화가 수행된 것을 확인할 수 있다."
   ]
  },
  {
   "cell_type": "markdown",
   "id": "433eb1fb",
   "metadata": {
    "ExecuteTime": {
     "end_time": "2023-01-06T07:14:14.464768Z",
     "start_time": "2023-01-06T07:14:14.451981Z"
    }
   },
   "source": [
    "# 6 정수 인코딩(Integer Encoding)\n",
    "컴퓨터는 텍스트보다는 숫자를 더 잘 처리하므로, 자연어 처리에서는 텍스트를 숫자로 바꾸는 여러가지 기법들이 존재한다. 이 때 각 단어를 고유한 정수에 맵핑(mapping)시키는 전처리 작업이 첫 단계로 필요하다. 맵핑, 즉 인덱싱 부여는 단어들을 등장하는 빈도수를 기준으로 정렬한 뒤 부여할 수 있다."
   ]
  },
  {
   "cell_type": "markdown",
   "id": "fe16c4b8",
   "metadata": {},
   "source": [
    "## 6.1 정수 인코딩\n",
    "단어에 정수를 부여하는 방법 중 하나로 단어를 빈도수 순으로 정렬한 단어 집합(vocabulary)을 만들고, 빈도수가 높은 순서대로 차례로 낮은 숫자부터 정수를 부여하는 방법이 있다."
   ]
  },
  {
   "cell_type": "markdown",
   "id": "a53f1e53",
   "metadata": {},
   "source": [
    "### 6.1.1 dictionary 사용하기"
   ]
  },
  {
   "cell_type": "code",
   "execution_count": 83,
   "id": "6a8b7dd8",
   "metadata": {
    "ExecuteTime": {
     "end_time": "2023-01-29T12:03:05.841027Z",
     "start_time": "2023-01-29T12:03:05.827987Z"
    }
   },
   "outputs": [],
   "source": [
    "from nltk.tokenize import sent_tokenize\n",
    "from nltk.tokenize import word_tokenize\n",
    "from nltk.corpus import stopwords"
   ]
  },
  {
   "cell_type": "code",
   "execution_count": 84,
   "id": "6ab20709",
   "metadata": {
    "ExecuteTime": {
     "end_time": "2023-01-29T12:03:05.857055Z",
     "start_time": "2023-01-29T12:03:05.844028Z"
    }
   },
   "outputs": [],
   "source": [
    "raw_text = \"A barber is a person. a barber is good person. a barber is huge\\\n",
    " person. he Knew A Secret! The Secret He Kept is huge secret. Huge secret. \\\n",
    "His barber kept his word. a barber kept his word. His barber kept his secret. \\\n",
    "But keeping and keeping such a huge secret to himself was driving the barber\\\n",
    " crazy. the barber went up a huge mountain.\""
   ]
  },
  {
   "cell_type": "code",
   "execution_count": 85,
   "id": "778a8ee2",
   "metadata": {
    "ExecuteTime": {
     "end_time": "2023-01-29T12:03:05.872679Z",
     "start_time": "2023-01-29T12:03:05.859027Z"
    }
   },
   "outputs": [
    {
     "name": "stdout",
     "output_type": "stream",
     "text": [
      "['A barber is a person.', 'a barber is good person.', 'a barber is huge person.', 'he Knew A Secret!', 'The Secret He Kept is huge secret.', 'Huge secret.', 'His barber kept his word.', 'a barber kept his word.', 'His barber kept his secret.', 'But keeping and keeping such a huge secret to himself was driving the barber crazy.', 'the barber went up a huge mountain.']\n"
     ]
    }
   ],
   "source": [
    "# 문장 토큰화\n",
    "sentences = sent_tokenize(raw_text)\n",
    "print(sentences)"
   ]
  },
  {
   "cell_type": "markdown",
   "id": "6defc16a",
   "metadata": {},
   "source": [
    "문장 단위로 토큰화된 결과를 바탕으로 단어 토큰화를 수행한다.   \n",
    "이때, 정제 작업과 정규화 작업을 병행한다. 여기서는 아래의 작업을 수행하였다.   \n",
    "1) 단어들을 소문자화하여 단어의 개수 통일   \n",
    "2) 불용어 or 단어 길이가 2 이하인 경우 제외   \n",
    "\n",
    "**텍스트를 수치화하는 단계라는 것은 본격적으로 자연어 처리 작업에 들어간다는 의미이므로, 단어가 텍스트일 때만 할 수 있는 최대한의 전처리를 끝내놓아야 한다.**"
   ]
  },
  {
   "cell_type": "code",
   "execution_count": 86,
   "id": "3182f204",
   "metadata": {
    "ExecuteTime": {
     "end_time": "2023-01-29T12:03:05.888728Z",
     "start_time": "2023-01-29T12:03:05.875680Z"
    }
   },
   "outputs": [
    {
     "name": "stdout",
     "output_type": "stream",
     "text": [
      "[['barber', 'person'], ['barber', 'good', 'person'], ['barber', 'huge', 'person'], ['knew', 'secret'], ['secret', 'kept', 'huge', 'secret'], ['huge', 'secret'], ['barber', 'kept', 'word'], ['barber', 'kept', 'word'], ['barber', 'kept', 'secret'], ['keeping', 'keeping', 'huge', 'secret', 'driving', 'barber', 'crazy'], ['barber', 'went', 'huge', 'mountain']]\n"
     ]
    }
   ],
   "source": [
    "# 단어 토큰화\n",
    "vocab = {}\n",
    "preprocessed_sentences = []\n",
    "stop_words = set(stopwords.words('english'))\n",
    "\n",
    "for sentence in sentences:\n",
    "    # 단어 토큰화\n",
    "    tokenized_sentence = word_tokenize(sentence)\n",
    "    result = []\n",
    "\n",
    "    for word in tokenized_sentence: \n",
    "        word = word.lower() # 모든 단어를 소문자화하여 단어의 개수를 줄인다.\n",
    "        if word not in stop_words: # 단어 토큰화 된 결과에 대해서 불용어를 제거한다.\n",
    "            if len(word) > 2: # 단어 길이가 2이하인 경우에 대하여 추가로 단어를 제거한다.\n",
    "                result.append(word)\n",
    "                if word not in vocab:\n",
    "                    vocab[word] = 0 \n",
    "                vocab[word] += 1\n",
    "    preprocessed_sentences.append(result) \n",
    "print(preprocessed_sentences)"
   ]
  },
  {
   "cell_type": "code",
   "execution_count": 87,
   "id": "e283f9fa",
   "metadata": {
    "ExecuteTime": {
     "end_time": "2023-01-29T12:03:05.919440Z",
     "start_time": "2023-01-29T12:03:05.890718Z"
    }
   },
   "outputs": [
    {
     "name": "stdout",
     "output_type": "stream",
     "text": [
      "단어 집합 : {'barber': 8, 'person': 3, 'good': 1, 'huge': 5, 'knew': 1, 'secret': 6, 'kept': 4, 'word': 2, 'keeping': 2, 'driving': 1, 'crazy': 1, 'went': 1, 'mountain': 1}\n"
     ]
    }
   ],
   "source": [
    "print('단어 집합 :',vocab)"
   ]
  },
  {
   "cell_type": "code",
   "execution_count": 88,
   "id": "24513b7a",
   "metadata": {
    "ExecuteTime": {
     "end_time": "2023-01-29T12:03:05.935443Z",
     "start_time": "2023-01-29T12:03:05.922441Z"
    }
   },
   "outputs": [
    {
     "name": "stdout",
     "output_type": "stream",
     "text": [
      "8\n"
     ]
    }
   ],
   "source": [
    "# 'barber'라는 단어의 빈도수 출력\n",
    "print(vocab[\"barber\"])"
   ]
  },
  {
   "cell_type": "code",
   "execution_count": 89,
   "id": "326ff303",
   "metadata": {
    "ExecuteTime": {
     "end_time": "2023-01-29T12:03:05.950459Z",
     "start_time": "2023-01-29T12:03:05.937441Z"
    }
   },
   "outputs": [
    {
     "name": "stdout",
     "output_type": "stream",
     "text": [
      "[('barber', 8), ('secret', 6), ('huge', 5), ('kept', 4), ('person', 3), ('word', 2), ('keeping', 2), ('good', 1), ('knew', 1), ('driving', 1), ('crazy', 1), ('went', 1), ('mountain', 1)]\n"
     ]
    }
   ],
   "source": [
    "# 빈도수 높은 순으로 정렬\n",
    "vocab_sorted = sorted(vocab.items(), key = lambda x:x[1], reverse = True)\n",
    "print(vocab_sorted)"
   ]
  },
  {
   "cell_type": "code",
   "execution_count": 90,
   "id": "81940f6b",
   "metadata": {
    "ExecuteTime": {
     "end_time": "2023-01-29T12:03:05.966457Z",
     "start_time": "2023-01-29T12:03:05.953443Z"
    }
   },
   "outputs": [
    {
     "name": "stdout",
     "output_type": "stream",
     "text": [
      "{'barber': 1, 'secret': 2, 'huge': 3, 'kept': 4, 'person': 5, 'word': 6, 'keeping': 7}\n"
     ]
    }
   ],
   "source": [
    "# 인덱싱 - 높은 빈도수를 가진 단어일수록 낮은 정수를 부여한다. 정수는 1부터 부여.\n",
    "word_to_index = {}\n",
    "i = 0\n",
    "\n",
    "for (word, frequency) in vocab_sorted :\n",
    "    if frequency > 1 : # 빈도수가 작은 단어는 제외. (자연어 처리에서 의미가 거의 없기 때문)\n",
    "        i = i + 1\n",
    "        word_to_index[word] = i\n",
    "\n",
    "print(word_to_index)"
   ]
  },
  {
   "cell_type": "markdown",
   "id": "db493f90",
   "metadata": {},
   "source": [
    "자연어 처리에서는 빈도수가 가장 높은 n개의 단어만 사용하고 싶은 경우가 많다.   \n",
    "이러한 경우 인덱스 값이 1부터 n까지인 단어들만 사용하면 된다.   \n",
    "여기서는 상위 5개 단어만 사용한다고 가정하였다."
   ]
  },
  {
   "cell_type": "code",
   "execution_count": 91,
   "id": "b49f29cd",
   "metadata": {
    "ExecuteTime": {
     "end_time": "2023-01-29T12:03:05.982449Z",
     "start_time": "2023-01-29T12:03:05.969441Z"
    }
   },
   "outputs": [
    {
     "name": "stdout",
     "output_type": "stream",
     "text": [
      "{'barber': 1, 'secret': 2, 'huge': 3, 'kept': 4, 'person': 5}\n"
     ]
    }
   ],
   "source": [
    "vocab_size = 5\n",
    "\n",
    "# 인덱스가 5 초과인 단어 제거\n",
    "words_frequency = [word for word, index in word_to_index.items() if index >= vocab_size + 1]\n",
    "\n",
    "# 해당 단어에 대한 인덱스 정보를 삭제 - del 이용\n",
    "for w in words_frequency:\n",
    "    del word_to_index[w]    \n",
    "print(word_to_index)"
   ]
  },
  {
   "cell_type": "markdown",
   "id": "5c22905b",
   "metadata": {
    "ExecuteTime": {
     "end_time": "2023-01-08T04:55:18.508631Z",
     "start_time": "2023-01-08T04:55:18.465137Z"
    }
   },
   "source": [
    "word_to_index를 사용하여 단어 토큰화가 된 상태로 저장된 sentences에 있는 각 단어를 정수로 바꾸는 작업을 해보자.   \n",
    "예를 들어 sentences에서 첫번째 문장은 ['barber', 'person']이었는데, 이 문장에 대해서는 [1, 5]로 인코딩한다.   \n",
    "그런데 두번째 문장인 ['barber', 'good', 'person']에는 더 이상 word_to_index에는 존재하지 않는 단어인 'good'이라는 단어가 있다.   \n",
    "\n",
    "**이처럼 단어 집합에 존재하지 않는 단어들이 생기는 상황을 Out-Of-Vocabulary(단어 집합에 없는 단어) 문제라고 한다. 약자로 'OOV 문제'라고도 한다.**  word_to_index에 'OOV'란 단어와 인덱스를 새롭게 추가하고, 단어 집합에 없는 단어들은 'OOV'의 인덱스로 인코딩하자. "
   ]
  },
  {
   "cell_type": "code",
   "execution_count": 92,
   "id": "05420ee9",
   "metadata": {
    "ExecuteTime": {
     "end_time": "2023-01-29T12:03:05.998026Z",
     "start_time": "2023-01-29T12:03:05.985496Z"
    }
   },
   "outputs": [
    {
     "name": "stdout",
     "output_type": "stream",
     "text": [
      "{'barber': 1, 'secret': 2, 'huge': 3, 'kept': 4, 'person': 5, 'OOV': 6}\n"
     ]
    }
   ],
   "source": [
    "word_to_index['OOV'] = len(word_to_index) + 1\n",
    "print(word_to_index)"
   ]
  },
  {
   "cell_type": "code",
   "execution_count": 93,
   "id": "4f02f8b8",
   "metadata": {
    "ExecuteTime": {
     "end_time": "2023-01-29T12:03:06.013795Z",
     "start_time": "2023-01-29T12:03:06.002327Z"
    }
   },
   "outputs": [
    {
     "name": "stdout",
     "output_type": "stream",
     "text": [
      "[[1, 5], [1, 6, 5], [1, 3, 5], [6, 2], [2, 4, 3, 2], [3, 2], [1, 4, 6], [1, 4, 6], [1, 4, 2], [6, 6, 3, 2, 6, 1, 6], [1, 6, 3, 6]]\n"
     ]
    }
   ],
   "source": [
    "# 매핑(mapping)\n",
    "encoded_sentences = []\n",
    "for sentence in preprocessed_sentences:\n",
    "    encoded_sentence = []\n",
    "    for word in sentence:\n",
    "        try:\n",
    "            # 단어 집합에 있는 단어라면 해당 단어의 정수를 리턴.\n",
    "            encoded_sentence.append(word_to_index[word])\n",
    "        except KeyError:\n",
    "            # 만약 단어 집합에 없는 단어라면 'OOV'의 정수를 리턴.\n",
    "            encoded_sentence.append(word_to_index['OOV'])\n",
    "    encoded_sentences.append(encoded_sentence)\n",
    "print(encoded_sentences)"
   ]
  },
  {
   "cell_type": "markdown",
   "id": "220f01f3",
   "metadata": {},
   "source": [
    "> 지금까지 파이썬의 dictionary 자료형으로 정수 인코딩으로 진행하였다.   \n",
    "\n",
    "> 하지만 이보다 조금 더 쉽게 하기 위해 Counter, FreqDist, enumerate를 사용하거나, 케라스 토크나이저를 사용하는 것을 권장한다."
   ]
  },
  {
   "cell_type": "markdown",
   "id": "f73e37f1",
   "metadata": {},
   "source": [
    "### 6.1.2 Counter 사용하기"
   ]
  },
  {
   "cell_type": "code",
   "execution_count": 94,
   "id": "50b8fedf",
   "metadata": {
    "ExecuteTime": {
     "end_time": "2023-01-29T12:03:06.029070Z",
     "start_time": "2023-01-29T12:03:06.016776Z"
    }
   },
   "outputs": [
    {
     "name": "stdout",
     "output_type": "stream",
     "text": [
      "[['barber', 'person'], ['barber', 'good', 'person'], ['barber', 'huge', 'person'], ['knew', 'secret'], ['secret', 'kept', 'huge', 'secret'], ['huge', 'secret'], ['barber', 'kept', 'word'], ['barber', 'kept', 'word'], ['barber', 'kept', 'secret'], ['keeping', 'keeping', 'huge', 'secret', 'driving', 'barber', 'crazy'], ['barber', 'went', 'huge', 'mountain']]\n"
     ]
    }
   ],
   "source": [
    "from collections import Counter\n",
    "print(preprocessed_sentences)"
   ]
  },
  {
   "cell_type": "markdown",
   "id": "485ab479",
   "metadata": {},
   "source": [
    "현재 sentences에는 단어 코튼화된 결과가 저장되어 있다. 단어 집합을 만들기 위해 sentences에서 문장의 경계인 [,]를 제거하고 단어들을 하나의 리스트로 만들어보자."
   ]
  },
  {
   "cell_type": "code",
   "execution_count": 95,
   "id": "b74241c4",
   "metadata": {
    "ExecuteTime": {
     "end_time": "2023-01-29T12:03:06.044392Z",
     "start_time": "2023-01-29T12:03:06.032064Z"
    }
   },
   "outputs": [
    {
     "name": "stdout",
     "output_type": "stream",
     "text": [
      "['barber', 'person', 'barber', 'good', 'person', 'barber', 'huge', 'person', 'knew', 'secret', 'secret', 'kept', 'huge', 'secret', 'huge', 'secret', 'barber', 'kept', 'word', 'barber', 'kept', 'word', 'barber', 'kept', 'secret', 'keeping', 'keeping', 'huge', 'secret', 'driving', 'barber', 'crazy', 'barber', 'went', 'huge', 'mountain']\n"
     ]
    }
   ],
   "source": [
    "# words = np.hstack(preprocessed_sentences)으로도 수행 가능.\n",
    "all_words_list = sum(preprocessed_sentences, [])\n",
    "print(all_words_list)"
   ]
  },
  {
   "cell_type": "markdown",
   "id": "693f92b4",
   "metadata": {},
   "source": [
    "여기서 파이썬의 Counter()의 입력을 사용하면 중복을 제거하고 단어의 빈도수를 기록한다."
   ]
  },
  {
   "cell_type": "code",
   "execution_count": 96,
   "id": "06be5b6a",
   "metadata": {
    "ExecuteTime": {
     "end_time": "2023-01-29T12:03:06.060401Z",
     "start_time": "2023-01-29T12:03:06.047378Z"
    }
   },
   "outputs": [
    {
     "name": "stdout",
     "output_type": "stream",
     "text": [
      "Counter({'barber': 8, 'secret': 6, 'huge': 5, 'kept': 4, 'person': 3, 'word': 2, 'keeping': 2, 'good': 1, 'knew': 1, 'driving': 1, 'crazy': 1, 'went': 1, 'mountain': 1})\n",
      "--------------------------------------------------------------------------------\n",
      "8\n"
     ]
    }
   ],
   "source": [
    "# 파이썬의 Counter 모듈을 이용하여 단어의 빈도수 카운트\n",
    "vocab = Counter(all_words_list)\n",
    "print(vocab)\n",
    "print('----'*20)\n",
    "print(vocab[\"barber\"]) # 'barber'라는 단어의 빈도수 출력"
   ]
  },
  {
   "cell_type": "code",
   "execution_count": 97,
   "id": "b83672e4",
   "metadata": {
    "ExecuteTime": {
     "end_time": "2023-01-29T12:03:06.076419Z",
     "start_time": "2023-01-29T12:03:06.063383Z"
    }
   },
   "outputs": [
    {
     "data": {
      "text/plain": [
       "[('barber', 8), ('secret', 6), ('huge', 5), ('kept', 4), ('person', 3)]"
      ]
     },
     "execution_count": 97,
     "metadata": {},
     "output_type": "execute_result"
    }
   ],
   "source": [
    "# most_common(n)는 상위 빈도수를 가진 n개의 단어만을 리턴\n",
    "vocab_size = 5\n",
    "vocab = vocab.most_common(vocab_size) # 등장 빈도수가 높은 상위 5개의 단어만 저장\n",
    "vocab"
   ]
  },
  {
   "cell_type": "markdown",
   "id": "07bd681d",
   "metadata": {},
   "source": [
    "이제 높은 빈도수를 가진 단어일수록 낮은 정수 인덱스를 부여해보자."
   ]
  },
  {
   "cell_type": "code",
   "execution_count": 98,
   "id": "2d4da365",
   "metadata": {
    "ExecuteTime": {
     "end_time": "2023-01-29T12:03:06.092453Z",
     "start_time": "2023-01-29T12:03:06.079398Z"
    },
    "scrolled": true
   },
   "outputs": [
    {
     "name": "stdout",
     "output_type": "stream",
     "text": [
      "{'barber': 1, 'secret': 2, 'huge': 3, 'kept': 4, 'person': 5}\n"
     ]
    }
   ],
   "source": [
    "# 인덱스 변경\n",
    "word_to_index = {}\n",
    "i = 0\n",
    "for (word, frequency) in vocab :\n",
    "    i = i + 1\n",
    "    word_to_index[word] = i\n",
    "\n",
    "print(word_to_index)"
   ]
  },
  {
   "cell_type": "markdown",
   "id": "5d2bcef4",
   "metadata": {},
   "source": [
    "### 6.1.3 NLTK의 FreqDsit 사용하기\n",
    "NLTK에서는 빈도수 계산 도구인 FreqDist()를 지원하며, 위에서 사용한 Counter()와 같은 방법으로 사용할 수 있다."
   ]
  },
  {
   "cell_type": "code",
   "execution_count": 99,
   "id": "88795309",
   "metadata": {
    "ExecuteTime": {
     "end_time": "2023-01-29T12:03:06.107971Z",
     "start_time": "2023-01-29T12:03:06.096440Z"
    }
   },
   "outputs": [],
   "source": [
    "from nltk import FreqDist\n",
    "import numpy as np"
   ]
  },
  {
   "cell_type": "code",
   "execution_count": 100,
   "id": "c62e0d82",
   "metadata": {
    "ExecuteTime": {
     "end_time": "2023-01-29T12:03:06.123381Z",
     "start_time": "2023-01-29T12:03:06.110970Z"
    }
   },
   "outputs": [
    {
     "name": "stdout",
     "output_type": "stream",
     "text": [
      "<FreqDist with 13 samples and 36 outcomes>\n"
     ]
    }
   ],
   "source": [
    "# np.hstack으로 문장 구분을 제거 - array 형태로 반환\n",
    "vocab = FreqDist(np.hstack(preprocessed_sentences))\n",
    "print(vocab)    # samples : 단어 종류 수 / # outcomes : 총 빈도수"
   ]
  },
  {
   "cell_type": "code",
   "execution_count": 101,
   "id": "41e95ab6",
   "metadata": {
    "ExecuteTime": {
     "end_time": "2023-01-29T12:03:06.138365Z",
     "start_time": "2023-01-29T12:03:06.126370Z"
    }
   },
   "outputs": [
    {
     "name": "stdout",
     "output_type": "stream",
     "text": [
      "8\n"
     ]
    }
   ],
   "source": [
    "print(vocab[\"barber\"]) # 'barber'라는 단어의 빈도수 출력"
   ]
  },
  {
   "cell_type": "code",
   "execution_count": 102,
   "id": "1697ea22",
   "metadata": {
    "ExecuteTime": {
     "end_time": "2023-01-29T12:03:06.153637Z",
     "start_time": "2023-01-29T12:03:06.140363Z"
    }
   },
   "outputs": [
    {
     "name": "stdout",
     "output_type": "stream",
     "text": [
      "[('barber', 8), ('secret', 6), ('huge', 5), ('kept', 4), ('person', 3)]\n"
     ]
    }
   ],
   "source": [
    "# most_common(n)는 상위 빈도수를 가진 n개의 단어만을 리턴\n",
    "vocab_size = 5\n",
    "vocab = vocab.most_common(vocab_size) # 등장 빈도수가 높은 상위 5개의 단어만 저장\n",
    "print(vocab)"
   ]
  },
  {
   "cell_type": "markdown",
   "id": "aaabcef6",
   "metadata": {},
   "source": [
    "이제 높은 빈도수를 가진 단어일수록 낮은 정수 인덱스를 부여해보자.   \n",
    "Counter()에서 사용한 방법보다 좀 더 간단한 방법이 있다. - enumerate"
   ]
  },
  {
   "cell_type": "code",
   "execution_count": 103,
   "id": "e761bd94",
   "metadata": {
    "ExecuteTime": {
     "end_time": "2023-01-29T12:03:06.169641Z",
     "start_time": "2023-01-29T12:03:06.155639Z"
    }
   },
   "outputs": [
    {
     "name": "stdout",
     "output_type": "stream",
     "text": [
      "{'barber': 1, 'secret': 2, 'huge': 3, 'kept': 4, 'person': 5}\n"
     ]
    }
   ],
   "source": [
    "word_to_index = {word[0] : index + 1 for index, word in enumerate(vocab)}\n",
    "print(word_to_index)"
   ]
  },
  {
   "cell_type": "markdown",
   "id": "d707c72e",
   "metadata": {},
   "source": [
    "### 6.1.4 enumerate 이해하기\n",
    "enumerate()는 순서가 있는 자료형(list, set, tuple, dictionary, string)을 입력으로 받아 인덱스를 순차적으로 함께 리턴한다는 특징이 있다. 이때 인덱스는 0부터 부여된다."
   ]
  },
  {
   "cell_type": "code",
   "execution_count": 104,
   "id": "350816f7",
   "metadata": {
    "ExecuteTime": {
     "end_time": "2023-01-29T12:03:06.185638Z",
     "start_time": "2023-01-29T12:03:06.171638Z"
    }
   },
   "outputs": [
    {
     "name": "stdout",
     "output_type": "stream",
     "text": [
      "value : a, index: 0\n",
      "value : b, index: 1\n",
      "value : c, index: 2\n",
      "value : d, index: 3\n",
      "value : e, index: 4\n"
     ]
    }
   ],
   "source": [
    "test_input = ['a', 'b', 'c', 'd', 'e']\n",
    "for index, value in enumerate(test_input): # 입력의 순서대로 0부터 인덱스를 부여함.\n",
    "    print(\"value : {}, index: {}\".format(value, index))"
   ]
  },
  {
   "cell_type": "markdown",
   "id": "fad1e3df",
   "metadata": {},
   "source": [
    "## 6.2 케라스(Keras)의 텍스트 전처리\n",
    "케라스(Keras)는 기본적인 전처리를 위한 도구들을 제공한다. 때로는 **정수 인코딩을 위해서 케라스의 전처리 도구인 토크나이저를 사용하기도 하는데, 사용 방법과 그 특징에 대해서 알아보자.**   \n",
    "* fit_on_texts()\n",
    "* word_index\n",
    "* word_counts\n",
    "* texts_to_sequences()"
   ]
  },
  {
   "cell_type": "code",
   "execution_count": 105,
   "id": "902936f4",
   "metadata": {
    "ExecuteTime": {
     "end_time": "2023-01-29T12:03:06.201649Z",
     "start_time": "2023-01-29T12:03:06.187641Z"
    }
   },
   "outputs": [],
   "source": [
    "# 문장 토큰화 + 단어 토큰화 + 전처리 완료 -> 코퍼스 생성\n",
    "preprocessed_sentences = [['barber', 'person'], ['barber', 'good', 'person'], \n",
    "                          ['barber', 'huge', 'person'], ['knew', 'secret'], \n",
    "                          ['secret', 'kept', 'huge', 'secret'], ['huge', 'secret'], \n",
    "                          ['barber', 'kept', 'word'], ['barber', 'kept', 'word'], \n",
    "                          ['barber', 'kept', 'secret'], \n",
    "                          ['keeping', 'keeping', 'huge', 'secret', 'driving', 'barber', 'crazy'], \n",
    "                          ['barber', 'went', 'huge', 'mountain']]"
   ]
  },
  {
   "cell_type": "code",
   "execution_count": 106,
   "id": "8f19a22f",
   "metadata": {
    "ExecuteTime": {
     "end_time": "2023-01-29T12:03:06.217074Z",
     "start_time": "2023-01-29T12:03:06.204794Z"
    }
   },
   "outputs": [],
   "source": [
    "# 케라스 전처리 도구 이용\n",
    "from tensorflow.keras.preprocessing.text import Tokenizer\n",
    "tokenizer = Tokenizer()\n",
    "\n",
    "# fit_on_texts()안에 코퍼스를 입력으로 하면 빈도수를 기준으로 단어 집합을 생성.\n",
    "# 입력한 텍스트로부터 단어 빈도수가 높은 순으로 낮은 정수 인덱스를 부여\n",
    "tokenizer.fit_on_texts(preprocessed_sentences) "
   ]
  },
  {
   "cell_type": "code",
   "execution_count": 107,
   "id": "2293e48b",
   "metadata": {
    "ExecuteTime": {
     "end_time": "2023-01-29T12:03:06.232823Z",
     "start_time": "2023-01-29T12:03:06.220343Z"
    }
   },
   "outputs": [
    {
     "name": "stdout",
     "output_type": "stream",
     "text": [
      "{'barber': 1, 'secret': 2, 'huge': 3, 'kept': 4, 'person': 5, 'word': 6, 'keeping': 7, 'good': 8, 'knew': 9, 'driving': 10, 'crazy': 11, 'went': 12, 'mountain': 13}\n"
     ]
    }
   ],
   "source": [
    "# 각 단어에 인덱스가 어떻게 부여되었는지를 보려면 word_index를 사용\n",
    "print(tokenizer.word_index)"
   ]
  },
  {
   "cell_type": "code",
   "execution_count": 108,
   "id": "49190a89",
   "metadata": {
    "ExecuteTime": {
     "end_time": "2023-01-29T12:03:06.248420Z",
     "start_time": "2023-01-29T12:03:06.235389Z"
    }
   },
   "outputs": [
    {
     "name": "stdout",
     "output_type": "stream",
     "text": [
      "OrderedDict([('barber', 8), ('person', 3), ('good', 1), ('huge', 5), ('knew', 1), ('secret', 6), ('kept', 4), ('word', 2), ('keeping', 2), ('driving', 1), ('crazy', 1), ('went', 1), ('mountain', 1)])\n"
     ]
    }
   ],
   "source": [
    "# 각 단어가 카운트를 수행하였을 때 몇 개였는지를 보고자 한다면 word_counts를 사용한다!\n",
    "print(tokenizer.word_counts)"
   ]
  },
  {
   "cell_type": "code",
   "execution_count": 109,
   "id": "e098429a",
   "metadata": {
    "ExecuteTime": {
     "end_time": "2023-01-29T12:03:06.263549Z",
     "start_time": "2023-01-29T12:03:06.250534Z"
    }
   },
   "outputs": [
    {
     "name": "stdout",
     "output_type": "stream",
     "text": [
      "[[1, 5], [1, 8, 5], [1, 3, 5], [9, 2], [2, 4, 3, 2], [3, 2], [1, 4, 6], [1, 4, 6], [1, 4, 2], [7, 7, 3, 2, 10, 1, 11], [1, 12, 3, 13]]\n"
     ]
    }
   ],
   "source": [
    "# texts_to_sequences()는 입력으로 들어온 코퍼스에 대해서 각 단어를 이미 정해진 인덱스로 변환한다.\n",
    "print(tokenizer.texts_to_sequences(preprocessed_sentences))"
   ]
  },
  {
   "cell_type": "markdown",
   "id": "9d896ea9",
   "metadata": {},
   "source": [
    "케라스 토크나이저에서는 tokenizer = Tokenizer(num_words=숫자)를 사용하여 빈도수가 높은 상위 몇 개의 단어만 사용하겠다고 지정할 수 있다. (이전의 most_common()의 기능)"
   ]
  },
  {
   "cell_type": "code",
   "execution_count": 110,
   "id": "6bc3d26e",
   "metadata": {
    "ExecuteTime": {
     "end_time": "2023-01-29T12:03:06.279104Z",
     "start_time": "2023-01-29T12:03:06.265746Z"
    }
   },
   "outputs": [],
   "source": [
    "vocab_size = 5\n",
    "tokenizer = Tokenizer(num_words = vocab_size + 1) # 상위 5개 단어만 사용\n",
    "tokenizer.fit_on_texts(preprocessed_sentences)"
   ]
  },
  {
   "cell_type": "markdown",
   "id": "ba319612",
   "metadata": {},
   "source": [
    "> num_words에서 +1을 더해서 값을 넣어주는 이유 :   \n",
    "> num_words는 숫자를 0부터 카운트한다. 만약 5를 넣으면 0 ~ 4번 단어 보존을 의미하게 되므로 뒤의 실습에서 1번 단어부터 4번 단어만 남게 된다. 그렇기 때문에 1 ~ 5번 단어까지 사용하고 싶다면 num_words에 숫자 5를 넣어주는 것이 아니라 5+1인 값을 넣어주어야 한다.\n",
    "\n",
    "> 실질적으로 숫자 0에 지정된 단어가 존재하지 않는데도 케라스 토크나이저가 숫자 0까지 단어 집합의 크기로 산정하는 이유는 자연어 처리에서 패딩(padding)이라는 작업 때문이다. 이에 대해서는 뒤에 다루게 되므로 여기서는 케라스 토크나이저를 사용할 때는 숫자 0도 단어 집합의 크기로 고려해야 한다고만 이해하자.\n",
    "\n",
    "> **_--> 요거 조금 헷갈림. 주의. 다시 공부!!!_**"
   ]
  },
  {
   "cell_type": "code",
   "execution_count": 111,
   "id": "b74e7b8b",
   "metadata": {
    "ExecuteTime": {
     "end_time": "2023-01-29T12:03:06.294353Z",
     "start_time": "2023-01-29T12:03:06.281299Z"
    }
   },
   "outputs": [
    {
     "name": "stdout",
     "output_type": "stream",
     "text": [
      "{'barber': 1, 'secret': 2, 'huge': 3, 'kept': 4, 'person': 5, 'word': 6, 'keeping': 7, 'good': 8, 'knew': 9, 'driving': 10, 'crazy': 11, 'went': 12, 'mountain': 13}\n"
     ]
    }
   ],
   "source": [
    "print(tokenizer.word_index)   # 변화X"
   ]
  },
  {
   "cell_type": "code",
   "execution_count": 112,
   "id": "5aed8e61",
   "metadata": {
    "ExecuteTime": {
     "end_time": "2023-01-29T12:03:06.309734Z",
     "start_time": "2023-01-29T12:03:06.296757Z"
    }
   },
   "outputs": [
    {
     "name": "stdout",
     "output_type": "stream",
     "text": [
      "OrderedDict([('barber', 8), ('person', 3), ('good', 1), ('huge', 5), ('knew', 1), ('secret', 6), ('kept', 4), ('word', 2), ('keeping', 2), ('driving', 1), ('crazy', 1), ('went', 1), ('mountain', 1)])\n"
     ]
    }
   ],
   "source": [
    "print(tokenizer.word_counts)   # 변화X"
   ]
  },
  {
   "cell_type": "code",
   "execution_count": 113,
   "id": "19af1084",
   "metadata": {
    "ExecuteTime": {
     "end_time": "2023-01-29T12:03:06.325762Z",
     "start_time": "2023-01-29T12:03:06.312733Z"
    }
   },
   "outputs": [
    {
     "name": "stdout",
     "output_type": "stream",
     "text": [
      "[[1, 5], [1, 5], [1, 3, 5], [2], [2, 4, 3, 2], [3, 2], [1, 4], [1, 4], [1, 4, 2], [3, 2, 1], [1, 3]]\n"
     ]
    }
   ],
   "source": [
    "print(tokenizer.texts_to_sequences(preprocessed_sentences))  # 여기서만 적용됨"
   ]
  },
  {
   "cell_type": "markdown",
   "id": "fc1d0718",
   "metadata": {},
   "source": [
    "> 빈도수가 높은 5개 단어에 1,2,3,4,5가 부여되었고, 나머지 단어들은 인덱스 변환이 실행되지 않고 제거되었다"
   ]
  },
  {
   "cell_type": "markdown",
   "id": "f8562fd1",
   "metadata": {},
   "source": [
    "word_index와 word_counts에서도 지정된 num_words만큼의 단어만 남기고 싶다면 아래의 코드가 하나의 방법이 될 수 있다.   \n",
    "하지만 경험상 필요하다고 생각하지는 않는다..."
   ]
  },
  {
   "cell_type": "code",
   "execution_count": 114,
   "id": "9cf6b89b",
   "metadata": {
    "ExecuteTime": {
     "end_time": "2023-01-29T12:03:06.340946Z",
     "start_time": "2023-01-29T12:03:06.328382Z"
    }
   },
   "outputs": [],
   "source": [
    "tokenizer = Tokenizer()\n",
    "tokenizer.fit_on_texts(preprocessed_sentences)"
   ]
  },
  {
   "cell_type": "code",
   "execution_count": 115,
   "id": "13c712d2",
   "metadata": {
    "ExecuteTime": {
     "end_time": "2023-01-29T12:03:06.356777Z",
     "start_time": "2023-01-29T12:03:06.343099Z"
    }
   },
   "outputs": [
    {
     "name": "stdout",
     "output_type": "stream",
     "text": [
      "{'barber': 1, 'secret': 2, 'huge': 3, 'kept': 4, 'person': 5}\n",
      "OrderedDict([('barber', 8), ('person', 3), ('huge', 5), ('secret', 6), ('kept', 4)])\n",
      "[[1, 5], [1, 5], [1, 3, 5], [2], [2, 4, 3, 2], [3, 2], [1, 4], [1, 4], [1, 4, 2], [3, 2, 1], [1, 3]]\n"
     ]
    }
   ],
   "source": [
    "vocab_size = 5\n",
    "words_frequency = [word for word, index in tokenizer.word_index.items() if index >= vocab_size + 1] \n",
    "\n",
    "# 인덱스가 5 초과인 단어 제거\n",
    "for word in words_frequency:\n",
    "    del tokenizer.word_index[word] # 해당 단어에 대한 인덱스 정보를 삭제\n",
    "    del tokenizer.word_counts[word] # 해당 단어에 대한 카운트 정보를 삭제\n",
    "\n",
    "print(tokenizer.word_index)\n",
    "print(tokenizer.word_counts)\n",
    "print(tokenizer.texts_to_sequences(preprocessed_sentences))"
   ]
  },
  {
   "cell_type": "markdown",
   "id": "3f3af1cc",
   "metadata": {},
   "source": [
    "케라스 토크나이저는 기본적으로 단어 집합에 없는 단어인 OOV에 대해서는 단어를 정수로 바꾸는 과정에서 아예 단어를 제거한다는 특징이 있다. 단어 집합에 없는 단어들은 OOV로 간주하여 보존하고 싶다면 Tokenizer의 인자 oov_token을 사용한다."
   ]
  },
  {
   "cell_type": "code",
   "execution_count": 116,
   "id": "80a1730f",
   "metadata": {
    "ExecuteTime": {
     "end_time": "2023-01-29T12:03:06.372040Z",
     "start_time": "2023-01-29T12:03:06.358756Z"
    }
   },
   "outputs": [],
   "source": [
    "# 숫자 0과 OOV를 고려해서 단어 집합의 크기는 +2\n",
    "vocab_size = 5\n",
    "tokenizer = Tokenizer(num_words = vocab_size + 2, oov_token = 'OOV')\n",
    "tokenizer.fit_on_texts(preprocessed_sentences)"
   ]
  },
  {
   "cell_type": "markdown",
   "id": "fc94d734",
   "metadata": {},
   "source": [
    "만약 oov_token을 사용하기로 했다면 케라스 토크나이저는 기본적으로 'OOV'의 인덱스를 1로 한다."
   ]
  },
  {
   "cell_type": "code",
   "execution_count": 117,
   "id": "e90417e9",
   "metadata": {
    "ExecuteTime": {
     "end_time": "2023-01-29T12:03:06.387998Z",
     "start_time": "2023-01-29T12:03:06.375230Z"
    }
   },
   "outputs": [
    {
     "name": "stdout",
     "output_type": "stream",
     "text": [
      "단어 OOV의 인덱스 : 1\n"
     ]
    }
   ],
   "source": [
    "print('단어 OOV의 인덱스 : {}'.format(tokenizer.word_index['OOV']))"
   ]
  },
  {
   "cell_type": "code",
   "execution_count": 118,
   "id": "fbd07b31",
   "metadata": {
    "ExecuteTime": {
     "end_time": "2023-01-29T12:03:06.403563Z",
     "start_time": "2023-01-29T12:03:06.390003Z"
    }
   },
   "outputs": [
    {
     "name": "stdout",
     "output_type": "stream",
     "text": [
      "[[2, 6], [2, 1, 6], [2, 4, 6], [1, 3], [3, 5, 4, 3], [4, 3], [2, 5, 1], [2, 5, 1], [2, 5, 3], [1, 1, 4, 3, 1, 2, 1], [2, 1, 4, 1]]\n"
     ]
    }
   ],
   "source": [
    "# 코퍼스에 대해 정수 인코딩 진행\n",
    "print(tokenizer.texts_to_sequences(preprocessed_sentences))"
   ]
  },
  {
   "cell_type": "markdown",
   "id": "58d98e1a",
   "metadata": {},
   "source": [
    "> 빈도수 상위 5개의 단어는 2 ~ 6까지의 인덱스를 가졌으며, 그 외 단어 집합에 없는 'good'과 같은 단어들은 전부 'OOV'의 인덱스인 1로 인코딩되었다."
   ]
  },
  {
   "cell_type": "markdown",
   "id": "8aa87b8a",
   "metadata": {},
   "source": [
    "# 7 패딩(Padding)\n",
    "자연어 처리를 하다보면 각 문장(또는 문서)은 서로 길이가 다를 수 있는데, 기계는 길이가 전부 동일한 문서들에 대해서 하나의 행렬로 보고 한꺼번에 묶어서 처리할 수 있다.   \n",
    "따라서 병렬 연산을 위해 여러 문장의 길이를 임의로 동일하게 맞춰주는 작업이 필요할 때가 있다."
   ]
  },
  {
   "cell_type": "markdown",
   "id": "566d5372",
   "metadata": {
    "ExecuteTime": {
     "end_time": "2023-01-08T05:39:51.166362Z",
     "start_time": "2023-01-08T05:39:51.149558Z"
    }
   },
   "source": [
    "## 7.1 Numpy로 패딩하기"
   ]
  },
  {
   "cell_type": "code",
   "execution_count": 119,
   "id": "c5706d9c",
   "metadata": {
    "ExecuteTime": {
     "end_time": "2023-01-29T12:03:06.419576Z",
     "start_time": "2023-01-29T12:03:06.405582Z"
    }
   },
   "outputs": [],
   "source": [
    "import numpy as np\n",
    "from tensorflow.keras.preprocessing.text import Tokenizer"
   ]
  },
  {
   "cell_type": "code",
   "execution_count": 120,
   "id": "86291626",
   "metadata": {
    "ExecuteTime": {
     "end_time": "2023-01-29T12:03:06.434637Z",
     "start_time": "2023-01-29T12:03:06.421630Z"
    }
   },
   "outputs": [
    {
     "name": "stdout",
     "output_type": "stream",
     "text": [
      "[[1, 5], [1, 8, 5], [1, 3, 5], [9, 2], [2, 4, 3, 2], [3, 2], [1, 4, 6], [1, 4, 6], [1, 4, 2], [7, 7, 3, 2, 10, 1, 11], [1, 12, 3, 13]]\n"
     ]
    }
   ],
   "source": [
    "# 앞의 방법으로 정수 인코딩 수행\n",
    "# preprocessed_sentences 변수 : 6.2 참고\n",
    "tokenizer = Tokenizer()\n",
    "tokenizer.fit_on_texts(preprocessed_sentences)\n",
    "encoded = tokenizer.texts_to_sequences(preprocessed_sentences)\n",
    "print(encoded)   # 모든 단어가 고유한 정수로 변환됨"
   ]
  },
  {
   "cell_type": "markdown",
   "id": "0efd30a5",
   "metadata": {
    "ExecuteTime": {
     "end_time": "2023-01-08T05:41:47.885697Z",
     "start_time": "2023-01-08T05:41:47.853868Z"
    }
   },
   "source": [
    "모두 동일한 길이로 맞춰주기 위해서 이 중에서 가장 길이가 긴 문장의 길이를 계산해보자"
   ]
  },
  {
   "cell_type": "code",
   "execution_count": 121,
   "id": "3b18bdfc",
   "metadata": {
    "ExecuteTime": {
     "end_time": "2023-01-29T12:03:06.449632Z",
     "start_time": "2023-01-29T12:03:06.436617Z"
    }
   },
   "outputs": [
    {
     "name": "stdout",
     "output_type": "stream",
     "text": [
      "최대 길이 : 7\n"
     ]
    }
   ],
   "source": [
    "max_len = max(len(item) for item in encoded)\n",
    "print('최대 길이 :',max_len)   # 최대길이 : 7"
   ]
  },
  {
   "cell_type": "markdown",
   "id": "3309ad26",
   "metadata": {},
   "source": [
    "모든 문장의 길이 7로 맞춰주자. 이때 가상의 단어 'PAD'를 사용한다. 'PAD'라는 단어가 있다고 가정하고, 이 단어는 0번 단어라고 정의한다. 길이가 7보다 짧은 문장에는 숫자 0을 채워서 길이 7로 맞춰준다."
   ]
  },
  {
   "cell_type": "code",
   "execution_count": 122,
   "id": "b83a685f",
   "metadata": {
    "ExecuteTime": {
     "end_time": "2023-01-29T12:03:06.465651Z",
     "start_time": "2023-01-29T12:03:06.452616Z"
    }
   },
   "outputs": [
    {
     "data": {
      "text/plain": [
       "array([[ 1,  5,  0,  0,  0,  0,  0],\n",
       "       [ 1,  8,  5,  0,  0,  0,  0],\n",
       "       [ 1,  3,  5,  0,  0,  0,  0],\n",
       "       [ 9,  2,  0,  0,  0,  0,  0],\n",
       "       [ 2,  4,  3,  2,  0,  0,  0],\n",
       "       [ 3,  2,  0,  0,  0,  0,  0],\n",
       "       [ 1,  4,  6,  0,  0,  0,  0],\n",
       "       [ 1,  4,  6,  0,  0,  0,  0],\n",
       "       [ 1,  4,  2,  0,  0,  0,  0],\n",
       "       [ 7,  7,  3,  2, 10,  1, 11],\n",
       "       [ 1, 12,  3, 13,  0,  0,  0]])"
      ]
     },
     "execution_count": 122,
     "metadata": {},
     "output_type": "execute_result"
    }
   ],
   "source": [
    "# 모든 문장의 길이 7로 통일\n",
    "for sentence in encoded:\n",
    "    while len(sentence) < max_len:\n",
    "        sentence.append(0)\n",
    "\n",
    "padded_np = np.array(encoded)\n",
    "padded_np"
   ]
  },
  {
   "cell_type": "markdown",
   "id": "b1c5d1b3",
   "metadata": {},
   "source": [
    "기계는 이들을 하나의 행렬로 보고, 병렬 처리를 할 수 있다. 또한, 0번 단어는 사실 아무런 의미도 없는 단어이기 때문에 자연어 처리하는 과정에서 기계는 0번 단어를 무시하게 될 것이다.   \n",
    "이와 같이 **데이터에 특정 값을 채워서 데이터의 크기(shape)를 조정하는 것을 패딩(padding)이라고 한다.** 숫자 0을 사용하고 있다면 **제로 패딩(zero padding)**이라고 한다."
   ]
  },
  {
   "cell_type": "markdown",
   "id": "f1149544",
   "metadata": {
    "ExecuteTime": {
     "end_time": "2023-01-08T05:43:34.921818Z",
     "start_time": "2023-01-08T05:43:34.914445Z"
    }
   },
   "source": [
    "## 7.2 케라스 전처리 도구로 패딩하기\n",
    "- pad_sequences()"
   ]
  },
  {
   "cell_type": "code",
   "execution_count": 123,
   "id": "b10f6f49",
   "metadata": {
    "ExecuteTime": {
     "end_time": "2023-01-29T12:03:06.480890Z",
     "start_time": "2023-01-29T12:03:06.468643Z"
    }
   },
   "outputs": [],
   "source": [
    "from tensorflow.keras.preprocessing.sequence import pad_sequences"
   ]
  },
  {
   "cell_type": "code",
   "execution_count": 124,
   "id": "f71dbce1",
   "metadata": {
    "ExecuteTime": {
     "end_time": "2023-01-29T12:03:06.496935Z",
     "start_time": "2023-01-29T12:03:06.482857Z"
    }
   },
   "outputs": [
    {
     "name": "stdout",
     "output_type": "stream",
     "text": [
      "[[1, 5, 0, 0, 0, 0, 0], [1, 8, 5, 0, 0, 0, 0], [1, 3, 5, 0, 0, 0, 0], [9, 2, 0, 0, 0, 0, 0], [2, 4, 3, 2, 0, 0, 0], [3, 2, 0, 0, 0, 0, 0], [1, 4, 6, 0, 0, 0, 0], [1, 4, 6, 0, 0, 0, 0], [1, 4, 2, 0, 0, 0, 0], [7, 7, 3, 2, 10, 1, 11], [1, 12, 3, 13, 0, 0, 0]]\n"
     ]
    }
   ],
   "source": [
    "print(encoded)"
   ]
  },
  {
   "cell_type": "markdown",
   "id": "993071f3",
   "metadata": {},
   "source": [
    "encoded 값이 위에서 이미 패딩 후의 결과로 저장되었기 때문에 패딩 이전의 값으로 다시 되돌려보자."
   ]
  },
  {
   "cell_type": "code",
   "execution_count": 125,
   "id": "7ecb890c",
   "metadata": {
    "ExecuteTime": {
     "end_time": "2023-01-29T12:03:06.512748Z",
     "start_time": "2023-01-29T12:03:06.500937Z"
    }
   },
   "outputs": [
    {
     "name": "stdout",
     "output_type": "stream",
     "text": [
      "[[1, 5], [1, 8, 5], [1, 3, 5], [9, 2], [2, 4, 3, 2], [3, 2], [1, 4, 6], [1, 4, 6], [1, 4, 2], [7, 7, 3, 2, 10, 1, 11], [1, 12, 3, 13]]\n"
     ]
    }
   ],
   "source": [
    "encoded = tokenizer.texts_to_sequences(preprocessed_sentences)\n",
    "print(encoded)"
   ]
  },
  {
   "cell_type": "code",
   "execution_count": 126,
   "id": "35d7eded",
   "metadata": {
    "ExecuteTime": {
     "end_time": "2023-01-29T12:03:06.528804Z",
     "start_time": "2023-01-29T12:03:06.516756Z"
    }
   },
   "outputs": [
    {
     "data": {
      "text/plain": [
       "array([[ 0,  0,  0,  0,  0,  1,  5],\n",
       "       [ 0,  0,  0,  0,  1,  8,  5],\n",
       "       [ 0,  0,  0,  0,  1,  3,  5],\n",
       "       [ 0,  0,  0,  0,  0,  9,  2],\n",
       "       [ 0,  0,  0,  2,  4,  3,  2],\n",
       "       [ 0,  0,  0,  0,  0,  3,  2],\n",
       "       [ 0,  0,  0,  0,  1,  4,  6],\n",
       "       [ 0,  0,  0,  0,  1,  4,  6],\n",
       "       [ 0,  0,  0,  0,  1,  4,  2],\n",
       "       [ 7,  7,  3,  2, 10,  1, 11],\n",
       "       [ 0,  0,  0,  1, 12,  3, 13]])"
      ]
     },
     "execution_count": 126,
     "metadata": {},
     "output_type": "execute_result"
    }
   ],
   "source": [
    "padded = pad_sequences(encoded)\n",
    "padded"
   ]
  },
  {
   "cell_type": "markdown",
   "id": "219d640c",
   "metadata": {},
   "source": [
    "> Numpy로 패딩을 진행하였을 때와는 패딩 결과가 다른데 그 이유는 pad_sequences는 기본적으로 문서의 뒤에 0을 채우는 것이 아니라 앞에 0으로 채우기 때문이다. 뒤에 0을 채우고 싶다면 인자로 padding='post'를 주면 된다."
   ]
  },
  {
   "cell_type": "code",
   "execution_count": 127,
   "id": "8890e83b",
   "metadata": {
    "ExecuteTime": {
     "end_time": "2023-01-29T12:03:06.544689Z",
     "start_time": "2023-01-29T12:03:06.532694Z"
    }
   },
   "outputs": [
    {
     "data": {
      "text/plain": [
       "array([[ 1,  5,  0,  0,  0,  0,  0],\n",
       "       [ 1,  8,  5,  0,  0,  0,  0],\n",
       "       [ 1,  3,  5,  0,  0,  0,  0],\n",
       "       [ 9,  2,  0,  0,  0,  0,  0],\n",
       "       [ 2,  4,  3,  2,  0,  0,  0],\n",
       "       [ 3,  2,  0,  0,  0,  0,  0],\n",
       "       [ 1,  4,  6,  0,  0,  0,  0],\n",
       "       [ 1,  4,  6,  0,  0,  0,  0],\n",
       "       [ 1,  4,  2,  0,  0,  0,  0],\n",
       "       [ 7,  7,  3,  2, 10,  1, 11],\n",
       "       [ 1, 12,  3, 13,  0,  0,  0]])"
      ]
     },
     "execution_count": 127,
     "metadata": {},
     "output_type": "execute_result"
    }
   ],
   "source": [
    "padded = pad_sequences(encoded, padding='post')\n",
    "padded"
   ]
  },
  {
   "cell_type": "code",
   "execution_count": 128,
   "id": "495d04ef",
   "metadata": {
    "ExecuteTime": {
     "end_time": "2023-01-29T12:03:06.559887Z",
     "start_time": "2023-01-29T12:03:06.547693Z"
    }
   },
   "outputs": [
    {
     "data": {
      "text/plain": [
       "True"
      ]
     },
     "execution_count": 128,
     "metadata": {},
     "output_type": "execute_result"
    }
   ],
   "source": [
    "# numpy 이용과 결과가 동일한지 확인(비교)\n",
    "(padded == padded_np).all()    # True"
   ]
  },
  {
   "cell_type": "markdown",
   "id": "9cb2ec75",
   "metadata": {},
   "source": [
    "> **< Question >**   \n",
    "**_--> 왜 .all()을 쓸까...?_**"
   ]
  },
  {
   "cell_type": "markdown",
   "id": "c0832c64",
   "metadata": {},
   "source": [
    "실제로 꼭 가장 긴 문서의 길이를 기준으로 해야하는 것은 아니다. 가령, 모든 문서의 평균 길이가 20인데 문서 1개의 길이가 5,000이라고 해서 굳이 모든 문서의 길이를 5,000으로 패딩할 필요는 없다. 이와 같은 경우에는 길이에 제한을 두고 패딩할 수 있다. maxlen의 인자로 정수를 주면, 해당 정수로 모든 문서의 길이를 동일하게 한다."
   ]
  },
  {
   "cell_type": "code",
   "execution_count": 129,
   "id": "c6115323",
   "metadata": {
    "ExecuteTime": {
     "end_time": "2023-01-29T12:03:06.575371Z",
     "start_time": "2023-01-29T12:03:06.561887Z"
    }
   },
   "outputs": [
    {
     "data": {
      "text/plain": [
       "array([[ 1,  5,  0,  0,  0],\n",
       "       [ 1,  8,  5,  0,  0],\n",
       "       [ 1,  3,  5,  0,  0],\n",
       "       [ 9,  2,  0,  0,  0],\n",
       "       [ 2,  4,  3,  2,  0],\n",
       "       [ 3,  2,  0,  0,  0],\n",
       "       [ 1,  4,  6,  0,  0],\n",
       "       [ 1,  4,  6,  0,  0],\n",
       "       [ 1,  4,  2,  0,  0],\n",
       "       [ 3,  2, 10,  1, 11],\n",
       "       [ 1, 12,  3, 13,  0]])"
      ]
     },
     "execution_count": 129,
     "metadata": {},
     "output_type": "execute_result"
    }
   ],
   "source": [
    "padded = pad_sequences(encoded, padding='post', maxlen=5)\n",
    "padded"
   ]
  },
  {
   "cell_type": "markdown",
   "id": "cc4f05e2",
   "metadata": {},
   "source": [
    "> 길이가 5보다 짧은 문서들은 0으로 패딩되고, 기존에 5보다 길었다면 데이터가 손실된다.   \n",
    "> 만약, 데이터가 손실될 경우에 앞의 단어가 아니라 뒤의 단어가 삭제되도록 하고싶다면 truncating='post'를 사용한다."
   ]
  },
  {
   "cell_type": "code",
   "execution_count": 130,
   "id": "87e5d747",
   "metadata": {
    "ExecuteTime": {
     "end_time": "2023-01-29T12:03:06.590778Z",
     "start_time": "2023-01-29T12:03:06.577384Z"
    }
   },
   "outputs": [
    {
     "data": {
      "text/plain": [
       "array([[ 1,  5,  0,  0,  0],\n",
       "       [ 1,  8,  5,  0,  0],\n",
       "       [ 1,  3,  5,  0,  0],\n",
       "       [ 9,  2,  0,  0,  0],\n",
       "       [ 2,  4,  3,  2,  0],\n",
       "       [ 3,  2,  0,  0,  0],\n",
       "       [ 1,  4,  6,  0,  0],\n",
       "       [ 1,  4,  6,  0,  0],\n",
       "       [ 1,  4,  2,  0,  0],\n",
       "       [ 7,  7,  3,  2, 10],\n",
       "       [ 1, 12,  3, 13,  0]])"
      ]
     },
     "execution_count": 130,
     "metadata": {},
     "output_type": "execute_result"
    }
   ],
   "source": [
    "padded = pad_sequences(encoded, padding='post', truncating='post', maxlen=5)\n",
    "padded"
   ]
  },
  {
   "cell_type": "markdown",
   "id": "bc07bb46",
   "metadata": {},
   "source": [
    "숫자 0으로 패딩하는 것은 널리 퍼진 관례이긴 하지만, 숫자 0이 아니라 다른 숫자를 패딩을 위한 숫자로 사용하고 싶다면 이 또한 가능하다. 현재 사용된 정수들과 겹치지 않도록, 단어 집합의 크기에 +1을 한 숫자로 사용해보자."
   ]
  },
  {
   "cell_type": "code",
   "execution_count": 131,
   "id": "56019277",
   "metadata": {
    "ExecuteTime": {
     "end_time": "2023-01-29T12:03:06.606357Z",
     "start_time": "2023-01-29T12:03:06.592783Z"
    }
   },
   "outputs": [
    {
     "name": "stdout",
     "output_type": "stream",
     "text": [
      "14\n"
     ]
    }
   ],
   "source": [
    "last_value = len(tokenizer.word_index) + 1 # 단어 집합의 크기보다 1 큰 숫자를 사용\n",
    "print(last_value)"
   ]
  },
  {
   "cell_type": "code",
   "execution_count": 132,
   "id": "3486e9e1",
   "metadata": {
    "ExecuteTime": {
     "end_time": "2023-01-29T12:03:06.621891Z",
     "start_time": "2023-01-29T12:03:06.607802Z"
    }
   },
   "outputs": [
    {
     "data": {
      "text/plain": [
       "array([[ 1,  5, 14, 14, 14, 14, 14],\n",
       "       [ 1,  8,  5, 14, 14, 14, 14],\n",
       "       [ 1,  3,  5, 14, 14, 14, 14],\n",
       "       [ 9,  2, 14, 14, 14, 14, 14],\n",
       "       [ 2,  4,  3,  2, 14, 14, 14],\n",
       "       [ 3,  2, 14, 14, 14, 14, 14],\n",
       "       [ 1,  4,  6, 14, 14, 14, 14],\n",
       "       [ 1,  4,  6, 14, 14, 14, 14],\n",
       "       [ 1,  4,  2, 14, 14, 14, 14],\n",
       "       [ 7,  7,  3,  2, 10,  1, 11],\n",
       "       [ 1, 12,  3, 13, 14, 14, 14]])"
      ]
     },
     "execution_count": 132,
     "metadata": {},
     "output_type": "execute_result"
    }
   ],
   "source": [
    "# 0이 아닌 다른 숫자로 패딩\n",
    "padded = pad_sequences(encoded, padding='post', value=last_value)\n",
    "padded"
   ]
  },
  {
   "cell_type": "markdown",
   "id": "cddad8ea",
   "metadata": {},
   "source": [
    "# 8 원-핫 인코딩(One-Hot Encoding)\n",
    "단어 집합은 서로 다른 단어들의 집합이다. 기본적으로 book과 books와 같이 단어의 변형 형태도 다른 단어로 간주한다.    \n",
    "원-핫 인코딩을 위해서 먼저 해야할 일은 단어 집합을 만드는 일이다. 각 단어에 고유한 정수 인덱스를 부여하였을 때, 이 숫자로 바뀐 단어들을 벡터로 다루고 싶다면 어떻게 하면 될지 알아보자."
   ]
  },
  {
   "cell_type": "markdown",
   "id": "737b1633",
   "metadata": {},
   "source": [
    "## 8.1 원-핫 인코딩(One-Hot Encoding)이란?\n",
    "원-핫 인코딩은 단어 집합의 크기를 벡터의 차원으로 하고, 표현하고 싶은 단어의 인덱스에 1의 값을 부여하고, 다른 인덱스에는 0을 부여하는 단어의 벡터 표현 방식이다.   \n",
    "이렇게 표현된 벡터를 원-핫 벡터(One-Hot vector)라고 한다.\n",
    "\n",
    "아래 문장을 예제로 원-핫 벡터를 만들어보자.\n",
    "**문장 : 나는 자연어 처리를 배운다.**"
   ]
  },
  {
   "cell_type": "code",
   "execution_count": 133,
   "id": "99a59f45",
   "metadata": {
    "ExecuteTime": {
     "end_time": "2023-01-29T12:03:06.636810Z",
     "start_time": "2023-01-29T12:03:06.623811Z"
    }
   },
   "outputs": [
    {
     "name": "stdout",
     "output_type": "stream",
     "text": [
      "['나', '는', '자연어', '처리', '를', '배운다']\n"
     ]
    }
   ],
   "source": [
    "from konlpy.tag import Okt  \n",
    "\n",
    "okt = Okt()  \n",
    "tokens = okt.morphs(\"나는 자연어 처리를 배운다\")  \n",
    "print(tokens)"
   ]
  },
  {
   "cell_type": "markdown",
   "id": "9e728f8c",
   "metadata": {},
   "source": [
    "각 토큰에 대해서 고유한 정수를 부여한다. 지금은 문장이 짧기 때문에 각 단어의 빈도수를 고려하지 않지만, 빈도수 순으로 단어를 정렬하여 정수를 부여하는 경우가 많다."
   ]
  },
  {
   "cell_type": "code",
   "execution_count": 134,
   "id": "aeb95b4f",
   "metadata": {
    "ExecuteTime": {
     "end_time": "2023-01-29T12:03:06.652811Z",
     "start_time": "2023-01-29T12:03:06.640816Z"
    }
   },
   "outputs": [
    {
     "name": "stdout",
     "output_type": "stream",
     "text": [
      "단어 집합 : {'나': 0, '는': 1, '자연어': 2, '처리': 3, '를': 4, '배운다': 5}\n"
     ]
    }
   ],
   "source": [
    "word_to_index = {word : index for index, word in enumerate(tokens)}\n",
    "print('단어 집합 :',word_to_index)"
   ]
  },
  {
   "cell_type": "code",
   "execution_count": 135,
   "id": "060e934b",
   "metadata": {
    "ExecuteTime": {
     "end_time": "2023-01-29T12:03:06.668810Z",
     "start_time": "2023-01-29T12:03:06.655814Z"
    }
   },
   "outputs": [],
   "source": [
    "# 원-핫 벡터 생성 함수\n",
    "def one_hot_encoding(word, word_to_index):\n",
    "    one_hot_vector = [0]*(len(word_to_index))\n",
    "    index = word_to_index[word]\n",
    "    one_hot_vector[index] = 1\n",
    "    return one_hot_vector"
   ]
  },
  {
   "cell_type": "code",
   "execution_count": 136,
   "id": "ba82bed4",
   "metadata": {
    "ExecuteTime": {
     "end_time": "2023-01-29T12:03:06.683814Z",
     "start_time": "2023-01-29T12:03:06.671812Z"
    }
   },
   "outputs": [
    {
     "data": {
      "text/plain": [
       "[0, 0, 1, 0, 0, 0]"
      ]
     },
     "execution_count": 136,
     "metadata": {},
     "output_type": "execute_result"
    }
   ],
   "source": [
    "# '자연어'라는 단어의 원-핫 벡터\n",
    "one_hot_encoding(\"자연어\", word_to_index)"
   ]
  },
  {
   "cell_type": "markdown",
   "id": "f5a6b5a8",
   "metadata": {},
   "source": [
    "> '자연어'는 정수 2이므로 원-핫 벡터는 인덱스 2의 값이 1이며, 나머지 값은 0인 벡터가 나온다."
   ]
  },
  {
   "cell_type": "markdown",
   "id": "8fda7fc5",
   "metadata": {
    "ExecuteTime": {
     "end_time": "2023-01-08T06:00:21.613749Z",
     "start_time": "2023-01-08T06:00:21.605958Z"
    }
   },
   "source": [
    "## 8.2 케라스(Keras)를 이용한 원-핫 인코딩(One-Hot Encoding)\n",
    "위에서는 원-핫 인코딩을 이해하기 위해 파이썬으로 직접 코드를 작성하였지만, 케라스는 원-핫 인코딩을 수행하는 유용한 도구 to_categorical()를 지원한다.\n",
    "\n",
    "케라스만으로 정수 인코딩과 원-핫 인코딩을 순차적으로 진행해보자."
   ]
  },
  {
   "cell_type": "code",
   "execution_count": 137,
   "id": "e75f178e",
   "metadata": {
    "ExecuteTime": {
     "end_time": "2023-01-29T12:03:06.698953Z",
     "start_time": "2023-01-29T12:03:06.686811Z"
    }
   },
   "outputs": [],
   "source": [
    "text = \"나랑 점심 먹으러 갈래 점심 메뉴는 햄버거 갈래 갈래 햄버거 최고야\""
   ]
  },
  {
   "cell_type": "code",
   "execution_count": 138,
   "id": "b09d8f24",
   "metadata": {
    "ExecuteTime": {
     "end_time": "2023-01-29T12:03:06.714917Z",
     "start_time": "2023-01-29T12:03:06.702977Z"
    }
   },
   "outputs": [
    {
     "name": "stdout",
     "output_type": "stream",
     "text": [
      "단어 집합 : {'갈래': 1, '점심': 2, '햄버거': 3, '나랑': 4, '먹으러': 5, '메뉴는': 6, '최고야': 7}\n"
     ]
    }
   ],
   "source": [
    "from tensorflow.keras.preprocessing.text import Tokenizer\n",
    "from tensorflow.keras.utils import to_categorical\n",
    "\n",
    "text = \"나랑 점심 먹으러 갈래 점심 메뉴는 햄버거 갈래 갈래 햄버거 최고야\"\n",
    "\n",
    "tokenizer = Tokenizer()\n",
    "tokenizer.fit_on_texts([text])\n",
    "print('단어 집합 :',tokenizer.word_index)"
   ]
  },
  {
   "cell_type": "markdown",
   "id": "156818e7",
   "metadata": {},
   "source": [
    "생성된 단어 집합 내의 일부 단어들로만 구성된 서브 텍스트인 sub_text를 만들어 정수 시퀀스로 변환해보자."
   ]
  },
  {
   "cell_type": "code",
   "execution_count": 139,
   "id": "c902ec37",
   "metadata": {
    "ExecuteTime": {
     "end_time": "2023-01-29T12:03:06.729946Z",
     "start_time": "2023-01-29T12:03:06.717948Z"
    }
   },
   "outputs": [
    {
     "name": "stdout",
     "output_type": "stream",
     "text": [
      "[2, 5, 1, 6, 3, 7]\n"
     ]
    }
   ],
   "source": [
    "sub_text = \"점심 먹으러 갈래 메뉴는 햄버거 최고야\"\n",
    "encoded = tokenizer.texts_to_sequences([sub_text])[0]\n",
    "print(encoded)"
   ]
  },
  {
   "cell_type": "markdown",
   "id": "6e21e18f",
   "metadata": {
    "ExecuteTime": {
     "end_time": "2023-01-08T06:04:22.432160Z",
     "start_time": "2023-01-08T06:04:22.414890Z"
    }
   },
   "source": [
    "이제 해당 결과를 가지고, 원-핫 인코딩을 진행해보자. - to_categorical() 이용"
   ]
  },
  {
   "cell_type": "code",
   "execution_count": 140,
   "id": "344260de",
   "metadata": {
    "ExecuteTime": {
     "end_time": "2023-01-29T12:03:06.746093Z",
     "start_time": "2023-01-29T12:03:06.732951Z"
    }
   },
   "outputs": [
    {
     "name": "stdout",
     "output_type": "stream",
     "text": [
      "[[0. 0. 1. 0. 0. 0. 0. 0.]\n",
      " [0. 0. 0. 0. 0. 1. 0. 0.]\n",
      " [0. 1. 0. 0. 0. 0. 0. 0.]\n",
      " [0. 0. 0. 0. 0. 0. 1. 0.]\n",
      " [0. 0. 0. 1. 0. 0. 0. 0.]\n",
      " [0. 0. 0. 0. 0. 0. 0. 1.]]\n"
     ]
    }
   ],
   "source": [
    "one_hot = to_categorical(encoded)\n",
    "print(one_hot)"
   ]
  },
  {
   "cell_type": "markdown",
   "id": "4f17a263",
   "metadata": {},
   "source": [
    "> 위의 결과는 \"점심 먹으러 갈래 메뉴는 햄버거 최고야\"라는 문장이 [2, 5, 1, 6, 3, 7]로 정수 인코딩이 되고나서, 각각의 인코딩 된 결과를 인덱스로 원-핫 인코딩이 수행된 모습을 보여준다."
   ]
  },
  {
   "cell_type": "markdown",
   "id": "b5133ed3",
   "metadata": {},
   "source": [
    "## 8.3 원-핫 인코딩(One-Hot Encoding)의 한계\n",
    "이러한 표현 방식은 **_단어의 개수가 늘어날 수록, 벡터를 저장하기 위해 필요한 공간, 즉 벡터의 차원이 계속 늘어난다_**는 단점이 있다. 이는 저장 공간 측면에서 매우 비효율적인 표현 방법이다.\n",
    "\n",
    "또한 원-핫 벡터는 **_단어의 유사도를 표현하지 못한다_**는 단점이 있다.   \n",
    "예를 들어 늑대, 호랑이, 강아지, 고양이라는 4개의 단어에 대해서 원-핫 인코딩을 해서 각각, [1, 0, 0, 0], [0, 1, 0, 0], [0, 0, 1, 0], [0, 0, 0, 1]이라는 원-핫 벡터를 부여받았다고 하자. 이때 원-핫 벡터로는 강아지와 늑대가 유사하고, 호랑이와 고양이가 유사하다는 것을 표현할 수가 없다.   \n",
    "이 단점은 **검색 시스템 등에서는 문제**가 될 수 있다.   \n",
    "가령, 여행을 가려고 웹 검색창에 '삿포로 숙소'라는 단어를 검색한다고 하자. 제대로 된 검색 시스템이라면, '삿포로 숙소'라는 검색어에 대해서 '삿포로 게스트 하우스', '삿포로 료칸', '삿포로 호텔'과 같은 유사 단어에 대한 결과도 함께 보여줄 수 있어야 한다. 하지만 단어간 유사성을 계산할 수 없다면, '게스트 하우스'와 '료칸'과 '호텔'이라는 연관 검색어를 보여줄 수 없을 것이다.\n",
    "\n",
    "이러한 단점을 해결하기 위해 단어의 잠재 의미를 반영하여 다차원 공간에 벡터화 하는 기법으로 크게 두 가지가 있다. 첫째는 카운트 기반의 벡터화 방법인 LSA(잠재 의미 분석), HAL 등이 있으며, 둘째는 예측 기반으로 벡터화하는 NNLM, RNNLM, Word2Vec, FastText 등이 있다. 그리고 카운트 기반과 예측 기반 두 가지 방법을 모두 사용하는 방법으로 GloVe라는 방법이 존재한다.   \n",
    "여기서 언급한 방법들 중 대부분은 워드 임베딩 챕터에서 다룰 것이다."
   ]
  },
  {
   "cell_type": "markdown",
   "id": "90ddc480",
   "metadata": {},
   "source": [
    "# 9 데이터의 분리(Splitting Data)\n",
    "머신 러닝 모델을 학습시키고 평가하기 위해서는 데이터를 적절하게 분리하는 작업이 필요하다.   \n",
    "지도 학습을 위한 데이터 분리 작업에 대해 배워보자.\n",
    "* train_test_split"
   ]
  },
  {
   "cell_type": "code",
   "execution_count": 141,
   "id": "9af92fff",
   "metadata": {
    "ExecuteTime": {
     "end_time": "2023-01-29T12:03:06.761462Z",
     "start_time": "2023-01-29T12:03:06.748070Z"
    }
   },
   "outputs": [],
   "source": [
    "import pandas as pd\n",
    "import numpy as np\n",
    "from sklearn.model_selection import train_test_split"
   ]
  },
  {
   "cell_type": "markdown",
   "id": "0be495cb",
   "metadata": {
    "ExecuteTime": {
     "end_time": "2023-01-08T06:10:27.635574Z",
     "start_time": "2023-01-08T06:10:27.621569Z"
    }
   },
   "source": [
    "## 9.1 지도 학습(Supervised Learning)\n",
    "\n",
    "**<훈련 데이터>**   \n",
    "X_train : 문제지 데이터   \n",
    "y_train : 문제지에 대한 정답 데이터.   \n",
    "\n",
    "**<테스트 데이터>**   \n",
    "X_test : 시험지 데이터.   \n",
    "y_test : 시험지에 대한 정답 데이터.   \n",
    "\n",
    "기계는 X_train과 y_train에 대해서 학습을 진행하며, 학습을 다한 기계에게 X_test에 대해 정답을 예측하게 한다. 이후 기계가 예측한 답과 실제 정답인 y_test를 비교하면서 기계가 정답을 얼마나 맞췄는지를 평가한다. 이 수치가 기계의 정확도(Accuracy)가 된다."
   ]
  },
  {
   "cell_type": "markdown",
   "id": "350532f4",
   "metadata": {},
   "source": [
    "## 9.2 X와 y 분리하기"
   ]
  },
  {
   "cell_type": "markdown",
   "id": "1ce15388",
   "metadata": {},
   "source": [
    "### 1) zip 함수 이용\n",
    "zip()함수는 동일한 개수를 가지는 시퀀스 자료형에서 각 순서에 등장하는 원소들끼리 묶어주는 역할을 한다. 리스트의 리스트 구성에서 zip 함수는 X와 y를 분리하는데 유용하다."
   ]
  },
  {
   "cell_type": "code",
   "execution_count": 142,
   "id": "b0bd4c06",
   "metadata": {
    "ExecuteTime": {
     "end_time": "2023-01-29T12:03:06.777471Z",
     "start_time": "2023-01-29T12:03:06.763444Z"
    }
   },
   "outputs": [
    {
     "name": "stdout",
     "output_type": "stream",
     "text": [
      "X 데이터 : ('a', 'b', 'c')\n",
      "y 데이터 : (1, 2, 3)\n"
     ]
    }
   ],
   "source": [
    "X, y = zip(['a', 1], ['b', 2], ['c', 3]) \n",
    "print('X 데이터 :',X)   # 첫번째 원소는 첫번째 원소끼리\n",
    "print('y 데이터 :',y)   # 두번째 원소는 두번째 원소끼리"
   ]
  },
  {
   "cell_type": "code",
   "execution_count": 143,
   "id": "ae5a16d1",
   "metadata": {
    "ExecuteTime": {
     "end_time": "2023-01-29T12:03:06.793492Z",
     "start_time": "2023-01-29T12:03:06.779446Z"
    }
   },
   "outputs": [
    {
     "name": "stdout",
     "output_type": "stream",
     "text": [
      "X 데이터 : ('a', 'b', 'c')\n",
      "y 데이터 : (1, 2, 3)\n"
     ]
    }
   ],
   "source": [
    "# 리스트의 리스트 또는 행렬 또는 뒤에서 배울 개념인 2D 텐서.\n",
    "sequences = [['a', 1], ['b', 2], ['c', 3]]\n",
    "X, y = zip(*sequences)\n",
    "print('X 데이터 :',X)   # 첫번째 원소는 첫번째 원소끼리\n",
    "print('y 데이터 :',y)   # 두번째 원소는 두번째 원소끼리"
   ]
  },
  {
   "cell_type": "markdown",
   "id": "25da8a0a",
   "metadata": {},
   "source": [
    "### 2) 데이터프레임을 이용하여 분리하기\n",
    "데이터프레임은 열의 이름으로 각 열에 접근이 가능하므로, 이를 이용하면 손쉽게 X 데이터와 y 데이터를 분리할 수 있다."
   ]
  },
  {
   "cell_type": "code",
   "execution_count": 144,
   "id": "ef8ba2de",
   "metadata": {
    "ExecuteTime": {
     "end_time": "2023-01-29T12:03:07.248441Z",
     "start_time": "2023-01-29T12:03:06.796488Z"
    }
   },
   "outputs": [
    {
     "data": {
      "text/html": [
       "<div>\n",
       "<style scoped>\n",
       "    .dataframe tbody tr th:only-of-type {\n",
       "        vertical-align: middle;\n",
       "    }\n",
       "\n",
       "    .dataframe tbody tr th {\n",
       "        vertical-align: top;\n",
       "    }\n",
       "\n",
       "    .dataframe thead th {\n",
       "        text-align: right;\n",
       "    }\n",
       "</style>\n",
       "<table border=\"1\" class=\"dataframe\">\n",
       "  <thead>\n",
       "    <tr style=\"text-align: right;\">\n",
       "      <th></th>\n",
       "      <th>메일 본문</th>\n",
       "      <th>스팸 메일 유무</th>\n",
       "    </tr>\n",
       "  </thead>\n",
       "  <tbody>\n",
       "    <tr>\n",
       "      <th>0</th>\n",
       "      <td>당신에게 드리는 마지막 혜택!</td>\n",
       "      <td>1</td>\n",
       "    </tr>\n",
       "    <tr>\n",
       "      <th>1</th>\n",
       "      <td>내일 뵐 수 있을지 확인 부탁드...</td>\n",
       "      <td>0</td>\n",
       "    </tr>\n",
       "    <tr>\n",
       "      <th>2</th>\n",
       "      <td>도연씨. 잘 지내시죠? 오랜만입...</td>\n",
       "      <td>0</td>\n",
       "    </tr>\n",
       "    <tr>\n",
       "      <th>3</th>\n",
       "      <td>(광고) AI로 주가를 예측할 수 있다!</td>\n",
       "      <td>1</td>\n",
       "    </tr>\n",
       "  </tbody>\n",
       "</table>\n",
       "</div>"
      ],
      "text/plain": [
       "                    메일 본문  스팸 메일 유무\n",
       "0        당신에게 드리는 마지막 혜택!         1\n",
       "1    내일 뵐 수 있을지 확인 부탁드...         0\n",
       "2    도연씨. 잘 지내시죠? 오랜만입...         0\n",
       "3  (광고) AI로 주가를 예측할 수 있다!         1"
      ]
     },
     "execution_count": 144,
     "metadata": {},
     "output_type": "execute_result"
    }
   ],
   "source": [
    "values = [['당신에게 드리는 마지막 혜택!', 1],\n",
    "['내일 뵐 수 있을지 확인 부탁드...', 0],\n",
    "['도연씨. 잘 지내시죠? 오랜만입...', 0],\n",
    "['(광고) AI로 주가를 예측할 수 있다!', 1]]\n",
    "columns = ['메일 본문', '스팸 메일 유무']\n",
    "\n",
    "df = pd.DataFrame(values, columns=columns)\n",
    "df"
   ]
  },
  {
   "cell_type": "code",
   "execution_count": 145,
   "id": "ba5ddfc6",
   "metadata": {
    "ExecuteTime": {
     "end_time": "2023-01-29T12:03:07.264070Z",
     "start_time": "2023-01-29T12:03:07.249843Z"
    }
   },
   "outputs": [
    {
     "name": "stdout",
     "output_type": "stream",
     "text": [
      "X 데이터 : ['당신에게 드리는 마지막 혜택!', '내일 뵐 수 있을지 확인 부탁드...', '도연씨. 잘 지내시죠? 오랜만입...', '(광고) AI로 주가를 예측할 수 있다!']\n",
      "y 데이터 : [1, 0, 0, 1]\n"
     ]
    }
   ],
   "source": [
    "X = df['메일 본문']\n",
    "y = df['스팸 메일 유무']\n",
    "print('X 데이터 :',X.to_list())\n",
    "print('y 데이터 :',y.to_list())"
   ]
  },
  {
   "cell_type": "markdown",
   "id": "c0391c56",
   "metadata": {},
   "source": [
    "### 3) Numpy를 이용하여 분리하기\n",
    "임의의 데이터를 만들어서 Numpy의 슬라이싱(slicing)을 사용하여 데이터를 분리해보자."
   ]
  },
  {
   "cell_type": "code",
   "execution_count": 146,
   "id": "e435c743",
   "metadata": {
    "ExecuteTime": {
     "end_time": "2023-01-29T12:03:07.280076Z",
     "start_time": "2023-01-29T12:03:07.267012Z"
    }
   },
   "outputs": [
    {
     "name": "stdout",
     "output_type": "stream",
     "text": [
      "전체 데이터 :\n",
      "[[ 0  1  2  3]\n",
      " [ 4  5  6  7]\n",
      " [ 8  9 10 11]\n",
      " [12 13 14 15]]\n"
     ]
    }
   ],
   "source": [
    "np_array = np.arange(0,16).reshape((4,4))\n",
    "print('전체 데이터 :')\n",
    "print(np_array)"
   ]
  },
  {
   "cell_type": "code",
   "execution_count": 147,
   "id": "bc4d050f",
   "metadata": {
    "ExecuteTime": {
     "end_time": "2023-01-29T12:03:07.295998Z",
     "start_time": "2023-01-29T12:03:07.283988Z"
    }
   },
   "outputs": [
    {
     "name": "stdout",
     "output_type": "stream",
     "text": [
      "X 데이터 :\n",
      "[[ 0  1  2]\n",
      " [ 4  5  6]\n",
      " [ 8  9 10]\n",
      " [12 13 14]]\n",
      "y 데이터 : [ 3  7 11 15]\n"
     ]
    }
   ],
   "source": [
    "# 마지막 열을 제외하고 X데이터에 저장\n",
    "# 마지막 열만을 y데이터에 저장\n",
    "X = np_array[:, :3]\n",
    "y = np_array[:,3]\n",
    "\n",
    "print('X 데이터 :')\n",
    "print(X)\n",
    "print('y 데이터 :',y)"
   ]
  },
  {
   "cell_type": "markdown",
   "id": "e0401c34",
   "metadata": {
    "ExecuteTime": {
     "end_time": "2023-01-08T06:18:10.325200Z",
     "start_time": "2023-01-08T06:18:10.312501Z"
    }
   },
   "source": [
    "## 9.3 테스트 데이터 분리하기\n",
    "이미 X와 y가 분리된 데이터에 대해서 테스트 데이터를 분리하는 과정에 대해서 알아보자."
   ]
  },
  {
   "cell_type": "markdown",
   "id": "db0e57c6",
   "metadata": {},
   "source": [
    "### 1) 사이킷 런을 이용하여 분리하기 - train_test_split()\n",
    "각 인자는 다음을 의미한다.\n",
    "* X : 독립 변수 데이터. (배열이나 데이터프레임)\n",
    "* y : 종속 변수 데이터. 레이블 데이터.\n",
    "* test_size : 테스트용 데이터 개수를 지정. 1보다 작은 실수를 기재할 경우, 비율을 나타낸다.\n",
    "* train_size : 학습용 데이터의 개수를 지정. 1보다 작은 실수를 기재할 경우, 비율을 나타낸다.\n",
    "* random_state : 난수 시드 -> 동일한 코드를 다음에 재현하고자 할 때 사용"
   ]
  },
  {
   "cell_type": "code",
   "execution_count": 148,
   "id": "c799ebb7",
   "metadata": {
    "ExecuteTime": {
     "end_time": "2023-01-29T12:03:07.311202Z",
     "start_time": "2023-01-29T12:03:07.298995Z"
    }
   },
   "outputs": [
    {
     "name": "stdout",
     "output_type": "stream",
     "text": [
      "X 전체 데이터 :\n",
      "[[0 1]\n",
      " [2 3]\n",
      " [4 5]\n",
      " [6 7]\n",
      " [8 9]]\n",
      "y 전체 데이터 :\n",
      "[0, 1, 2, 3, 4]\n"
     ]
    }
   ],
   "source": [
    "# 임의로 X와 y 데이터를 생성\n",
    "X, y = np.arange(10).reshape((5, 2)), range(5)\n",
    "\n",
    "print('X 전체 데이터 :')\n",
    "print(X)\n",
    "print('y 전체 데이터 :')\n",
    "print(list(y))"
   ]
  },
  {
   "cell_type": "code",
   "execution_count": 149,
   "id": "033b5018",
   "metadata": {
    "ExecuteTime": {
     "end_time": "2023-01-29T12:03:07.327269Z",
     "start_time": "2023-01-29T12:03:07.314193Z"
    }
   },
   "outputs": [
    {
     "name": "stdout",
     "output_type": "stream",
     "text": [
      "X 훈련 데이터 :\n",
      "[[2 3]\n",
      " [4 5]\n",
      " [6 7]]\n",
      "X 테스트 데이터 :\n",
      "[[8 9]\n",
      " [0 1]]\n",
      "--------------------------------------------------\n",
      "y 훈련 데이터 :\n",
      "[1, 2, 3]\n",
      "y 테스트 데이터 :\n",
      "[4, 0]\n"
     ]
    }
   ],
   "source": [
    "# 7:3의 비율로 훈련 데이터와 테스트 데이터 분리\n",
    "X_train, X_test, y_train, y_test = train_test_split(X, y, test_size=0.3, random_state=1234)\n",
    "\n",
    "print('X 훈련 데이터 :')\n",
    "print(X_train)\n",
    "print('X 테스트 데이터 :')\n",
    "print(X_test)\n",
    "print('-----'*10)\n",
    "print('y 훈련 데이터 :')\n",
    "print(y_train)\n",
    "print('y 테스트 데이터 :')\n",
    "print(y_test)"
   ]
  },
  {
   "cell_type": "markdown",
   "id": "bc583469",
   "metadata": {
    "ExecuteTime": {
     "end_time": "2023-01-08T06:23:43.122797Z",
     "start_time": "2023-01-08T06:23:43.117897Z"
    }
   },
   "source": [
    "### 2) 수동으로 분리하기"
   ]
  },
  {
   "cell_type": "code",
   "execution_count": 150,
   "id": "575d5658",
   "metadata": {
    "ExecuteTime": {
     "end_time": "2023-01-29T12:03:07.343280Z",
     "start_time": "2023-01-29T12:03:07.329192Z"
    }
   },
   "outputs": [
    {
     "name": "stdout",
     "output_type": "stream",
     "text": [
      "X 전체 데이터 :\n",
      "[[ 0  1]\n",
      " [ 2  3]\n",
      " [ 4  5]\n",
      " [ 6  7]\n",
      " [ 8  9]\n",
      " [10 11]\n",
      " [12 13]\n",
      " [14 15]\n",
      " [16 17]\n",
      " [18 19]\n",
      " [20 21]\n",
      " [22 23]]\n",
      "y 전체 데이터 :\n",
      "[0, 1, 2, 3, 4, 5, 6, 7, 8, 9, 10, 11]\n"
     ]
    }
   ],
   "source": [
    "# 실습을 위해 임의로 X와 y가 이미 분리 된 데이터를 생성\n",
    "X, y = np.arange(0,24).reshape((12,2)), range(12)\n",
    "\n",
    "print('X 전체 데이터 :')\n",
    "print(X)\n",
    "print('y 전체 데이터 :')\n",
    "print(list(y))"
   ]
  },
  {
   "cell_type": "code",
   "execution_count": 151,
   "id": "344e6a72",
   "metadata": {
    "ExecuteTime": {
     "end_time": "2023-01-29T12:03:07.359286Z",
     "start_time": "2023-01-29T12:03:07.346196Z"
    }
   },
   "outputs": [
    {
     "name": "stdout",
     "output_type": "stream",
     "text": [
      "훈련 데이터의 크기 : 9\n",
      "테스트 데이터의 크기 : 3\n"
     ]
    }
   ],
   "source": [
    "num_of_train = int(len(X) * 0.8) # 데이터의 전체 길이의 80%에 해당하는 길이값을 구한다.\n",
    "num_of_test = int(len(X) - num_of_train) # 전체 길이에서 80%에 해당하는 길이를 뺀다.\n",
    "print('훈련 데이터의 크기 :',num_of_train)\n",
    "print('테스트 데이터의 크기 :',num_of_test)"
   ]
  },
  {
   "cell_type": "code",
   "execution_count": 152,
   "id": "237686bb",
   "metadata": {
    "ExecuteTime": {
     "end_time": "2023-01-29T12:03:07.375214Z",
     "start_time": "2023-01-29T12:03:07.363208Z"
    }
   },
   "outputs": [],
   "source": [
    "X_test = X[num_of_train:] # 전체 데이터 중에서 20%만큼 뒤의 데이터 저장\n",
    "y_test = y[num_of_train:] # 전체 데이터 중에서 20%만큼 뒤의 데이터 저장\n",
    "X_train = X[:num_of_train] # 전체 데이터 중에서 80%만큼 앞의 데이터 저장\n",
    "y_train = y[:num_of_train] # 전체 데이터 중에서 80%만큼 앞의 데이터 저장"
   ]
  },
  {
   "cell_type": "code",
   "execution_count": 153,
   "id": "df3be90a",
   "metadata": {
    "ExecuteTime": {
     "end_time": "2023-01-29T12:03:07.390368Z",
     "start_time": "2023-01-29T12:03:07.379194Z"
    }
   },
   "outputs": [
    {
     "name": "stdout",
     "output_type": "stream",
     "text": [
      "X 테스트 데이터 :\n",
      "[[18 19]\n",
      " [20 21]\n",
      " [22 23]]\n",
      "y 테스트 데이터 :\n",
      "[9, 10, 11]\n"
     ]
    }
   ],
   "source": [
    "# 데이터의 크기 확인 - 원하는 비율로 잘 나누어졌는지 확인\n",
    "print('X 테스트 데이터 :')\n",
    "print(X_test)\n",
    "print('y 테스트 데이터 :')\n",
    "print(list(y_test))"
   ]
  },
  {
   "cell_type": "markdown",
   "id": "d6d80672",
   "metadata": {},
   "source": [
    "# 10 한국어 전처리 패키지(Text Preprocessing Tools for Korean Text)\n",
    "유용한 한국어 전처리 패키지를 정리해보자.   \n",
    "앞서 소개한 형태소와 문장 토크나이징 도구들인 KoNLPy와 KSS(Korean Sentence Splitter)와 함께 유용하게 사용할 수 있는 패키지들이다."
   ]
  },
  {
   "cell_type": "markdown",
   "id": "d21aae1a",
   "metadata": {},
   "source": [
    "## 10.1 PyKoScacing\n",
    "띄어쓰기가 되어있지 않은 문장을 띄어쓰기를 한 문장으로 변환해주는 패키지   \n",
    "대용량 코퍼스를 학습하여 만들어진 띄어쓰기 딥 러닝 모델로 준수한 성능을 갖는다."
   ]
  },
  {
   "cell_type": "code",
   "execution_count": 154,
   "id": "9d7ec3bb",
   "metadata": {
    "ExecuteTime": {
     "end_time": "2023-01-29T12:03:07.406022Z",
     "start_time": "2023-01-29T12:03:07.393288Z"
    }
   },
   "outputs": [],
   "source": [
    "#!pip install git+https://github.com/haven-jeon/PyKoSpacing.git"
   ]
  },
  {
   "cell_type": "markdown",
   "id": "e648db7c",
   "metadata": {},
   "source": [
    "> **< no module named 'pykospacing' >**   \n",
    "위의 코드로 아나콘다에서 pykospacing 설치하고 from pykospacing import Spacing 했는데 no module named 'pykospacing'라고 오류남.   \n",
    "그래서 cmd창에서 다시 설치했더니(물론 이때도 내 가상환경에서!) 오류 해결됨.   \n",
    "> 이후 깃에서 불어오는 패키지들에 대해 오류 나면 동일하게 오류 해결.\n",
    "\n",
    "> **< Python 모듈 설치 유무 확인하고 싶을 때 >**   \n",
    "> 1. !pip list | grep 모듈명\n",
    "> - 버전까지 확인 가능\n",
    "> - 기본 내장 모듈은 확인 불가\n",
    "> - pip list만 작성시 모든 모듈 확인 가능\n",
    "> 2. !pip show 모듈명\n",
    "> - 버전, 설치위치까지 확인 가능\n",
    "> - 정확한 이름을 알아야 함\n",
    "> - 기본 내장 모듈은 확인 불가"
   ]
  },
  {
   "cell_type": "code",
   "execution_count": 155,
   "id": "f5783fbe",
   "metadata": {
    "ExecuteTime": {
     "end_time": "2023-01-29T12:03:07.421036Z",
     "start_time": "2023-01-29T12:03:07.410939Z"
    }
   },
   "outputs": [],
   "source": [
    "sent = '김철수는 극중 두 인격의 사나이 이광수 역을 맡았다. 철수는 한국 유일의\\\n",
    " 태권도 전승자를 가리는 결전의 날을 앞두고 10년간 함께 훈련한 사형인\\\n",
    " 유연재(김광수 분)를 찾으러 속세로 내려온 인물이다.'"
   ]
  },
  {
   "cell_type": "code",
   "execution_count": 156,
   "id": "2eda8333",
   "metadata": {
    "ExecuteTime": {
     "end_time": "2023-01-29T12:03:07.437028Z",
     "start_time": "2023-01-29T12:03:07.424950Z"
    }
   },
   "outputs": [
    {
     "name": "stdout",
     "output_type": "stream",
     "text": [
      "김철수는극중두인격의사나이이광수역을맡았다.철수는한국유일의태권도전승자를가리는결전의날을앞두고10년간함께훈련한사형인유연재(김광수분)를찾으러속세로내려온인물이다.\n"
     ]
    }
   ],
   "source": [
    "# 띄어쓰기가 없는 문장 임의로 만들기\n",
    "new_sent = sent.replace(\" \", '') \n",
    "print(new_sent)"
   ]
  },
  {
   "cell_type": "code",
   "execution_count": 157,
   "id": "a0708ac5",
   "metadata": {
    "ExecuteTime": {
     "end_time": "2023-01-29T12:03:09.782752Z",
     "start_time": "2023-01-29T12:03:07.441936Z"
    }
   },
   "outputs": [
    {
     "name": "stdout",
     "output_type": "stream",
     "text": [
      "1/1 [==============================] - 1s 618ms/step\n",
      "김철수는 극중 두 인격의 사나이 이광수 역을 맡았다. 철수는 한국 유일의 태권도 전승자를 가리는 결전의 날을 앞두고 10년간 함께 훈련한 사형인 유연재(김광수 분)를 찾으러 속세로 내려온 인물이다.\n",
      "김철수는 극중 두 인격의 사나이 이광수 역을 맡았다. 철수는 한국 유일의 태권도 전승자를 가리는 결전의 날을 앞두고 10년간 함께 훈련한 사형인 유연재(김광수 분)를 찾으러 속세로 내려온 인물이다.\n"
     ]
    }
   ],
   "source": [
    "# PyKoSpacing를 사용하고 원 문장과 비교해보자.\n",
    "from pykospacing import Spacing\n",
    "spacing = Spacing()\n",
    "kospacing_sent = spacing(new_sent) \n",
    "\n",
    "print(sent)\n",
    "print(kospacing_sent)"
   ]
  },
  {
   "cell_type": "code",
   "execution_count": 158,
   "id": "e5b06666",
   "metadata": {
    "ExecuteTime": {
     "end_time": "2023-01-29T12:03:09.797924Z",
     "start_time": "2023-01-29T12:03:09.784815Z"
    }
   },
   "outputs": [
    {
     "data": {
      "text/plain": [
       "True"
      ]
     },
     "execution_count": 158,
     "metadata": {},
     "output_type": "execute_result"
    }
   ],
   "source": [
    "# 결과가 일치한지 확인(비교)\n",
    "sent == kospacing_sent    # True"
   ]
  },
  {
   "cell_type": "markdown",
   "id": "df16596f",
   "metadata": {},
   "source": [
    "## 10.2 Py-Hanspell\n",
    "네이버 한글 맞춤법 검사기를 바탕으로 만들어진 패키지.   \n",
    "띄어쓰기 또한 보정해준다.   \n",
    "PyKoSpacing과 결과가 거의 비슷하지만 조금 다르다."
   ]
  },
  {
   "cell_type": "code",
   "execution_count": 159,
   "id": "28971deb",
   "metadata": {
    "ExecuteTime": {
     "end_time": "2023-01-29T12:03:09.813478Z",
     "start_time": "2023-01-29T12:03:09.800824Z"
    }
   },
   "outputs": [],
   "source": [
    "#!pip install git+https://github.com/ssut/py-hanspell.git"
   ]
  },
  {
   "cell_type": "code",
   "execution_count": 160,
   "id": "af12835c",
   "metadata": {
    "ExecuteTime": {
     "end_time": "2023-01-29T12:03:10.330191Z",
     "start_time": "2023-01-29T12:03:09.817463Z"
    }
   },
   "outputs": [
    {
     "name": "stdout",
     "output_type": "stream",
     "text": [
      "맞춤법 틀리면 왜 안돼? 쓰고 싶은 대로 쓰면 되지\n"
     ]
    }
   ],
   "source": [
    "from hanspell import spell_checker\n",
    "\n",
    "sent = \"맞춤법 틀리면 외 않되? 쓰고싶은대로쓰면돼지 \"\n",
    "spelled_sent = spell_checker.check(sent)\n",
    "\n",
    "hanspell_sent = spelled_sent.checked\n",
    "print(hanspell_sent)"
   ]
  },
  {
   "cell_type": "code",
   "execution_count": 161,
   "id": "6e4e5b25",
   "metadata": {
    "ExecuteTime": {
     "end_time": "2023-01-29T12:03:10.640429Z",
     "start_time": "2023-01-29T12:03:10.332069Z"
    }
   },
   "outputs": [
    {
     "name": "stdout",
     "output_type": "stream",
     "text": [
      "김철수는 극 중 두 인격의 사나이 이광수 역을 맡았다. 철수는 한국 유일의 태권도 전승자를 가리는 결전의 날을 앞두고 10년간 함께 훈련한 사형인 유연제(김광수 분)를 찾으러 속세로 내려온 인물이다.\n",
      "김철수는 극중 두 인격의 사나이 이광수 역을 맡았다. 철수는 한국 유일의 태권도 전승자를 가리는 결전의 날을 앞두고 10년간 함께 훈련한 사형인 유연재(김광수 분)를 찾으러 속세로 내려온 인물이다.\n"
     ]
    }
   ],
   "source": [
    "spelled_sent = spell_checker.check(new_sent)\n",
    "\n",
    "hanspell_sent = spelled_sent.checked\n",
    "print(hanspell_sent)\n",
    "print(kospacing_sent) # 앞서 사용한 kospacing 패키지에서 얻은 결과"
   ]
  },
  {
   "cell_type": "markdown",
   "id": "82510b43",
   "metadata": {},
   "source": [
    "## 10.3 SOYNLP를 이용한 단어 토큰화\n",
    "soynlp는 품사 태깅, 단어 토큰화 등을 지원하는 단어 토크나이저이다.   \n",
    "비지도 학습으로 단어 토큰화를 한다는 특징을 갖고 있으며, 데이터에 자주 등장하는 단어들을 단어로 분석한다.   \n",
    "soynlp 단어 토크나이저는 내부적으로 단어 점수 표로 동작한다. 이 점수는 응집 확률(cohesion probability)과 브랜칭 엔트로피(branching entropy)를 활용한다."
   ]
  },
  {
   "cell_type": "code",
   "execution_count": 162,
   "id": "4cd03e2d",
   "metadata": {
    "ExecuteTime": {
     "end_time": "2023-01-29T12:03:10.656052Z",
     "start_time": "2023-01-29T12:03:10.642355Z"
    }
   },
   "outputs": [],
   "source": [
    "#!pip install soynlp"
   ]
  },
  {
   "cell_type": "markdown",
   "id": "d82fe550",
   "metadata": {},
   "source": [
    "### 10.3.1 신조어 문제\n",
    "아래와 같이 기존의 형태소 분석기는 신조어나 형태소 분석기에 등록되지 않은 단어 같은 경우에는 제대로 구분하지 못하는 단점이 있는데, soynlp는 신조어를 처리하는 점에서 유용하다."
   ]
  },
  {
   "cell_type": "code",
   "execution_count": 163,
   "id": "757ee2f6",
   "metadata": {
    "ExecuteTime": {
     "end_time": "2023-01-29T12:03:10.687117Z",
     "start_time": "2023-01-29T12:03:10.658048Z"
    }
   },
   "outputs": [
    {
     "name": "stdout",
     "output_type": "stream",
     "text": [
      "['에이', '비식스', '이대', '휘', '1월', '최애', '돌', '기부', '요정']\n"
     ]
    }
   ],
   "source": [
    "from konlpy.tag import Okt\n",
    "tokenizer = Okt()\n",
    "print(tokenizer.morphs('에이비식스 이대휘 1월 최애돌 기부 요정'))"
   ]
  },
  {
   "cell_type": "markdown",
   "id": "82cc71f1",
   "metadata": {},
   "source": [
    "### 10.3.2 학습하기\n",
    "soynlp는 기본적으로 학습에 기반한 토크나이저이므로 학습에 필요한 한국어 문서를 다운로드한다."
   ]
  },
  {
   "cell_type": "code",
   "execution_count": 164,
   "id": "c4e7635d",
   "metadata": {
    "ExecuteTime": {
     "end_time": "2023-01-29T12:03:14.755941Z",
     "start_time": "2023-01-29T12:03:10.689118Z"
    }
   },
   "outputs": [
    {
     "data": {
      "text/plain": [
       "('2016-10-20.txt', <http.client.HTTPMessage at 0x20d9d4b9ca0>)"
      ]
     },
     "execution_count": 164,
     "metadata": {},
     "output_type": "execute_result"
    }
   ],
   "source": [
    "import urllib.request\n",
    "from soynlp import DoublespaceLineCorpus\n",
    "from soynlp.word import WordExtractor\n",
    "\n",
    "urllib.request.urlretrieve(\"https://raw.githubusercontent.com/lovit/soynlp/master/\\\n",
    "tutorials/2016-10-20.txt\", filename=\"2016-10-20.txt\")"
   ]
  },
  {
   "cell_type": "code",
   "execution_count": 165,
   "id": "82cbc1ab",
   "metadata": {
    "ExecuteTime": {
     "end_time": "2023-01-29T12:03:15.139253Z",
     "start_time": "2023-01-29T12:03:14.762341Z"
    }
   },
   "outputs": [
    {
     "data": {
      "text/plain": [
       "30091"
      ]
     },
     "execution_count": 165,
     "metadata": {},
     "output_type": "execute_result"
    }
   ],
   "source": [
    "# 훈련 데이터를 다수의 문서로 분리\n",
    "corpus = DoublespaceLineCorpus(\"2016-10-20.txt\")\n",
    "len(corpus)"
   ]
  },
  {
   "cell_type": "code",
   "execution_count": 166,
   "id": "28f68153",
   "metadata": {
    "ExecuteTime": {
     "end_time": "2023-01-29T12:03:15.155048Z",
     "start_time": "2023-01-29T12:03:15.142160Z"
    },
    "scrolled": true
   },
   "outputs": [
    {
     "name": "stdout",
     "output_type": "stream",
     "text": [
      "19  1990  52 1 22\n",
      "오패산터널 총격전 용의자 검거 서울 연합뉴스 경찰 관계자들이 19일 오후 서울 강북구 오패산 터널 인근에서 사제 총기를 발사해 경찰을 살해한 용의자 성모씨를 검거하고 있다 성씨는 검거 당시 서바이벌 게임에서 쓰는 방탄조끼에 헬멧까지 착용한 상태였다 독자제공 영상 캡처 연합뉴스  서울 연합뉴스 김은경 기자 사제 총기로 경찰을 살해한 범인 성모 46 씨는 주도면밀했다  경찰에 따르면 성씨는 19일 오후 강북경찰서 인근 부동산 업소 밖에서 부동산업자 이모 67 씨가 나오기를 기다렸다 이씨와는 평소에도 말다툼을 자주 한 것으로 알려졌다  이씨가 나와 걷기 시작하자 성씨는 따라가면서 미리 준비해온 사제 총기를 이씨에게 발사했다 총알이 빗나가면서 이씨는 도망갔다 그 빗나간 총알은 지나가던 행인 71 씨의 배를 스쳤다  성씨는 강북서 인근 치킨집까지 이씨 뒤를 쫓으며 실랑이하다 쓰러뜨린 후 총기와 함께 가져온 망치로 이씨 머리를 때렸다  이 과정에서 오후 6시 20분께 강북구 번동 길 위에서 사람들이 싸우고 있다 총소리가 났다 는 등의 신고가 여러건 들어왔다  5분 후에 성씨의 전자발찌가 훼손됐다는 신고가 보호관찰소 시스템을 통해 들어왔다 성범죄자로 전자발찌를 차고 있던 성씨는 부엌칼로 직접 자신의 발찌를 끊었다  용의자 소지 사제총기 2정 서울 연합뉴스 임헌정 기자 서울 시내에서 폭행 용의자가 현장 조사를 벌이던 경찰관에게 사제총기를 발사해 경찰관이 숨졌다 19일 오후 6시28분 강북구 번동에서 둔기로 맞았다 는 폭행 피해 신고가 접수돼 현장에서 조사하던 강북경찰서 번동파출소 소속 김모 54 경위가 폭행 용의자 성모 45 씨가 쏜 사제총기에 맞고 쓰러진 뒤 병원에 옮겨졌으나 숨졌다 사진은 용의자가 소지한 사제총기  신고를 받고 번동파출소에서 김창호 54 경위 등 경찰들이 오후 6시 29분께 현장으로 출동했다 성씨는 그사이 부동산 앞에 놓아뒀던 가방을 챙겨 오패산 쪽으로 도망간 후였다  김 경위는 오패산 터널 입구 오른쪽의 급경사에서 성씨에게 접근하다가 오후 6시 33분께 풀숲에 숨은 성씨가 허공에 난사한 10여발의 총알 중 일부를 왼쪽 어깨 뒷부분에 맞고 쓰러졌다  김 경위는 구급차가 도착했을 때 이미 의식이 없었고 심폐소생술을 하며 병원으로 옮겨졌으나 총알이 폐를 훼손해 오후 7시 40분께 사망했다  김 경위는 외근용 조끼를 입고 있었으나 총알을 막기에는 역부족이었다  머리에 부상을 입은 이씨도 함께 병원으로 이송됐으나 생명에는 지장이 없는 것으로 알려졌다  성씨는 오패산 터널 밑쪽 숲에서 오후 6시 45분께 잡혔다  총격현장 수색하는 경찰들 서울 연합뉴스 이효석 기자 19일 오후 서울 강북구 오패산 터널 인근에서 경찰들이 폭행 용의자가 사제총기를 발사해 경찰관이 사망한 사건을 조사 하고 있다  총 때문에 쫓던 경관들과 민간인들이 몸을 숨겼는데 인근 신발가게 직원 이모씨가 다가가 성씨를 덮쳤고 이어 현장에 있던 다른 상인들과 경찰이 가세해 체포했다  성씨는 경찰에 붙잡힌 직후 나 자살하려고 한 거다 맞아 죽어도 괜찮다 고 말한 것으로 전해졌다  성씨 자신도 경찰이 발사한 공포탄 1발 실탄 3발 중 실탄 1발을 배에 맞았으나 방탄조끼를 입은 상태여서 부상하지는 않았다  경찰은 인근을 수색해 성씨가 만든 사제총 16정과 칼 7개를 압수했다 실제 폭발할지는 알 수 없는 요구르트병에 무언가를 채워두고 심지를 꽂은 사제 폭탄도 발견됐다  일부는 숲에서 발견됐고 일부는 성씨가 소지한 가방 안에 있었다\n",
      "테헤란 연합뉴스 강훈상 특파원 이용 승객수 기준 세계 최대 공항인 아랍에미리트 두바이국제공항은 19일 현지시간 이 공항을 이륙하는 모든 항공기의 탑승객은 삼성전자의 갤럭시노트7을 휴대하면 안 된다고 밝혔다  두바이국제공항은 여러 항공 관련 기구의 권고에 따라 안전성에 우려가 있는 스마트폰 갤럭시노트7을 휴대하고 비행기를 타면 안 된다 며 탑승 전 검색 중 발견되면 압수할 계획 이라고 발표했다  공항 측은 갤럭시노트7의 배터리가 폭발 우려가 제기된 만큼 이 제품을 갖고 공항 안으로 들어오지 말라고 이용객에 당부했다  이런 조치는 두바이국제공항 뿐 아니라 신공항인 두바이월드센터에도 적용된다  배터리 폭발문제로 회수된 갤럭시노트7 연합뉴스자료사진\n"
     ]
    }
   ],
   "source": [
    "# 상위 3개의 문서만 출력\n",
    "i = 0\n",
    "for document in corpus:\n",
    "    if len(document) > 0:\n",
    "        print(document)\n",
    "        i = i+1\n",
    "    if i == 3:\n",
    "        break"
   ]
  },
  {
   "cell_type": "markdown",
   "id": "97ad6810",
   "metadata": {},
   "source": [
    "soynlp는 학습 기반의 단어 토크나이저이므로 기존의 KoNLPy에서 제공하는 형태소 분석기들과는 달리 학습 과정을 거쳐야 한다. 이는 전체 코퍼스로부터 응집 확률과 브랜칭 엔트로피 단어 점수표를 만드는 과정이다. WordExtractor.extract()를 통해서 전체 코퍼스에 대해 단어 점수표를 계산한다."
   ]
  },
  {
   "cell_type": "code",
   "execution_count": 167,
   "id": "3c85d515",
   "metadata": {
    "ExecuteTime": {
     "end_time": "2023-01-29T12:04:20.616629Z",
     "start_time": "2023-01-29T12:03:15.158095Z"
    }
   },
   "outputs": [
    {
     "name": "stdout",
     "output_type": "stream",
     "text": [
      "training was done. used memory 1.926 Gb\n",
      "all cohesion probabilities was computed. # words = 223348\n",
      "all branching entropies was computed # words = 361598\n",
      "all accessor variety was computed # words = 361598\n"
     ]
    }
   ],
   "source": [
    "word_extractor = WordExtractor()\n",
    "word_extractor.train(corpus)    # 학습\n",
    "word_score_table = word_extractor.extract()"
   ]
  },
  {
   "cell_type": "markdown",
   "id": "ac5ecb51",
   "metadata": {},
   "source": [
    "> 학습이 완료되었다."
   ]
  },
  {
   "cell_type": "markdown",
   "id": "ac7f7aa3",
   "metadata": {},
   "source": [
    "### 10.3.3 SOYNLP의 응집 확률(cohesion probability)\n",
    "응집 확률 : 내부 문자열(substring)이 얼마나 응집하여 자주 등장하는지를 판단하는 척도.   \n",
    "응집 확률이 높을수록 전체 코퍼스에서 이 문자열 시퀀스는 하나의 단어로 등장할 가능성이 높다.   \n",
    "\n",
    "실습을 통해 직접 응집 확률을 계산해보자. '반포한강공원에'라는 7의 길이를 가진 문자 시퀀스에 대해서 각 내부 문자열의 응집 확률을 계산해보자."
   ]
  },
  {
   "cell_type": "code",
   "execution_count": 168,
   "id": "f3d55b8c",
   "metadata": {
    "ExecuteTime": {
     "end_time": "2023-01-29T12:04:20.631787Z",
     "start_time": "2023-01-29T12:04:20.619644Z"
    }
   },
   "outputs": [
    {
     "data": {
      "text/plain": [
       "0.08838002913645132"
      ]
     },
     "execution_count": 168,
     "metadata": {},
     "output_type": "execute_result"
    }
   ],
   "source": [
    "word_score_table[\"반포한\"].cohesion_forward"
   ]
  },
  {
   "cell_type": "code",
   "execution_count": 169,
   "id": "aaa7259b",
   "metadata": {
    "ExecuteTime": {
     "end_time": "2023-01-29T12:04:20.647812Z",
     "start_time": "2023-01-29T12:04:20.634815Z"
    }
   },
   "outputs": [
    {
     "data": {
      "text/plain": [
       "0.19841268168224552"
      ]
     },
     "execution_count": 169,
     "metadata": {},
     "output_type": "execute_result"
    }
   ],
   "source": [
    "word_score_table[\"반포한강\"].cohesion_forward"
   ]
  },
  {
   "cell_type": "code",
   "execution_count": 170,
   "id": "ae958d46",
   "metadata": {
    "ExecuteTime": {
     "end_time": "2023-01-29T12:04:20.663776Z",
     "start_time": "2023-01-29T12:04:20.649808Z"
    }
   },
   "outputs": [
    {
     "data": {
      "text/plain": [
       "0.2972877884078849"
      ]
     },
     "execution_count": 170,
     "metadata": {},
     "output_type": "execute_result"
    }
   ],
   "source": [
    "word_score_table[\"반포한강공\"].cohesion_forward"
   ]
  },
  {
   "cell_type": "code",
   "execution_count": 171,
   "id": "694351eb",
   "metadata": {
    "ExecuteTime": {
     "end_time": "2023-01-29T12:04:20.679101Z",
     "start_time": "2023-01-29T12:04:20.665818Z"
    }
   },
   "outputs": [
    {
     "data": {
      "text/plain": [
       "0.37891487632839754"
      ]
     },
     "execution_count": 171,
     "metadata": {},
     "output_type": "execute_result"
    }
   ],
   "source": [
    "word_score_table[\"반포한강공원\"].cohesion_forward"
   ]
  },
  {
   "cell_type": "code",
   "execution_count": 172,
   "id": "349155f6",
   "metadata": {
    "ExecuteTime": {
     "end_time": "2023-01-29T12:04:20.695197Z",
     "start_time": "2023-01-29T12:04:20.681081Z"
    }
   },
   "outputs": [
    {
     "data": {
      "text/plain": [
       "0.33492963377557666"
      ]
     },
     "execution_count": 172,
     "metadata": {},
     "output_type": "execute_result"
    }
   ],
   "source": [
    "word_score_table[\"반포한강공원에\"].cohesion_forward"
   ]
  },
  {
   "cell_type": "markdown",
   "id": "710a6203",
   "metadata": {},
   "source": [
    "응집도(결합도)는 '반포한강공원'일 때가 가장 높다. **응집도를 통해, 하나의 단어로 판단하기에 가장 적합한 문자열은 '반포한강공원'이라고 볼 수 있다.**"
   ]
  },
  {
   "cell_type": "markdown",
   "id": "dce20cc1",
   "metadata": {},
   "source": [
    "### 10.3.4 SOYNLP의 브랜칭 엔트로피(branching entropy)\n",
    "Branching Entropy는 확률 분포의 엔트로피값을 사용하는데, 이는 주어진 문자열에서 얼마나 다음 문자가 등장할 수 있는지를 판단하는 척도이다.   \n",
    "브랜칭 엔트로피의 값은 하나의 완성된 단어에 가까워질수록 문맥으로 인해 점점 정확히 예측할 수 있게 되면서 점점 줄어드는 양상을 보인다."
   ]
  },
  {
   "cell_type": "code",
   "execution_count": 173,
   "id": "eca6c4f4",
   "metadata": {
    "ExecuteTime": {
     "end_time": "2023-01-29T12:04:20.711196Z",
     "start_time": "2023-01-29T12:04:20.697076Z"
    }
   },
   "outputs": [
    {
     "name": "stdout",
     "output_type": "stream",
     "text": [
      "1.6371694761537934\n",
      "-0.0\n"
     ]
    }
   ],
   "source": [
    "print(word_score_table[\"디스\"].right_branching_entropy)\n",
    "print(word_score_table[\"디스플\"].right_branching_entropy)"
   ]
  },
  {
   "cell_type": "markdown",
   "id": "8a47b418",
   "metadata": {},
   "source": [
    "> '디스' 다음에는 다양한 문자(디스코드, 디스카운트...)가 올 수 있어 1.63이라는 값을 가지는 반면, '디스플'이라는 문자열 다음에는 다음 문자로 '레'가 오는 것이 너무나 명백하기 때문에 0이란 값을 가진다."
   ]
  },
  {
   "cell_type": "code",
   "execution_count": 174,
   "id": "f3a2fa92",
   "metadata": {
    "ExecuteTime": {
     "end_time": "2023-01-29T12:04:20.726740Z",
     "start_time": "2023-01-29T12:04:20.715091Z"
    }
   },
   "outputs": [
    {
     "data": {
      "text/plain": [
       "3.1400392861792916"
      ]
     },
     "execution_count": 174,
     "metadata": {},
     "output_type": "execute_result"
    }
   ],
   "source": [
    "word_score_table[\"디스플레이\"].right_branching_entropy"
   ]
  },
  {
   "cell_type": "markdown",
   "id": "a680c912",
   "metadata": {},
   "source": [
    "> 갑자기 값이 증가하였다. 그 이유는 '디스플레이'라는 문자 시퀀스 다음에는 조사나 다른 단어와 같은 다양한 경우가 있을 수 있기 때문이다.    \n",
    "> 이는 하나의 단어가 끝나면 그 경계 부분부터 다시 브랜칭 엔트로피 값이 증가하게 됨을 의미한다. 따라서 이 값으로 '단어'를 판단하는 것도 가능할 것이다!"
   ]
  },
  {
   "cell_type": "markdown",
   "id": "237e6503",
   "metadata": {},
   "source": [
    "### 10.3.5 SOYNLP의 L tokenizer\n",
    "한국어는 띄어쓰기 단위로 나눈 어절 토큰은 주로 L 토큰 + R 토큰의 형식을 가질 때가 많다. 왼쪽에 오는 L 토큰은 체언(명사, 대명사)이나 동사, 형용사 등이고 오른쪽에 오는 R 토큰은 조사, 동사, 형용사 등이다.    \n",
    "이때 여러가지 길이의 L 토큰의 점수를 비교하여 가장 점수가 높은 L 단어를 찾는 것을 L-토큰화(L-tokenizing)라고 한다.\n",
    "\n",
    "L 토크나이저는 L 토큰 + R 토큰으로 나누되, 분리 기준을 점수가 가장 높은 L 토큰을 찾아내는 원리를 가지고 있다."
   ]
  },
  {
   "cell_type": "code",
   "execution_count": 175,
   "id": "0aeafcc5",
   "metadata": {
    "ExecuteTime": {
     "end_time": "2023-01-29T12:04:20.788979Z",
     "start_time": "2023-01-29T12:04:20.729733Z"
    }
   },
   "outputs": [
    {
     "data": {
      "text/plain": [
       "[('국제사회', '와'), ('우리', '의'), ('노력', '들로'), ('범죄', '를'), ('척결', '하자')]"
      ]
     },
     "execution_count": 175,
     "metadata": {},
     "output_type": "execute_result"
    }
   ],
   "source": [
    "from soynlp.tokenizer import LTokenizer\n",
    "\n",
    "scores = {word:score.cohesion_forward for word, score in word_score_table.items()}\n",
    "l_tokenizer = LTokenizer(scores=scores)\n",
    "l_tokenizer.tokenize(\"국제사회와 우리의 노력들로 범죄를 척결하자\", flatten=False)"
   ]
  },
  {
   "cell_type": "markdown",
   "id": "0d64d3b8",
   "metadata": {},
   "source": [
    "### 10.3.6 최대 점수 토크나이저\n",
    "최대 점수 토크나이저는 띄어쓰기가 되지 않는 문장에서 점수가 높은 글자 시퀀스를 순차적으로 찾아내는 토크나이저이다."
   ]
  },
  {
   "cell_type": "code",
   "execution_count": 176,
   "id": "c5224f51",
   "metadata": {
    "ExecuteTime": {
     "end_time": "2023-01-29T12:04:20.805047Z",
     "start_time": "2023-01-29T12:04:20.790954Z"
    }
   },
   "outputs": [
    {
     "data": {
      "text/plain": [
       "['국제사회', '와', '우리', '의', '노력', '들로', '범죄', '를', '척결', '하자']"
      ]
     },
     "execution_count": 176,
     "metadata": {},
     "output_type": "execute_result"
    }
   ],
   "source": [
    "from soynlp.tokenizer import MaxScoreTokenizer\n",
    "\n",
    "maxscore_tokenizer = MaxScoreTokenizer(scores=scores)\n",
    "maxscore_tokenizer.tokenize(\"국제사회와우리의노력들로범죄를척결하자\")"
   ]
  },
  {
   "cell_type": "markdown",
   "id": "4e82c589",
   "metadata": {},
   "source": [
    "## 10.4 SOYNLP를 이용한 반복되는 문자 정제\n",
    "SNS나 채팅 데이터의 한국어 데이터의 경우에는 ㅋㅋ, ㅎㅎ 등의 이모티콘의 경우 불필요하게 연속되는 경우가 많은데 ㅋㅋ, ㅋㅋㅋ와 같은 경우를 모두 서로 다른 단어로 처리하는 것은 불필요하다. 이에 반복되는 것은 하나로 정규화시켜준다."
   ]
  },
  {
   "cell_type": "code",
   "execution_count": 177,
   "id": "d0c11161",
   "metadata": {
    "ExecuteTime": {
     "end_time": "2023-01-29T12:04:20.820745Z",
     "start_time": "2023-01-29T12:04:20.807047Z"
    }
   },
   "outputs": [],
   "source": [
    "from soynlp.normalizer import *"
   ]
  },
  {
   "cell_type": "code",
   "execution_count": 178,
   "id": "3ab4f43e",
   "metadata": {
    "ExecuteTime": {
     "end_time": "2023-01-29T12:04:20.836176Z",
     "start_time": "2023-01-29T12:04:20.823147Z"
    }
   },
   "outputs": [
    {
     "name": "stdout",
     "output_type": "stream",
     "text": [
      "아ㅋㅋ영화존잼쓰ㅠㅠ\n",
      "아ㅋㅋ영화존잼쓰ㅠㅠ\n",
      "아ㅋㅋ영화존잼쓰ㅠㅠ\n",
      "아ㅋㅋ영화존잼쓰ㅠㅠ\n"
     ]
    }
   ],
   "source": [
    "print(emoticon_normalize('앜ㅋㅋㅋㅋ이영화존잼쓰ㅠㅠㅠㅠㅠ', num_repeats=2))\n",
    "print(emoticon_normalize('앜ㅋㅋㅋㅋㅋㅋㅋㅋㅋ이영화존잼쓰ㅠㅠㅠㅠ', num_repeats=2))\n",
    "print(emoticon_normalize('앜ㅋㅋㅋㅋㅋㅋㅋㅋㅋㅋㅋㅋ이영화존잼쓰ㅠㅠㅠㅠㅠㅠ', num_repeats=2))\n",
    "print(emoticon_normalize('앜ㅋㅋㅋㅋㅋㅋㅋㅋㅋㅋㅋㅋㅋㅋㅋㅋㅋ이영화존잼쓰ㅠㅠㅠㅠㅠㅠㅠㅠ', num_repeats=2))"
   ]
  },
  {
   "cell_type": "code",
   "execution_count": 179,
   "id": "98a15b55",
   "metadata": {
    "ExecuteTime": {
     "end_time": "2023-01-29T12:04:20.852177Z",
     "start_time": "2023-01-29T12:04:20.840687Z"
    }
   },
   "outputs": [
    {
     "name": "stdout",
     "output_type": "stream",
     "text": [
      "와하하핫\n",
      "와하하핫\n",
      "와하하핫\n"
     ]
    }
   ],
   "source": [
    "print(repeat_normalize('와하하하하하하하하하핫', num_repeats=2))\n",
    "print(repeat_normalize('와하하하하하하핫', num_repeats=2))\n",
    "print(repeat_normalize('와하하하하핫', num_repeats=2))"
   ]
  },
  {
   "cell_type": "markdown",
   "id": "e27b5197",
   "metadata": {},
   "source": [
    "## 10.5 Customized KoNLPy\n",
    "영어권 언어는 띄어쓰기만해도 단어들이 잘 분리되지만, 한국어는 그렇지 않다.   \n",
    "형태소 분석기를 사용해서 단어 토큰화를 해보자. 이때 형태소 분석기에 사용자 사전을 추가하여 조금 더 원하는 결과가 나타나도록 만들 수도 있다.   \n",
    "\n",
    "사용자 사전을 추가하는 방법을 형태소 분석기마다 다른데, 생각보다 복잡한 경우들이 많다. 이번 실습에서는 Customized Konlpy라는 사용자 사전 추가가 매우 쉬운 패키지를 사용해보자."
   ]
  },
  {
   "cell_type": "code",
   "execution_count": 180,
   "id": "5716cfbe",
   "metadata": {
    "ExecuteTime": {
     "end_time": "2023-01-29T12:04:20.867733Z",
     "start_time": "2023-01-29T12:04:20.855599Z"
    }
   },
   "outputs": [],
   "source": [
    "#!pip install customized_konlpy"
   ]
  },
  {
   "cell_type": "code",
   "execution_count": 181,
   "id": "74f25b08",
   "metadata": {
    "ExecuteTime": {
     "end_time": "2023-01-29T12:04:21.229580Z",
     "start_time": "2023-01-29T12:04:20.870601Z"
    }
   },
   "outputs": [
    {
     "name": "stderr",
     "output_type": "stream",
     "text": [
      "C:\\ProgramData\\Anaconda3\\envs\\data\\lib\\site-packages\\konlpy\\tag\\_okt.py:17: UserWarning: \"Twitter\" has changed to \"Okt\" since KoNLPy v0.4.5.\n",
      "  warn('\"Twitter\" has changed to \"Okt\" since KoNLPy v0.4.5.')\n"
     ]
    },
    {
     "data": {
      "text/plain": [
       "['은', '경이', '는', '사무실', '로', '갔습니다', '.']"
      ]
     },
     "execution_count": 181,
     "metadata": {},
     "output_type": "execute_result"
    }
   ],
   "source": [
    "# 사용자 사전 추가 전\n",
    "from ckonlpy.tag import Twitter\n",
    "twitter = Twitter()\n",
    "twitter.morphs('은경이는 사무실로 갔습니다.')   # '은경이'라는 단어가 분리됨"
   ]
  },
  {
   "cell_type": "code",
   "execution_count": 182,
   "id": "1102cf31",
   "metadata": {
    "ExecuteTime": {
     "end_time": "2023-01-29T12:04:21.244778Z",
     "start_time": "2023-01-29T12:04:21.231491Z"
    }
   },
   "outputs": [],
   "source": [
    "# 사용자 사전 추가\n",
    "twitter.add_dictionary('은경이', 'Noun')"
   ]
  },
  {
   "cell_type": "code",
   "execution_count": 183,
   "id": "b47a80af",
   "metadata": {
    "ExecuteTime": {
     "end_time": "2023-01-29T12:04:21.260419Z",
     "start_time": "2023-01-29T12:04:21.246770Z"
    }
   },
   "outputs": [
    {
     "data": {
      "text/plain": [
       "['은경이', '는', '사무실', '로', '갔습니다', '.']"
      ]
     },
     "execution_count": 183,
     "metadata": {},
     "output_type": "execute_result"
    }
   ],
   "source": [
    "# 사용자 사전 추가 후\n",
    "twitter.morphs('은경이는 사무실로 갔습니다.')  # '은경이'라는 단어가 하나의 토큰으로 인식됨."
   ]
  }
 ],
 "metadata": {
  "kernelspec": {
   "display_name": "Python 3 (ipykernel)",
   "language": "python",
   "name": "python3"
  },
  "language_info": {
   "codemirror_mode": {
    "name": "ipython",
    "version": 3
   },
   "file_extension": ".py",
   "mimetype": "text/x-python",
   "name": "python",
   "nbconvert_exporter": "python",
   "pygments_lexer": "ipython3",
   "version": "3.9.13"
  },
  "toc": {
   "base_numbering": 1,
   "nav_menu": {},
   "number_sections": true,
   "sideBar": true,
   "skip_h1_title": false,
   "title_cell": "Table of Contents",
   "title_sidebar": "Contents",
   "toc_cell": false,
   "toc_position": {},
   "toc_section_display": true,
   "toc_window_display": false
  }
 },
 "nbformat": 4,
 "nbformat_minor": 5
}
