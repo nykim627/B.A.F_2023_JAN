{
 "cells": [
  {
   "cell_type": "code",
   "execution_count": 1,
   "id": "c1ad9419",
   "metadata": {
    "ExecuteTime": {
     "end_time": "2023-02-06T16:39:35.697297Z",
     "start_time": "2023-02-06T16:39:35.681296Z"
    }
   },
   "outputs": [],
   "source": [
    "#!pip install wordcloud"
   ]
  },
  {
   "cell_type": "code",
   "execution_count": 2,
   "id": "juUTIK11zfZW",
   "metadata": {
    "ExecuteTime": {
     "end_time": "2023-02-06T16:39:49.853847Z",
     "start_time": "2023-02-06T16:39:35.700300Z"
    },
    "colab": {
     "base_uri": "https://localhost:8080/"
    },
    "executionInfo": {
     "elapsed": 603,
     "status": "ok",
     "timestamp": 1675470629821,
     "user": {
      "displayName": "김평진",
      "userId": "11705489940506901507"
     },
     "user_tz": -540
    },
    "id": "juUTIK11zfZW",
    "outputId": "d4982f33-e1f7-43e0-c2be-fa49ec589277"
   },
   "outputs": [
    {
     "name": "stderr",
     "output_type": "stream",
     "text": [
      "[nltk_data] Downloading package punkt to\n",
      "[nltk_data]     C:\\Users\\hkny0\\AppData\\Roaming\\nltk_data...\n",
      "[nltk_data]   Package punkt is already up-to-date!\n",
      "[nltk_data] Downloading package averaged_perceptron_tagger to\n",
      "[nltk_data]     C:\\Users\\hkny0\\AppData\\Roaming\\nltk_data...\n",
      "[nltk_data]   Package averaged_perceptron_tagger is already up-to-\n",
      "[nltk_data]       date!\n",
      "[nltk_data] Downloading package wordnet to\n",
      "[nltk_data]     C:\\Users\\hkny0\\AppData\\Roaming\\nltk_data...\n",
      "[nltk_data]   Package wordnet is already up-to-date!\n",
      "[nltk_data] Downloading package omw-1.4 to\n",
      "[nltk_data]     C:\\Users\\hkny0\\AppData\\Roaming\\nltk_data...\n",
      "[nltk_data]   Package omw-1.4 is already up-to-date!\n",
      "[nltk_data] Downloading package stopwords to\n",
      "[nltk_data]     C:\\Users\\hkny0\\AppData\\Roaming\\nltk_data...\n",
      "[nltk_data]   Package stopwords is already up-to-date!\n"
     ]
    }
   ],
   "source": [
    "#base\n",
    "import numpy as np\n",
    "import pandas as pd\n",
    "import matplotlib.pyplot as plt\n",
    "import warnings \n",
    "warnings.filterwarnings(action='ignore')\n",
    "import seaborn as sns\n",
    "\n",
    "#preprocess\n",
    "from tensorflow.keras.preprocessing.sequence import pad_sequences\n",
    "from tensorflow.keras.preprocessing.text import Tokenizer\n",
    "import re\n",
    "from collections import  Counter\n",
    "import nltk\n",
    "from nltk.stem import WordNetLemmatizer\n",
    "from nltk.tokenize import word_tokenize\n",
    "nltk.download('punkt')\n",
    "nltk.download('averaged_perceptron_tagger')\n",
    "nltk.download('wordnet')\n",
    "nltk.download('omw-1.4')\n",
    "\n",
    "#wordcloud\n",
    "from wordcloud import WordCloud, STOPWORDS\n",
    "\n",
    "#stopwords\n",
    "from nltk.corpus import stopwords\n",
    "nltk.download('stopwords')\n",
    "stop=set(stopwords.words('english'))\n",
    "\n",
    "#embedding\n",
    "import gensim\n",
    "from sklearn.feature_extraction.text import CountVectorizer, TfidfVectorizer\n",
    "\n",
    "#modeling\n",
    "import tensorflow as tf\n",
    "from tensorflow.keras.models import Sequential\n",
    "from tensorflow.keras.layers import Embedding, Dense, Flatten, Input\n",
    "\n",
    "# col 생략 없이 출력\n",
    "pd.set_option('display.max_columns', None)\n",
    "# col 최대 너비 200\n",
    "pd.set_option('max_colwidth', 200)"
   ]
  },
  {
   "cell_type": "code",
   "execution_count": 3,
   "id": "CTq770TNb3mJ",
   "metadata": {
    "ExecuteTime": {
     "end_time": "2023-02-06T16:39:50.364666Z",
     "start_time": "2023-02-06T16:39:49.857829Z"
    },
    "id": "CTq770TNb3mJ"
   },
   "outputs": [],
   "source": [
    "train = pd.read_csv('train.csv',index_col=0)\n",
    "test = pd.read_csv('test_x.csv',index_col=0)"
   ]
  },
  {
   "cell_type": "code",
   "execution_count": 4,
   "id": "PNCOOdpjlUQh",
   "metadata": {
    "ExecuteTime": {
     "end_time": "2023-02-06T16:39:50.396644Z",
     "start_time": "2023-02-06T16:39:50.367642Z"
    },
    "colab": {
     "base_uri": "https://localhost:8080/",
     "height": 351
    },
    "executionInfo": {
     "elapsed": 45,
     "status": "ok",
     "timestamp": 1675465399132,
     "user": {
      "displayName": "김평진",
      "userId": "11705489940506901507"
     },
     "user_tz": -540
    },
    "id": "PNCOOdpjlUQh",
    "outputId": "1e3b2963-6cd7-4342-bd3f-46379e493d06"
   },
   "outputs": [
    {
     "data": {
      "text/html": [
       "<div>\n",
       "<style scoped>\n",
       "    .dataframe tbody tr th:only-of-type {\n",
       "        vertical-align: middle;\n",
       "    }\n",
       "\n",
       "    .dataframe tbody tr th {\n",
       "        vertical-align: top;\n",
       "    }\n",
       "\n",
       "    .dataframe thead th {\n",
       "        text-align: right;\n",
       "    }\n",
       "</style>\n",
       "<table border=\"1\" class=\"dataframe\">\n",
       "  <thead>\n",
       "    <tr style=\"text-align: right;\">\n",
       "      <th></th>\n",
       "      <th>text</th>\n",
       "      <th>author</th>\n",
       "    </tr>\n",
       "    <tr>\n",
       "      <th>index</th>\n",
       "      <th></th>\n",
       "      <th></th>\n",
       "    </tr>\n",
       "  </thead>\n",
       "  <tbody>\n",
       "    <tr>\n",
       "      <th>0</th>\n",
       "      <td>He was almost choking. There was so much, so much he wanted to say, but strange exclamations were all that came from his lips. The Pole gazed fixedly at him, at the bundle of notes in his hand; lo...</td>\n",
       "      <td>3</td>\n",
       "    </tr>\n",
       "    <tr>\n",
       "      <th>1</th>\n",
       "      <td>“Your sister asked for it, I suppose?”</td>\n",
       "      <td>2</td>\n",
       "    </tr>\n",
       "    <tr>\n",
       "      <th>2</th>\n",
       "      <td>She was engaged one day as she walked, in perusing Jane’s last letter, and dwelling on some passages which proved that Jane had not written in spirits, when, instead of being again surprised by M...</td>\n",
       "      <td>1</td>\n",
       "    </tr>\n",
       "    <tr>\n",
       "      <th>3</th>\n",
       "      <td>The captain was in the porch, keeping himself carefully out of the way of a treacherous shot, should any be intended. He turned and spoke to us, “Doctor's watch on the lookout. Dr. odin take the n...</td>\n",
       "      <td>4</td>\n",
       "    </tr>\n",
       "    <tr>\n",
       "      <th>4</th>\n",
       "      <td>“Have mercy, gentlemen!” odin flung up his hands. “Don’t write that, anyway; have some shame. Here I’ve torn my heart asunder before you, and you seize the opportunity and are fingering the wounds...</td>\n",
       "      <td>3</td>\n",
       "    </tr>\n",
       "  </tbody>\n",
       "</table>\n",
       "</div>"
      ],
      "text/plain": [
       "                                                                                                                                                                                                          text  \\\n",
       "index                                                                                                                                                                                                            \n",
       "0      He was almost choking. There was so much, so much he wanted to say, but strange exclamations were all that came from his lips. The Pole gazed fixedly at him, at the bundle of notes in his hand; lo...   \n",
       "1                                                                                                                                                                       “Your sister asked for it, I suppose?”   \n",
       "2       She was engaged one day as she walked, in perusing Jane’s last letter, and dwelling on some passages which proved that Jane had not written in spirits, when, instead of being again surprised by M...   \n",
       "3      The captain was in the porch, keeping himself carefully out of the way of a treacherous shot, should any be intended. He turned and spoke to us, “Doctor's watch on the lookout. Dr. odin take the n...   \n",
       "4      “Have mercy, gentlemen!” odin flung up his hands. “Don’t write that, anyway; have some shame. Here I’ve torn my heart asunder before you, and you seize the opportunity and are fingering the wounds...   \n",
       "\n",
       "       author  \n",
       "index          \n",
       "0           3  \n",
       "1           2  \n",
       "2           1  \n",
       "3           4  \n",
       "4           3  "
      ]
     },
     "execution_count": 4,
     "metadata": {},
     "output_type": "execute_result"
    }
   ],
   "source": [
    "train.head()"
   ]
  },
  {
   "cell_type": "code",
   "execution_count": 5,
   "id": "ge-6l0dLxcNa",
   "metadata": {
    "ExecuteTime": {
     "end_time": "2023-02-06T16:39:50.412643Z",
     "start_time": "2023-02-06T16:39:50.398645Z"
    },
    "colab": {
     "base_uri": "https://localhost:8080/"
    },
    "executionInfo": {
     "elapsed": 33,
     "status": "ok",
     "timestamp": 1675465399136,
     "user": {
      "displayName": "김평진",
      "userId": "11705489940506901507"
     },
     "user_tz": -540
    },
    "id": "ge-6l0dLxcNa",
    "outputId": "53709845-0bf1-4d92-a25a-4d101dcfdac3"
   },
   "outputs": [
    {
     "data": {
      "text/plain": [
       "((54879, 2), (19617, 1))"
      ]
     },
     "execution_count": 5,
     "metadata": {},
     "output_type": "execute_result"
    }
   ],
   "source": [
    "train.shape, test.shape"
   ]
  },
  {
   "cell_type": "code",
   "execution_count": 6,
   "id": "fFDWxEdAb3gn",
   "metadata": {
    "ExecuteTime": {
     "end_time": "2023-02-06T16:39:50.428049Z",
     "start_time": "2023-02-06T16:39:50.419022Z"
    },
    "id": "fFDWxEdAb3gn"
   },
   "outputs": [],
   "source": [
    "# additional data cleaning\n",
    "# 이 함수를 test에도 적용하면 됨\n",
    "\n",
    "def clean_text(texts): \n",
    "    corpus = [] \n",
    "    for i in range(0, len(texts)): \n",
    "\n",
    "        review = re.sub(\"[^a-zA-Z -]\",\"\",texts[i]) #대괄호 내 문자들을 제외한 모든 문자 제거\n",
    "        review = review.lower() #소문자 변환\n",
    "        review = re.sub(r'\\s+', ' ', review) #extra space 제거\n",
    "        review = re.sub(r'\\s+', ' ', review) #spaces 제거\n",
    "        review = re.sub(r\"^\\s+\", '', review) #space from start 제거\n",
    "        review = re.sub(r'\\s+$', '', review) #space from the end 제거\n",
    "        review = re.sub(r'_', ' ', review) #space from the end 제거\n",
    "        review = re.sub(r'\"+', ' ', review) #spaces 제거   \n",
    "        review = re.sub('-{2,}', ' ', review) #-이 2번이상 반복되면 제거   \n",
    "\n",
    "        corpus.append(review) \n",
    "  \n",
    "    return corpus"
   ]
  },
  {
   "cell_type": "code",
   "execution_count": 7,
   "id": "mQ0hwgWMpZqN",
   "metadata": {
    "ExecuteTime": {
     "end_time": "2023-02-06T16:39:55.252104Z",
     "start_time": "2023-02-06T16:39:50.430021Z"
    },
    "colab": {
     "base_uri": "https://localhost:8080/",
     "height": 524
    },
    "executionInfo": {
     "elapsed": 5530,
     "status": "ok",
     "timestamp": 1675467598184,
     "user": {
      "displayName": "김평진",
      "userId": "11705489940506901507"
     },
     "user_tz": -540
    },
    "id": "mQ0hwgWMpZqN",
    "outputId": "85d2f4c9-0521-4d3b-bfff-c0c67dedad68"
   },
   "outputs": [
    {
     "data": {
      "text/html": [
       "<div>\n",
       "<style scoped>\n",
       "    .dataframe tbody tr th:only-of-type {\n",
       "        vertical-align: middle;\n",
       "    }\n",
       "\n",
       "    .dataframe tbody tr th {\n",
       "        vertical-align: top;\n",
       "    }\n",
       "\n",
       "    .dataframe thead th {\n",
       "        text-align: right;\n",
       "    }\n",
       "</style>\n",
       "<table border=\"1\" class=\"dataframe\">\n",
       "  <thead>\n",
       "    <tr style=\"text-align: right;\">\n",
       "      <th></th>\n",
       "      <th>text</th>\n",
       "      <th>clean_text</th>\n",
       "    </tr>\n",
       "    <tr>\n",
       "      <th>index</th>\n",
       "      <th></th>\n",
       "      <th></th>\n",
       "    </tr>\n",
       "  </thead>\n",
       "  <tbody>\n",
       "    <tr>\n",
       "      <th>0</th>\n",
       "      <td>“Not at all. I think she is one of the most charming young ladies I ever met, and might have been most useful in such work as we have been doing. She had a decided genius that way: witness the way...</td>\n",
       "      <td>not at all i think she is one of the most charming young ladies i ever met and might have been most useful in such work as we have been doing she had a decided genius that way witness the way in w...</td>\n",
       "    </tr>\n",
       "    <tr>\n",
       "      <th>1</th>\n",
       "      <td>\"No,\" replied he, with sudden consciousness, \"not to find it in YOU; for I cannot be ignorant that to you, to your goodness, I owe it all.--I feel it--I would express it if I could--but, as you we...</td>\n",
       "      <td>no replied he with sudden consciousness not to find it in you for i cannot be ignorant that to you to your goodness i owe it all i feel it i would express it if i could but as you well know i am n...</td>\n",
       "    </tr>\n",
       "    <tr>\n",
       "      <th>2</th>\n",
       "      <td>As the lady had stated her intention of screaming, of course she would have screamed at this additional boldness, but that the exertion was rendered unnecessary by a hasty knocking at the door: wh...</td>\n",
       "      <td>as the lady had stated her intention of screaming of course she would have screamed at this additional boldness but that the exertion was rendered unnecessary by a hasty knocking at the door which...</td>\n",
       "    </tr>\n",
       "    <tr>\n",
       "      <th>3</th>\n",
       "      <td>“And then suddenly in the silence I heard a sound which sent my heart into my mouth. It was the clank of the levers and the swish of the leaking cylinder. He had set the engine at work. The lamp s...</td>\n",
       "      <td>and then suddenly in the silence i heard a sound which sent my heart into my mouth it was the clank of the levers and the swish of the leaking cylinder he had set the engine at work the lamp still...</td>\n",
       "    </tr>\n",
       "    <tr>\n",
       "      <th>4</th>\n",
       "      <td>His conviction remained unchanged. So far as I know--and I believe his honest heart was transparent to me--he never wavered again, in his solemn certainty of finding her. His patience never tired....</td>\n",
       "      <td>his conviction remained unchanged so far as i know and i believe his honest heart was transparent to me he never wavered again in his solemn certainty of finding her his patience never tired and a...</td>\n",
       "    </tr>\n",
       "  </tbody>\n",
       "</table>\n",
       "</div>"
      ],
      "text/plain": [
       "                                                                                                                                                                                                          text  \\\n",
       "index                                                                                                                                                                                                            \n",
       "0      “Not at all. I think she is one of the most charming young ladies I ever met, and might have been most useful in such work as we have been doing. She had a decided genius that way: witness the way...   \n",
       "1      \"No,\" replied he, with sudden consciousness, \"not to find it in YOU; for I cannot be ignorant that to you, to your goodness, I owe it all.--I feel it--I would express it if I could--but, as you we...   \n",
       "2      As the lady had stated her intention of screaming, of course she would have screamed at this additional boldness, but that the exertion was rendered unnecessary by a hasty knocking at the door: wh...   \n",
       "3      “And then suddenly in the silence I heard a sound which sent my heart into my mouth. It was the clank of the levers and the swish of the leaking cylinder. He had set the engine at work. The lamp s...   \n",
       "4      His conviction remained unchanged. So far as I know--and I believe his honest heart was transparent to me--he never wavered again, in his solemn certainty of finding her. His patience never tired....   \n",
       "\n",
       "                                                                                                                                                                                                    clean_text  \n",
       "index                                                                                                                                                                                                           \n",
       "0      not at all i think she is one of the most charming young ladies i ever met and might have been most useful in such work as we have been doing she had a decided genius that way witness the way in w...  \n",
       "1      no replied he with sudden consciousness not to find it in you for i cannot be ignorant that to you to your goodness i owe it all i feel it i would express it if i could but as you well know i am n...  \n",
       "2      as the lady had stated her intention of screaming of course she would have screamed at this additional boldness but that the exertion was rendered unnecessary by a hasty knocking at the door which...  \n",
       "3      and then suddenly in the silence i heard a sound which sent my heart into my mouth it was the clank of the levers and the swish of the leaking cylinder he had set the engine at work the lamp still...  \n",
       "4      his conviction remained unchanged so far as i know and i believe his honest heart was transparent to me he never wavered again in his solemn certainty of finding her his patience never tired and a...  "
      ]
     },
     "execution_count": 7,
     "metadata": {},
     "output_type": "execute_result"
    }
   ],
   "source": [
    "temp = clean_text(train['text'])\n",
    "train['clean_text'] = temp\n",
    "\n",
    "temp = clean_text(test['text'])\n",
    "test['clean_text'] = temp\n",
    "\n",
    "test.head() #깨끗함"
   ]
  },
  {
   "cell_type": "code",
   "execution_count": 8,
   "id": "EdEPm4Ji2JtO",
   "metadata": {
    "ExecuteTime": {
     "end_time": "2023-02-06T16:39:55.267550Z",
     "start_time": "2023-02-06T16:39:55.253719Z"
    },
    "id": "EdEPm4Ji2JtO"
   },
   "outputs": [],
   "source": [
    "# 추가\n",
    "stop = stopwords.words('english')\n",
    "stop.append('odin')\n",
    "stop.append('say')\n",
    "stop.append('dont')\n",
    "stop = set(stop)"
   ]
  },
  {
   "cell_type": "markdown",
   "id": "e6389f8e",
   "metadata": {},
   "source": [
    "### 1. 빈도기반 DTM 행렬로 MLP"
   ]
  },
  {
   "cell_type": "code",
   "execution_count": 10,
   "id": "ade8e9bd",
   "metadata": {
    "ExecuteTime": {
     "end_time": "2023-02-06T16:40:09.650646Z",
     "start_time": "2023-02-06T16:40:09.626644Z"
    }
   },
   "outputs": [
    {
     "name": "stdout",
     "output_type": "stream",
     "text": [
      "(38415,) (16464,) (38415,) (16464,)\n",
      "(54879,) (54879,)\n"
     ]
    }
   ],
   "source": [
    "### 1. 빈도기반 DTM 행렬로 MLP\n",
    "# train데이터와 validation데이터 나누기\n",
    "from sklearn.model_selection import train_test_split\n",
    "train_x = train['clean_text']\n",
    "train_y = train['author']\n",
    "\n",
    "X_train, X_test, y_train, y_test = train_test_split(train_x, train_y, test_size=0.3, shuffle=True, random_state=10)\n",
    "print(X_train.shape, X_test.shape, y_train.shape, y_test.shape)\n",
    "print(train_x.shape, train_y.shape)"
   ]
  },
  {
   "cell_type": "code",
   "execution_count": 11,
   "id": "9686a574",
   "metadata": {
    "ExecuteTime": {
     "end_time": "2023-02-06T16:40:09.886012Z",
     "start_time": "2023-02-06T16:40:09.871723Z"
    }
   },
   "outputs": [],
   "source": [
    "vocab_size = 1000\n",
    "def prepare_data(train_data, test_data, mode): # 전처리 함수\n",
    "    tokenizer = Tokenizer(num_words = vocab_size) # vocab_size 개수만큼의 단어만 사용한다.\n",
    "    tokenizer.fit_on_texts(train_data)\n",
    "    X_train = tokenizer.texts_to_matrix(train_data, mode=mode) # 샘플 수 × vocab_size 크기의 행렬 생성\n",
    "    X_test = tokenizer.texts_to_matrix(test_data, mode=mode) # 샘플 수 × vocab_size 크기의 행렬 생성\n",
    "    return X_train, X_test, tokenizer.index_word"
   ]
  },
  {
   "cell_type": "code",
   "execution_count": 12,
   "id": "5abea989",
   "metadata": {
    "ExecuteTime": {
     "end_time": "2023-02-06T16:40:09.995263Z",
     "start_time": "2023-02-06T16:40:09.985366Z"
    }
   },
   "outputs": [],
   "source": [
    "# MLP\n",
    "from tensorflow.keras.models import Sequential\n",
    "from tensorflow.keras.layers import Dense, Dropout\n",
    "\n",
    "def fit_and_evaluate(X_train, y_train, X_test, y_test):\n",
    "    model = Sequential()\n",
    "    model.add(Dense(256, input_shape=(vocab_size,), activation='relu'))\n",
    "    model.add(Dropout(0.5))\n",
    "    model.add(Dense(128, activation='relu'))\n",
    "    model.add(Dropout(0.5))\n",
    "    model.add(Dense(num_classes, activation='softmax'))\n",
    "\n",
    "    model.compile(loss='categorical_crossentropy', optimizer='adam', metrics=['accuracy'])\n",
    "    model.fit(X_train, y_train, batch_size=128, epochs=5, verbose=1, validation_split=0.1)\n",
    "    score = model.evaluate(X_test, y_test, batch_size=128, verbose=0)\n",
    "    return score[1]"
   ]
  },
  {
   "cell_type": "code",
   "execution_count": 13,
   "id": "ac8292cd",
   "metadata": {
    "ExecuteTime": {
     "end_time": "2023-02-06T16:40:10.179642Z",
     "start_time": "2023-02-06T16:40:10.157644Z"
    }
   },
   "outputs": [
    {
     "name": "stdout",
     "output_type": "stream",
     "text": [
      "훈련 샘플 본문의 크기 : (38415,)\n",
      "훈련 샘플 레이블의 크기 : (38415,)\n",
      "테스트 샘플 본문의 크기 : (16464,)\n",
      "테스트 샘플 레이블의 크기 : (16464,)\n"
     ]
    }
   ],
   "source": [
    "print('훈련 샘플 본문의 크기 : {}'.format(X_train.shape))\n",
    "print('훈련 샘플 레이블의 크기 : {}'.format(y_train.shape))\n",
    "print('테스트 샘플 본문의 크기 : {}'.format(X_test.shape))\n",
    "print('테스트 샘플 레이블의 크기 : {}'.format(y_test.shape))"
   ]
  },
  {
   "cell_type": "code",
   "execution_count": 14,
   "id": "6d91e26c",
   "metadata": {
    "ExecuteTime": {
     "end_time": "2023-02-06T16:40:10.350906Z",
     "start_time": "2023-02-06T16:40:10.322238Z"
    }
   },
   "outputs": [
    {
     "ename": "NameError",
     "evalue": "name 'index_to_word' is not defined",
     "output_type": "error",
     "traceback": [
      "\u001b[1;31m---------------------------------------------------------------------------\u001b[0m",
      "\u001b[1;31mNameError\u001b[0m                                 Traceback (most recent call last)",
      "Input \u001b[1;32mIn [14]\u001b[0m, in \u001b[0;36m<cell line: 1>\u001b[1;34m()\u001b[0m\n\u001b[1;32m----> 1\u001b[0m \u001b[38;5;28mprint\u001b[39m(\u001b[38;5;124m'\u001b[39m\u001b[38;5;124m빈도수 상위 1번 단어 : \u001b[39m\u001b[38;5;132;01m{}\u001b[39;00m\u001b[38;5;124m'\u001b[39m\u001b[38;5;241m.\u001b[39mformat(\u001b[43mindex_to_word\u001b[49m[\u001b[38;5;241m1\u001b[39m]))\n\u001b[0;32m      2\u001b[0m \u001b[38;5;28mprint\u001b[39m(\u001b[38;5;124m'\u001b[39m\u001b[38;5;124m빈도수 상위 9999번 단어 : \u001b[39m\u001b[38;5;132;01m{}\u001b[39;00m\u001b[38;5;124m'\u001b[39m\u001b[38;5;241m.\u001b[39mformat(index_to_word[\u001b[38;5;241m9999\u001b[39m]))\n",
      "\u001b[1;31mNameError\u001b[0m: name 'index_to_word' is not defined"
     ]
    }
   ],
   "source": [
    "print('빈도수 상위 1번 단어 : {}'.format(index_to_word[1]))\n",
    "print('빈도수 상위 9999번 단어 : {}'.format(index_to_word[9999]))"
   ]
  },
  {
   "cell_type": "code",
   "execution_count": 15,
   "id": "f6963d1e",
   "metadata": {
    "ExecuteTime": {
     "end_time": "2023-02-06T16:40:10.507531Z",
     "start_time": "2023-02-06T16:40:10.487531Z"
    }
   },
   "outputs": [],
   "source": [
    "### 2. 임베딩 레이어 없이 1D 신경망 (08-04)\n",
    "import numpy as np\n",
    "import tensorflow as tf\n",
    "from tensorflow.keras.layers import SimpleRNN, LSTM, Bidirectional"
   ]
  },
  {
   "cell_type": "markdown",
   "id": "7310fe72",
   "metadata": {},
   "source": [
    "### 3. XGBoost\n",
    "참고1 : https://velog.io/@highway92/XGBoost-%ED%8C%8C%EB%9D%BC%EB%AF%B8%ED%84%B0%EB%93%A4   \n",
    "참고2 : https://www.kaggle.com/code/emmanuelfwerr/xgboost-multi-class-classification"
   ]
  },
  {
   "cell_type": "code",
   "execution_count": 16,
   "id": "c263bea2",
   "metadata": {
    "ExecuteTime": {
     "end_time": "2023-02-06T16:40:11.024424Z",
     "start_time": "2023-02-06T16:40:10.815945Z"
    }
   },
   "outputs": [],
   "source": [
    "### 3. XGBoost\n",
    "from sklearn.model_selection import train_test_split\n",
    "from sklearn.metrics import accuracy_score, precision_score, recall_score\n",
    "\n",
    "import xgboost as xgb\n",
    "from xgboost import XGBClassifier\n",
    "from xgboost import plot_importance"
   ]
  },
  {
   "cell_type": "code",
   "execution_count": 17,
   "id": "53caf9b3",
   "metadata": {
    "ExecuteTime": {
     "end_time": "2023-02-06T16:40:24.916331Z",
     "start_time": "2023-02-06T16:40:24.898618Z"
    }
   },
   "outputs": [
    {
     "name": "stdout",
     "output_type": "stream",
     "text": [
      "(38415,) (16464,) (38415,) (16464,)\n",
      "(54879,) (54879,)\n",
      "(19617,)\n"
     ]
    }
   ],
   "source": [
    "# train데이터와 validation데이터 나누기\n",
    "train_x = train['clean_text']\n",
    "train_y = train['author']\n",
    "test_x = test['clean_text']\n",
    "\n",
    "X_train, X_test, y_train, y_test = train_test_split(train_x, train_y, test_size=0.3, shuffle=True, random_state=10)\n",
    "print(X_train.shape, X_test.shape, y_train.shape, y_test.shape)\n",
    "print(train_x.shape, train_y.shape)\n",
    "print(test_x.shape)"
   ]
  },
  {
   "cell_type": "code",
   "execution_count": 18,
   "id": "07901a8a",
   "metadata": {
    "ExecuteTime": {
     "end_time": "2023-02-06T16:40:31.675678Z",
     "start_time": "2023-02-06T16:40:25.287464Z"
    }
   },
   "outputs": [
    {
     "name": "stdout",
     "output_type": "stream",
     "text": [
      "(38415, 1000) (16464, 1000)\n"
     ]
    }
   ],
   "source": [
    "vocab_size = 1000\n",
    "tokenizer = Tokenizer(num_words = vocab_size)\n",
    "tokenizer.fit_on_texts(X_train)\n",
    "X_train = tokenizer.texts_to_matrix(X_train, mode='tfidf')\n",
    "X_test = tokenizer.texts_to_matrix(X_test, mode='tfidf')\n",
    "print(X_train.shape, X_test.shape)"
   ]
  },
  {
   "cell_type": "markdown",
   "id": "29f70a3c",
   "metadata": {},
   "source": [
    "**predict_proba사용 시 평가 지표 관련 자료**   \n",
    "http://okminseok.blogspot.com/2017/09/ml-xgboost.html   \n",
    "https://nicola-ml.tistory.com/102   \n",
    "https://gongboogi.tistory.com/4   \n",
    "https://velog.io/@sset2323/03-05.-ROC-%EA%B3%A1%EC%84%A0%EA%B3%BC-AUC   \n",
    "https://www.inflearn.com/questions/55185/predict-proba-x-test"
   ]
  },
  {
   "cell_type": "code",
   "execution_count": 43,
   "id": "b79eeddf",
   "metadata": {
    "ExecuteTime": {
     "end_time": "2023-02-06T18:19:04.063177Z",
     "start_time": "2023-02-06T18:00:32.000118Z"
    }
   },
   "outputs": [],
   "source": [
    "# balancing 'target' class weights\n",
    "from sklearn.utils.class_weight import compute_sample_weight\n",
    "sample_weights = compute_sample_weight(\n",
    "    class_weight='balanced',\n",
    "    y=y_train)\n",
    "\n",
    "# declaring and fitting xgb classifier\n",
    "xgb_clf = XGBClassifier(n_estimators=500, learning_rate = 0.1, max_depth = 8,\n",
    "                     objective='multi:softprob', num_class = 5, reg_lambda=1,\n",
    "                     eval_metric=['auc','mlogloss'], seed=42)\n",
    "xgb_clf.fit(X_train, y_train, verbose=0, sample_weight = sample_weights,\n",
    "            early_stopping_rounds=100, eval_set=[(X_train, y_train),(X_test, y_test)])\n",
    "\n",
    "# preparing evaluation metric plots\n",
    "results = xgb_clf.evals_result()\n",
    "epochs = len(results['validation_0']['mlogloss'])\n",
    "x_axis = range(0, epochs)"
   ]
  },
  {
   "cell_type": "code",
   "execution_count": 48,
   "id": "8984c097",
   "metadata": {
    "ExecuteTime": {
     "end_time": "2023-02-06T18:45:10.076315Z",
     "start_time": "2023-02-06T18:45:09.985163Z"
    }
   },
   "outputs": [],
   "source": [
    "import xgboost as xgb\n",
    "\n",
    "# 모델 정의 및 학습\n",
    "#xgb_model = xgb.XGBRegressor(**param).fit(trainData.features, trainData.labels)\n",
    "\n",
    "# 파일명\n",
    "filename = '500_8_0.65.model'\n",
    "\n",
    "# 모델 저장\n",
    "xgb_clf.save_model(filename)\n",
    "\n",
    "# 모델 불러오기\n",
    "#new_xgb_clf = xgb.XGBClassifier() # 모델 초기화\n",
    "#new_xgb_clf.load_model(filename) # 모델 불러오기"
   ]
  },
  {
   "cell_type": "code",
   "execution_count": 20,
   "id": "a8479302",
   "metadata": {
    "ExecuteTime": {
     "end_time": "2023-02-06T16:54:58.513141Z",
     "start_time": "2023-02-06T16:54:57.469223Z"
    }
   },
   "outputs": [
    {
     "data": {
      "image/png": "[encoded data removed]",
      "text/plain": [
       "<Figure size 900x500 with 1 Axes>"
      ]
     },
     "metadata": {},
     "output_type": "display_data"
    }
   ],
   "source": [
    "# xgboost 'mlogloss' plot\n",
    "fig, ax = plt.subplots(figsize=(9,5))\n",
    "ax.plot(x_axis, results['validation_0']['mlogloss'], label='Train')\n",
    "ax.plot(x_axis, results['validation_1']['mlogloss'], label='Test')\n",
    "ax.legend()\n",
    "plt.ylabel('mlogloss')\n",
    "plt.title('GridSearchCV XGBoost mlogloss')\n",
    "plt.show()"
   ]
  },
  {
   "cell_type": "code",
   "execution_count": 39,
   "id": "6649a6f6",
   "metadata": {
    "ExecuteTime": {
     "end_time": "2023-02-06T17:50:36.762616Z",
     "start_time": "2023-02-06T17:50:36.741609Z"
    }
   },
   "outputs": [
    {
     "data": {
      "text/plain": [
       "[1.570284,\n",
       " 1.537064,\n",
       " 1.508239,\n",
       " 1.482502,\n",
       " 1.459743,\n",
       " 1.439211,\n",
       " 1.42039,\n",
       " 1.403101,\n",
       " 1.386444,\n",
       " 1.370294,\n",
       " 1.356117,\n",
       " 1.342174,\n",
       " 1.328639,\n",
       " 1.316735,\n",
       " 1.305094,\n",
       " 1.292975,\n",
       " 1.283146,\n",
       " 1.273583,\n",
       " 1.26447,\n",
       " 1.254859,\n",
       " 1.246907,\n",
       " 1.238373,\n",
       " 1.229916,\n",
       " 1.222504,\n",
       " 1.215752,\n",
       " 1.208685,\n",
       " 1.201036,\n",
       " 1.194348,\n",
       " 1.188529,\n",
       " 1.182153,\n",
       " 1.176345,\n",
       " 1.171088,\n",
       " 1.164651,\n",
       " 1.15819,\n",
       " 1.152282,\n",
       " 1.146897,\n",
       " 1.141521,\n",
       " 1.136719,\n",
       " 1.131899,\n",
       " 1.126976,\n",
       " 1.120368,\n",
       " 1.115826,\n",
       " 1.11148,\n",
       " 1.107096,\n",
       " 1.102411,\n",
       " 1.097891,\n",
       " 1.094112,\n",
       " 1.088865,\n",
       " 1.084285,\n",
       " 1.079666,\n",
       " 1.075796,\n",
       " 1.071575,\n",
       " 1.067652,\n",
       " 1.063535,\n",
       " 1.0595,\n",
       " 1.056333,\n",
       " 1.053062,\n",
       " 1.048572,\n",
       " 1.044975,\n",
       " 1.041869,\n",
       " 1.038529,\n",
       " 1.035535,\n",
       " 1.031495,\n",
       " 1.028619,\n",
       " 1.025206,\n",
       " 1.022475,\n",
       " 1.019538,\n",
       " 1.016369,\n",
       " 1.014012,\n",
       " 1.010673,\n",
       " 1.007677,\n",
       " 1.005111,\n",
       " 1.002448,\n",
       " 0.999814,\n",
       " 0.997239,\n",
       " 0.994402,\n",
       " 0.991702,\n",
       " 0.988514,\n",
       " 0.986238,\n",
       " 0.983456,\n",
       " 0.981069,\n",
       " 0.978483,\n",
       " 0.976091,\n",
       " 0.973368,\n",
       " 0.970905,\n",
       " 0.968806,\n",
       " 0.966745,\n",
       " 0.964792,\n",
       " 0.96235,\n",
       " 0.959712,\n",
       " 0.957324,\n",
       " 0.955002,\n",
       " 0.953062,\n",
       " 0.950649,\n",
       " 0.94887,\n",
       " 0.946754,\n",
       " 0.944521,\n",
       " 0.94268,\n",
       " 0.940475,\n",
       " 0.938257,\n",
       " 0.936563,\n",
       " 0.934836,\n",
       " 0.932983,\n",
       " 0.931234,\n",
       " 0.929392,\n",
       " 0.927643,\n",
       " 0.926211,\n",
       " 0.92433,\n",
       " 0.922863,\n",
       " 0.920792,\n",
       " 0.919115,\n",
       " 0.917552,\n",
       " 0.915693,\n",
       " 0.913422,\n",
       " 0.911637,\n",
       " 0.909778,\n",
       " 0.907477,\n",
       " 0.905795,\n",
       " 0.904269,\n",
       " 0.902727,\n",
       " 0.900795,\n",
       " 0.899352,\n",
       " 0.897372,\n",
       " 0.895987,\n",
       " 0.894429,\n",
       " 0.893032,\n",
       " 0.891459,\n",
       " 0.889958,\n",
       " 0.888779,\n",
       " 0.887521,\n",
       " 0.88561,\n",
       " 0.884156,\n",
       " 0.882622,\n",
       " 0.881035,\n",
       " 0.879542,\n",
       " 0.877861,\n",
       " 0.876348,\n",
       " 0.875064,\n",
       " 0.873309,\n",
       " 0.872022,\n",
       " 0.870907,\n",
       " 0.869589,\n",
       " 0.868127,\n",
       " 0.866188,\n",
       " 0.864782,\n",
       " 0.86329,\n",
       " 0.862146,\n",
       " 0.860639,\n",
       " 0.85933,\n",
       " 0.857734,\n",
       " 0.856298,\n",
       " 0.854965,\n",
       " 0.85383,\n",
       " 0.852576,\n",
       " 0.851221,\n",
       " 0.849763,\n",
       " 0.84841,\n",
       " 0.847019,\n",
       " 0.845868,\n",
       " 0.844559,\n",
       " 0.843187,\n",
       " 0.841591,\n",
       " 0.840449,\n",
       " 0.839359,\n",
       " 0.838165,\n",
       " 0.836958,\n",
       " 0.83568,\n",
       " 0.834449,\n",
       " 0.833002,\n",
       " 0.831977,\n",
       " 0.830882,\n",
       " 0.829614,\n",
       " 0.828351,\n",
       " 0.827363,\n",
       " 0.826356,\n",
       " 0.825424,\n",
       " 0.823807,\n",
       " 0.822642,\n",
       " 0.821648,\n",
       " 0.820749,\n",
       " 0.819859,\n",
       " 0.818761,\n",
       " 0.817515,\n",
       " 0.816311,\n",
       " 0.815188,\n",
       " 0.813981,\n",
       " 0.812939,\n",
       " 0.811977,\n",
       " 0.810754,\n",
       " 0.809514,\n",
       " 0.808073,\n",
       " 0.80726,\n",
       " 0.806222,\n",
       " 0.805309,\n",
       " 0.804223,\n",
       " 0.803043,\n",
       " 0.802195,\n",
       " 0.801077,\n",
       " 0.800047,\n",
       " 0.799058,\n",
       " 0.797942,\n",
       " 0.796814,\n",
       " 0.79599,\n",
       " 0.795062,\n",
       " 0.793911,\n",
       " 0.792588,\n",
       " 0.791606,\n",
       " 0.790708,\n",
       " 0.789509,\n",
       " 0.78857,\n",
       " 0.787428,\n",
       " 0.786449,\n",
       " 0.785665,\n",
       " 0.784691,\n",
       " 0.783622,\n",
       " 0.782407,\n",
       " 0.781591,\n",
       " 0.780838,\n",
       " 0.77976,\n",
       " 0.778677,\n",
       " 0.777503,\n",
       " 0.776737,\n",
       " 0.775448,\n",
       " 0.774323,\n",
       " 0.773514,\n",
       " 0.772658,\n",
       " 0.771867,\n",
       " 0.770912,\n",
       " 0.769997,\n",
       " 0.76915,\n",
       " 0.76835,\n",
       " 0.767491,\n",
       " 0.766664,\n",
       " 0.765731,\n",
       " 0.76475,\n",
       " 0.763885,\n",
       " 0.762806,\n",
       " 0.761807,\n",
       " 0.760753,\n",
       " 0.759796,\n",
       " 0.758991,\n",
       " 0.757998,\n",
       " 0.757065,\n",
       " 0.756205,\n",
       " 0.755475,\n",
       " 0.754788,\n",
       " 0.754083,\n",
       " 0.753426,\n",
       " 0.752484,\n",
       " 0.751393,\n",
       " 0.750687,\n",
       " 0.749343,\n",
       " 0.748506,\n",
       " 0.747707,\n",
       " 0.74664,\n",
       " 0.745972,\n",
       " 0.745231,\n",
       " 0.744425,\n",
       " 0.743588,\n",
       " 0.742794,\n",
       " 0.741906,\n",
       " 0.741135,\n",
       " 0.740232,\n",
       " 0.739582,\n",
       " 0.738967,\n",
       " 0.738096,\n",
       " 0.737297,\n",
       " 0.736261,\n",
       " 0.735577,\n",
       " 0.734885,\n",
       " 0.73403,\n",
       " 0.733279,\n",
       " 0.732221,\n",
       " 0.731321,\n",
       " 0.730433,\n",
       " 0.729608,\n",
       " 0.728995,\n",
       " 0.728349,\n",
       " 0.727778,\n",
       " 0.726948,\n",
       " 0.726184,\n",
       " 0.72543,\n",
       " 0.724404,\n",
       " 0.723648,\n",
       " 0.722985,\n",
       " 0.722331,\n",
       " 0.721551,\n",
       " 0.720857,\n",
       " 0.720086,\n",
       " 0.719279,\n",
       " 0.718645,\n",
       " 0.717797,\n",
       " 0.71694,\n",
       " 0.716348,\n",
       " 0.71569,\n",
       " 0.714992,\n",
       " 0.714263,\n",
       " 0.713541,\n",
       " 0.712794,\n",
       " 0.712003,\n",
       " 0.711304,\n",
       " 0.710428,\n",
       " 0.709765,\n",
       " 0.709174,\n",
       " 0.70839,\n",
       " 0.707356,\n",
       " 0.706735,\n",
       " 0.706048,\n",
       " 0.705342,\n",
       " 0.704635,\n",
       " 0.704114,\n",
       " 0.703347,\n",
       " 0.702764,\n",
       " 0.702046,\n",
       " 0.701126,\n",
       " 0.700563,\n",
       " 0.700013,\n",
       " 0.699496,\n",
       " 0.698934,\n",
       " 0.698261,\n",
       " 0.697623,\n",
       " 0.696931,\n",
       " 0.696382,\n",
       " 0.695444,\n",
       " 0.694939,\n",
       " 0.694018,\n",
       " 0.693359,\n",
       " 0.692724,\n",
       " 0.692038,\n",
       " 0.6914,\n",
       " 0.690918,\n",
       " 0.690275,\n",
       " 0.689652,\n",
       " 0.689015,\n",
       " 0.68849,\n",
       " 0.687657,\n",
       " 0.6872,\n",
       " 0.686752,\n",
       " 0.68619,\n",
       " 0.685544,\n",
       " 0.684932,\n",
       " 0.684167,\n",
       " 0.68356,\n",
       " 0.682964,\n",
       " 0.682418,\n",
       " 0.681562,\n",
       " 0.681008,\n",
       " 0.680313,\n",
       " 0.679551,\n",
       " 0.678944,\n",
       " 0.67854,\n",
       " 0.677935,\n",
       " 0.677242,\n",
       " 0.676391,\n",
       " 0.67574,\n",
       " 0.675103,\n",
       " 0.67447,\n",
       " 0.673969,\n",
       " 0.673301,\n",
       " 0.672583,\n",
       " 0.671831,\n",
       " 0.671055,\n",
       " 0.670445,\n",
       " 0.669422,\n",
       " 0.668865,\n",
       " 0.668205,\n",
       " 0.667442,\n",
       " 0.666821,\n",
       " 0.666269,\n",
       " 0.665649,\n",
       " 0.665006,\n",
       " 0.664493,\n",
       " 0.663924,\n",
       " 0.663354,\n",
       " 0.662489,\n",
       " 0.661727,\n",
       " 0.661106,\n",
       " 0.660562,\n",
       " 0.660115,\n",
       " 0.659578,\n",
       " 0.659061,\n",
       " 0.658522,\n",
       " 0.657814,\n",
       " 0.657214,\n",
       " 0.656759,\n",
       " 0.656215,\n",
       " 0.655622,\n",
       " 0.654998,\n",
       " 0.654271,\n",
       " 0.653584,\n",
       " 0.653077,\n",
       " 0.652616,\n",
       " 0.652139,\n",
       " 0.651666,\n",
       " 0.650934,\n",
       " 0.650466,\n",
       " 0.649905,\n",
       " 0.649382,\n",
       " 0.64876,\n",
       " 0.648386,\n",
       " 0.647719,\n",
       " 0.647274,\n",
       " 0.646441,\n",
       " 0.645717,\n",
       " 0.645173,\n",
       " 0.644577,\n",
       " 0.643808,\n",
       " 0.643161,\n",
       " 0.642694,\n",
       " 0.642163,\n",
       " 0.641608,\n",
       " 0.641192,\n",
       " 0.640405,\n",
       " 0.639816,\n",
       " 0.639259,\n",
       " 0.638706,\n",
       " 0.638174,\n",
       " 0.637696,\n",
       " 0.637093,\n",
       " 0.636658,\n",
       " 0.636189,\n",
       " 0.635485,\n",
       " 0.634843,\n",
       " 0.634346,\n",
       " 0.633776,\n",
       " 0.633069,\n",
       " 0.632514,\n",
       " 0.631953,\n",
       " 0.631538,\n",
       " 0.631079,\n",
       " 0.630546,\n",
       " 0.630193,\n",
       " 0.629757,\n",
       " 0.629238,\n",
       " 0.628659,\n",
       " 0.628015,\n",
       " 0.627481,\n",
       " 0.626993,\n",
       " 0.626407,\n",
       " 0.626035,\n",
       " 0.625669,\n",
       " 0.625217,\n",
       " 0.624691,\n",
       " 0.624288,\n",
       " 0.623877,\n",
       " 0.623384,\n",
       " 0.622659,\n",
       " 0.622075,\n",
       " 0.62145,\n",
       " 0.621004,\n",
       " 0.620433,\n",
       " 0.619855,\n",
       " 0.619452,\n",
       " 0.619027,\n",
       " 0.61851,\n",
       " 0.618015,\n",
       " 0.617475,\n",
       " 0.616953,\n",
       " 0.616345,\n",
       " 0.6159,\n",
       " 0.615406,\n",
       " 0.614987,\n",
       " 0.614289,\n",
       " 0.613794,\n",
       " 0.61336,\n",
       " 0.613073,\n",
       " 0.612653,\n",
       " 0.612047,\n",
       " 0.61168,\n",
       " 0.611361,\n",
       " 0.610937,\n",
       " 0.610376,\n",
       " 0.609954,\n",
       " 0.609325,\n",
       " 0.608844,\n",
       " 0.608258,\n",
       " 0.607767,\n",
       " 0.607323,\n",
       " 0.606795,\n",
       " 0.606368,\n",
       " 0.605864,\n",
       " 0.605194,\n",
       " 0.604621,\n",
       " 0.604079,\n",
       " 0.60342,\n",
       " 0.60299,\n",
       " 0.602557,\n",
       " 0.602161,\n",
       " 0.601801,\n",
       " 0.60128,\n",
       " 0.600651,\n",
       " 0.60029,\n",
       " 0.599818,\n",
       " 0.599124,\n",
       " 0.598612,\n",
       " 0.597869,\n",
       " 0.597406,\n",
       " 0.596986,\n",
       " 0.596508,\n",
       " 0.596106]"
      ]
     },
     "execution_count": 39,
     "metadata": {},
     "output_type": "execute_result"
    }
   ],
   "source": [
    "results['validation_0']['mlogloss']"
   ]
  },
  {
   "cell_type": "code",
   "execution_count": 45,
   "id": "49bde74e",
   "metadata": {
    "ExecuteTime": {
     "end_time": "2023-02-06T18:19:36.610051Z",
     "start_time": "2023-02-06T18:19:35.934820Z"
    }
   },
   "outputs": [
    {
     "data": {
      "text/plain": [
       "array([[0.14949918, 0.10484778, 0.20285791, 0.44414136, 0.09865372],\n",
       "       [0.4756417 , 0.31119913, 0.14012523, 0.00740366, 0.06563027],\n",
       "       [0.54179686, 0.03249757, 0.14781915, 0.19377998, 0.08410649],\n",
       "       ...,\n",
       "       [0.9324872 , 0.0173871 , 0.01765259, 0.01487596, 0.01759719],\n",
       "       [0.1667389 , 0.07435174, 0.3785892 , 0.01606223, 0.3642579 ],\n",
       "       [0.11874971, 0.05621466, 0.35670844, 0.19355588, 0.2747713 ]],\n",
       "      dtype=float32)"
      ]
     },
     "execution_count": 45,
     "metadata": {},
     "output_type": "execute_result"
    }
   ],
   "source": [
    "y_pred = xgb_clf.predict(X_test)\n",
    "y_pred_proba = xgb_clf.predict_proba(X_test)\n",
    "\n",
    "y_pred_proba"
   ]
  },
  {
   "cell_type": "code",
   "execution_count": 42,
   "id": "731a3e95",
   "metadata": {
    "ExecuteTime": {
     "end_time": "2023-02-06T17:59:37.176559Z",
     "start_time": "2023-02-06T17:59:37.111018Z"
    },
    "collapsed": true
   },
   "outputs": [
    {
     "ename": "AxisError",
     "evalue": "axis 1 is out of bounds for array of dimension 1",
     "output_type": "error",
     "traceback": [
      "\u001b[1;31m---------------------------------------------------------------------------\u001b[0m",
      "\u001b[1;31mAxisError\u001b[0m                                 Traceback (most recent call last)",
      "Input \u001b[1;32mIn [42]\u001b[0m, in \u001b[0;36m<cell line: 1>\u001b[1;34m()\u001b[0m\n\u001b[1;32m----> 1\u001b[0m xgb_roc_score \u001b[38;5;241m=\u001b[39m \u001b[43mroc_auc_score\u001b[49m\u001b[43m(\u001b[49m\u001b[43my_test\u001b[49m\u001b[43m,\u001b[49m\u001b[43m \u001b[49m\u001b[43my_pred_proba\u001b[49m\u001b[43m,\u001b[49m\u001b[43m \u001b[49m\u001b[43maverage\u001b[49m\u001b[38;5;241;43m=\u001b[39;49m\u001b[38;5;124;43m'\u001b[39;49m\u001b[38;5;124;43mmacro\u001b[39;49m\u001b[38;5;124;43m'\u001b[39;49m\u001b[43m,\u001b[49m\u001b[43m \u001b[49m\u001b[43mmulti_class\u001b[49m\u001b[38;5;241;43m=\u001b[39;49m\u001b[38;5;124;43m'\u001b[39;49m\u001b[38;5;124;43movr\u001b[39;49m\u001b[38;5;124;43m'\u001b[39;49m\u001b[43m)\u001b[49m\n\u001b[0;32m      2\u001b[0m \u001b[38;5;28mprint\u001b[39m(xgb_roc_score)\n",
      "File \u001b[1;32mC:\\ProgramData\\Anaconda3\\envs\\data\\lib\\site-packages\\sklearn\\metrics\\_ranking.py:561\u001b[0m, in \u001b[0;36mroc_auc_score\u001b[1;34m(y_true, y_score, average, sample_weight, max_fpr, multi_class, labels)\u001b[0m\n\u001b[0;32m    559\u001b[0m     \u001b[38;5;28;01mif\u001b[39;00m multi_class \u001b[38;5;241m==\u001b[39m \u001b[38;5;124m\"\u001b[39m\u001b[38;5;124mraise\u001b[39m\u001b[38;5;124m\"\u001b[39m:\n\u001b[0;32m    560\u001b[0m         \u001b[38;5;28;01mraise\u001b[39;00m \u001b[38;5;167;01mValueError\u001b[39;00m(\u001b[38;5;124m\"\u001b[39m\u001b[38;5;124mmulti_class must be in (\u001b[39m\u001b[38;5;124m'\u001b[39m\u001b[38;5;124movo\u001b[39m\u001b[38;5;124m'\u001b[39m\u001b[38;5;124m, \u001b[39m\u001b[38;5;124m'\u001b[39m\u001b[38;5;124movr\u001b[39m\u001b[38;5;124m'\u001b[39m\u001b[38;5;124m)\u001b[39m\u001b[38;5;124m\"\u001b[39m)\n\u001b[1;32m--> 561\u001b[0m     \u001b[38;5;28;01mreturn\u001b[39;00m \u001b[43m_multiclass_roc_auc_score\u001b[49m\u001b[43m(\u001b[49m\n\u001b[0;32m    562\u001b[0m \u001b[43m        \u001b[49m\u001b[43my_true\u001b[49m\u001b[43m,\u001b[49m\u001b[43m \u001b[49m\u001b[43my_score\u001b[49m\u001b[43m,\u001b[49m\u001b[43m \u001b[49m\u001b[43mlabels\u001b[49m\u001b[43m,\u001b[49m\u001b[43m \u001b[49m\u001b[43mmulti_class\u001b[49m\u001b[43m,\u001b[49m\u001b[43m \u001b[49m\u001b[43maverage\u001b[49m\u001b[43m,\u001b[49m\u001b[43m \u001b[49m\u001b[43msample_weight\u001b[49m\n\u001b[0;32m    563\u001b[0m \u001b[43m    \u001b[49m\u001b[43m)\u001b[49m\n\u001b[0;32m    564\u001b[0m \u001b[38;5;28;01melif\u001b[39;00m y_type \u001b[38;5;241m==\u001b[39m \u001b[38;5;124m\"\u001b[39m\u001b[38;5;124mbinary\u001b[39m\u001b[38;5;124m\"\u001b[39m:\n\u001b[0;32m    565\u001b[0m     labels \u001b[38;5;241m=\u001b[39m np\u001b[38;5;241m.\u001b[39munique(y_true)\n",
      "File \u001b[1;32mC:\\ProgramData\\Anaconda3\\envs\\data\\lib\\site-packages\\sklearn\\metrics\\_ranking.py:627\u001b[0m, in \u001b[0;36m_multiclass_roc_auc_score\u001b[1;34m(y_true, y_score, labels, multi_class, average, sample_weight)\u001b[0m\n\u001b[0;32m    587\u001b[0m \u001b[38;5;124;03m\"\"\"Multiclass roc auc score.\u001b[39;00m\n\u001b[0;32m    588\u001b[0m \n\u001b[0;32m    589\u001b[0m \u001b[38;5;124;03mParameters\u001b[39;00m\n\u001b[1;32m   (...)\u001b[0m\n\u001b[0;32m    624\u001b[0m \n\u001b[0;32m    625\u001b[0m \u001b[38;5;124;03m\"\"\"\u001b[39;00m\n\u001b[0;32m    626\u001b[0m \u001b[38;5;66;03m# validation of the input y_score\u001b[39;00m\n\u001b[1;32m--> 627\u001b[0m \u001b[38;5;28;01mif\u001b[39;00m \u001b[38;5;129;01mnot\u001b[39;00m np\u001b[38;5;241m.\u001b[39mallclose(\u001b[38;5;241m1\u001b[39m, \u001b[43my_score\u001b[49m\u001b[38;5;241;43m.\u001b[39;49m\u001b[43msum\u001b[49m\u001b[43m(\u001b[49m\u001b[43maxis\u001b[49m\u001b[38;5;241;43m=\u001b[39;49m\u001b[38;5;241;43m1\u001b[39;49m\u001b[43m)\u001b[49m):\n\u001b[0;32m    628\u001b[0m     \u001b[38;5;28;01mraise\u001b[39;00m \u001b[38;5;167;01mValueError\u001b[39;00m(\n\u001b[0;32m    629\u001b[0m         \u001b[38;5;124m\"\u001b[39m\u001b[38;5;124mTarget scores need to be probabilities for multiclass \u001b[39m\u001b[38;5;124m\"\u001b[39m\n\u001b[0;32m    630\u001b[0m         \u001b[38;5;124m\"\u001b[39m\u001b[38;5;124mroc_auc, i.e. they should sum up to 1.0 over classes\u001b[39m\u001b[38;5;124m\"\u001b[39m\n\u001b[0;32m    631\u001b[0m     )\n\u001b[0;32m    633\u001b[0m \u001b[38;5;66;03m# validation for multiclass parameter specifications\u001b[39;00m\n",
      "File \u001b[1;32mC:\\ProgramData\\Anaconda3\\envs\\data\\lib\\site-packages\\numpy\\core\\_methods.py:48\u001b[0m, in \u001b[0;36m_sum\u001b[1;34m(a, axis, dtype, out, keepdims, initial, where)\u001b[0m\n\u001b[0;32m     46\u001b[0m \u001b[38;5;28;01mdef\u001b[39;00m \u001b[38;5;21m_sum\u001b[39m(a, axis\u001b[38;5;241m=\u001b[39m\u001b[38;5;28;01mNone\u001b[39;00m, dtype\u001b[38;5;241m=\u001b[39m\u001b[38;5;28;01mNone\u001b[39;00m, out\u001b[38;5;241m=\u001b[39m\u001b[38;5;28;01mNone\u001b[39;00m, keepdims\u001b[38;5;241m=\u001b[39m\u001b[38;5;28;01mFalse\u001b[39;00m,\n\u001b[0;32m     47\u001b[0m          initial\u001b[38;5;241m=\u001b[39m_NoValue, where\u001b[38;5;241m=\u001b[39m\u001b[38;5;28;01mTrue\u001b[39;00m):\n\u001b[1;32m---> 48\u001b[0m     \u001b[38;5;28;01mreturn\u001b[39;00m \u001b[43mumr_sum\u001b[49m\u001b[43m(\u001b[49m\u001b[43ma\u001b[49m\u001b[43m,\u001b[49m\u001b[43m \u001b[49m\u001b[43maxis\u001b[49m\u001b[43m,\u001b[49m\u001b[43m \u001b[49m\u001b[43mdtype\u001b[49m\u001b[43m,\u001b[49m\u001b[43m \u001b[49m\u001b[43mout\u001b[49m\u001b[43m,\u001b[49m\u001b[43m \u001b[49m\u001b[43mkeepdims\u001b[49m\u001b[43m,\u001b[49m\u001b[43m \u001b[49m\u001b[43minitial\u001b[49m\u001b[43m,\u001b[49m\u001b[43m \u001b[49m\u001b[43mwhere\u001b[49m\u001b[43m)\u001b[49m\n",
      "\u001b[1;31mAxisError\u001b[0m: axis 1 is out of bounds for array of dimension 1"
     ]
    }
   ],
   "source": [
    "#xgb_roc_score = roc_auc_score(y_test, y_pred_proba)\n",
    "#print('ROC AUC 값: {0:.4f}'.format(xgb_roc_score))\n",
    "\n",
    "#xgb_roc_score = roc_auc_score(y_test, y_pred_proba, average='macro', multi_class='ovr')\n",
    "#print(xgb_roc_score)"
   ]
  },
  {
   "cell_type": "code",
   "execution_count": 36,
   "id": "92d9ef40",
   "metadata": {
    "ExecuteTime": {
     "end_time": "2023-02-06T17:30:26.480083Z",
     "start_time": "2023-02-06T17:30:26.190486Z"
    },
    "collapsed": true
   },
   "outputs": [
    {
     "ename": "IndexError",
     "evalue": "too many indices for array: array is 1-dimensional, but 2 were indexed",
     "output_type": "error",
     "traceback": [
      "\u001b[1;31m---------------------------------------------------------------------------\u001b[0m",
      "\u001b[1;31mIndexError\u001b[0m                                Traceback (most recent call last)",
      "Input \u001b[1;32mIn [36]\u001b[0m, in \u001b[0;36m<cell line: 2>\u001b[1;34m()\u001b[0m\n\u001b[0;32m      1\u001b[0m \u001b[38;5;66;03m#y_pred = xgb_clf.predict_proba(X_test)\u001b[39;00m\n\u001b[1;32m----> 2\u001b[0m y_score \u001b[38;5;241m=\u001b[39m np\u001b[38;5;241m.\u001b[39mtranspose([y_pred[:,\u001b[38;5;241m1\u001b[39m] \u001b[38;5;28;01mfor\u001b[39;00m y_pred \u001b[38;5;129;01min\u001b[39;00m xgb_clf\u001b[38;5;241m.\u001b[39mpredict_proba(X_test)])\n\u001b[0;32m      4\u001b[0m \u001b[38;5;28;01mfrom\u001b[39;00m \u001b[38;5;21;01msklearn\u001b[39;00m\u001b[38;5;21;01m.\u001b[39;00m\u001b[38;5;21;01mmetrics\u001b[39;00m \u001b[38;5;28;01mimport\u001b[39;00m accuracy_score, classification_report, confusion_matrix\n\u001b[0;32m      5\u001b[0m \u001b[38;5;28;01mfrom\u001b[39;00m \u001b[38;5;21;01msklearn\u001b[39;00m\u001b[38;5;21;01m.\u001b[39;00m\u001b[38;5;21;01mmetrics\u001b[39;00m \u001b[38;5;28;01mimport\u001b[39;00m roc_auc_score\n",
      "Input \u001b[1;32mIn [36]\u001b[0m, in \u001b[0;36m<listcomp>\u001b[1;34m(.0)\u001b[0m\n\u001b[0;32m      1\u001b[0m \u001b[38;5;66;03m#y_pred = xgb_clf.predict_proba(X_test)\u001b[39;00m\n\u001b[1;32m----> 2\u001b[0m y_score \u001b[38;5;241m=\u001b[39m np\u001b[38;5;241m.\u001b[39mtranspose([\u001b[43my_pred\u001b[49m\u001b[43m[\u001b[49m\u001b[43m:\u001b[49m\u001b[43m,\u001b[49m\u001b[38;5;241;43m1\u001b[39;49m\u001b[43m]\u001b[49m \u001b[38;5;28;01mfor\u001b[39;00m y_pred \u001b[38;5;129;01min\u001b[39;00m xgb_clf\u001b[38;5;241m.\u001b[39mpredict_proba(X_test)])\n\u001b[0;32m      4\u001b[0m \u001b[38;5;28;01mfrom\u001b[39;00m \u001b[38;5;21;01msklearn\u001b[39;00m\u001b[38;5;21;01m.\u001b[39;00m\u001b[38;5;21;01mmetrics\u001b[39;00m \u001b[38;5;28;01mimport\u001b[39;00m accuracy_score, classification_report, confusion_matrix\n\u001b[0;32m      5\u001b[0m \u001b[38;5;28;01mfrom\u001b[39;00m \u001b[38;5;21;01msklearn\u001b[39;00m\u001b[38;5;21;01m.\u001b[39;00m\u001b[38;5;21;01mmetrics\u001b[39;00m \u001b[38;5;28;01mimport\u001b[39;00m roc_auc_score\n",
      "\u001b[1;31mIndexError\u001b[0m: too many indices for array: array is 1-dimensional, but 2 were indexed"
     ]
    }
   ],
   "source": [
    "#y_pred = xgb_clf.predict_proba(X_test)\n",
    "y_score = np.transpose([y_pred[:,1] for y_pred in xgb_clf.predict_proba(X_test)])\n",
    "\n",
    "from sklearn.metrics import accuracy_score, classification_report, confusion_matrix\n",
    "from sklearn.metrics import roc_auc_score\n",
    "\n",
    "# print accuracy\n",
    "#print(\"Accuracy: \", accuracy_score(y_test, y_pred))\n",
    "\n",
    "# print precision, recall, F1-score per each class/tag\n",
    "#print(classification_report(y_test, y_pred))\n",
    "\n",
    "# print confusion matrix, check documentation for sorting rows/columns\n",
    "#print(confusion_matrix(y_test, y_pred))\n",
    "\n",
    "roc_auc_score(y_test, y_score, average=None, multi_class='ovr')"
   ]
  },
  {
   "cell_type": "code",
   "execution_count": 47,
   "id": "e28b065b",
   "metadata": {
    "ExecuteTime": {
     "end_time": "2023-02-06T18:40:55.449284Z",
     "start_time": "2023-02-06T18:40:55.061356Z"
    }
   },
   "outputs": [
    {
     "name": "stdout",
     "output_type": "stream",
     "text": [
      "              precision    recall  f1-score   support\n",
      "\n",
      "           0       0.69      0.60      0.64      4010\n",
      "           1       0.65      0.64      0.64      2110\n",
      "           2       0.57      0.62      0.60      3487\n",
      "           3       0.73      0.72      0.73      4544\n",
      "           4       0.55      0.61      0.58      2313\n",
      "\n",
      "    accuracy                           0.65     16464\n",
      "   macro avg       0.64      0.64      0.64     16464\n",
      "weighted avg       0.65      0.65      0.65     16464\n",
      "\n"
     ]
    }
   ],
   "source": [
    "## ---------- Model Classification Report ----------\n",
    "## get predictions and create model quality report\n",
    "#from sklearn.metrics import confusion_matrix, plot_confusion_matrix, classification_report\n",
    "#from sklearn.metrics import balanced_accuracy_score, accuracy_score, precision_score, recall_score, f1_score\n",
    "\n",
    "y_pred = xgb_clf.predict(X_test)\n",
    "\n",
    "#print('\\n--------------- Classification Report ---------------\\n')\n",
    "print(classification_report(y_test, y_pred))"
   ]
  },
  {
   "cell_type": "markdown",
   "id": "ba343d86",
   "metadata": {
    "ExecuteTime": {
     "end_time": "2023-02-05T13:43:44.417672Z",
     "start_time": "2023-02-05T13:43:44.379673Z"
    }
   },
   "source": [
    "> 정확도 보는 방법???ㅠㅠㅠ   \n",
    "softmax/softprob과 predict/predict_proba의 차이...?   \n",
    "predict_proba는 roc_auc_score보라는데 인덱스설정을 어떻게 해야할지...?(argmax...?)"
   ]
  },
  {
   "cell_type": "markdown",
   "id": "761ca18a",
   "metadata": {},
   "source": [
    "#### 실제 test에 적용"
   ]
  },
  {
   "cell_type": "code",
   "execution_count": null,
   "id": "0a5bd48b",
   "metadata": {
    "ExecuteTime": {
     "end_time": "2023-02-06T16:39:55.845813Z",
     "start_time": "2023-02-06T16:39:55.845813Z"
    },
    "scrolled": true
   },
   "outputs": [],
   "source": [
    "# 실제 test에 적용\n",
    "train_x = tokenizer.texts_to_matrix(train_x, mode='tfidf')\n",
    "test_x = tokenizer.texts_to_matrix(test_x, mode='tfidf')\n",
    "print(train_x.shape, test_x.shape, train_y.shape)"
   ]
  },
  {
   "cell_type": "code",
   "execution_count": null,
   "id": "f22cf38d",
   "metadata": {
    "ExecuteTime": {
     "end_time": "2023-02-06T16:39:55.846814Z",
     "start_time": "2023-02-06T16:39:55.846814Z"
    }
   },
   "outputs": [],
   "source": [
    "sample_weights = compute_sample_weight(\n",
    "    class_weight='balanced',\n",
    "    y=train_y)\n",
    "\n",
    "# declaring and fitting xgb classifier\n",
    "xgb_clf = XGBClassifier(n_estimators=500,learning_rate = 0.1, max_depth = 8,\n",
    "                     objective='multi:softprob', num_class = 5, reg_lambda=1,\n",
    "                     eval_metric=['merror','mlogloss'], seed=42)\n",
    "xgb_clf.fit(train_x, train_y, verbose=0, sample_weight = sample_weights)"
   ]
  },
  {
   "cell_type": "code",
   "execution_count": null,
   "id": "054657e2",
   "metadata": {
    "ExecuteTime": {
     "end_time": "2023-02-06T16:39:55.849876Z",
     "start_time": "2023-02-06T16:39:55.849876Z"
    }
   },
   "outputs": [],
   "source": [
    "pred_y = xgb_clf.predict_proba(test_x)\n",
    "pred_y"
   ]
  },
  {
   "cell_type": "code",
   "execution_count": null,
   "id": "a0127683",
   "metadata": {
    "ExecuteTime": {
     "end_time": "2023-02-06T16:39:55.852388Z",
     "start_time": "2023-02-06T16:39:55.852388Z"
    }
   },
   "outputs": [],
   "source": [
    "pred_y.shape"
   ]
  },
  {
   "cell_type": "code",
   "execution_count": null,
   "id": "66ff489a",
   "metadata": {
    "ExecuteTime": {
     "end_time": "2023-02-06T16:39:55.855400Z",
     "start_time": "2023-02-06T16:39:55.855400Z"
    }
   },
   "outputs": [],
   "source": [
    "test_x.shape"
   ]
  },
  {
   "cell_type": "code",
   "execution_count": null,
   "id": "66ebc5d6",
   "metadata": {
    "ExecuteTime": {
     "end_time": "2023-02-06T16:39:55.856397Z",
     "start_time": "2023-02-06T16:39:55.856397Z"
    }
   },
   "outputs": [],
   "source": [
    "sub = pd.read_csv('sample_submission.csv')\n",
    "sub['0'] = [x[0] for x in pred_y]\n",
    "sub['1'] = [x[1] for x in pred_y]\n",
    "sub['2'] = [x[2] for x in pred_y]\n",
    "sub['3'] = [x[3] for x in pred_y]\n",
    "sub['4'] = [x[4] for x in pred_y]"
   ]
  },
  {
   "cell_type": "code",
   "execution_count": null,
   "id": "16df0cec",
   "metadata": {
    "ExecuteTime": {
     "end_time": "2023-02-06T16:39:55.858395Z",
     "start_time": "2023-02-06T16:39:55.858395Z"
    }
   },
   "outputs": [],
   "source": [
    "display(sub[:10])\n",
    "#sub.to_csv('sub3.csv', index = False)"
   ]
  },
  {
   "cell_type": "markdown",
   "id": "baac8a0a",
   "metadata": {},
   "source": [
    "### 파생변수"
   ]
  },
  {
   "cell_type": "code",
   "execution_count": null,
   "id": "f6ed310e",
   "metadata": {
    "ExecuteTime": {
     "end_time": "2023-02-06T16:39:55.860399Z",
     "start_time": "2023-02-06T16:39:55.860399Z"
    }
   },
   "outputs": [],
   "source": [
    "# train데이터와 validation데이터 나누기\n",
    "train2 = train.copy()\n",
    "train_x = train['clean_text']\n",
    "train_y = train['author']\n",
    "test_x = test['clean_text']\n",
    "\n",
    "X_train, X_test, y_train, y_test = train_test_split(train_x, train_y, test_size=0.3, shuffle=True, random_state=10)\n",
    "print(X_train.shape, X_test.shape, y_train.shape, y_test.shape)\n",
    "print(train_x.shape, train_y.shape)\n",
    "print(test_x.shape)\n",
    "\n",
    "vocab_size = 1000\n",
    "tokenizer = Tokenizer(num_words = vocab_size)\n",
    "tokenizer.fit_on_texts(X_train)\n",
    "X_train = tokenizer.texts_to_matrix(X_train, mode='tfidf')\n",
    "X_test = tokenizer.texts_to_matrix(X_test, mode='tfidf')\n",
    "print(X_train.shape, X_test.shape)"
   ]
  },
  {
   "cell_type": "code",
   "execution_count": null,
   "id": "36b80c2d",
   "metadata": {},
   "outputs": [],
   "source": []
  },
  {
   "cell_type": "code",
   "execution_count": null,
   "id": "5457d829",
   "metadata": {
    "ExecuteTime": {
     "end_time": "2023-02-06T16:39:55.861396Z",
     "start_time": "2023-02-06T16:39:55.861396Z"
    }
   },
   "outputs": [],
   "source": [
    "train"
   ]
  },
  {
   "cell_type": "code",
   "execution_count": null,
   "id": "7001c2c3",
   "metadata": {},
   "outputs": [],
   "source": []
  },
  {
   "cell_type": "code",
   "execution_count": null,
   "id": "d6d9bde7",
   "metadata": {},
   "outputs": [],
   "source": []
  },
  {
   "cell_type": "code",
   "execution_count": null,
   "id": "a2d89264",
   "metadata": {},
   "outputs": [],
   "source": []
  },
  {
   "cell_type": "code",
   "execution_count": null,
   "id": "d16a5ac9",
   "metadata": {},
   "outputs": [],
   "source": []
  },
  {
   "cell_type": "code",
   "execution_count": null,
   "id": "adcea178",
   "metadata": {},
   "outputs": [],
   "source": []
  },
  {
   "cell_type": "code",
   "execution_count": null,
   "id": "4238d9b7",
   "metadata": {},
   "outputs": [],
   "source": []
  },
  {
   "cell_type": "code",
   "execution_count": null,
   "id": "bcea78fb",
   "metadata": {},
   "outputs": [],
   "source": []
  }
 ],
 "metadata": {
  "colab": {
   "provenance": [
    {
     "file_id": "1iu97g88ezB8C7RFA-LeydpIXZ58cbaBR",
     "timestamp": 1675063346600
    }
   ]
  },
  "kernelspec": {
   "display_name": "Python 3 (ipykernel)",
   "language": "python",
   "name": "python3"
  },
  "language_info": {
   "codemirror_mode": {
    "name": "ipython",
    "version": 3
   },
   "file_extension": ".py",
   "mimetype": "text/x-python",
   "name": "python",
   "nbconvert_exporter": "python",
   "pygments_lexer": "ipython3",
   "version": "3.9.13"
  },
  "toc": {
   "base_numbering": 1,
   "nav_menu": {},
   "number_sections": true,
   "sideBar": true,
   "skip_h1_title": false,
   "title_cell": "Table of Contents",
   "title_sidebar": "Contents",
   "toc_cell": false,
   "toc_position": {},
   "toc_section_display": true,
   "toc_window_display": false
  }
 },
 "nbformat": 4,
 "nbformat_minor": 5
}
