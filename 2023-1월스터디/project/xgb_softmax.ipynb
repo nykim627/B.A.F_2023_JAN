{
 "cells": [
  {
   "cell_type": "code",
   "execution_count": 4,
   "id": "c1ad9419",
   "metadata": {
    "ExecuteTime": {
     "end_time": "2023-02-05T06:23:44.439741Z",
     "start_time": "2023-02-05T06:23:41.318609Z"
    },
    "collapsed": true
   },
   "outputs": [
    {
     "name": "stdout",
     "output_type": "stream",
     "text": [
      "Collecting wordcloud"
     ]
    },
    {
     "name": "stderr",
     "output_type": "stream",
     "text": [
      "WARNING: Ignoring invalid distribution -ensorflow (c:\\programdata\\anaconda3\\envs\\data\\lib\\site-packages)\n",
      "WARNING: Ignoring invalid distribution -ensorflow (c:\\programdata\\anaconda3\\envs\\data\\lib\\site-packages)\n",
      "WARNING: Ignoring invalid distribution -ensorflow (c:\\programdata\\anaconda3\\envs\\data\\lib\\site-packages)\n",
      "WARNING: Ignoring invalid distribution -ensorflow (c:\\programdata\\anaconda3\\envs\\data\\lib\\site-packages)\n",
      "WARNING: Ignoring invalid distribution -ensorflow (c:\\programdata\\anaconda3\\envs\\data\\lib\\site-packages)\n",
      "WARNING: Ignoring invalid distribution -ensorflow (c:\\programdata\\anaconda3\\envs\\data\\lib\\site-packages)\n",
      "WARNING: Ignoring invalid distribution -ensorflow (c:\\programdata\\anaconda3\\envs\\data\\lib\\site-packages)\n"
     ]
    },
    {
     "name": "stdout",
     "output_type": "stream",
     "text": [
      "\n",
      "  Downloading wordcloud-1.8.2.2-cp39-cp39-win_amd64.whl (153 kB)\n",
      "     -------------------------------------- 153.1/153.1 kB 9.5 MB/s eta 0:00:00\n",
      "Requirement already satisfied: pillow in c:\\programdata\\anaconda3\\envs\\data\\lib\\site-packages (from wordcloud) (9.2.0)\n",
      "Requirement already satisfied: matplotlib in c:\\programdata\\anaconda3\\envs\\data\\lib\\site-packages (from wordcloud) (3.5.3)\n",
      "Requirement already satisfied: numpy>=1.6.1 in c:\\programdata\\anaconda3\\envs\\data\\lib\\site-packages (from wordcloud) (1.23.2)\n",
      "Requirement already satisfied: fonttools>=4.22.0 in c:\\programdata\\anaconda3\\envs\\data\\lib\\site-packages (from matplotlib->wordcloud) (4.37.1)\n",
      "Requirement already satisfied: pyparsing>=2.2.1 in c:\\programdata\\anaconda3\\envs\\data\\lib\\site-packages (from matplotlib->wordcloud) (3.0.9)\n",
      "Requirement already satisfied: python-dateutil>=2.7 in c:\\programdata\\anaconda3\\envs\\data\\lib\\site-packages (from matplotlib->wordcloud) (2.8.2)\n",
      "Requirement already satisfied: cycler>=0.10 in c:\\programdata\\anaconda3\\envs\\data\\lib\\site-packages (from matplotlib->wordcloud) (0.11.0)\n",
      "Requirement already satisfied: packaging>=20.0 in c:\\programdata\\anaconda3\\envs\\data\\lib\\site-packages (from matplotlib->wordcloud) (21.3)\n",
      "Requirement already satisfied: kiwisolver>=1.0.1 in c:\\programdata\\anaconda3\\envs\\data\\lib\\site-packages (from matplotlib->wordcloud) (1.4.4)\n",
      "Requirement already satisfied: six>=1.5 in c:\\programdata\\anaconda3\\envs\\data\\lib\\site-packages (from python-dateutil>=2.7->matplotlib->wordcloud) (1.16.0)\n",
      "Installing collected packages: wordcloud\n",
      "Successfully installed wordcloud-1.8.2.2\n"
     ]
    }
   ],
   "source": [
    "#!pip install wordcloud"
   ]
  },
  {
   "cell_type": "code",
   "execution_count": 1,
   "id": "juUTIK11zfZW",
   "metadata": {
    "ExecuteTime": {
     "end_time": "2023-02-05T10:10:40.786608Z",
     "start_time": "2023-02-05T10:10:28.267906Z"
    },
    "colab": {
     "base_uri": "https://localhost:8080/"
    },
    "executionInfo": {
     "elapsed": 603,
     "status": "ok",
     "timestamp": 1675470629821,
     "user": {
      "displayName": "김평진",
      "userId": "11705489940506901507"
     },
     "user_tz": -540
    },
    "id": "juUTIK11zfZW",
    "outputId": "d4982f33-e1f7-43e0-c2be-fa49ec589277"
   },
   "outputs": [
    {
     "name": "stderr",
     "output_type": "stream",
     "text": [
      "[nltk_data] Downloading package punkt to\n",
      "[nltk_data]     C:\\Users\\hkny0\\AppData\\Roaming\\nltk_data...\n",
      "[nltk_data]   Package punkt is already up-to-date!\n",
      "[nltk_data] Downloading package averaged_perceptron_tagger to\n",
      "[nltk_data]     C:\\Users\\hkny0\\AppData\\Roaming\\nltk_data...\n",
      "[nltk_data]   Package averaged_perceptron_tagger is already up-to-\n",
      "[nltk_data]       date!\n",
      "[nltk_data] Downloading package wordnet to\n",
      "[nltk_data]     C:\\Users\\hkny0\\AppData\\Roaming\\nltk_data...\n",
      "[nltk_data]   Package wordnet is already up-to-date!\n",
      "[nltk_data] Downloading package omw-1.4 to\n",
      "[nltk_data]     C:\\Users\\hkny0\\AppData\\Roaming\\nltk_data...\n",
      "[nltk_data]   Package omw-1.4 is already up-to-date!\n",
      "[nltk_data] Downloading package stopwords to\n",
      "[nltk_data]     C:\\Users\\hkny0\\AppData\\Roaming\\nltk_data...\n",
      "[nltk_data]   Package stopwords is already up-to-date!\n"
     ]
    }
   ],
   "source": [
    "#base\n",
    "import numpy as np\n",
    "import pandas as pd\n",
    "import matplotlib.pyplot as plt\n",
    "import warnings \n",
    "warnings.filterwarnings(action='ignore')\n",
    "import seaborn as sns\n",
    "\n",
    "#preprocess\n",
    "from tensorflow.keras.preprocessing.sequence import pad_sequences\n",
    "from tensorflow.keras.preprocessing.text import Tokenizer\n",
    "import re\n",
    "from collections import  Counter\n",
    "import nltk\n",
    "from nltk.stem import WordNetLemmatizer\n",
    "from nltk.tokenize import word_tokenize\n",
    "nltk.download('punkt')\n",
    "nltk.download('averaged_perceptron_tagger')\n",
    "nltk.download('wordnet')\n",
    "nltk.download('omw-1.4')\n",
    "\n",
    "#wordcloud\n",
    "from wordcloud import WordCloud, STOPWORDS\n",
    "\n",
    "#stopwords\n",
    "from nltk.corpus import stopwords\n",
    "nltk.download('stopwords')\n",
    "stop=set(stopwords.words('english'))\n",
    "\n",
    "#embedding\n",
    "import gensim\n",
    "from sklearn.feature_extraction.text import CountVectorizer, TfidfVectorizer\n",
    "\n",
    "#modeling\n",
    "import tensorflow as tf\n",
    "from tensorflow.keras.models import Sequential\n",
    "from tensorflow.keras.layers import Embedding, Dense, Flatten, Input\n",
    "\n",
    "# col 생략 없이 출력\n",
    "pd.set_option('display.max_columns', None)\n",
    "# col 최대 너비 200\n",
    "pd.set_option('max_colwidth', 200)"
   ]
  },
  {
   "cell_type": "code",
   "execution_count": 2,
   "id": "CTq770TNb3mJ",
   "metadata": {
    "ExecuteTime": {
     "end_time": "2023-02-05T10:10:41.196912Z",
     "start_time": "2023-02-05T10:10:40.789609Z"
    },
    "id": "CTq770TNb3mJ"
   },
   "outputs": [],
   "source": [
    "train = pd.read_csv('train.csv',index_col=0)\n",
    "test = pd.read_csv('test_x.csv',index_col=0)"
   ]
  },
  {
   "cell_type": "code",
   "execution_count": 3,
   "id": "PNCOOdpjlUQh",
   "metadata": {
    "ExecuteTime": {
     "end_time": "2023-02-05T10:10:47.620939Z",
     "start_time": "2023-02-05T10:10:47.597673Z"
    },
    "colab": {
     "base_uri": "https://localhost:8080/",
     "height": 351
    },
    "executionInfo": {
     "elapsed": 45,
     "status": "ok",
     "timestamp": 1675465399132,
     "user": {
      "displayName": "김평진",
      "userId": "11705489940506901507"
     },
     "user_tz": -540
    },
    "id": "PNCOOdpjlUQh",
    "outputId": "1e3b2963-6cd7-4342-bd3f-46379e493d06"
   },
   "outputs": [
    {
     "data": {
      "text/html": [
       "<div>\n",
       "<style scoped>\n",
       "    .dataframe tbody tr th:only-of-type {\n",
       "        vertical-align: middle;\n",
       "    }\n",
       "\n",
       "    .dataframe tbody tr th {\n",
       "        vertical-align: top;\n",
       "    }\n",
       "\n",
       "    .dataframe thead th {\n",
       "        text-align: right;\n",
       "    }\n",
       "</style>\n",
       "<table border=\"1\" class=\"dataframe\">\n",
       "  <thead>\n",
       "    <tr style=\"text-align: right;\">\n",
       "      <th></th>\n",
       "      <th>text</th>\n",
       "      <th>author</th>\n",
       "    </tr>\n",
       "    <tr>\n",
       "      <th>index</th>\n",
       "      <th></th>\n",
       "      <th></th>\n",
       "    </tr>\n",
       "  </thead>\n",
       "  <tbody>\n",
       "    <tr>\n",
       "      <th>0</th>\n",
       "      <td>He was almost choking. There was so much, so much he wanted to say, but strange exclamations were all that came from his lips. The Pole gazed fixedly at him, at the bundle of notes in his hand; lo...</td>\n",
       "      <td>3</td>\n",
       "    </tr>\n",
       "    <tr>\n",
       "      <th>1</th>\n",
       "      <td>“Your sister asked for it, I suppose?”</td>\n",
       "      <td>2</td>\n",
       "    </tr>\n",
       "    <tr>\n",
       "      <th>2</th>\n",
       "      <td>She was engaged one day as she walked, in perusing Jane’s last letter, and dwelling on some passages which proved that Jane had not written in spirits, when, instead of being again surprised by M...</td>\n",
       "      <td>1</td>\n",
       "    </tr>\n",
       "    <tr>\n",
       "      <th>3</th>\n",
       "      <td>The captain was in the porch, keeping himself carefully out of the way of a treacherous shot, should any be intended. He turned and spoke to us, “Doctor's watch on the lookout. Dr. odin take the n...</td>\n",
       "      <td>4</td>\n",
       "    </tr>\n",
       "    <tr>\n",
       "      <th>4</th>\n",
       "      <td>“Have mercy, gentlemen!” odin flung up his hands. “Don’t write that, anyway; have some shame. Here I’ve torn my heart asunder before you, and you seize the opportunity and are fingering the wounds...</td>\n",
       "      <td>3</td>\n",
       "    </tr>\n",
       "  </tbody>\n",
       "</table>\n",
       "</div>"
      ],
      "text/plain": [
       "                                                                                                                                                                                                          text  \\\n",
       "index                                                                                                                                                                                                            \n",
       "0      He was almost choking. There was so much, so much he wanted to say, but strange exclamations were all that came from his lips. The Pole gazed fixedly at him, at the bundle of notes in his hand; lo...   \n",
       "1                                                                                                                                                                       “Your sister asked for it, I suppose?”   \n",
       "2       She was engaged one day as she walked, in perusing Jane’s last letter, and dwelling on some passages which proved that Jane had not written in spirits, when, instead of being again surprised by M...   \n",
       "3      The captain was in the porch, keeping himself carefully out of the way of a treacherous shot, should any be intended. He turned and spoke to us, “Doctor's watch on the lookout. Dr. odin take the n...   \n",
       "4      “Have mercy, gentlemen!” odin flung up his hands. “Don’t write that, anyway; have some shame. Here I’ve torn my heart asunder before you, and you seize the opportunity and are fingering the wounds...   \n",
       "\n",
       "       author  \n",
       "index          \n",
       "0           3  \n",
       "1           2  \n",
       "2           1  \n",
       "3           4  \n",
       "4           3  "
      ]
     },
     "execution_count": 3,
     "metadata": {},
     "output_type": "execute_result"
    }
   ],
   "source": [
    "train.head()"
   ]
  },
  {
   "cell_type": "code",
   "execution_count": 65,
   "id": "fFDWxEdAb3gn",
   "metadata": {
    "ExecuteTime": {
     "end_time": "2023-02-05T10:47:11.403384Z",
     "start_time": "2023-02-05T10:47:11.393741Z"
    },
    "id": "fFDWxEdAb3gn"
   },
   "outputs": [],
   "source": [
    "# additional data cleaning\n",
    "# 이 함수를 test에도 적용하면 됨\n",
    "\n",
    "def clean_text(texts): \n",
    "    corpus = [] \n",
    "    for i in range(0, len(texts)): \n",
    "\n",
    "        review = re.sub(\"[^a-zA-Z -]\",\"\",texts[i]) #대괄호 내 문자들을 제외한 모든 문자 제거\n",
    "        review = review.lower() #소문자 변환\n",
    "        review = re.sub(r'\\s+', ' ', review) #extra space 제거\n",
    "        review = re.sub(r'\\s+', ' ', review) #spaces 제거\n",
    "        review = re.sub(r\"^\\s+\", '', review) #space from start 제거\n",
    "        review = re.sub(r'\\s+$', '', review) #space from the end 제거\n",
    "        review = re.sub(r'_', ' ', review) #space from the end 제거\n",
    "        review = re.sub(r'\"+', ' ', review) #spaces 제거   \n",
    "        review = re.sub('-{2,}', ' ', review) #-이 2번이상 반복되면 제거   \n",
    "\n",
    "        corpus.append(review) \n",
    "  \n",
    "    return corpus"
   ]
  },
  {
   "cell_type": "code",
   "execution_count": 66,
   "id": "mQ0hwgWMpZqN",
   "metadata": {
    "ExecuteTime": {
     "end_time": "2023-02-05T10:47:16.389834Z",
     "start_time": "2023-02-05T10:47:12.035033Z"
    },
    "colab": {
     "base_uri": "https://localhost:8080/",
     "height": 524
    },
    "executionInfo": {
     "elapsed": 5530,
     "status": "ok",
     "timestamp": 1675467598184,
     "user": {
      "displayName": "김평진",
      "userId": "11705489940506901507"
     },
     "user_tz": -540
    },
    "id": "mQ0hwgWMpZqN",
    "outputId": "85d2f4c9-0521-4d3b-bfff-c0c67dedad68"
   },
   "outputs": [
    {
     "data": {
      "text/html": [
       "<div>\n",
       "<style scoped>\n",
       "    .dataframe tbody tr th:only-of-type {\n",
       "        vertical-align: middle;\n",
       "    }\n",
       "\n",
       "    .dataframe tbody tr th {\n",
       "        vertical-align: top;\n",
       "    }\n",
       "\n",
       "    .dataframe thead th {\n",
       "        text-align: right;\n",
       "    }\n",
       "</style>\n",
       "<table border=\"1\" class=\"dataframe\">\n",
       "  <thead>\n",
       "    <tr style=\"text-align: right;\">\n",
       "      <th></th>\n",
       "      <th>text</th>\n",
       "      <th>clean_text</th>\n",
       "    </tr>\n",
       "    <tr>\n",
       "      <th>index</th>\n",
       "      <th></th>\n",
       "      <th></th>\n",
       "    </tr>\n",
       "  </thead>\n",
       "  <tbody>\n",
       "    <tr>\n",
       "      <th>0</th>\n",
       "      <td>“Not at all. I think she is one of the most charming young ladies I ever met, and might have been most useful in such work as we have been doing. She had a decided genius that way: witness the way in which she preser...</td>\n",
       "      <td>not at all i think she is one of the most charming young ladies i ever met and might have been most useful in such work as we have been doing she had a decided genius that way witness the way in which she preserved t...</td>\n",
       "    </tr>\n",
       "    <tr>\n",
       "      <th>1</th>\n",
       "      <td>\"No,\" replied he, with sudden consciousness, \"not to find it in YOU; for I cannot be ignorant that to you, to your goodness, I owe it all.--I feel it--I would express it if I could--but, as you well know, I am no ora...</td>\n",
       "      <td>no replied he with sudden consciousness not to find it in you for i cannot be ignorant that to you to your goodness i owe it all i feel it i would express it if i could but as you well know i am no orator</td>\n",
       "    </tr>\n",
       "    <tr>\n",
       "      <th>2</th>\n",
       "      <td>As the lady had stated her intention of screaming, of course she would have screamed at this additional boldness, but that the exertion was rendered unnecessary by a hasty knocking at the door: which was no sooner he...</td>\n",
       "      <td>as the lady had stated her intention of screaming of course she would have screamed at this additional boldness but that the exertion was rendered unnecessary by a hasty knocking at the door which was no sooner heard...</td>\n",
       "    </tr>\n",
       "    <tr>\n",
       "      <th>3</th>\n",
       "      <td>“And then suddenly in the silence I heard a sound which sent my heart into my mouth. It was the clank of the levers and the swish of the leaking cylinder. He had set the engine at work. The lamp still stood upon the ...</td>\n",
       "      <td>and then suddenly in the silence i heard a sound which sent my heart into my mouth it was the clank of the levers and the swish of the leaking cylinder he had set the engine at work the lamp still stood upon the floo...</td>\n",
       "    </tr>\n",
       "    <tr>\n",
       "      <th>4</th>\n",
       "      <td>His conviction remained unchanged. So far as I know--and I believe his honest heart was transparent to me--he never wavered again, in his solemn certainty of finding her. His patience never tired. And, although I tre...</td>\n",
       "      <td>his conviction remained unchanged so far as i know and i believe his honest heart was transparent to me he never wavered again in his solemn certainty of finding her his patience never tired and although i trembled f...</td>\n",
       "    </tr>\n",
       "  </tbody>\n",
       "</table>\n",
       "</div>"
      ],
      "text/plain": [
       "                                                                                                                                                                                                                              text  \\\n",
       "index                                                                                                                                                                                                                                \n",
       "0      “Not at all. I think she is one of the most charming young ladies I ever met, and might have been most useful in such work as we have been doing. She had a decided genius that way: witness the way in which she preser...   \n",
       "1      \"No,\" replied he, with sudden consciousness, \"not to find it in YOU; for I cannot be ignorant that to you, to your goodness, I owe it all.--I feel it--I would express it if I could--but, as you well know, I am no ora...   \n",
       "2      As the lady had stated her intention of screaming, of course she would have screamed at this additional boldness, but that the exertion was rendered unnecessary by a hasty knocking at the door: which was no sooner he...   \n",
       "3      “And then suddenly in the silence I heard a sound which sent my heart into my mouth. It was the clank of the levers and the swish of the leaking cylinder. He had set the engine at work. The lamp still stood upon the ...   \n",
       "4      His conviction remained unchanged. So far as I know--and I believe his honest heart was transparent to me--he never wavered again, in his solemn certainty of finding her. His patience never tired. And, although I tre...   \n",
       "\n",
       "                                                                                                                                                                                                                        clean_text  \n",
       "index                                                                                                                                                                                                                               \n",
       "0      not at all i think she is one of the most charming young ladies i ever met and might have been most useful in such work as we have been doing she had a decided genius that way witness the way in which she preserved t...  \n",
       "1                     no replied he with sudden consciousness not to find it in you for i cannot be ignorant that to you to your goodness i owe it all i feel it i would express it if i could but as you well know i am no orator  \n",
       "2      as the lady had stated her intention of screaming of course she would have screamed at this additional boldness but that the exertion was rendered unnecessary by a hasty knocking at the door which was no sooner heard...  \n",
       "3      and then suddenly in the silence i heard a sound which sent my heart into my mouth it was the clank of the levers and the swish of the leaking cylinder he had set the engine at work the lamp still stood upon the floo...  \n",
       "4      his conviction remained unchanged so far as i know and i believe his honest heart was transparent to me he never wavered again in his solemn certainty of finding her his patience never tired and although i trembled f...  "
      ]
     },
     "execution_count": 66,
     "metadata": {},
     "output_type": "execute_result"
    }
   ],
   "source": [
    "temp = clean_text(train['text'])\n",
    "train['clean_text'] = temp\n",
    "\n",
    "temp = clean_text(test['text'])\n",
    "test['clean_text'] = temp\n",
    "\n",
    "test.head() #깨끗함"
   ]
  },
  {
   "cell_type": "code",
   "execution_count": 118,
   "id": "ade8e9bd",
   "metadata": {
    "ExecuteTime": {
     "end_time": "2023-02-05T08:48:11.076257Z",
     "start_time": "2023-02-05T08:48:11.067119Z"
    }
   },
   "outputs": [
    {
     "data": {
      "text/plain": [
       "5000"
      ]
     },
     "execution_count": 118,
     "metadata": {},
     "output_type": "execute_result"
    }
   ],
   "source": [
    "### 1. 빈도기반 DTM 행렬로 MLP\n",
    "# train데이터와 validation데이터 나누기\n",
    "train_x = train['clean_text']\n",
    "train_y = train['author']\n",
    "\n",
    "X_train, X_test, y_train, y_test = train_test_split(train_x, train_y, test_size=0.3, shuffle=True, random_state=10)\n",
    "print(X_train.shape, X_test.shape, y_train.shape, y_test.shape)\n",
    "print(train_x.shape, train_y.shape)"
   ]
  },
  {
   "cell_type": "code",
   "execution_count": 155,
   "id": "9686a574",
   "metadata": {
    "ExecuteTime": {
     "end_time": "2023-02-05T09:32:10.456499Z",
     "start_time": "2023-02-05T09:32:10.438467Z"
    }
   },
   "outputs": [],
   "source": [
    "vocab_size = 1000\n",
    "def prepare_data(train_data, test_data, mode): # 전처리 함수\n",
    "    tokenizer = Tokenizer(num_words = vocab_size) # vocab_size 개수만큼의 단어만 사용한다.\n",
    "    tokenizer.fit_on_texts(train_data)\n",
    "    X_train = tokenizer.texts_to_matrix(train_data, mode=mode) # 샘플 수 × vocab_size 크기의 행렬 생성\n",
    "    X_test = tokenizer.texts_to_matrix(test_data, mode=mode) # 샘플 수 × vocab_size 크기의 행렬 생성\n",
    "    return X_train, X_test, tokenizer.index_word"
   ]
  },
  {
   "cell_type": "code",
   "execution_count": null,
   "id": "75f76fa4",
   "metadata": {},
   "outputs": [],
   "source": [
    "# MLP\n",
    "from tensorflow.keras.models import Sequential\n",
    "from tensorflow.keras.layers import Dense, Dropout\n",
    "\n",
    "def fit_and_evaluate(X_train, y_train, X_test, y_test):\n",
    "    model = Sequential()\n",
    "    model.add(Dense(256, input_shape=(vocab_size,), activation='relu'))\n",
    "    model.add(Dropout(0.5))\n",
    "    model.add(Dense(128, activation='relu'))\n",
    "    model.add(Dropout(0.5))\n",
    "    model.add(Dense(num_classes, activation='softmax'))\n",
    "\n",
    "    model.compile(loss='categorical_crossentropy', optimizer='adam', metrics=['accuracy'])\n",
    "    model.fit(X_train, y_train, batch_size=128, epochs=5, verbose=1, validation_split=0.1)\n",
    "    score = model.evaluate(X_test, y_test, batch_size=128, verbose=0)\n",
    "    return score[1]"
   ]
  },
  {
   "cell_type": "code",
   "execution_count": null,
   "id": "60046b8d",
   "metadata": {},
   "outputs": [],
   "source": [
    "print('훈련 샘플 본문의 크기 : {}'.format(X_train.shape))\n",
    "print('훈련 샘플 레이블의 크기 : {}'.format(y_train.shape))\n",
    "print('테스트 샘플 본문의 크기 : {}'.format(X_test.shape))\n",
    "print('테스트 샘플 레이블의 크기 : {}'.format(y_test.shape))"
   ]
  },
  {
   "cell_type": "code",
   "execution_count": null,
   "id": "efd3e816",
   "metadata": {},
   "outputs": [],
   "source": [
    "print('빈도수 상위 1번 단어 : {}'.format(index_to_word[1]))\n",
    "print('빈도수 상위 9999번 단어 : {}'.format(index_to_word[9999]))"
   ]
  },
  {
   "cell_type": "code",
   "execution_count": 161,
   "id": "d87ad2e0",
   "metadata": {
    "ExecuteTime": {
     "end_time": "2023-02-05T09:35:09.450093Z",
     "start_time": "2023-02-05T09:35:09.427556Z"
    }
   },
   "outputs": [],
   "source": [
    "### 2. 임베딩 레이어 없이 1D 신경망 (08-04)\n",
    "import numpy as np\n",
    "import tensorflow as tf\n",
    "from tensorflow.keras.layers import SimpleRNN, LSTM, Bidirectional"
   ]
  },
  {
   "cell_type": "markdown",
   "id": "fd80d451",
   "metadata": {},
   "source": [
    "### 3. XGBoost\n",
    "참고 : https://www.kaggle.com/code/emmanuelfwerr/xgboost-multi-class-classification"
   ]
  },
  {
   "cell_type": "code",
   "execution_count": 23,
   "id": "0aee9d3d",
   "metadata": {
    "ExecuteTime": {
     "end_time": "2023-02-05T10:11:13.846024Z",
     "start_time": "2023-02-05T10:11:13.706128Z"
    }
   },
   "outputs": [],
   "source": [
    "### 3. XGBoost\n",
    "from sklearn.model_selection import train_test_split\n",
    "from sklearn.metrics import accuracy_score, precision_score, recall_score\n",
    "\n",
    "import xgboost as xgb\n",
    "from xgboost import XGBClassifier\n",
    "from xgboost import plot_importance"
   ]
  },
  {
   "cell_type": "code",
   "execution_count": 67,
   "id": "f3b70e0c",
   "metadata": {
    "ExecuteTime": {
     "end_time": "2023-02-05T10:47:29.687681Z",
     "start_time": "2023-02-05T10:47:29.564865Z"
    }
   },
   "outputs": [
    {
     "name": "stdout",
     "output_type": "stream",
     "text": [
      "(38415,) (16464,) (38415,) (16464,)\n",
      "(54879,) (54879,)\n",
      "(19617,)\n"
     ]
    }
   ],
   "source": [
    "# train데이터와 validation데이터 나누기\n",
    "train_x = train['clean_text']\n",
    "train_y = train['author']\n",
    "test_x = test['clean_text']\n",
    "\n",
    "X_train, X_test, y_train, y_test = train_test_split(train_x, train_y, test_size=0.3, shuffle=True, random_state=10)\n",
    "print(X_train.shape, X_test.shape, y_train.shape, y_test.shape)\n",
    "print(train_x.shape, train_y.shape)\n",
    "print(test_x.shape)"
   ]
  },
  {
   "cell_type": "code",
   "execution_count": 68,
   "id": "83a7301a",
   "metadata": {
    "ExecuteTime": {
     "end_time": "2023-02-05T10:47:43.606045Z",
     "start_time": "2023-02-05T10:47:37.240200Z"
    }
   },
   "outputs": [
    {
     "name": "stdout",
     "output_type": "stream",
     "text": [
      "(38415, 1000) (16464, 1000)\n"
     ]
    }
   ],
   "source": [
    "vocab_size = 1000\n",
    "tokenizer = Tokenizer(num_words = vocab_size)\n",
    "tokenizer.fit_on_texts(X_train)\n",
    "X_train = tokenizer.texts_to_matrix(X_train, mode='tfidf')\n",
    "X_test = tokenizer.texts_to_matrix(X_test, mode='tfidf')\n",
    "print(X_train.shape, X_test.shape)"
   ]
  },
  {
   "cell_type": "code",
   "execution_count": null,
   "id": "70d96045",
   "metadata": {
    "ExecuteTime": {
     "start_time": "2023-02-05T11:03:46.006Z"
    },
    "scrolled": true
   },
   "outputs": [],
   "source": [
    "# balancing 'target' class weights\n",
    "from sklearn.utils.class_weight import compute_sample_weight\n",
    "sample_weights = compute_sample_weight(\n",
    "    class_weight='balanced',\n",
    "    y=y_train)\n",
    "\n",
    "# declaring and fitting xgb classifier\n",
    "xgb_clf = XGBClassifier(n_estimators=300, learning_rate = 0.1, max_depth = 6,\n",
    "                     objective='multi:softmax', num_class = 5, reg_lambda=1,\n",
    "                     eval_metric=['merror','mlogloss'], seed=42)\n",
    "xgb_clf.fit(X_train, y_train, verbose=0, sample_weight = sample_weights,\n",
    "            early_stopping_rounds=50, eval_set=[(X_train, y_train),(X_test, y_test)])\n",
    "\n",
    "# preparing evaluation metric plots\n",
    "results = xgb_clf.evals_result()\n",
    "epochs = len(results['validation_0']['mlogloss'])\n",
    "x_axis = range(0, epochs)"
   ]
  },
  {
   "cell_type": "code",
   "execution_count": 32,
   "id": "f1136c9f",
   "metadata": {
    "ExecuteTime": {
     "end_time": "2023-02-05T10:20:08.812527Z",
     "start_time": "2023-02-05T10:20:08.370327Z"
    }
   },
   "outputs": [
    {
     "data": {
      "image/png": "[encoded data removed]",
      "text/plain": [
       "<Figure size 900x500 with 1 Axes>"
      ]
     },
     "metadata": {},
     "output_type": "display_data"
    }
   ],
   "source": [
    "# xgboost 'mlogloss' plot\n",
    "fig, ax = plt.subplots(figsize=(9,5))\n",
    "ax.plot(x_axis, results['validation_0']['mlogloss'], label='Train')\n",
    "ax.plot(x_axis, results['validation_1']['mlogloss'], label='Test')\n",
    "ax.legend()\n",
    "plt.ylabel('mlogloss')\n",
    "plt.title('GridSearchCV XGBoost mlogloss')\n",
    "plt.show()"
   ]
  },
  {
   "cell_type": "code",
   "execution_count": 33,
   "id": "d4b055f7",
   "metadata": {
    "ExecuteTime": {
     "end_time": "2023-02-05T10:20:09.626972Z",
     "start_time": "2023-02-05T10:20:09.481322Z"
    }
   },
   "outputs": [
    {
     "data": {
      "image/png": "[encoded data removed]",
      "text/plain": [
       "<Figure size 900x500 with 1 Axes>"
      ]
     },
     "metadata": {},
     "output_type": "display_data"
    }
   ],
   "source": [
    "# xgboost 'merror' plot\n",
    "fig, ax = plt.subplots(figsize=(9,5))\n",
    "ax.plot(x_axis, results['validation_0']['merror'], label='Train')\n",
    "ax.plot(x_axis, results['validation_1']['merror'], label='Test')\n",
    "ax.legend()\n",
    "plt.ylabel('merror')\n",
    "plt.title('GridSearchCV XGBoost merror')\n",
    "plt.show()"
   ]
  },
  {
   "cell_type": "code",
   "execution_count": 37,
   "id": "139a10a9",
   "metadata": {
    "ExecuteTime": {
     "end_time": "2023-02-05T10:22:15.959357Z",
     "start_time": "2023-02-05T10:22:15.749619Z"
    }
   },
   "outputs": [
    {
     "name": "stdout",
     "output_type": "stream",
     "text": [
      "\n",
      "------------------ Confusion Matrix -----------------\n",
      "\n",
      "[[1977  409  616  461  547]\n",
      " [ 212 1253  335  208  102]\n",
      " [ 359  182 2017  444  485]\n",
      " [ 259  278  735 2960  312]\n",
      " [ 255  110  397  273 1278]]\n",
      "\n",
      "Accuracy: 0.58\n",
      "Balanced Accuracy: 0.57\n",
      "\n",
      "Micro Precision: 0.58\n",
      "Micro Recall: 0.58\n",
      "Micro F1-score: 0.58\n",
      "\n",
      "Macro Precision: 0.57\n",
      "Macro Recall: 0.57\n",
      "Macro F1-score: 0.57\n",
      "\n",
      "Weighted Precision: 0.59\n",
      "Weighted Recall: 0.58\n",
      "Weighted F1-score: 0.58\n",
      "\n",
      "--------------- Classification Report ---------------\n",
      "\n",
      "              precision    recall  f1-score   support\n",
      "\n",
      "           0       0.65      0.49      0.56      4010\n",
      "           1       0.56      0.59      0.58      2110\n",
      "           2       0.49      0.58      0.53      3487\n",
      "           3       0.68      0.65      0.67      4544\n",
      "           4       0.47      0.55      0.51      2313\n",
      "\n",
      "    accuracy                           0.58     16464\n",
      "   macro avg       0.57      0.57      0.57     16464\n",
      "weighted avg       0.59      0.58      0.58     16464\n",
      "\n"
     ]
    }
   ],
   "source": [
    "## ---------- Model Classification Report ----------\n",
    "## get predictions and create model quality report\n",
    "from sklearn.metrics import confusion_matrix, plot_confusion_matrix, classification_report\n",
    "from sklearn.metrics import balanced_accuracy_score, accuracy_score, precision_score, recall_score, f1_score\n",
    "\n",
    "y_pred = xgb_clf.predict(X_test)\n",
    "\n",
    "print('\\n------------------ Confusion Matrix -----------------\\n')\n",
    "print(confusion_matrix(y_test, y_pred))\n",
    "\n",
    "print('\\nAccuracy: {:.2f}'.format(accuracy_score(y_test, y_pred)))\n",
    "print('Balanced Accuracy: {:.2f}\\n'.format(balanced_accuracy_score(y_test, y_pred)))\n",
    "\n",
    "print('Micro Precision: {:.2f}'.format(precision_score(y_test, y_pred, average='micro')))\n",
    "print('Micro Recall: {:.2f}'.format(recall_score(y_test, y_pred, average='micro')))\n",
    "print('Micro F1-score: {:.2f}\\n'.format(f1_score(y_test, y_pred, average='micro')))\n",
    "\n",
    "print('Macro Precision: {:.2f}'.format(precision_score(y_test, y_pred, average='macro')))\n",
    "print('Macro Recall: {:.2f}'.format(recall_score(y_test, y_pred, average='macro')))\n",
    "print('Macro F1-score: {:.2f}\\n'.format(f1_score(y_test, y_pred, average='macro')))\n",
    "\n",
    "print('Weighted Precision: {:.2f}'.format(precision_score(y_test, y_pred, average='weighted')))\n",
    "print('Weighted Recall: {:.2f}'.format(recall_score(y_test, y_pred, average='weighted')))\n",
    "print('Weighted F1-score: {:.2f}'.format(f1_score(y_test, y_pred, average='weighted')))\n",
    "\n",
    "print('\\n--------------- Classification Report ---------------\\n')\n",
    "print(classification_report(y_test, y_pred))"
   ]
  },
  {
   "cell_type": "code",
   "execution_count": 69,
   "id": "1280026f",
   "metadata": {
    "ExecuteTime": {
     "end_time": "2023-02-05T10:47:52.539370Z",
     "start_time": "2023-02-05T10:47:43.608572Z"
    },
    "scrolled": true
   },
   "outputs": [
    {
     "name": "stdout",
     "output_type": "stream",
     "text": [
      "(54879, 1000) (19617, 1000) (54879,)\n"
     ]
    }
   ],
   "source": [
    "# 실제 test에 적용\n",
    "train_x = tokenizer.texts_to_matrix(train_x, mode='tfidf')\n",
    "test_x = tokenizer.texts_to_matrix(test_x, mode='tfidf')\n",
    "print(train_x.shape, test_x.shape, train_y.shape)"
   ]
  },
  {
   "cell_type": "code",
   "execution_count": 70,
   "id": "e80683e1",
   "metadata": {
    "ExecuteTime": {
     "end_time": "2023-02-05T10:51:21.217545Z",
     "start_time": "2023-02-05T10:47:52.541376Z"
    }
   },
   "outputs": [
    {
     "data": {
      "text/plain": [
       "array([1, 1, 1, ..., 1, 1, 0], dtype=int64)"
      ]
     },
     "execution_count": 70,
     "metadata": {},
     "output_type": "execute_result"
    }
   ],
   "source": [
    "sample_weights = compute_sample_weight(\n",
    "    class_weight='balanced',\n",
    "    y=train_y)\n",
    "\n",
    "# declaring and fitting xgb classifier\n",
    "xgb_clf = XGBClassifier(learning_rate = 0.1, max_depth = 6,\n",
    "                     objective='multi:softmax', num_class = 5, reg_lambda=1,\n",
    "                     eval_metric=['merror','mlogloss'], seed=42)\n",
    "xgb_clf.fit(train_x, train_y, verbose=0, sample_weight = sample_weights)"
   ]
  },
  {
   "cell_type": "code",
   "execution_count": 97,
   "id": "9ac42a90",
   "metadata": {
    "ExecuteTime": {
     "end_time": "2023-02-05T10:59:00.363128Z",
     "start_time": "2023-02-05T10:59:00.195358Z"
    }
   },
   "outputs": [
    {
     "data": {
      "text/plain": [
       "array([1, 1, 1, ..., 1, 1, 0], dtype=int64)"
      ]
     },
     "execution_count": 97,
     "metadata": {},
     "output_type": "execute_result"
    }
   ],
   "source": [
    "pred_y = xgb_clf.predict(test_x)\n",
    "pred_y"
   ]
  },
  {
   "cell_type": "code",
   "execution_count": 99,
   "id": "cafe0900",
   "metadata": {
    "ExecuteTime": {
     "end_time": "2023-02-05T10:59:45.101138Z",
     "start_time": "2023-02-05T10:59:45.089918Z"
    }
   },
   "outputs": [
    {
     "data": {
      "text/plain": [
       "array([0, 1, 2, 3, 4], dtype=int64)"
      ]
     },
     "execution_count": 99,
     "metadata": {},
     "output_type": "execute_result"
    }
   ],
   "source": [
    "np.unique(pred_y)"
   ]
  },
  {
   "cell_type": "code",
   "execution_count": 100,
   "id": "37770fa1",
   "metadata": {
    "ExecuteTime": {
     "end_time": "2023-02-05T10:59:45.630872Z",
     "start_time": "2023-02-05T10:59:45.619630Z"
    }
   },
   "outputs": [
    {
     "data": {
      "text/plain": [
       "(array([    0,     1,     2, ..., 19612, 19614, 19615], dtype=int64),)"
      ]
     },
     "execution_count": 100,
     "metadata": {},
     "output_type": "execute_result"
    }
   ],
   "source": [
    "np.where(pred_y == 1)"
   ]
  },
  {
   "cell_type": "code",
   "execution_count": 101,
   "id": "e2c38833",
   "metadata": {
    "ExecuteTime": {
     "end_time": "2023-02-05T10:59:46.507897Z",
     "start_time": "2023-02-05T10:59:46.487373Z"
    }
   },
   "outputs": [
    {
     "data": {
      "text/plain": [
       "(19617, 1000)"
      ]
     },
     "execution_count": 101,
     "metadata": {},
     "output_type": "execute_result"
    }
   ],
   "source": [
    "test_x.shape"
   ]
  },
  {
   "cell_type": "code",
   "execution_count": 104,
   "id": "ce793e72",
   "metadata": {
    "ExecuteTime": {
     "end_time": "2023-02-05T11:00:23.766307Z",
     "start_time": "2023-02-05T11:00:23.084792Z"
    }
   },
   "outputs": [],
   "source": [
    "sub = pd.read_csv('sample_submission.csv')\n",
    "for idx, val in enumerate(pred_y):\n",
    "    if val == 0:\n",
    "        sub.loc[idx,'0'] = 1\n",
    "    elif val == 1:\n",
    "        sub.loc[idx,'1'] = 1\n",
    "    elif val == 2:\n",
    "        sub.loc[idx,'2'] = 1\n",
    "    elif val == 3:\n",
    "        sub.loc[idx,'3'] = 1\n",
    "    elif val == 4:\n",
    "        sub.loc[idx,'4'] = 1"
   ]
  },
  {
   "cell_type": "code",
   "execution_count": 107,
   "id": "2f53aaa7",
   "metadata": {
    "ExecuteTime": {
     "end_time": "2023-02-05T11:01:28.677624Z",
     "start_time": "2023-02-05T11:01:28.618086Z"
    }
   },
   "outputs": [
    {
     "data": {
      "text/html": [
       "<div>\n",
       "<style scoped>\n",
       "    .dataframe tbody tr th:only-of-type {\n",
       "        vertical-align: middle;\n",
       "    }\n",
       "\n",
       "    .dataframe tbody tr th {\n",
       "        vertical-align: top;\n",
       "    }\n",
       "\n",
       "    .dataframe thead th {\n",
       "        text-align: right;\n",
       "    }\n",
       "</style>\n",
       "<table border=\"1\" class=\"dataframe\">\n",
       "  <thead>\n",
       "    <tr style=\"text-align: right;\">\n",
       "      <th></th>\n",
       "      <th>0</th>\n",
       "      <th>1</th>\n",
       "      <th>2</th>\n",
       "      <th>3</th>\n",
       "      <th>4</th>\n",
       "    </tr>\n",
       "    <tr>\n",
       "      <th>index</th>\n",
       "      <th></th>\n",
       "      <th></th>\n",
       "      <th></th>\n",
       "      <th></th>\n",
       "      <th></th>\n",
       "    </tr>\n",
       "  </thead>\n",
       "  <tbody>\n",
       "    <tr>\n",
       "      <th>0</th>\n",
       "      <td>0</td>\n",
       "      <td>1</td>\n",
       "      <td>0</td>\n",
       "      <td>0</td>\n",
       "      <td>0</td>\n",
       "    </tr>\n",
       "    <tr>\n",
       "      <th>1</th>\n",
       "      <td>0</td>\n",
       "      <td>1</td>\n",
       "      <td>0</td>\n",
       "      <td>0</td>\n",
       "      <td>0</td>\n",
       "    </tr>\n",
       "    <tr>\n",
       "      <th>2</th>\n",
       "      <td>0</td>\n",
       "      <td>1</td>\n",
       "      <td>0</td>\n",
       "      <td>0</td>\n",
       "      <td>0</td>\n",
       "    </tr>\n",
       "    <tr>\n",
       "      <th>3</th>\n",
       "      <td>0</td>\n",
       "      <td>0</td>\n",
       "      <td>1</td>\n",
       "      <td>0</td>\n",
       "      <td>0</td>\n",
       "    </tr>\n",
       "    <tr>\n",
       "      <th>4</th>\n",
       "      <td>1</td>\n",
       "      <td>0</td>\n",
       "      <td>0</td>\n",
       "      <td>0</td>\n",
       "      <td>0</td>\n",
       "    </tr>\n",
       "    <tr>\n",
       "      <th>5</th>\n",
       "      <td>0</td>\n",
       "      <td>0</td>\n",
       "      <td>0</td>\n",
       "      <td>0</td>\n",
       "      <td>1</td>\n",
       "    </tr>\n",
       "    <tr>\n",
       "      <th>6</th>\n",
       "      <td>0</td>\n",
       "      <td>0</td>\n",
       "      <td>0</td>\n",
       "      <td>0</td>\n",
       "      <td>1</td>\n",
       "    </tr>\n",
       "    <tr>\n",
       "      <th>7</th>\n",
       "      <td>0</td>\n",
       "      <td>0</td>\n",
       "      <td>0</td>\n",
       "      <td>0</td>\n",
       "      <td>1</td>\n",
       "    </tr>\n",
       "    <tr>\n",
       "      <th>8</th>\n",
       "      <td>1</td>\n",
       "      <td>0</td>\n",
       "      <td>0</td>\n",
       "      <td>0</td>\n",
       "      <td>0</td>\n",
       "    </tr>\n",
       "    <tr>\n",
       "      <th>9</th>\n",
       "      <td>1</td>\n",
       "      <td>0</td>\n",
       "      <td>0</td>\n",
       "      <td>0</td>\n",
       "      <td>0</td>\n",
       "    </tr>\n",
       "  </tbody>\n",
       "</table>\n",
       "</div>"
      ],
      "text/plain": [
       "       0  1  2  3  4\n",
       "index               \n",
       "0      0  1  0  0  0\n",
       "1      0  1  0  0  0\n",
       "2      0  1  0  0  0\n",
       "3      0  0  1  0  0\n",
       "4      1  0  0  0  0\n",
       "5      0  0  0  0  1\n",
       "6      0  0  0  0  1\n",
       "7      0  0  0  0  1\n",
       "8      1  0  0  0  0\n",
       "9      1  0  0  0  0"
      ]
     },
     "metadata": {},
     "output_type": "display_data"
    }
   ],
   "source": [
    "display(sub[:10])\n",
    "sub.to_csv('sub1.csv', index = False)"
   ]
  },
  {
   "cell_type": "code",
   "execution_count": null,
   "id": "a7c50587",
   "metadata": {},
   "outputs": [],
   "source": []
  }
 ],
 "metadata": {
  "colab": {
   "provenance": [
    {
     "file_id": "1iu97g88ezB8C7RFA-LeydpIXZ58cbaBR",
     "timestamp": 1675063346600
    }
   ]
  },
  "kernelspec": {
   "display_name": "Python 3 (ipykernel)",
   "language": "python",
   "name": "python3"
  },
  "language_info": {
   "codemirror_mode": {
    "name": "ipython",
    "version": 3
   },
   "file_extension": ".py",
   "mimetype": "text/x-python",
   "name": "python",
   "nbconvert_exporter": "python",
   "pygments_lexer": "ipython3",
   "version": "3.9.13"
  },
  "toc": {
   "base_numbering": 1,
   "nav_menu": {},
   "number_sections": true,
   "sideBar": true,
   "skip_h1_title": false,
   "title_cell": "Table of Contents",
   "title_sidebar": "Contents",
   "toc_cell": false,
   "toc_position": {},
   "toc_section_display": true,
   "toc_window_display": false
  }
 },
 "nbformat": 4,
 "nbformat_minor": 5
}
