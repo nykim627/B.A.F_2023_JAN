{
 "cells": [
  {
   "cell_type": "markdown",
   "id": "61669d16",
   "metadata": {
    "ExecuteTime": {
     "end_time": "2023-01-14T04:34:53.331927Z",
     "start_time": "2023-01-14T04:34:53.315804Z"
    }
   },
   "source": [
    "**_워드 임베딩?_**    \n",
    "-> 텍스트를 컴퓨터가 이해할 수 있도록 수치화하는 하나의 방법   \n",
    "-> 각 단어를 인공 신경망 학습을 통해 벡터화함\n",
    "\n",
    "-----"
   ]
  },
  {
   "cell_type": "markdown",
   "id": "4f3ff5a9",
   "metadata": {},
   "source": [
    "# 1. 워드 임베딩\n",
    "- 단어를 벡터로 표현하는 방법.\n",
    "- 단어를 밀집 표현으로 변환\n",
    "\n",
    "## 1.1 희소 표현(Sparse Representation) \n",
    "벡터 또는 행렬의 값이 대부분 0으로 표현되는 방법.   \n",
    "ex) 원-핫 인코딩을 통해 나온 원-핫 벡터는 표현하고자 하는 단어의 인덱스만 1이고 나머지 인덱스는 전부 0으로 표현   \n",
    "ex) DTM : 특정 문서에 다수 등장한 단어가 다른 많은 문서에서는 등장하지 않으면 행렬의 많은 값이 0이 된다.   \n",
    "- 문제점   \n",
    "    1) 단어 개수가 늘어나면 벡터의 차원이 한없이 커진다. -> 공간낭비   \n",
    "    2) 단어의 의미를 표현하지 못한다.   \n",
    "    3) 단어 벡터 간 유의미한 유사도를 계산할 수 없다. \n",
    "    \n",
    "## 1.2 밀집 표현(Dense Representation)\n",
    "사용자가 설정한 값으로 모든 단어의 벡터 표현의 차원을 맞추며, 벡터값은 0과 1만이 아니라 실수값을 갖는다.\n",
    "\n",
    "## 1.3 워드 임베딩(Word Embedding)\n",
    "단어를 밀집 벡터(dense vector)의 형태로 표현하는 방법.   \n",
    "이 밀집 벡터를 워드 임베딩 과정을 통해 나온 결과라고 하여 임베딩 벡터라고도 한다.\n",
    "<img src=\"./09-1.png\">"
   ]
  },
  {
   "cell_type": "markdown",
   "id": "94334d94",
   "metadata": {},
   "source": [
    "# 2. 워드투벡터(word2Vec)\n",
    "단어 벡터 간 유의미한 유사도를 파악할 수 있도록 단어의 의미를 수치화하는 대표적인 방법\n",
    "\n",
    "### 분산 표현\n",
    "희소 표현 방법의 대안으로, 단어의 의미를 다차원 공간에 벡터화하는 표현 방법.   \n",
    "분포 가설을 이용하여 **텍스트를 학습**하고, 단어의 의미를 벡터의 여러 차원에 분산하여 표현.\n",
    "- 분포 가설 : 비슷한 문맥에서 등장하는 단어들은 비슷한 의미를 가진다.   \n",
    "\n",
    "분산 표현을 이용하여 단어 간 의미적 유사성을 벡터화하는 작업을 **워드 임베딩**이라 부르며, 이렇게 표현된 벡터를 **임베딩 벡터**라 한다.   \n",
    "\n",
    "#### Word2Vec의 학습 방식에는 CBOW(Continuous Bag of Words)와 Skip-Gram 두 가지 방식이 있다.\n",
    "\n",
    "## 1) CBOW(Continuous Bag of Words)\n",
    "주변에 있는 단어들을 입력으로 중간에 있는 단어들을 예측하는 방법    \n",
    "- 윈도우 : 중심 단어를 예측하기 위해서 앞, 뒤로 몇 개의 단어를 볼지에 대한 범위   \n",
    "- 윈도우 크기가 n이라면, 실제 중심 단어를 예측하기 위해 참고하려고 하는 주변 단어의 개수는 2n개이다.   \n",
    "\n",
    "투사층에서 입력 벡터인 2n개의 벡터의 평균을 구한다.\n",
    "  \n",
    "## 2) Skip-gram\n",
    "중간에 있는 단어들을 입력으로 주변 단어들을 예측하는 방법   \n",
    "중심 단어에 대해서 주변 단어를 예측하므로 투사층에서 벡터들의 평균을 구하는 과정이 없다.\n",
    "\n",
    "**_1), 2)에 대한 추가설명은 꼭 교재 참고!!(그림이 많고 책에 나온 내용을 이해하는 게 중요해서 따로 요약X)_**\n",
    "- CBOW, Skip-gram 설명 : https://wikidocs.net/22660\n",
    "    \n",
    "## NNLM  VS Word2Vec\n",
    "\n",
    "<img src=\"./09-2.png\">\n",
    "\n",
    "### NNLM\n",
    "- 단어 벡터 간 유사도를 구할 수 있도록 워드 임베딩 개념 도입\n",
    "- 다음 단어를 예측하는 언어 모델 구현이 목적 -> 다음 단어를 예측\n",
    "- 예측 단어의 이전 단어들만을 참고\n",
    "- 활성화 함수가 있는 은닉층 존재\n",
    "\n",
    "### Word2VEC\n",
    "- 워드 임베딩 자체에 집중. NNLM의 느린 학습 속도와 정확도 개선\n",
    "- 워드 임베딩 자체가 목적. -> 중심 단어를 예측\n",
    "- 예측 단어의 전, 후 단어들을 모두 참고\n",
    "- 활성화 함수가 있는 은닉층 제거 -> 학습 속도에 강점."
   ]
  },
  {
   "cell_type": "markdown",
   "id": "510c4a08",
   "metadata": {},
   "source": [
    "# 3. 영어/한국어 Word2Vec 실습\n",
    "gensim 패키지에서 제공하는 이미 구현된 Word2Vec을 사용"
   ]
  },
  {
   "cell_type": "markdown",
   "id": "d90882a9",
   "metadata": {},
   "source": [
    "## 3.1 영어 Word2Vec 만들기"
   ]
  },
  {
   "cell_type": "markdown",
   "id": "c4c13bba",
   "metadata": {},
   "source": [
    "### 3.1.2 훈련 데이터 전처리"
   ]
  },
  {
   "cell_type": "code",
   "execution_count": 1,
   "id": "b7cb9aaa",
   "metadata": {
    "ExecuteTime": {
     "end_time": "2023-01-15T02:01:29.781197Z",
     "start_time": "2023-01-15T02:01:27.796637Z"
    }
   },
   "outputs": [],
   "source": [
    "import re\n",
    "import urllib.request\n",
    "import zipfile\n",
    "from lxml import etree\n",
    "from nltk.tokenize import word_tokenize, sent_tokenize"
   ]
  },
  {
   "cell_type": "code",
   "execution_count": 2,
   "id": "77ab461e",
   "metadata": {
    "ExecuteTime": {
     "end_time": "2023-01-15T02:01:36.558681Z",
     "start_time": "2023-01-15T02:01:29.784199Z"
    }
   },
   "outputs": [
    {
     "data": {
      "text/plain": [
       "('ted_en-20160408.xml', <http.client.HTTPMessage at 0x23330969970>)"
      ]
     },
     "execution_count": 2,
     "metadata": {},
     "output_type": "execute_result"
    }
   ],
   "source": [
    "# 훈련 데이터 다운로드 - xml문서형식\n",
    "urllib.request.urlretrieve(\"https://raw.githubusercontent.com/ukairia777/tensorflow-nlp-tutorial\\\n",
    "/main/09.%20Word%20Embedding/dataset/ted_en-20160408.xml\", filename=\"ted_en-20160408.xml\")"
   ]
  },
  {
   "cell_type": "markdown",
   "id": "6a955574",
   "metadata": {},
   "source": [
    "> 현재 경로로 데이터가 다운로드된다.   \n",
    "\\<content>, \\</content> 사이의 내용들은 전처리하고, Laughter나 Applause와 같은 배경음을 나타내는 단어도 제거해야 한다."
   ]
  },
  {
   "cell_type": "code",
   "execution_count": 3,
   "id": "f6d5b14f",
   "metadata": {
    "ExecuteTime": {
     "end_time": "2023-01-15T02:01:39.586102Z",
     "start_time": "2023-01-15T02:01:36.561681Z"
    }
   },
   "outputs": [
    {
     "data": {
      "text/plain": [
       "<lxml.etree._ElementTree at 0x2332f56cb80>"
      ]
     },
     "execution_count": 3,
     "metadata": {},
     "output_type": "execute_result"
    }
   ],
   "source": [
    "# 훈련 데이터 전처리 코드\n",
    "targetXML = open('ted_en-20160408.xml', 'r', encoding='UTF8')\n",
    "target_text = etree.parse(targetXML)\n",
    "target_text"
   ]
  },
  {
   "cell_type": "code",
   "execution_count": 4,
   "id": "90ea7f8e",
   "metadata": {
    "ExecuteTime": {
     "end_time": "2023-01-15T02:01:39.741570Z",
     "start_time": "2023-01-15T02:01:39.588992Z"
    }
   },
   "outputs": [],
   "source": [
    "# xml 파일로부터 <content>와 </content> 사이의 내용만 가져온다.\n",
    "parse_text = '\\n'.join(target_text.xpath('//content/text()'))"
   ]
  },
  {
   "cell_type": "markdown",
   "id": "b795bccb",
   "metadata": {},
   "source": [
    "> **xpath문법 참고**\n",
    "> - https://velog.io/@mjhuh263/TIL-23-HTML-XPATH-%EB%AC%B8%EB%B2%95%EA%B3%BC-selenium%EC%97%90-XPATH-%EC%9D%B4%EC%9A%A9%ED%95%98%EA%B8%B0"
   ]
  },
  {
   "cell_type": "code",
   "execution_count": 5,
   "id": "7b2550ba",
   "metadata": {
    "ExecuteTime": {
     "end_time": "2023-01-15T02:01:39.803534Z",
     "start_time": "2023-01-15T02:01:39.744615Z"
    }
   },
   "outputs": [],
   "source": [
    "# 정규 표현식의 sub 모듈을 통해 content 중간에 등장하는 (Audio), (Laughter) 등의 배경음 부분을 제거.\n",
    "# 해당 코드는 괄호로 구성된 내용을 제거.\n",
    "content_text = re.sub(r'\\([^)]*\\)', '', parse_text)"
   ]
  },
  {
   "cell_type": "markdown",
   "id": "0c6624e7",
   "metadata": {
    "ExecuteTime": {
     "end_time": "2023-01-14T06:56:51.702408Z",
     "start_time": "2023-01-14T06:56:51.646536Z"
    }
   },
   "source": [
    "> **re.sub 참고**\n",
    "> - https://clolee.tistory.com/17\n",
    "\n",
    "> **정규표현식 참고**\n",
    "> - https://wikidocs.net/4308\n",
    "> - https://uipath.tistory.com/91"
   ]
  },
  {
   "cell_type": "code",
   "execution_count": 6,
   "id": "06157cfc",
   "metadata": {
    "ExecuteTime": {
     "end_time": "2023-01-15T02:02:09.129280Z",
     "start_time": "2023-01-15T02:01:39.806529Z"
    }
   },
   "outputs": [],
   "source": [
    "# 입력 코퍼스에 대해서 NLTK를 이용하여 문장 토큰화를 수행.\n",
    "sent_text = sent_tokenize(content_text)\n",
    "\n",
    "# 각 문장에 대해서 구두점을 제거하고, 대문자를 소문자로 변환.\n",
    "normalized_text = []\n",
    "for string in sent_text:\n",
    "    tokens = re.sub(r\"[^a-z0-9]+\", \" \", string.lower())\n",
    "    normalized_text.append(tokens)\n",
    "\n",
    "# 각 문장에 대해서 NLTK를 이용하여 단어 토큰화를 수행.\n",
    "result = [word_tokenize(sentence) for sentence in normalized_text]"
   ]
  },
  {
   "cell_type": "code",
   "execution_count": 7,
   "id": "61e8fb4b",
   "metadata": {
    "ExecuteTime": {
     "end_time": "2023-01-15T02:02:09.145196Z",
     "start_time": "2023-01-15T02:02:09.131241Z"
    }
   },
   "outputs": [
    {
     "name": "stdout",
     "output_type": "stream",
     "text": [
      "총 샘플의 개수 : 273424\n"
     ]
    }
   ],
   "source": [
    "print('총 샘플의 개수 : {}'.format(len(result)))"
   ]
  },
  {
   "cell_type": "code",
   "execution_count": 8,
   "id": "525b26f2",
   "metadata": {
    "ExecuteTime": {
     "end_time": "2023-01-15T02:02:09.160627Z",
     "start_time": "2023-01-15T02:02:09.147868Z"
    }
   },
   "outputs": [
    {
     "name": "stdout",
     "output_type": "stream",
     "text": [
      "['here', 'are', 'two', 'reasons', 'companies', 'fail', 'they', 'only', 'do', 'more', 'of', 'the', 'same', 'or', 'they', 'only', 'do', 'what', 's', 'new']\n",
      "['to', 'me', 'the', 'real', 'real', 'solution', 'to', 'quality', 'growth', 'is', 'figuring', 'out', 'the', 'balance', 'between', 'two', 'activities', 'exploration', 'and', 'exploitation']\n",
      "['both', 'are', 'necessary', 'but', 'it', 'can', 'be', 'too', 'much', 'of', 'a', 'good', 'thing']\n"
     ]
    }
   ],
   "source": [
    "# 샘플 3개만 출력 - 토큰화 수행되었음을 확인 가능\n",
    "for line in result[:3]:\n",
    "    print(line)"
   ]
  },
  {
   "cell_type": "markdown",
   "id": "b578dd94",
   "metadata": {},
   "source": [
    "### 3.1.2 Word2Vec 모델"
   ]
  },
  {
   "cell_type": "code",
   "execution_count": 9,
   "id": "9e0a82d2",
   "metadata": {
    "ExecuteTime": {
     "end_time": "2023-01-15T02:02:09.176651Z",
     "start_time": "2023-01-15T02:02:09.165618Z"
    }
   },
   "outputs": [],
   "source": [
    "#!pip install gensim"
   ]
  },
  {
   "cell_type": "code",
   "execution_count": 10,
   "id": "aeaee272",
   "metadata": {
    "ExecuteTime": {
     "end_time": "2023-01-15T02:02:20.715586Z",
     "start_time": "2023-01-15T02:02:09.183674Z"
    }
   },
   "outputs": [],
   "source": [
    "# Word2Vec 훈련시키기\n",
    "from gensim.models import Word2Vec\n",
    "from gensim.models import KeyedVectors\n",
    "\n",
    "model = Word2Vec(sentences=result, vector_size=100, window=5, min_count=5, workers=4, sg=0)"
   ]
  },
  {
   "cell_type": "markdown",
   "id": "1b7f7d4d",
   "metadata": {
    "ExecuteTime": {
     "end_time": "2023-01-14T07:06:28.242575Z",
     "start_time": "2023-01-14T07:06:28.229361Z"
    }
   },
   "source": [
    "> Word2Vec의 하이퍼파라미터\n",
    "> - vector_size = 워드 벡터의 특징 값. 즉, 임베딩 된 벡터의 차원.\n",
    "> - window = 컨텍스트 윈도우 크기\n",
    "> - min_count = 단어 최소 빈도 수 제한 (빈도가 적은 단어들은 학습X)\n",
    "> - workers = 학습을 위한 프로세스 수\n",
    "> - sg = 0은 CBOW, 1은 Skip-gram.\n",
    "\n",
    "> **오류해결** : __init__() got an unexpected keyword argument 'size'\n",
    "> - https://taepseon.tistory.com/165"
   ]
  },
  {
   "cell_type": "code",
   "execution_count": 11,
   "id": "cd0700ff",
   "metadata": {
    "ExecuteTime": {
     "end_time": "2023-01-15T02:02:20.762595Z",
     "start_time": "2023-01-15T02:02:20.716568Z"
    }
   },
   "outputs": [
    {
     "name": "stdout",
     "output_type": "stream",
     "text": [
      "[('woman', 0.8594766855239868), ('guy', 0.7988778948783875), ('lady', 0.7585463523864746), ('girl', 0.7442930340766907), ('boy', 0.7347717881202698), ('gentleman', 0.706429660320282), ('poet', 0.7047451734542847), ('kid', 0.687045693397522), ('soldier', 0.687027096748352), ('surgeon', 0.6518595218658447)]\n"
     ]
    }
   ],
   "source": [
    "# model.wv.most_similar : 입력한 단어에 대해서 가장 유사한 단어들을 출력\n",
    "model_result = model.wv.most_similar(\"man\")\n",
    "print(model_result)"
   ]
  },
  {
   "cell_type": "code",
   "execution_count": 12,
   "id": "677a02d7",
   "metadata": {
    "ExecuteTime": {
     "end_time": "2023-01-15T02:02:23.409804Z",
     "start_time": "2023-01-15T02:02:20.765597Z"
    }
   },
   "outputs": [],
   "source": [
    "# Word2Vec 모델 저장하고 로드하기\n",
    "model.wv.save_word2vec_format('eng_w2v') # 모델 저장\n",
    "loaded_model = KeyedVectors.load_word2vec_format(\"eng_w2v\") # 모델 로드"
   ]
  },
  {
   "cell_type": "code",
   "execution_count": 13,
   "id": "cdd71239",
   "metadata": {
    "ExecuteTime": {
     "end_time": "2023-01-15T02:02:23.440463Z",
     "start_time": "2023-01-15T02:02:23.413450Z"
    }
   },
   "outputs": [
    {
     "name": "stdout",
     "output_type": "stream",
     "text": [
      "[('woman', 0.8594766855239868), ('guy', 0.7988778948783875), ('lady', 0.7585463523864746), ('girl', 0.7442930340766907), ('boy', 0.7347717881202698), ('gentleman', 0.706429660320282), ('poet', 0.7047451734542847), ('kid', 0.687045693397522), ('soldier', 0.687027096748352), ('surgeon', 0.6518595218658447)]\n"
     ]
    }
   ],
   "source": [
    "model_result = loaded_model.most_similar(\"man\")\n",
    "print(model_result)"
   ]
  },
  {
   "cell_type": "markdown",
   "id": "5aef0100",
   "metadata": {},
   "source": [
    "## 3.2 한국어 Word2Vec 만들기(네이버 영화 리뷰)"
   ]
  },
  {
   "cell_type": "code",
   "execution_count": 14,
   "id": "64802b7f",
   "metadata": {
    "ExecuteTime": {
     "end_time": "2023-01-15T02:02:24.906008Z",
     "start_time": "2023-01-15T02:02:23.444421Z"
    }
   },
   "outputs": [],
   "source": [
    "import pandas as pd\n",
    "import matplotlib.pyplot as plt\n",
    "import urllib.request\n",
    "from gensim.models.word2vec import Word2Vec\n",
    "from konlpy.tag import Okt"
   ]
  },
  {
   "cell_type": "code",
   "execution_count": 15,
   "id": "78ecd345",
   "metadata": {
    "ExecuteTime": {
     "end_time": "2023-01-15T02:02:27.372999Z",
     "start_time": "2023-01-15T02:02:24.909339Z"
    }
   },
   "outputs": [
    {
     "data": {
      "text/plain": [
       "('ratings.txt', <http.client.HTTPMessage at 0x23370804a00>)"
      ]
     },
     "execution_count": 15,
     "metadata": {},
     "output_type": "execute_result"
    }
   ],
   "source": [
    "# 네이버 영화 리뷰 데이터 다운로드\n",
    "urllib.request.urlretrieve(\"https://raw.githubusercontent.com/e9t/nsmc/master\\\n",
    "/ratings.txt\", filename=\"ratings.txt\")"
   ]
  },
  {
   "cell_type": "code",
   "execution_count": 16,
   "id": "ffb63598",
   "metadata": {
    "ExecuteTime": {
     "end_time": "2023-01-15T02:02:27.856873Z",
     "start_time": "2023-01-15T02:02:27.375473Z"
    }
   },
   "outputs": [
    {
     "data": {
      "text/html": [
       "<div>\n",
       "<style scoped>\n",
       "    .dataframe tbody tr th:only-of-type {\n",
       "        vertical-align: middle;\n",
       "    }\n",
       "\n",
       "    .dataframe tbody tr th {\n",
       "        vertical-align: top;\n",
       "    }\n",
       "\n",
       "    .dataframe thead th {\n",
       "        text-align: right;\n",
       "    }\n",
       "</style>\n",
       "<table border=\"1\" class=\"dataframe\">\n",
       "  <thead>\n",
       "    <tr style=\"text-align: right;\">\n",
       "      <th></th>\n",
       "      <th>id</th>\n",
       "      <th>document</th>\n",
       "      <th>label</th>\n",
       "    </tr>\n",
       "  </thead>\n",
       "  <tbody>\n",
       "    <tr>\n",
       "      <th>0</th>\n",
       "      <td>8112052</td>\n",
       "      <td>어릴때보고 지금다시봐도 재밌어요ㅋㅋ</td>\n",
       "      <td>1</td>\n",
       "    </tr>\n",
       "    <tr>\n",
       "      <th>1</th>\n",
       "      <td>8132799</td>\n",
       "      <td>디자인을 배우는 학생으로, 외국디자이너와 그들이 일군 전통을 통해 발전해가는 문화산...</td>\n",
       "      <td>1</td>\n",
       "    </tr>\n",
       "    <tr>\n",
       "      <th>2</th>\n",
       "      <td>4655635</td>\n",
       "      <td>폴리스스토리 시리즈는 1부터 뉴까지 버릴께 하나도 없음.. 최고.</td>\n",
       "      <td>1</td>\n",
       "    </tr>\n",
       "    <tr>\n",
       "      <th>3</th>\n",
       "      <td>9251303</td>\n",
       "      <td>와.. 연기가 진짜 개쩔구나.. 지루할거라고 생각했는데 몰입해서 봤다.. 그래 이런...</td>\n",
       "      <td>1</td>\n",
       "    </tr>\n",
       "    <tr>\n",
       "      <th>4</th>\n",
       "      <td>10067386</td>\n",
       "      <td>안개 자욱한 밤하늘에 떠 있는 초승달 같은 영화.</td>\n",
       "      <td>1</td>\n",
       "    </tr>\n",
       "  </tbody>\n",
       "</table>\n",
       "</div>"
      ],
      "text/plain": [
       "         id                                           document  label\n",
       "0   8112052                                어릴때보고 지금다시봐도 재밌어요ㅋㅋ      1\n",
       "1   8132799  디자인을 배우는 학생으로, 외국디자이너와 그들이 일군 전통을 통해 발전해가는 문화산...      1\n",
       "2   4655635               폴리스스토리 시리즈는 1부터 뉴까지 버릴께 하나도 없음.. 최고.      1\n",
       "3   9251303  와.. 연기가 진짜 개쩔구나.. 지루할거라고 생각했는데 몰입해서 봤다.. 그래 이런...      1\n",
       "4  10067386                        안개 자욱한 밤하늘에 떠 있는 초승달 같은 영화.      1"
      ]
     },
     "execution_count": 16,
     "metadata": {},
     "output_type": "execute_result"
    }
   ],
   "source": [
    "train_data = pd.read_table('ratings.txt')\n",
    "train_data[:5] # 상위 5개 출력"
   ]
  },
  {
   "cell_type": "code",
   "execution_count": 17,
   "id": "da287f65",
   "metadata": {
    "ExecuteTime": {
     "end_time": "2023-01-15T02:02:27.872511Z",
     "start_time": "2023-01-15T02:02:27.859870Z"
    }
   },
   "outputs": [
    {
     "name": "stdout",
     "output_type": "stream",
     "text": [
      "200000\n"
     ]
    }
   ],
   "source": [
    "print(len(train_data)) # 리뷰 개수 출력"
   ]
  },
  {
   "cell_type": "code",
   "execution_count": 18,
   "id": "aabb2f3b",
   "metadata": {
    "ExecuteTime": {
     "end_time": "2023-01-15T02:02:27.934676Z",
     "start_time": "2023-01-15T02:02:27.875568Z"
    }
   },
   "outputs": [
    {
     "name": "stdout",
     "output_type": "stream",
     "text": [
      "True\n"
     ]
    }
   ],
   "source": [
    "# NULL 값 존재 유무\n",
    "print(train_data.isnull().values.any())"
   ]
  },
  {
   "cell_type": "code",
   "execution_count": 19,
   "id": "8ad6d474",
   "metadata": {
    "ExecuteTime": {
     "end_time": "2023-01-15T02:02:28.014043Z",
     "start_time": "2023-01-15T02:02:27.936659Z"
    }
   },
   "outputs": [
    {
     "name": "stdout",
     "output_type": "stream",
     "text": [
      "False\n",
      "199992\n"
     ]
    }
   ],
   "source": [
    "# 결측값 제거\n",
    "train_data = train_data.dropna(how = 'any') # Null 값이 존재하는 행 제거\n",
    "print(train_data.isnull().values.any()) # Null 값이 존재하는지 확인\n",
    "print(len(train_data)) # 리뷰 개수 출력"
   ]
  },
  {
   "cell_type": "code",
   "execution_count": 20,
   "id": "908eb8ab",
   "metadata": {
    "ExecuteTime": {
     "end_time": "2023-01-15T02:02:28.341392Z",
     "start_time": "2023-01-15T02:02:28.015549Z"
    }
   },
   "outputs": [
    {
     "name": "stderr",
     "output_type": "stream",
     "text": [
      "C:\\Users\\hkny0\\AppData\\Local\\Temp\\ipykernel_10512\\3523926270.py:2: FutureWarning: The default value of regex will change from True to False in a future version.\n",
      "  train_data['document'] = train_data['document'].str.replace(\"[^ㄱ-ㅎㅏ-ㅣ가-힣 ]\",\"\")\n"
     ]
    },
    {
     "data": {
      "text/html": [
       "<div>\n",
       "<style scoped>\n",
       "    .dataframe tbody tr th:only-of-type {\n",
       "        vertical-align: middle;\n",
       "    }\n",
       "\n",
       "    .dataframe tbody tr th {\n",
       "        vertical-align: top;\n",
       "    }\n",
       "\n",
       "    .dataframe thead th {\n",
       "        text-align: right;\n",
       "    }\n",
       "</style>\n",
       "<table border=\"1\" class=\"dataframe\">\n",
       "  <thead>\n",
       "    <tr style=\"text-align: right;\">\n",
       "      <th></th>\n",
       "      <th>id</th>\n",
       "      <th>document</th>\n",
       "      <th>label</th>\n",
       "    </tr>\n",
       "  </thead>\n",
       "  <tbody>\n",
       "    <tr>\n",
       "      <th>0</th>\n",
       "      <td>8112052</td>\n",
       "      <td>어릴때보고 지금다시봐도 재밌어요ㅋㅋ</td>\n",
       "      <td>1</td>\n",
       "    </tr>\n",
       "    <tr>\n",
       "      <th>1</th>\n",
       "      <td>8132799</td>\n",
       "      <td>디자인을 배우는 학생으로 외국디자이너와 그들이 일군 전통을 통해 발전해가는 문화산업...</td>\n",
       "      <td>1</td>\n",
       "    </tr>\n",
       "    <tr>\n",
       "      <th>2</th>\n",
       "      <td>4655635</td>\n",
       "      <td>폴리스스토리 시리즈는 부터 뉴까지 버릴께 하나도 없음 최고</td>\n",
       "      <td>1</td>\n",
       "    </tr>\n",
       "    <tr>\n",
       "      <th>3</th>\n",
       "      <td>9251303</td>\n",
       "      <td>와 연기가 진짜 개쩔구나 지루할거라고 생각했는데 몰입해서 봤다 그래 이런게 진짜 영화지</td>\n",
       "      <td>1</td>\n",
       "    </tr>\n",
       "    <tr>\n",
       "      <th>4</th>\n",
       "      <td>10067386</td>\n",
       "      <td>안개 자욱한 밤하늘에 떠 있는 초승달 같은 영화</td>\n",
       "      <td>1</td>\n",
       "    </tr>\n",
       "  </tbody>\n",
       "</table>\n",
       "</div>"
      ],
      "text/plain": [
       "         id                                           document  label\n",
       "0   8112052                                어릴때보고 지금다시봐도 재밌어요ㅋㅋ      1\n",
       "1   8132799  디자인을 배우는 학생으로 외국디자이너와 그들이 일군 전통을 통해 발전해가는 문화산업...      1\n",
       "2   4655635                   폴리스스토리 시리즈는 부터 뉴까지 버릴께 하나도 없음 최고      1\n",
       "3   9251303   와 연기가 진짜 개쩔구나 지루할거라고 생각했는데 몰입해서 봤다 그래 이런게 진짜 영화지      1\n",
       "4  10067386                         안개 자욱한 밤하늘에 떠 있는 초승달 같은 영화      1"
      ]
     },
     "execution_count": 20,
     "metadata": {},
     "output_type": "execute_result"
    }
   ],
   "source": [
    "# 정규 표현식을 통한 한글 외 문자 제거\n",
    "train_data['document'] = train_data['document'].str.replace(\"[^ㄱ-ㅎㅏ-ㅣ가-힣 ]\",\"\")\n",
    "train_data[:5] # 상위 5개 출력"
   ]
  },
  {
   "cell_type": "markdown",
   "id": "53f259cb",
   "metadata": {},
   "source": [
    "> str.replace의 argument에 관한 future warning   \n",
    "> - The default value of regex will change from True to False in a future version.\n",
    "> - https://stackoverflow.com/questions/66603854/futurewarning-the-default-value-of-regex-will-change-from-true-to-false-in-a-fu"
   ]
  },
  {
   "cell_type": "code",
   "execution_count": 21,
   "id": "a95ebb85",
   "metadata": {
    "ExecuteTime": {
     "end_time": "2023-01-15T02:13:15.895067Z",
     "start_time": "2023-01-15T02:02:28.345296Z"
    }
   },
   "outputs": [
    {
     "name": "stderr",
     "output_type": "stream",
     "text": [
      "100%|█████████████████████████████████████████████████████████████████████████| 199992/199992 [10:45<00:00, 309.68it/s]\n"
     ]
    }
   ],
   "source": [
    "## 불용어 제거\n",
    "from tqdm import tqdm\n",
    "\n",
    "# 불용어 정의\n",
    "stopwords = ['의','가','이','은','들','는','좀','잘','걍','과','도','를','으로','자','에','와','한','하다']\n",
    "\n",
    "# 형태소 분석기 OKT를 사용한 토큰화 작업 (다소 시간 소요)\n",
    "okt = Okt()\n",
    "\n",
    "tokenized_data = []\n",
    "for sentence in tqdm(train_data['document']):\n",
    "    tokenized_sentence = okt.morphs(sentence, stem=True) # 토큰화\n",
    "    stopwords_removed_sentence = [word for word in tokenized_sentence if not word in stopwords] # 불용어 제거\n",
    "    tokenized_data.append(stopwords_removed_sentence)"
   ]
  },
  {
   "cell_type": "markdown",
   "id": "4ffd87a1",
   "metadata": {},
   "source": [
    "> **<tqdm 사용법>**\n",
    "> - 반복문에서 진행률을 progress bar로 표혀해주고 남은 시간 정보까지 알려주는 모듈\n",
    "> - https://zephyrus1111.tistory.com/305"
   ]
  },
  {
   "cell_type": "code",
   "execution_count": 22,
   "id": "6f14c53e",
   "metadata": {
    "ExecuteTime": {
     "end_time": "2023-01-15T02:13:16.723237Z",
     "start_time": "2023-01-15T02:13:15.899067Z"
    }
   },
   "outputs": [
    {
     "name": "stdout",
     "output_type": "stream",
     "text": [
      "리뷰의 최대 길이 : 72\n",
      "리뷰의 평균 길이 : 10.716703668146726\n"
     ]
    },
    {
     "data": {
      "image/png": "[encoded data removed]",
      "text/plain": [
       "<Figure size 640x480 with 1 Axes>"
      ]
     },
     "metadata": {},
     "output_type": "display_data"
    }
   ],
   "source": [
    "# 리뷰 길이 분포 확인\n",
    "print('리뷰의 최대 길이 :',max(len(review) for review in tokenized_data))\n",
    "print('리뷰의 평균 길이 :',sum(map(len, tokenized_data))/len(tokenized_data))\n",
    "plt.hist([len(review) for review in tokenized_data], bins=50)\n",
    "plt.xlabel('length of samples')\n",
    "plt.ylabel('number of samples')\n",
    "plt.show()"
   ]
  },
  {
   "cell_type": "code",
   "execution_count": 23,
   "id": "6673b370",
   "metadata": {
    "ExecuteTime": {
     "end_time": "2023-01-15T02:13:22.717142Z",
     "start_time": "2023-01-15T02:13:16.726234Z"
    }
   },
   "outputs": [],
   "source": [
    "# Word2Vec으로 토큰화 된 네이버 영화 리뷰 데이터를 학습\n",
    "from gensim.models import Word2Vec\n",
    "\n",
    "model2 = Word2Vec(sentences = tokenized_data, vector_size = 100, window = 5, min_count = 5, workers = 4, sg = 0)"
   ]
  },
  {
   "cell_type": "code",
   "execution_count": 24,
   "id": "af6c58a8",
   "metadata": {
    "ExecuteTime": {
     "end_time": "2023-01-15T02:13:22.732355Z",
     "start_time": "2023-01-15T02:13:22.720345Z"
    }
   },
   "outputs": [
    {
     "data": {
      "text/plain": [
       "(16477, 100)"
      ]
     },
     "execution_count": 24,
     "metadata": {},
     "output_type": "execute_result"
    }
   ],
   "source": [
    "# 완성된 임베딩 매트릭스의 크기 확인\n",
    "model2.wv.vectors.shape"
   ]
  },
  {
   "cell_type": "code",
   "execution_count": 26,
   "id": "434ba968",
   "metadata": {
    "ExecuteTime": {
     "end_time": "2023-01-15T03:47:28.671713Z",
     "start_time": "2023-01-15T03:47:28.652701Z"
    },
    "scrolled": true
   },
   "outputs": [
    {
     "name": "stdout",
     "output_type": "stream",
     "text": [
      "[('안성기', 0.8951629996299744), ('한석규', 0.878433108329773), ('김수현', 0.8374939560890198), ('엄태웅', 0.8361460566520691), ('김명민', 0.8339917063713074), ('메릴', 0.83388751745224), ('최민수', 0.8326302766799927), ('송강호', 0.8280673027038574), ('박중훈', 0.8279872536659241), ('윤제문', 0.8226507902145386)]\n"
     ]
    }
   ],
   "source": [
    "# '최민식'과 유사한 단어 출력\n",
    "print(model2.wv.most_similar(\"최민식\"))"
   ]
  },
  {
   "cell_type": "markdown",
   "id": "eb504577",
   "metadata": {},
   "source": [
    "## 3.3 사전 훈련된 Word2Vec 임베딩(Pre-trained Word2Vec embedding) 소개\n",
    "갖고 있는 훈련 데이터의 양이 부족한 상황이라면, 위키피디아 등의 방대한 데이터로 사전에 훈련된 워드 임베딩(pre-trained word embedding vector)을 가지고 와서 해당 벡터들의 값을 원하는 작업에 사용 할 수도 있다.\n",
    "\n",
    "구글이 제공하는 사전 훈련된 Word2Vec 모델을 사용하는 방법에 대해 알아보자.   \n",
    "- 모델 다운로드 경로 : https://drive.google.com/file/d/0B7XkCwpI5KDYNlNUTTlSS21pQmM/edit   \n"
   ]
  },
  {
   "cell_type": "code",
   "execution_count": null,
   "id": "93790815",
   "metadata": {
    "ExecuteTime": {
     "end_time": "2023-01-15T02:13:23.409147Z",
     "start_time": "2023-01-15T02:13:23.409147Z"
    },
    "scrolled": true
   },
   "outputs": [],
   "source": [
    "import gensim\n",
    "import urllib.request\n",
    "\n",
    "# 구글의 사전 훈련된 Word2Vec 모델을 로드.\n",
    "word2vec_model = gensim.models.KeyedVectors.load_word2vec_format('GoogleNews-vectors-negative300.bin.gz', binary=True)"
   ]
  },
  {
   "cell_type": "code",
   "execution_count": null,
   "id": "7dd41031",
   "metadata": {
    "ExecuteTime": {
     "end_time": "2023-01-15T02:13:23.410153Z",
     "start_time": "2023-01-15T02:13:23.410153Z"
    }
   },
   "outputs": [],
   "source": [
    "# 모델의 크기 확인\n",
    "print(word2vec_model.vectors.shape)"
   ]
  },
  {
   "cell_type": "code",
   "execution_count": null,
   "id": "9e257d00",
   "metadata": {
    "ExecuteTime": {
     "end_time": "2023-01-15T02:13:23.411221Z",
     "start_time": "2023-01-15T02:13:23.411221Z"
    }
   },
   "outputs": [],
   "source": [
    "# 두 단어의 유사도 계산 연습\n",
    "print(word2vec_model.similarity('this', 'is'))\n",
    "print(word2vec_model.similarity('post', 'book'))"
   ]
  },
  {
   "cell_type": "code",
   "execution_count": null,
   "id": "81c2f87e",
   "metadata": {
    "ExecuteTime": {
     "end_time": "2023-01-15T02:13:23.412225Z",
     "start_time": "2023-01-15T02:13:23.412225Z"
    },
    "scrolled": false
   },
   "outputs": [],
   "source": [
    "# 단어 'book'의 벡터 출력\n",
    "print(word2vec_model['book'][:20])"
   ]
  },
  {
   "cell_type": "markdown",
   "id": "c0c6bf21",
   "metadata": {},
   "source": [
    "# 4. 네거티브 샘플링을 이용한 Word2Vec 구현(Skip-Gram with Negative Sampling, SGNS)"
   ]
  },
  {
   "cell_type": "markdown",
   "id": "5abc83ca",
   "metadata": {},
   "source": [
    "## 4.1 네거티브 샘플링(Negative Sampling)\n",
    "보통의 Word2Vec는 단어 집합의 크기가 수만 이상에 달한다면 학습하기 꽤나 무거운 모델이 된다. **네거티브 샘플링**은 Word2Vec이 학습 과정에서 전체 단어 집합이 아니라 일부 단어 집합에만 집중할 수 있도록 하는 방법. 기존의 단어 집합을 이진 분류 문제를 위한 데이터셋으로 변환한다."
   ]
  },
  {
   "cell_type": "markdown",
   "id": "5ad10b71",
   "metadata": {},
   "source": [
    "## 4.2 네거티브 샘플링 Skip-Gram(Skip-Gram with Negative Sampling, SGNS)"
   ]
  },
  {
   "cell_type": "markdown",
   "id": "5da5a4e6",
   "metadata": {},
   "source": [
    "앞서 배운 Skip-gram은 중심 단어를 입력에 사용하여, 주변 단어를 예측하는 모델이다.   \n",
    "반면 네거티브 샘플링을 사용하는 Skip-gram(이하 SGNS)는 중심 단어와 주변 단어가 모두 입력이 되고, 이 두 단어가 실제로 윈도우 크기 내에 존재하는 이웃 관계인지에 대한 확률을 예측하는 모델이다.\n",
    "\n",
    "**_추가설명은 꼭 교재 참고!!_**\n",
    "- https://wikidocs.net/69141"
   ]
  },
  {
   "cell_type": "markdown",
   "id": "3071fa03",
   "metadata": {},
   "source": [
    "## 4.3 20뉴스그룹 데이터 전처리하기\n",
    "중심 단어, 주변 단어의 관계가 성립하기 위해 데이터는 하나의 샘플에 최소 단어 2개가 있어야 한다. 따라서 전처리 과정에서 지속적으로 이를 만족하지 않는 샘플들을 제거한다."
   ]
  },
  {
   "cell_type": "code",
   "execution_count": 27,
   "id": "1400b272",
   "metadata": {
    "ExecuteTime": {
     "end_time": "2023-01-15T03:47:43.988906Z",
     "start_time": "2023-01-15T03:47:37.403256Z"
    }
   },
   "outputs": [],
   "source": [
    "import pandas as pd\n",
    "import numpy as np\n",
    "import nltk\n",
    "from nltk.corpus import stopwords\n",
    "from sklearn.datasets import fetch_20newsgroups    # 20뉴스그룹 데이터 사용\n",
    "from tensorflow.keras.preprocessing.text import Tokenizer"
   ]
  },
  {
   "cell_type": "code",
   "execution_count": 28,
   "id": "06602ce6",
   "metadata": {
    "ExecuteTime": {
     "end_time": "2023-01-15T03:47:45.316259Z",
     "start_time": "2023-01-15T03:47:43.991054Z"
    }
   },
   "outputs": [
    {
     "name": "stdout",
     "output_type": "stream",
     "text": [
      "총 샘플 수 : 11314\n"
     ]
    }
   ],
   "source": [
    "dataset = fetch_20newsgroups(shuffle=True, random_state=1, remove=('headers', 'footers', 'quotes'))\n",
    "documents = dataset.data\n",
    "print('총 샘플 수 :',len(documents))"
   ]
  },
  {
   "cell_type": "code",
   "execution_count": 29,
   "id": "25078c69",
   "metadata": {
    "ExecuteTime": {
     "end_time": "2023-01-15T03:47:45.331725Z",
     "start_time": "2023-01-15T03:47:45.321190Z"
    }
   },
   "outputs": [
    {
     "data": {
      "text/plain": [
       "\"Well i'm not sure about the story nad it did seem biased. What\\nI disagree with is your statement that the U.S. Media is out to\\nruin Israels reputation. That is rediculous. The U.S. media is\\nthe most pro-israeli media in the world. Having lived in Europe\\nI realize that incidences such as the one described in the\\nletter have occured. The U.S. media as a whole seem to try to\\nignore them. The U.S. is subsidizing Israels existance and the\\nEuropeans are not (at least not to the same degree). So I think\\nthat might be a reason they report more clearly on the\\natrocities.\\n\\tWhat is a shame is that in Austria, daily reports of\\nthe inhuman acts commited by Israeli soldiers and the blessing\\nreceived from the Government makes some of the Holocaust guilt\\ngo away. After all, look how the Jews are treating other races\\nwhen they got power. It is unfortunate.\\n\""
      ]
     },
     "execution_count": 29,
     "metadata": {},
     "output_type": "execute_result"
    }
   ],
   "source": [
    "documents[0]"
   ]
  },
  {
   "cell_type": "code",
   "execution_count": 30,
   "id": "9b101ad5",
   "metadata": {
    "ExecuteTime": {
     "end_time": "2023-01-15T03:47:46.921748Z",
     "start_time": "2023-01-15T03:47:45.339715Z"
    }
   },
   "outputs": [
    {
     "name": "stderr",
     "output_type": "stream",
     "text": [
      "C:\\Users\\hkny0\\AppData\\Local\\Temp\\ipykernel_10512\\2716589182.py:5: FutureWarning: The default value of regex will change from True to False in a future version.\n",
      "  news_df['clean_doc'] = news_df['document'].str.replace(\"[^a-zA-Z]\", \" \")\n"
     ]
    }
   ],
   "source": [
    "### 전처리 진행\n",
    "# list -> dataframe\n",
    "news_df = pd.DataFrame({'document':documents})  #document라는 열이름 사용\n",
    "# 특수 문자 제거\n",
    "news_df['clean_doc'] = news_df['document'].str.replace(\"[^a-zA-Z]\", \" \")\n",
    "# 길이가 3이하인 단어는 제거 (길이가 짧은 단어 제거)\n",
    "news_df['clean_doc'] = news_df['clean_doc'].apply(lambda x: ' '.join([w for w in x.split() if len(w)>3]))\n",
    "# 전체 단어에 대한 소문자 변환\n",
    "news_df['clean_doc'] = news_df['clean_doc'].apply(lambda x: x.lower())"
   ]
  },
  {
   "cell_type": "code",
   "execution_count": 31,
   "id": "6a82317d",
   "metadata": {
    "ExecuteTime": {
     "end_time": "2023-01-15T03:47:46.952293Z",
     "start_time": "2023-01-15T03:47:46.923947Z"
    }
   },
   "outputs": [
    {
     "data": {
      "text/plain": [
       "False"
      ]
     },
     "execution_count": 31,
     "metadata": {},
     "output_type": "execute_result"
    }
   ],
   "source": [
    "# 결측값 유무 확인\n",
    "news_df.isnull().values.any()"
   ]
  },
  {
   "cell_type": "code",
   "execution_count": 32,
   "id": "a5261802",
   "metadata": {
    "ExecuteTime": {
     "end_time": "2023-01-15T03:47:46.984127Z",
     "start_time": "2023-01-15T03:47:46.956307Z"
    }
   },
   "outputs": [
    {
     "data": {
      "text/plain": [
       "True"
      ]
     },
     "execution_count": 32,
     "metadata": {},
     "output_type": "execute_result"
    }
   ],
   "source": [
    "# empty값 유무 확인 (empty값->null값변환->결측값유무 다시확인)\n",
    "news_df.replace(\"\", float(\"NaN\"), inplace=True)\n",
    "news_df.isnull().values.any()"
   ]
  },
  {
   "cell_type": "code",
   "execution_count": 33,
   "id": "219dcd45",
   "metadata": {
    "ExecuteTime": {
     "end_time": "2023-01-15T03:47:47.014907Z",
     "start_time": "2023-01-15T03:47:46.987126Z"
    }
   },
   "outputs": [
    {
     "name": "stdout",
     "output_type": "stream",
     "text": [
      "총 샘플 수 : 10995\n"
     ]
    }
   ],
   "source": [
    "# 결측값 제거\n",
    "news_df.dropna(inplace=True)\n",
    "print('총 샘플 수 :',len(news_df))"
   ]
  },
  {
   "cell_type": "code",
   "execution_count": 34,
   "id": "e768d1cf",
   "metadata": {
    "ExecuteTime": {
     "end_time": "2023-01-15T03:47:53.488650Z",
     "start_time": "2023-01-15T03:47:47.017903Z"
    }
   },
   "outputs": [],
   "source": [
    "# 불용어 제거\n",
    "stop_words = stopwords.words('english')\n",
    "tokenized_doc = news_df['clean_doc'].apply(lambda x: x.split())\n",
    "tokenized_doc = tokenized_doc.apply(lambda x: [item for item in x if item not in stop_words])\n",
    "tokenized_doc = tokenized_doc.to_list()"
   ]
  },
  {
   "cell_type": "code",
   "execution_count": 35,
   "id": "40af07d6",
   "metadata": {
    "ExecuteTime": {
     "end_time": "2023-01-15T03:47:53.519909Z",
     "start_time": "2023-01-15T03:47:53.490655Z"
    },
    "scrolled": true
   },
   "outputs": [
    {
     "name": "stdout",
     "output_type": "stream",
     "text": [
      "총 샘플 수 : 10940\n"
     ]
    },
    {
     "name": "stderr",
     "output_type": "stream",
     "text": [
      "C:\\ProgramData\\Anaconda3\\envs\\data\\lib\\site-packages\\numpy\\lib\\function_base.py:5030: VisibleDeprecationWarning: Creating an ndarray from ragged nested sequences (which is a list-or-tuple of lists-or-tuples-or ndarrays with different lengths or shapes) is deprecated. If you meant to do this, you must specify 'dtype=object' when creating the ndarray.\n",
      "  arr = asarray(arr)\n"
     ]
    }
   ],
   "source": [
    "# 단어가 1개 이하인 샘플의 인덱스를 찾아서 저장하고, 해당 샘플들은 제거.\n",
    "drop_train = [index for index, sentence in enumerate(tokenized_doc) if len(sentence) <= 1]\n",
    "tokenized_doc = np.delete(tokenized_doc, drop_train, axis=0)  # 행 삭제\n",
    "print('총 샘플 수 :',len(tokenized_doc))"
   ]
  },
  {
   "cell_type": "markdown",
   "id": "ecf28d88",
   "metadata": {},
   "source": [
    "> **동일 배열 차원의 각 차원의 요소 길이가 다른 경우**\n",
    "> - https://homzzang.com/b/py-311\n",
    "> - https://statools.tistory.com/322"
   ]
  },
  {
   "cell_type": "code",
   "execution_count": 36,
   "id": "a30ad10f",
   "metadata": {
    "ExecuteTime": {
     "end_time": "2023-01-15T03:47:55.771561Z",
     "start_time": "2023-01-15T03:47:53.523862Z"
    }
   },
   "outputs": [],
   "source": [
    "# 단어 집합 생성 후 정수 인코딩\n",
    "tokenizer = Tokenizer()\n",
    "tokenizer.fit_on_texts(tokenized_doc)\n",
    "\n",
    "word2idx = tokenizer.word_index\n",
    "idx2word = {value : key for key, value in word2idx.items()}  # dict comprehension\n",
    "encoded = tokenizer.texts_to_sequences(tokenized_doc)"
   ]
  },
  {
   "cell_type": "code",
   "execution_count": 37,
   "id": "2e63efd5",
   "metadata": {
    "ExecuteTime": {
     "end_time": "2023-01-15T03:47:55.787742Z",
     "start_time": "2023-01-15T03:47:55.773562Z"
    }
   },
   "outputs": [
    {
     "name": "stdout",
     "output_type": "stream",
     "text": [
      "[[9, 59, 603, 207, 3278, 1495, 474, 702, 9470, 13686, 5533, 15227, 702, 442, 702, 70, 1148, 1095, 1036, 20294, 984, 705, 4294, 702, 217, 207, 1979, 15228, 13686, 4865, 4520, 87, 1530, 6, 52, 149, 581, 661, 4406, 4988, 4866, 1920, 755, 10668, 1102, 7837, 442, 957, 10669, 634, 51, 228, 2669, 4989, 178, 66, 222, 4521, 6066, 68, 4295], [1026, 532, 2, 60, 98, 582, 107, 800, 23, 79, 4522, 333, 7838, 864, 421, 3825, 458, 6488, 458, 2700, 4730, 333, 23, 9, 4731, 7262, 186, 310, 146, 170, 642, 1260, 107, 33568, 13, 985, 33569, 33570, 9471, 11491]]\n"
     ]
    }
   ],
   "source": [
    "print(encoded[:2])"
   ]
  },
  {
   "cell_type": "code",
   "execution_count": 38,
   "id": "e91106ff",
   "metadata": {
    "ExecuteTime": {
     "end_time": "2023-01-15T03:47:55.803343Z",
     "start_time": "2023-01-15T03:47:55.791818Z"
    }
   },
   "outputs": [
    {
     "name": "stdout",
     "output_type": "stream",
     "text": [
      "단어 집합의 크기 : 64277\n"
     ]
    }
   ],
   "source": [
    "# 단어 집합 크기 확인\n",
    "vocab_size = len(word2idx) + 1 \n",
    "print('단어 집합의 크기 :', vocab_size)"
   ]
  },
  {
   "cell_type": "markdown",
   "id": "d9438a3b",
   "metadata": {},
   "source": [
    "## 4.4 네거티브 샘플링을 통한 데이터셋 구성하기\n",
    "skipgrams 사용 : 네거티브 샘플링을 위해 케라스에서 제공하는 전처리 도구   \n",
    "상위 10개의 뉴스그룹 샘플에 대해서만 수행해보자."
   ]
  },
  {
   "cell_type": "code",
   "execution_count": 39,
   "id": "4fa786a0",
   "metadata": {
    "ExecuteTime": {
     "end_time": "2023-01-15T03:47:55.866599Z",
     "start_time": "2023-01-15T03:47:55.806389Z"
    }
   },
   "outputs": [],
   "source": [
    "from tensorflow.keras.preprocessing.sequence import skipgrams\n",
    "# 네거티브 샘플링 - 상위 10개 샘플만\n",
    "skip_grams = [skipgrams(sample, vocabulary_size=vocab_size, window_size=10) for sample in encoded[:10]]"
   ]
  },
  {
   "cell_type": "code",
   "execution_count": 40,
   "id": "1f447320",
   "metadata": {
    "ExecuteTime": {
     "end_time": "2023-01-15T03:47:55.880649Z",
     "start_time": "2023-01-15T03:47:55.869637Z"
    }
   },
   "outputs": [
    {
     "name": "stdout",
     "output_type": "stream",
     "text": [
      "(israels (13686), media (702)) -> 1\n",
      "(commited (7837), clearly (661)) -> 1\n",
      "(lived (1148), seem (207)) -> 1\n",
      "(shame (4988), received (634)) -> 1\n",
      "(letter (705), tyndale (36628)) -> 0\n"
     ]
    }
   ],
   "source": [
    "# 첫번째 샘플인 skip_grams[0] 내 skipgrams로 형성된 데이터셋 확인\n",
    "pairs, labels = skip_grams[0][0], skip_grams[0][1]\n",
    "for i in range(5):\n",
    "    print(\"({:s} ({:d}), {:s} ({:d})) -> {:d}\".format(\n",
    "          idx2word[pairs[i][0]], pairs[i][0], \n",
    "          idx2word[pairs[i][1]], pairs[i][1], \n",
    "          labels[i]))"
   ]
  },
  {
   "cell_type": "code",
   "execution_count": 41,
   "id": "acf38bd9",
   "metadata": {
    "ExecuteTime": {
     "end_time": "2023-01-15T03:47:55.896742Z",
     "start_time": "2023-01-15T03:47:55.884181Z"
    }
   },
   "outputs": [
    {
     "name": "stdout",
     "output_type": "stream",
     "text": [
      "전체 샘플 수 : 10\n"
     ]
    }
   ],
   "source": [
    "print('전체 샘플 수 :',len(skip_grams))  # 상위10게"
   ]
  },
  {
   "cell_type": "code",
   "execution_count": 42,
   "id": "1c4e1584",
   "metadata": {
    "ExecuteTime": {
     "end_time": "2023-01-15T03:47:55.912053Z",
     "start_time": "2023-01-15T03:47:55.899848Z"
    }
   },
   "outputs": [
    {
     "name": "stdout",
     "output_type": "stream",
     "text": [
      "2220\n",
      "2220\n"
     ]
    }
   ],
   "source": [
    "# 첫번째 뉴스그룹 샘플에 대해서 생긴 pairs와 labels의 개수\n",
    "print(len(pairs))\n",
    "print(len(labels))"
   ]
  },
  {
   "cell_type": "markdown",
   "id": "c310d345",
   "metadata": {},
   "source": [
    "> 10개의 뉴스그룹 샘플 각각은 수많은 중심 단어, 주변 단어의 쌍으로 된 샘플들을 갖고 있다."
   ]
  },
  {
   "cell_type": "markdown",
   "id": "980a336e",
   "metadata": {},
   "source": [
    "## 4.5 Skip-Gram with Negative Sampling(SGNS) 구현하기"
   ]
  },
  {
   "cell_type": "code",
   "execution_count": 43,
   "id": "b585e453",
   "metadata": {
    "ExecuteTime": {
     "end_time": "2023-01-15T03:47:55.928152Z",
     "start_time": "2023-01-15T03:47:55.915982Z"
    }
   },
   "outputs": [],
   "source": [
    "from tensorflow.keras.models import Sequential, Model\n",
    "from tensorflow.keras.layers import Embedding, Reshape, Activation, Input\n",
    "from tensorflow.keras.layers import Dot\n",
    "from tensorflow.keras.utils import plot_model\n",
    "from IPython.display import SVG"
   ]
  },
  {
   "cell_type": "code",
   "execution_count": 44,
   "id": "edcaff30",
   "metadata": {
    "ExecuteTime": {
     "end_time": "2023-01-15T03:47:56.695763Z",
     "start_time": "2023-01-15T03:47:55.931128Z"
    }
   },
   "outputs": [],
   "source": [
    "# 임베딩 벡터의 차원 : 100\n",
    "embedding_dim = 100\n",
    "\n",
    "## 임베딩 층 두 개 추가\n",
    "\n",
    "# 1) 중심 단어를 위한 임베딩 테이블\n",
    "w_inputs = Input(shape=(1, ), dtype='int32')\n",
    "word_embedding = Embedding(vocab_size, embedding_dim)(w_inputs)\n",
    "\n",
    "# 2) 주변 단어를 위한 임베딩 테이블\n",
    "c_inputs = Input(shape=(1, ), dtype='int32')\n",
    "context_embedding  = Embedding(vocab_size, embedding_dim)(c_inputs)"
   ]
  },
  {
   "cell_type": "markdown",
   "id": "d5d3f626",
   "metadata": {},
   "source": [
    "각 단어는 임베딩 테이블을 거쳐서 내적을 수행하고, 내적의 결과는 1 또는 0을 예측하기 위해서 시그모이드 함수를 활성화 함수로 거쳐 최종 예측값을 얻는다."
   ]
  },
  {
   "cell_type": "code",
   "execution_count": 45,
   "id": "33addd30",
   "metadata": {
    "ExecuteTime": {
     "end_time": "2023-01-15T03:47:57.305809Z",
     "start_time": "2023-01-15T03:47:56.701151Z"
    }
   },
   "outputs": [
    {
     "name": "stdout",
     "output_type": "stream",
     "text": [
      "Model: \"model\"\n",
      "__________________________________________________________________________________________________\n",
      " Layer (type)                   Output Shape         Param #     Connected to                     \n",
      "==================================================================================================\n",
      " input_1 (InputLayer)           [(None, 1)]          0           []                               \n",
      "                                                                                                  \n",
      " input_2 (InputLayer)           [(None, 1)]          0           []                               \n",
      "                                                                                                  \n",
      " embedding (Embedding)          (None, 1, 100)       6427700     ['input_1[0][0]']                \n",
      "                                                                                                  \n",
      " embedding_1 (Embedding)        (None, 1, 100)       6427700     ['input_2[0][0]']                \n",
      "                                                                                                  \n",
      " dot (Dot)                      (None, 1, 1)         0           ['embedding[0][0]',              \n",
      "                                                                  'embedding_1[0][0]']            \n",
      "                                                                                                  \n",
      " reshape (Reshape)              (None, 1)            0           ['dot[0][0]']                    \n",
      "                                                                                                  \n",
      " activation (Activation)        (None, 1)            0           ['reshape[0][0]']                \n",
      "                                                                                                  \n",
      "==================================================================================================\n",
      "Total params: 12,855,400\n",
      "Trainable params: 12,855,400\n",
      "Non-trainable params: 0\n",
      "__________________________________________________________________________________________________\n",
      "You must install pydot (`pip install pydot`) and install graphviz (see instructions at https://graphviz.gitlab.io/download/) for plot_model/model_to_dot to work.\n"
     ]
    }
   ],
   "source": [
    "dot_product = Dot(axes=2)([word_embedding, context_embedding])\n",
    "dot_product = Reshape((1,), input_shape=(1, 1))(dot_product)\n",
    "output = Activation('sigmoid')(dot_product)\n",
    "\n",
    "# 모델 생성\n",
    "model = Model(inputs=[w_inputs, c_inputs], outputs=output)\n",
    "model.summary()\n",
    "model.compile(loss='binary_crossentropy', optimizer='adam')\n",
    "plot_model(model, to_file='model3.png', show_shapes=True, show_layer_names=True, rankdir='TB')"
   ]
  },
  {
   "cell_type": "code",
   "execution_count": 46,
   "id": "905d61ac",
   "metadata": {
    "ExecuteTime": {
     "end_time": "2023-01-15T03:48:09.981671Z",
     "start_time": "2023-01-15T03:47:57.309799Z"
    }
   },
   "outputs": [
    {
     "name": "stdout",
     "output_type": "stream",
     "text": [
      "Epoch : 1 Loss : 6.931175768375397\n",
      "Epoch : 2 Loss : 6.906608879566193\n",
      "Epoch : 3 Loss : 6.881051659584045\n",
      "Epoch : 4 Loss : 6.850699603557587\n",
      "Epoch : 5 Loss : 6.813078224658966\n"
     ]
    }
   ],
   "source": [
    "# 모델 학습 : 5 epoch\n",
    "for epoch in range(1, 6):\n",
    "    loss = 0\n",
    "    for _, elem in enumerate(skip_grams):\n",
    "        first_elem = np.array(list(zip(*elem[0]))[0], dtype='int32')\n",
    "        second_elem = np.array(list(zip(*elem[0]))[1], dtype='int32')\n",
    "        labels = np.array(elem[1], dtype='int32')\n",
    "        X = [first_elem, second_elem]\n",
    "        Y = labels\n",
    "        loss += model.train_on_batch(X,Y)  \n",
    "    print('Epoch :',epoch, 'Loss :',loss)"
   ]
  },
  {
   "cell_type": "markdown",
   "id": "98b5660a",
   "metadata": {},
   "source": [
    "## 4.6 결과 확인하기"
   ]
  },
  {
   "cell_type": "code",
   "execution_count": 47,
   "id": "8f44c897",
   "metadata": {
    "ExecuteTime": {
     "end_time": "2023-01-15T03:48:10.028301Z",
     "start_time": "2023-01-15T03:48:09.984671Z"
    },
    "scrolled": true
   },
   "outputs": [
    {
     "ename": "NameError",
     "evalue": "name 'embed_size' is not defined",
     "output_type": "error",
     "traceback": [
      "\u001b[1;31m---------------------------------------------------------------------------\u001b[0m",
      "\u001b[1;31mNameError\u001b[0m                                 Traceback (most recent call last)",
      "Input \u001b[1;32mIn [47]\u001b[0m, in \u001b[0;36m<cell line: 5>\u001b[1;34m()\u001b[0m\n\u001b[0;32m      3\u001b[0m \u001b[38;5;66;03m# 학습된 임베딩 벡터들을 저장\u001b[39;00m\n\u001b[0;32m      4\u001b[0m f \u001b[38;5;241m=\u001b[39m \u001b[38;5;28mopen\u001b[39m(\u001b[38;5;124m'\u001b[39m\u001b[38;5;124mvectors.txt\u001b[39m\u001b[38;5;124m'\u001b[39m ,\u001b[38;5;124m'\u001b[39m\u001b[38;5;124mw\u001b[39m\u001b[38;5;124m'\u001b[39m)\n\u001b[1;32m----> 5\u001b[0m f\u001b[38;5;241m.\u001b[39mwrite(\u001b[38;5;124m'\u001b[39m\u001b[38;5;132;01m{}\u001b[39;00m\u001b[38;5;124m \u001b[39m\u001b[38;5;132;01m{}\u001b[39;00m\u001b[38;5;130;01m\\n\u001b[39;00m\u001b[38;5;124m'\u001b[39m\u001b[38;5;241m.\u001b[39mformat(vocab_size\u001b[38;5;241m-\u001b[39m\u001b[38;5;241m1\u001b[39m, \u001b[43membed_size\u001b[49m))\n\u001b[0;32m      6\u001b[0m vectors \u001b[38;5;241m=\u001b[39m model\u001b[38;5;241m.\u001b[39mget_weights()[\u001b[38;5;241m0\u001b[39m]\n\u001b[0;32m      7\u001b[0m \u001b[38;5;28;01mfor\u001b[39;00m word, i \u001b[38;5;129;01min\u001b[39;00m tokenizer\u001b[38;5;241m.\u001b[39mword_index\u001b[38;5;241m.\u001b[39mitems():\n",
      "\u001b[1;31mNameError\u001b[0m: name 'embed_size' is not defined"
     ]
    }
   ],
   "source": [
    "import gensim\n",
    "\n",
    "# 학습된 임베딩 벡터들을 저장\n",
    "f = open('vectors.txt' ,'w')\n",
    "f.write('{} {}\\n'.format(vocab_size-1, embed_size))\n",
    "vectors = model.get_weights()[0]\n",
    "for word, i in tokenizer.word_index.items():\n",
    "    f.write('{} {}\\n'.format(word, ' '.join(map(str, list(vectors[i, :])))))\n",
    "f.close()\n",
    "\n",
    "# 모델 로드\n",
    "w2v = gensim.models.KeyedVectors.load_word2vec_format('./vectors.txt', binary=False)"
   ]
  },
  {
   "cell_type": "markdown",
   "id": "2beb0f30",
   "metadata": {},
   "source": [
    "> **Question2.**\n",
    "> - name 'embed_size' is not defined...\n",
    "> - embed_size 아니고 embedding_dim인 것 같은데 확실하지가 않다...ㅠㅠ\n",
    "\n",
    "> 질문함ㅋㅋ   \n",
    "> 마지막 6. 결과 확인하기 부분의 코드 중 \n",
    "f.write('{} {}\\n'.format(vocab_size-1, embed_size)) 라는 코드에서 \n",
    "embed_size라는 변수가 앞에서 지정되어 있지 않아서 오류가 납니다.\n",
    "이 embed_size가 혹시 앞에서 지정한 임베딩 벡터의 차원인 embedding_dim을 잘 못 쓴 것일까요?"
   ]
  },
  {
   "cell_type": "code",
   "execution_count": null,
   "id": "d3991e0f",
   "metadata": {
    "ExecuteTime": {
     "end_time": "2023-01-15T03:48:10.031283Z",
     "start_time": "2023-01-15T03:48:10.031283Z"
    }
   },
   "outputs": [],
   "source": [
    "w2v.most_similar(positive=['soldiers'])"
   ]
  },
  {
   "cell_type": "code",
   "execution_count": null,
   "id": "8086a058",
   "metadata": {
    "ExecuteTime": {
     "end_time": "2023-01-15T03:48:10.033316Z",
     "start_time": "2023-01-15T03:48:10.033316Z"
    }
   },
   "outputs": [],
   "source": [
    "w2v.most_similar(positive=['doctor'])"
   ]
  },
  {
   "cell_type": "code",
   "execution_count": null,
   "id": "52c4a0ca",
   "metadata": {
    "ExecuteTime": {
     "end_time": "2023-01-15T03:48:10.038326Z",
     "start_time": "2023-01-15T03:48:10.038326Z"
    }
   },
   "outputs": [],
   "source": [
    "w2v.most_similar(positive=['police'])"
   ]
  },
  {
   "cell_type": "markdown",
   "id": "e99e2c85",
   "metadata": {},
   "source": [
    "# 5. 글로브(GloVe)\n",
    "* LSA : 카운트 기반\n",
    "    - 장) 코퍼스의 전체적인 통계 정보 고려\n",
    "    - 단) 단어 의미의 유추 작업에 불리\n",
    "* Word2Vec : 예측 기반\n",
    "    - 장) 단어 간 유추 작업에 유리\n",
    "    - 단) 코퍼스의 전체적인 통계 정보 반영 X\n",
    "\n",
    "\n",
    "* **글로브** : 카운트 기반(ex. LSA)과 예측 기반(ex. Word2Vec)을 모두 사용하는 방법론   \n",
    "    - Word2Vec만큼 뛰어난 성능을 보여주므로, 실제로 두 가지 모두 사용해보고 성능이 더 좋은 것을 사용하는 게 바람직하다.\n"
   ]
  },
  {
   "cell_type": "markdown",
   "id": "f097d41b",
   "metadata": {},
   "source": [
    "## 윈도우 기반 동시 등장 행렬, 동시 등장 확률, 손실 함수\n",
    "GloVe의 목표는 **임베딩 된 중심 단어와 주변 단어 벡터의 내적이 전체 코퍼스에서의 동시 등장 확률이 되도록 임베딩 벡터를 만드는 것**이다!!\n",
    "\n",
    "**추가설명은 꼭꼭꼭 교재 참고!!**\n",
    "- https://wikidocs.net/22885"
   ]
  },
  {
   "cell_type": "markdown",
   "id": "7bac668e",
   "metadata": {},
   "source": [
    "## 5.2 GloVe 훈련시키기"
   ]
  },
  {
   "cell_type": "code",
   "execution_count": 59,
   "id": "f47f385e",
   "metadata": {
    "ExecuteTime": {
     "end_time": "2023-01-15T05:15:39.853859Z",
     "start_time": "2023-01-15T05:15:37.978029Z"
    },
    "scrolled": true
   },
   "outputs": [
    {
     "name": "stderr",
     "output_type": "stream",
     "text": [
      "WARNING: Ignoring invalid distribution -ensorflow (c:\\programdata\\anaconda3\\envs\\data\\lib\\site-packages)\n",
      "WARNING: Ignoring invalid distribution -ensorflow (c:\\programdata\\anaconda3\\envs\\data\\lib\\site-packages)\n",
      "ERROR: Could not find a version that satisfies the requirement glove-python-binary (from versions: none)\n",
      "ERROR: No matching distribution found for glove-python-binary\n",
      "WARNING: Ignoring invalid distribution -ensorflow (c:\\programdata\\anaconda3\\envs\\data\\lib\\site-packages)\n",
      "WARNING: Ignoring invalid distribution -ensorflow (c:\\programdata\\anaconda3\\envs\\data\\lib\\site-packages)\n",
      "WARNING: Ignoring invalid distribution -ensorflow (c:\\programdata\\anaconda3\\envs\\data\\lib\\site-packages)\n"
     ]
    }
   ],
   "source": [
    "!pip install glove-python-binary"
   ]
  },
  {
   "cell_type": "markdown",
   "id": "c651b4a8",
   "metadata": {},
   "source": [
    "> **Question3.**   \n",
    "설치가 안돼여... 실습 못해여...ㅠㅅㅠ"
   ]
  },
  {
   "cell_type": "code",
   "execution_count": 58,
   "id": "fe2aa878",
   "metadata": {
    "ExecuteTime": {
     "end_time": "2023-01-15T05:11:34.798119Z",
     "start_time": "2023-01-15T05:11:34.734855Z"
    }
   },
   "outputs": [
    {
     "ename": "ModuleNotFoundError",
     "evalue": "No module named 'glove'",
     "output_type": "error",
     "traceback": [
      "\u001b[1;31m---------------------------------------------------------------------------\u001b[0m",
      "\u001b[1;31mModuleNotFoundError\u001b[0m                       Traceback (most recent call last)",
      "Input \u001b[1;32mIn [58]\u001b[0m, in \u001b[0;36m<cell line: 1>\u001b[1;34m()\u001b[0m\n\u001b[1;32m----> 1\u001b[0m \u001b[38;5;28;01mimport\u001b[39;00m \u001b[38;5;21;01mglove\u001b[39;00m\n\u001b[0;32m      2\u001b[0m \u001b[38;5;28;01mfrom\u001b[39;00m \u001b[38;5;21;01mglove\u001b[39;00m \u001b[38;5;28;01mimport\u001b[39;00m Corpus, Glove\n\u001b[0;32m      4\u001b[0m corpus \u001b[38;5;241m=\u001b[39m Corpus() \n",
      "\u001b[1;31mModuleNotFoundError\u001b[0m: No module named 'glove'"
     ]
    }
   ],
   "source": [
    "from glove import Corpus, Glove\n",
    "\n",
    "corpus = Corpus() \n",
    "\n",
    "# 훈련 데이터로부터 GloVe에서 사용할 동시 등장 행렬 생성\n",
    "corpus.fit(result, window=5)\n",
    "glove = Glove(no_components=100, learning_rate=0.05)\n",
    "\n",
    "# 학습하기 : 학습에 이용할 쓰레드의 개수는 4로 설정, 에포크는 20.\n",
    "glove.fit(corpus.matrix, epochs=20, no_threads=4, verbose=True)\n",
    "glove.add_dictionary(corpus.dictionary)"
   ]
  },
  {
   "cell_type": "code",
   "execution_count": null,
   "id": "2dffb605",
   "metadata": {},
   "outputs": [],
   "source": [
    "print(glove.most_similar(\"man\"))"
   ]
  },
  {
   "cell_type": "code",
   "execution_count": null,
   "id": "cf26a6c0",
   "metadata": {},
   "outputs": [],
   "source": [
    "print(glove.most_similar(\"boy\"))"
   ]
  },
  {
   "cell_type": "code",
   "execution_count": null,
   "id": "7a617ac0",
   "metadata": {},
   "outputs": [],
   "source": [
    "print(glove.most_similar(\"university\"))"
   ]
  },
  {
   "cell_type": "markdown",
   "id": "5b823e35",
   "metadata": {},
   "source": [
    "# 6. 패스트텍스트(FastText)\n",
    "Word2Vec를 확장한 메커니즘이지만, Word2Vec는 단어를 쪼개질 수 없는 단위로 생각한다면, FastText는 하나의 단어 안에도 여러 단어들이 존재하는 것으로 간주한다는 차이가 있다.   \n",
    "다시 말해, FastText는 내부 단어, 즉 서브워드(subword)를 고려하여 학습한다."
   ]
  },
  {
   "cell_type": "markdown",
   "id": "0ff552fa",
   "metadata": {},
   "source": [
    "## 6.1 내부 단어(subword)의 학습\n",
    "FastText에서는 각 단어를 글자 단위 n-gram의 구성으로 취급한다.   \n",
    "ex) n=3. 즉, 트라이그램(tri-gram)이고, 단어는 apple이라면   \n",
    "내부 단어 토큰은 \\<apple>에서 <ap, app, ppl, ple, le>로 5개이고, 여기에 기본적으로 <apple>을 추가해 총 6개의 토큰을 벡터화한다."
   ]
  },
  {
   "cell_type": "markdown",
   "id": "119f2012",
   "metadata": {},
   "source": [
    "## 6.2 모르는 단어(Out Of Vocabulary, OOV)에 대한 대응\n",
    "FastText의 인공 신경망을 학습한 후에는 데이터 셋의 모든 단어의 각 n-gram에 대해서 워드 임베딩이 된다. 이것의 장점은 **내부 단어(Subword)를 통해 모르는 단어(Out Of Vocabulary, OOV)에 대해서도 다른 단어와의 유사도를 계산할 수 있다는 점**이다."
   ]
  },
  {
   "cell_type": "markdown",
   "id": "d4f76c7c",
   "metadata": {},
   "source": [
    "## 6.3 단어 집합 내 빈도 수가 적었던 단어(Rare Word)에 대한 대응\n",
    "등장 빈도 수가 적은 단어(rare word)에 대해서는 임베딩의 정확도가 높지 않은 Word2Vec와 달리, FastText의 경우, 만약 단어가 희귀 단어라도, **그 단어의 n-gram이 다른 단어의 n-gram과 겹치는 경우**라면, Word2Vec과 비교하여 비교적 높은 임베딩 벡터값을 얻는다. 또한 같은 이유로, 노이즈(오타)가 많은 코퍼스에서 강점을 갖는다."
   ]
  },
  {
   "cell_type": "markdown",
   "id": "ff92a321",
   "metadata": {},
   "source": [
    "## 6.4 실습으로 비교하는 Word2Vec Vs. FastText"
   ]
  },
  {
   "cell_type": "code",
   "execution_count": null,
   "id": "a4bc2349",
   "metadata": {},
   "outputs": [],
   "source": [
    "# 1) Word2Vec\n",
    "model.wv.most_similar(\"electrofishing\")"
   ]
  },
  {
   "cell_type": "markdown",
   "id": "92bbdfe9",
   "metadata": {},
   "source": [
    "> 오류남. 즉 Word2Vec는 모르는 단어에 대해서는 임베딩 벡터가 존재하지 않으므로 단어의 유사도를 계산할 수 없다."
   ]
  },
  {
   "cell_type": "code",
   "execution_count": null,
   "id": "4c3b064a",
   "metadata": {},
   "outputs": [],
   "source": [
    "# 2) FastText\n",
    "from gensim.models import FastText\n",
    "\n",
    "model = FastText(result, size=100, window=5, min_count=5, workers=4, sg=1)\n",
    "\n",
    "model.wv.most_similar(\"electrofishing\")   # 유사한 단어를 계산해서 출력함"
   ]
  },
  {
   "cell_type": "markdown",
   "id": "d173123c",
   "metadata": {},
   "source": [
    "## 6.5 한국어에서의 FastText\n",
    "OOV 문제를 해결하기 위한 시도"
   ]
  },
  {
   "cell_type": "markdown",
   "id": "34d900e4",
   "metadata": {},
   "source": [
    "### 1) 음절 단위\n",
    "음절 단위의 임베딩의 경우에 n=3일때 ‘자연어처리’라는 단어에 대해 n-gram을 만들어보면 다음과 같다.\n",
    "* **<자연, 자연어, 연어처, 어처리, 처리>**\n",
    "\n",
    "### 2) 자모 단위(초성, 중성, 종성 단위)\n",
    "오타나 노이즈 측면에서 더 강한 임베딩을 기대해볼 수 있다.   \n",
    "‘자연어처리’라는 단어에 대해서 초성, 중성, 종성을 분리하고, 만약, 종성이 존재하지 않는다면 ‘\\_’라는 토큰을 사용한다고 가정한다면 ‘자연어처리’라는 단어는 아래와 같이 분리가 가능하며, 분리된 결과의 대한 tri-gram 적용 결과는 다음과 같다.\n",
    "* 분리된 결과 : ㅈ ㅏ _ ㅇ ㅕ ㄴ ㅇ ㅓ _ ㅊ ㅓ _ ㄹ ㅣ _\n",
    "* < ㅈ ㅏ, ㅈ ㅏ \\_, ㅏ _ ㅇ, ... 중략>"
   ]
  },
  {
   "cell_type": "markdown",
   "id": "c7fd019f",
   "metadata": {},
   "source": [
    "# 7. 자모 단위 한국어 FastText 학습하기\n",
    "-> 웹사이트에서 비공개 처리됨."
   ]
  },
  {
   "cell_type": "markdown",
   "id": "024de2c1",
   "metadata": {},
   "source": [
    "# 8. 사전 훈련된 워드 임베딩(Pre-trained Word Embedding)"
   ]
  },
  {
   "cell_type": "code",
   "execution_count": null,
   "id": "5019080c",
   "metadata": {},
   "outputs": [],
   "source": []
  }
 ],
 "metadata": {
  "kernelspec": {
   "display_name": "Python 3 (ipykernel)",
   "language": "python",
   "name": "python3"
  },
  "language_info": {
   "codemirror_mode": {
    "name": "ipython",
    "version": 3
   },
   "file_extension": ".py",
   "mimetype": "text/x-python",
   "name": "python",
   "nbconvert_exporter": "python",
   "pygments_lexer": "ipython3",
   "version": "3.9.13"
  },
  "toc": {
   "base_numbering": 1,
   "nav_menu": {},
   "number_sections": true,
   "sideBar": true,
   "skip_h1_title": false,
   "title_cell": "Table of Contents",
   "title_sidebar": "Contents",
   "toc_cell": false,
   "toc_position": {},
   "toc_section_display": true,
   "toc_window_display": false
  }
 },
 "nbformat": 4,
 "nbformat_minor": 5
}
