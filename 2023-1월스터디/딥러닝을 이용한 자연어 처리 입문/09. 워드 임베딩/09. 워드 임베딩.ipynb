{
 "cells": [
  {
   "cell_type": "markdown",
   "id": "61669d16",
   "metadata": {
    "ExecuteTime": {
     "end_time": "2023-01-14T04:34:53.331927Z",
     "start_time": "2023-01-14T04:34:53.315804Z"
    }
   },
   "source": [
    "**_워드 임베딩?_**    \n",
    "-> 텍스트를 컴퓨터가 이해할 수 있도록 수치화하는 하나의 방법   \n",
    "-> 각 단어를 인공 신경망 학습을 통해 벡터화함\n",
    "\n",
    "-----"
   ]
  },
  {
   "cell_type": "markdown",
   "id": "4f3ff5a9",
   "metadata": {},
   "source": [
    "# 1. 워드 임베딩\n",
    "- 단어를 벡터로 표현하는 방법.\n",
    "- 단어를 밀집 표현으로 변환\n",
    "\n",
    "## 1.1 희소 표현(Sparse Representation) \n",
    "벡터 또는 행렬의 값이 대부분 0으로 표현되는 방법.   \n",
    "ex) 원-핫 인코딩을 통해 나온 원-핫 벡터는 표현하고자 하는 단어의 인덱스만 1이고 나머지 인덱스는 전부 0으로 표현   \n",
    "ex) DTM : 특정 문서에 다수 등장한 단어가 다른 많은 문서에서는 등장하지 않으면 행렬의 많은 값이 0이 된다.   \n",
    "- 문제점   \n",
    "    1) 단어 개수가 늘어나면 벡터의 차원이 한없이 커진다. -> 공간낭비   \n",
    "    2) 단어의 의미를 표현하지 못한다.\n",
    "    3) 단어 벡터 간 유의미한 유사도를 계산할 수 없다. \n",
    "    \n",
    "## 1.2 밀집 표현(Dense Representation)\n",
    "사용자가 설정한 값으로 모든 단어의 벡터 표현의 차원을 맞추며, 벡터값은 0과 1만이 아니라 실수값을 갖는다.\n",
    "\n",
    "## 1.3 워드 임베딩(Word Embedding)\n",
    "단어를 밀집 벡터(dense vector)의 형태로 표현하는 방법.   \n",
    "이 밀집 벡터를 워드 임베딩 과정을 통해 나온 결과라고 하여 임베딩 벡터라고도 한다.\n",
    "<img src=\"./09-1.png\">"
   ]
  },
  {
   "cell_type": "markdown",
   "id": "94334d94",
   "metadata": {},
   "source": [
    "# 2. 워드투벡터(word2Vec)\n",
    "단어 벡터 간 유의미한 유사도를 파악할 수 있도록 단어의 의미를 수치화하는 대표적인 방법\n",
    "\n",
    "### 분산 표현\n",
    "희소 표현 방법의 대안으로, 단어의 의미를 다차원 공간에 벡터화하는 표현 방법.   \n",
    "분포 가설을 이용하여 **텍스트를 학습**하고, 단어의 의미를 벡터의 여러 차원에 분산하여 표현.\n",
    "- 분포 가설 : 비슷한 문맥에서 등장하는 단어들은 비슷한 의미를 가진다.   \n",
    "\n",
    "분산 표현을 이용하여 단어 간 의미적 유사성을 벡터화하는 작업을 **워드 임베딩**이라 부르며, 이렇게 표현된 벡터를 **임베딩 벡터**라 한다.   \n",
    "\n",
    "#### Word2Vec의 학습 방식에는 CBOW(Continuous Bag of Words)와 Skip-Gram 두 가지 방식이 있다.\n",
    "\n",
    "## 1) CBOW(Continuous Bag of Words)\n",
    "주변에 있는 단어들을 입력으로 중간에 있는 단어들을 예측하는 방법    \n",
    "- 윈도우 : 중심 단어를 예측하기 위해서 앞, 뒤로 몇 개의 단어를 볼지에 대한 범위   \n",
    "- 윈도우 크기가 n이라면, 실제 중심 단어를 예측하기 위해 참고하려고 하는 주변 단어의 개수는 2n개이다.   \n",
    "\n",
    "투사층에서 입력 벡터인 2n개의 벡터의 평균을 구한다.\n",
    "  \n",
    "## 2) Skip-gram\n",
    "중간에 있는 단어들을 입력으로 주변 단어들을 예측하는 방법   \n",
    "중심 단어에 대해서 주변 단어를 예측하므로 투사층에서 벡터들의 평균을 구하는 과정이 없다.\n",
    "\n",
    "**_1), 2)에 대한 추가설명은 꼭 교재 참고!!(그림이 많고 책에 나온 내용을 이해하는 게 중요해서 따로 요약X)_**\n",
    "- CBOW, Skip-gram 설명 : https://wikidocs.net/22660\n",
    "    \n",
    "## NNLM  VS Word2Vec\n",
    "\n",
    "<img src=\"./09-2.png\">\n",
    "\n",
    "### NNLM\n",
    "- 단어 벡터 간 유사도를 구할 수 있도록 워드 임베딩 개념 도입\n",
    "- 다음 단어를 예측하는 언어 모델 구현이 목적 -> 다음 단어를 예측\n",
    "- 예측 단어의 이전 단어들만을 참고\n",
    "- 활성화 함수가 있는 은닉층 존재\n",
    "\n",
    "### Word2VEC\n",
    "- 워드 임베딩 자체에 집중. NNLM의 느린 학습 속도와 정확도 개선\n",
    "- 워드 임베딩 자체가 목적. -> 중심 단어를 예측\n",
    "- 예측 단어의 전, 후 단어들을 모두 참고\n",
    "- 활성화 함수가 있는 은닉층 제거 -> 학습 속도에 강점."
   ]
  },
  {
   "cell_type": "markdown",
   "id": "510c4a08",
   "metadata": {},
   "source": [
    "# 3. 영어/한국어 Word2Vec 실습\n",
    "gensim 패키지에서 제공하는 이미 구현된 Word2Vec을 사용"
   ]
  },
  {
   "cell_type": "markdown",
   "id": "d90882a9",
   "metadata": {},
   "source": [
    "## 3.1 영어 Word2Vec 만들기"
   ]
  },
  {
   "cell_type": "markdown",
   "id": "c4c13bba",
   "metadata": {},
   "source": [
    "### 3.1.2 훈련 데이터 전처리"
   ]
  },
  {
   "cell_type": "code",
   "execution_count": 2,
   "id": "b7cb9aaa",
   "metadata": {
    "ExecuteTime": {
     "end_time": "2023-01-14T06:33:03.498720Z",
     "start_time": "2023-01-14T06:33:01.193556Z"
    }
   },
   "outputs": [],
   "source": [
    "import re\n",
    "import urllib.request\n",
    "import zipfile\n",
    "from lxml import etree\n",
    "from nltk.tokenize import word_tokenize, sent_tokenize"
   ]
  },
  {
   "cell_type": "code",
   "execution_count": 3,
   "id": "77ab461e",
   "metadata": {
    "ExecuteTime": {
     "end_time": "2023-01-14T06:34:00.811706Z",
     "start_time": "2023-01-14T06:33:49.666912Z"
    }
   },
   "outputs": [
    {
     "data": {
      "text/plain": [
       "('ted_en-20160408.xml', <http.client.HTTPMessage at 0x192314fc4c0>)"
      ]
     },
     "execution_count": 3,
     "metadata": {},
     "output_type": "execute_result"
    }
   ],
   "source": [
    "# 훈련 데이터 다운로드 - xml문서형식\n",
    "urllib.request.urlretrieve(\"https://raw.githubusercontent.com/ukairia777/tensorflow-nlp-tutorial\\\n",
    "/main/09.%20Word%20Embedding/dataset/ted_en-20160408.xml\", filename=\"ted_en-20160408.xml\")"
   ]
  },
  {
   "cell_type": "markdown",
   "id": "6a955574",
   "metadata": {},
   "source": [
    "> 현재 경로로 데이터가 다운로드된다.   \n",
    "\\<content>, \\</content> 사이의 내용들은 전처리하고, Laughter나 Applause와 같은 배경음을 나타내는 단어도 제거해야 한다."
   ]
  },
  {
   "cell_type": "code",
   "execution_count": 7,
   "id": "f6d5b14f",
   "metadata": {
    "ExecuteTime": {
     "end_time": "2023-01-14T06:51:20.112487Z",
     "start_time": "2023-01-14T06:51:18.387823Z"
    }
   },
   "outputs": [
    {
     "data": {
      "text/plain": [
       "<lxml.etree._ElementTree at 0x192315206c0>"
      ]
     },
     "execution_count": 7,
     "metadata": {},
     "output_type": "execute_result"
    }
   ],
   "source": [
    "# 훈련 데이터 전처리 코드\n",
    "targetXML = open('ted_en-20160408.xml', 'r', encoding='UTF8')\n",
    "target_text = etree.parse(targetXML)\n",
    "target_text"
   ]
  },
  {
   "cell_type": "code",
   "execution_count": 11,
   "id": "90ea7f8e",
   "metadata": {
    "ExecuteTime": {
     "end_time": "2023-01-14T07:01:24.765807Z",
     "start_time": "2023-01-14T07:01:24.057344Z"
    }
   },
   "outputs": [],
   "source": [
    "# xml 파일로부터 <content>와 </content> 사이의 내용만 가져온다.\n",
    "parse_text = '\\n'.join(target_text.xpath('//content/text()'))"
   ]
  },
  {
   "cell_type": "markdown",
   "id": "b795bccb",
   "metadata": {},
   "source": [
    "> **xpath문법 참고**\n",
    "> - https://velog.io/@mjhuh263/TIL-23-HTML-XPATH-%EB%AC%B8%EB%B2%95%EA%B3%BC-selenium%EC%97%90-XPATH-%EC%9D%B4%EC%9A%A9%ED%95%98%EA%B8%B0"
   ]
  },
  {
   "cell_type": "code",
   "execution_count": 12,
   "id": "7b2550ba",
   "metadata": {
    "ExecuteTime": {
     "end_time": "2023-01-14T07:01:30.141423Z",
     "start_time": "2023-01-14T07:01:30.075696Z"
    }
   },
   "outputs": [],
   "source": [
    "# 정규 표현식의 sub 모듈을 통해 content 중간에 등장하는 (Audio), (Laughter) 등의 배경음 부분을 제거.\n",
    "# 해당 코드는 괄호로 구성된 내용을 제거.\n",
    "content_text = re.sub(r'\\([^)]*\\)', '', parse_text)"
   ]
  },
  {
   "cell_type": "markdown",
   "id": "0c6624e7",
   "metadata": {
    "ExecuteTime": {
     "end_time": "2023-01-14T06:56:51.702408Z",
     "start_time": "2023-01-14T06:56:51.646536Z"
    }
   },
   "source": [
    "> **re.sub 참고**\n",
    "> - https://clolee.tistory.com/17\n",
    "\n",
    "> **정규표현식 참고**\n",
    "> - https://wikidocs.net/4308\n",
    "> - https://uipath.tistory.com/91"
   ]
  },
  {
   "cell_type": "code",
   "execution_count": 15,
   "id": "06157cfc",
   "metadata": {
    "ExecuteTime": {
     "end_time": "2023-01-14T07:03:30.654817Z",
     "start_time": "2023-01-14T07:03:03.274219Z"
    }
   },
   "outputs": [],
   "source": [
    "# 입력 코퍼스에 대해서 NLTK를 이용하여 문장 토큰화를 수행.\n",
    "sent_text = sent_tokenize(content_text)\n",
    "\n",
    "# 각 문장에 대해서 구두점을 제거하고, 대문자를 소문자로 변환.\n",
    "normalized_text = []\n",
    "for string in sent_text:\n",
    "    tokens = re.sub(r\"[^a-z0-9]+\", \" \", string.lower())\n",
    "    normalized_text.append(tokens)\n",
    "\n",
    "# 각 문장에 대해서 NLTK를 이용하여 단어 토큰화를 수행.\n",
    "result = [word_tokenize(sentence) for sentence in normalized_text]"
   ]
  },
  {
   "cell_type": "code",
   "execution_count": 5,
   "id": "61e8fb4b",
   "metadata": {
    "ExecuteTime": {
     "end_time": "2023-01-14T06:38:40.633211Z",
     "start_time": "2023-01-14T06:38:40.609903Z"
    }
   },
   "outputs": [
    {
     "name": "stdout",
     "output_type": "stream",
     "text": [
      "총 샘플의 개수 : 273424\n"
     ]
    }
   ],
   "source": [
    "print('총 샘플의 개수 : {}'.format(len(result)))"
   ]
  },
  {
   "cell_type": "code",
   "execution_count": 6,
   "id": "525b26f2",
   "metadata": {
    "ExecuteTime": {
     "end_time": "2023-01-14T06:38:49.975110Z",
     "start_time": "2023-01-14T06:38:49.970592Z"
    }
   },
   "outputs": [
    {
     "name": "stdout",
     "output_type": "stream",
     "text": [
      "['here', 'are', 'two', 'reasons', 'companies', 'fail', 'they', 'only', 'do', 'more', 'of', 'the', 'same', 'or', 'they', 'only', 'do', 'what', 's', 'new']\n",
      "['to', 'me', 'the', 'real', 'real', 'solution', 'to', 'quality', 'growth', 'is', 'figuring', 'out', 'the', 'balance', 'between', 'two', 'activities', 'exploration', 'and', 'exploitation']\n",
      "['both', 'are', 'necessary', 'but', 'it', 'can', 'be', 'too', 'much', 'of', 'a', 'good', 'thing']\n"
     ]
    }
   ],
   "source": [
    "# 샘플 3개만 출력 - 토큰화 수행되었음을 확인 가능\n",
    "for line in result[:3]:\n",
    "    print(line)"
   ]
  },
  {
   "cell_type": "markdown",
   "id": "b578dd94",
   "metadata": {},
   "source": [
    "### 3.1.2 Word2Vec 모델"
   ]
  },
  {
   "cell_type": "code",
   "execution_count": 17,
   "id": "9e0a82d2",
   "metadata": {
    "ExecuteTime": {
     "end_time": "2023-01-14T07:05:08.100527Z",
     "start_time": "2023-01-14T07:04:46.099142Z"
    },
    "collapsed": true
   },
   "outputs": [
    {
     "name": "stdout",
     "output_type": "stream",
     "text": [
      "Collecting gensim\n",
      "  Downloading gensim-4.3.0-cp39-cp39-win_amd64.whl (24.0 MB)\n",
      "     ---------------------------------------- 24.0/24.0 MB 1.3 MB/s eta 0:00:00\n",
      "Collecting smart-open>=1.8.1\n",
      "  Downloading smart_open-6.3.0-py3-none-any.whl (56 kB)\n",
      "     ---------------------------------------- 56.8/56.8 kB 2.9 MB/s eta 0:00:00\n",
      "Requirement already satisfied: scipy>=1.7.0 in c:\\programdata\\anaconda3\\envs\\data\\lib\\site-packages (from gensim) (1.9.1)\n",
      "Collecting FuzzyTM>=0.4.0\n",
      "  Downloading FuzzyTM-2.0.5-py3-none-any.whl (29 kB)\n",
      "Collecting Cython==0.29.32\n",
      "  Downloading Cython-0.29.32-py2.py3-none-any.whl (986 kB)\n",
      "     -------------------------------------- 986.3/986.3 kB 9.0 MB/s eta 0:00:00\n",
      "Requirement already satisfied: numpy>=1.18.5 in c:\\programdata\\anaconda3\\envs\\data\\lib\\site-packages (from gensim) (1.23.2)\n",
      "Requirement already satisfied: pandas in c:\\programdata\\anaconda3\\envs\\data\\lib\\site-packages (from FuzzyTM>=0.4.0->gensim) (1.4.4)\n",
      "Collecting pyfume\n",
      "  Downloading pyFUME-0.2.25-py3-none-any.whl (67 kB)\n",
      "     ---------------------------------------- 67.1/67.1 kB 3.6 MB/s eta 0:00:00\n",
      "Requirement already satisfied: pytz>=2020.1 in c:\\programdata\\anaconda3\\envs\\data\\lib\\site-packages (from pandas->FuzzyTM>=0.4.0->gensim) (2022.1)\n",
      "Requirement already satisfied: python-dateutil>=2.8.1 in c:\\programdata\\anaconda3\\envs\\data\\lib\\site-packages (from pandas->FuzzyTM>=0.4.0->gensim) (2.8.2)\n",
      "Collecting simpful\n",
      "  Downloading simpful-2.9.0-py3-none-any.whl (30 kB)\n",
      "Collecting fst-pso\n",
      "  Downloading fst-pso-1.8.1.tar.gz (18 kB)\n",
      "  Preparing metadata (setup.py): started\n",
      "  Preparing metadata (setup.py): finished with status 'done'\n",
      "Requirement already satisfied: six>=1.5 in c:\\programdata\\anaconda3\\envs\\data\\lib\\site-packages (from python-dateutil>=2.8.1->pandas->FuzzyTM>=0.4.0->gensim) (1.16.0)\n",
      "Collecting miniful\n",
      "  Downloading miniful-0.0.6.tar.gz (2.8 kB)\n",
      "  Preparing metadata (setup.py): started\n",
      "  Preparing metadata (setup.py): finished with status 'done'\n",
      "Requirement already satisfied: requests in c:\\programdata\\anaconda3\\envs\\data\\lib\\site-packages (from simpful->pyfume->FuzzyTM>=0.4.0->gensim) (2.28.1)\n",
      "Requirement already satisfied: charset-normalizer<3,>=2 in c:\\programdata\\anaconda3\\envs\\data\\lib\\site-packages (from requests->simpful->pyfume->FuzzyTM>=0.4.0->gensim) (2.0.4)\n",
      "Requirement already satisfied: certifi>=2017.4.17 in c:\\programdata\\anaconda3\\envs\\data\\lib\\site-packages (from requests->simpful->pyfume->FuzzyTM>=0.4.0->gensim) (2022.9.24)\n",
      "Requirement already satisfied: idna<4,>=2.5 in c:\\programdata\\anaconda3\\envs\\data\\lib\\site-packages (from requests->simpful->pyfume->FuzzyTM>=0.4.0->gensim) (3.3)\n",
      "Requirement already satisfied: urllib3<1.27,>=1.21.1 in c:\\programdata\\anaconda3\\envs\\data\\lib\\site-packages (from requests->simpful->pyfume->FuzzyTM>=0.4.0->gensim) (1.26.11)\n",
      "Building wheels for collected packages: fst-pso, miniful\n"
     ]
    },
    {
     "name": "stderr",
     "output_type": "stream",
     "text": [
      "WARNING: Ignoring invalid distribution -ensorflow (c:\\programdata\\anaconda3\\envs\\data\\lib\\site-packages)\n",
      "WARNING: Ignoring invalid distribution -ensorflow (c:\\programdata\\anaconda3\\envs\\data\\lib\\site-packages)\n",
      "WARNING: Ignoring invalid distribution -ensorflow (c:\\programdata\\anaconda3\\envs\\data\\lib\\site-packages)\n",
      "WARNING: Ignoring invalid distribution -ensorflow (c:\\programdata\\anaconda3\\envs\\data\\lib\\site-packages)\n",
      "WARNING: Ignoring invalid distribution -ensorflow (c:\\programdata\\anaconda3\\envs\\data\\lib\\site-packages)\n",
      "WARNING: Ignoring invalid distribution -ensorflow (c:\\programdata\\anaconda3\\envs\\data\\lib\\site-packages)\n",
      "WARNING: Ignoring invalid distribution -ensorflow (c:\\programdata\\anaconda3\\envs\\data\\lib\\site-packages)\n",
      "WARNING: Ignoring invalid distribution -ensorflow (c:\\programdata\\anaconda3\\envs\\data\\lib\\site-packages)\n",
      "WARNING: Ignoring invalid distribution -ensorflow (c:\\programdata\\anaconda3\\envs\\data\\lib\\site-packages)\n",
      "WARNING: Ignoring invalid distribution -ensorflow (c:\\programdata\\anaconda3\\envs\\data\\lib\\site-packages)\n",
      "WARNING: Ignoring invalid distribution -ensorflow (c:\\programdata\\anaconda3\\envs\\data\\lib\\site-packages)\n",
      "WARNING: Ignoring invalid distribution -ensorflow (c:\\programdata\\anaconda3\\envs\\data\\lib\\site-packages)\n",
      "WARNING: Ignoring invalid distribution -ensorflow (c:\\programdata\\anaconda3\\envs\\data\\lib\\site-packages)\n",
      "WARNING: Ignoring invalid distribution -ensorflow (c:\\programdata\\anaconda3\\envs\\data\\lib\\site-packages)\n"
     ]
    },
    {
     "name": "stdout",
     "output_type": "stream",
     "text": [
      "  Building wheel for fst-pso (setup.py): started\n",
      "  Building wheel for fst-pso (setup.py): finished with status 'done'\n",
      "  Created wheel for fst-pso: filename=fst_pso-1.8.1-py3-none-any.whl size=20431 sha256=271ce496703c0bbf8733c33a58fbb681b0cfec0f4629f1db3611f31b48764c85\n",
      "  Stored in directory: c:\\users\\hkny0\\appdata\\local\\pip\\cache\\wheels\\99\\66\\48\\d7ce0c6927f6abf167bbcdee537affc7b92c03632f78028411\n",
      "  Building wheel for miniful (setup.py): started\n",
      "  Building wheel for miniful (setup.py): finished with status 'done'\n",
      "  Created wheel for miniful: filename=miniful-0.0.6-py3-none-any.whl size=3514 sha256=fbe10f943088256eca45f6006489281b436e6af4c72fe04642693fd894288214\n",
      "  Stored in directory: c:\\users\\hkny0\\appdata\\local\\pip\\cache\\wheels\\d9\\c7\\71\\db1d4646d963b34c530667501d3d6f34c0825eaffae2f0f2cb\n",
      "Successfully built fst-pso miniful\n",
      "Installing collected packages: smart-open, Cython, simpful, miniful, fst-pso, pyfume, FuzzyTM, gensim\n",
      "Successfully installed Cython-0.29.32 FuzzyTM-2.0.5 fst-pso-1.8.1 gensim-4.3.0 miniful-0.0.6 pyfume-0.2.25 simpful-2.9.0 smart-open-6.3.0\n"
     ]
    }
   ],
   "source": [
    "#!pip install gensim"
   ]
  },
  {
   "cell_type": "code",
   "execution_count": 23,
   "id": "aeaee272",
   "metadata": {
    "ExecuteTime": {
     "end_time": "2023-01-14T07:13:26.062324Z",
     "start_time": "2023-01-14T07:13:16.129031Z"
    }
   },
   "outputs": [],
   "source": [
    "# Word2Vec 훈련시키기\n",
    "from gensim.models import Word2Vec\n",
    "from gensim.models import KeyedVectors\n",
    "\n",
    "model = Word2Vec(sentences=result, vector_size=100, window=5, min_count=5, workers=4, sg=0)"
   ]
  },
  {
   "cell_type": "markdown",
   "id": "1b7f7d4d",
   "metadata": {
    "ExecuteTime": {
     "end_time": "2023-01-14T07:06:28.242575Z",
     "start_time": "2023-01-14T07:06:28.229361Z"
    }
   },
   "source": [
    "> Word2Vec의 하이퍼파라미터\n",
    "> - vector_size = 워드 벡터의 특징 값. 즉, 임베딩 된 벡터의 차원.\n",
    "> - window = 컨텍스트 윈도우 크기\n",
    "> - min_count = 단어 최소 빈도 수 제한 (빈도가 적은 단어들은 학습X)\n",
    "> - workers = 학습을 위한 프로세스 수\n",
    "> - sg = 0은 CBOW, 1은 Skip-gram.\n",
    "\n",
    "> **오류해결** : __init__() got an unexpected keyword argument 'size'\n",
    "> - https://taepseon.tistory.com/165"
   ]
  },
  {
   "cell_type": "code",
   "execution_count": 22,
   "id": "cd0700ff",
   "metadata": {
    "ExecuteTime": {
     "end_time": "2023-01-14T07:09:59.813573Z",
     "start_time": "2023-01-14T07:09:59.719694Z"
    }
   },
   "outputs": [
    {
     "name": "stdout",
     "output_type": "stream",
     "text": [
      "[('woman', 0.8362213969230652), ('guy', 0.8056905269622803), ('boy', 0.7336509227752686), ('lady', 0.7292954325675964), ('girl', 0.7224241495132446), ('soldier', 0.6950802803039551), ('kid', 0.6896971464157104), ('gentleman', 0.6890862584114075), ('poet', 0.6707367300987244), ('rabbi', 0.6681267023086548)]\n"
     ]
    }
   ],
   "source": [
    "# model.wv.most_similar : 입력한 단어에 대해서 가장 유사한 단어들을 출력\n",
    "model_result = model.wv.most_similar(\"man\")\n",
    "print(model_result)"
   ]
  },
  {
   "cell_type": "code",
   "execution_count": 25,
   "id": "677a02d7",
   "metadata": {
    "ExecuteTime": {
     "end_time": "2023-01-14T07:13:39.702740Z",
     "start_time": "2023-01-14T07:13:37.222012Z"
    }
   },
   "outputs": [],
   "source": [
    "# Word2Vec 모델 저장하고 로드하기\n",
    "model.wv.save_word2vec_format('eng_w2v') # 모델 저장\n",
    "loaded_model = KeyedVectors.load_word2vec_format(\"eng_w2v\") # 모델 로드"
   ]
  },
  {
   "cell_type": "code",
   "execution_count": 26,
   "id": "cdd71239",
   "metadata": {
    "ExecuteTime": {
     "end_time": "2023-01-14T07:13:42.932087Z",
     "start_time": "2023-01-14T07:13:42.910790Z"
    }
   },
   "outputs": [
    {
     "name": "stdout",
     "output_type": "stream",
     "text": [
      "[('woman', 0.8531349897384644), ('guy', 0.8128985166549683), ('lady', 0.7836226224899292), ('boy', 0.7554062604904175), ('girl', 0.7258740067481995), ('gentleman', 0.7241212725639343), ('kid', 0.7038401365280151), ('soldier', 0.695353627204895), ('poet', 0.6924022436141968), ('rabbi', 0.672540545463562)]\n"
     ]
    }
   ],
   "source": [
    "model_result = loaded_model.most_similar(\"man\")\n",
    "print(model_result)"
   ]
  },
  {
   "cell_type": "markdown",
   "id": "5aef0100",
   "metadata": {},
   "source": [
    "## 3.2 한국어 Word2Vec 만들기(네이버 영화 리뷰)"
   ]
  },
  {
   "cell_type": "code",
   "execution_count": 27,
   "id": "64802b7f",
   "metadata": {
    "ExecuteTime": {
     "end_time": "2023-01-14T07:17:10.178575Z",
     "start_time": "2023-01-14T07:17:08.228094Z"
    }
   },
   "outputs": [],
   "source": [
    "import pandas as pd\n",
    "import matplotlib.pyplot as plt\n",
    "import urllib.request\n",
    "from gensim.models.word2vec import Word2Vec\n",
    "from konlpy.tag import Okt"
   ]
  },
  {
   "cell_type": "code",
   "execution_count": 30,
   "id": "78ecd345",
   "metadata": {
    "ExecuteTime": {
     "end_time": "2023-01-14T07:17:21.224230Z",
     "start_time": "2023-01-14T07:17:20.244607Z"
    }
   },
   "outputs": [
    {
     "data": {
      "text/plain": [
       "('ratings.txt', <http.client.HTTPMessage at 0x192568e04c0>)"
      ]
     },
     "execution_count": 30,
     "metadata": {},
     "output_type": "execute_result"
    }
   ],
   "source": [
    "# 네이버 영화 리뷰 데이터 다운로드\n",
    "urllib.request.urlretrieve(\"https://raw.githubusercontent.com/e9t/nsmc/master\\\n",
    "/ratings.txt\", filename=\"ratings.txt\")"
   ]
  },
  {
   "cell_type": "code",
   "execution_count": 32,
   "id": "ffb63598",
   "metadata": {
    "ExecuteTime": {
     "end_time": "2023-01-14T07:18:17.526998Z",
     "start_time": "2023-01-14T07:18:17.138250Z"
    }
   },
   "outputs": [
    {
     "data": {
      "text/html": [
       "<div>\n",
       "<style scoped>\n",
       "    .dataframe tbody tr th:only-of-type {\n",
       "        vertical-align: middle;\n",
       "    }\n",
       "\n",
       "    .dataframe tbody tr th {\n",
       "        vertical-align: top;\n",
       "    }\n",
       "\n",
       "    .dataframe thead th {\n",
       "        text-align: right;\n",
       "    }\n",
       "</style>\n",
       "<table border=\"1\" class=\"dataframe\">\n",
       "  <thead>\n",
       "    <tr style=\"text-align: right;\">\n",
       "      <th></th>\n",
       "      <th>id</th>\n",
       "      <th>document</th>\n",
       "      <th>label</th>\n",
       "    </tr>\n",
       "  </thead>\n",
       "  <tbody>\n",
       "    <tr>\n",
       "      <th>0</th>\n",
       "      <td>8112052</td>\n",
       "      <td>어릴때보고 지금다시봐도 재밌어요ㅋㅋ</td>\n",
       "      <td>1</td>\n",
       "    </tr>\n",
       "    <tr>\n",
       "      <th>1</th>\n",
       "      <td>8132799</td>\n",
       "      <td>디자인을 배우는 학생으로, 외국디자이너와 그들이 일군 전통을 통해 발전해가는 문화산...</td>\n",
       "      <td>1</td>\n",
       "    </tr>\n",
       "    <tr>\n",
       "      <th>2</th>\n",
       "      <td>4655635</td>\n",
       "      <td>폴리스스토리 시리즈는 1부터 뉴까지 버릴께 하나도 없음.. 최고.</td>\n",
       "      <td>1</td>\n",
       "    </tr>\n",
       "    <tr>\n",
       "      <th>3</th>\n",
       "      <td>9251303</td>\n",
       "      <td>와.. 연기가 진짜 개쩔구나.. 지루할거라고 생각했는데 몰입해서 봤다.. 그래 이런...</td>\n",
       "      <td>1</td>\n",
       "    </tr>\n",
       "    <tr>\n",
       "      <th>4</th>\n",
       "      <td>10067386</td>\n",
       "      <td>안개 자욱한 밤하늘에 떠 있는 초승달 같은 영화.</td>\n",
       "      <td>1</td>\n",
       "    </tr>\n",
       "  </tbody>\n",
       "</table>\n",
       "</div>"
      ],
      "text/plain": [
       "         id                                           document  label\n",
       "0   8112052                                어릴때보고 지금다시봐도 재밌어요ㅋㅋ      1\n",
       "1   8132799  디자인을 배우는 학생으로, 외국디자이너와 그들이 일군 전통을 통해 발전해가는 문화산...      1\n",
       "2   4655635               폴리스스토리 시리즈는 1부터 뉴까지 버릴께 하나도 없음.. 최고.      1\n",
       "3   9251303  와.. 연기가 진짜 개쩔구나.. 지루할거라고 생각했는데 몰입해서 봤다.. 그래 이런...      1\n",
       "4  10067386                        안개 자욱한 밤하늘에 떠 있는 초승달 같은 영화.      1"
      ]
     },
     "execution_count": 32,
     "metadata": {},
     "output_type": "execute_result"
    }
   ],
   "source": [
    "train_data = pd.read_table('ratings.txt')\n",
    "train_data[:5] # 상위 5개 출력"
   ]
  },
  {
   "cell_type": "code",
   "execution_count": 33,
   "id": "da287f65",
   "metadata": {
    "ExecuteTime": {
     "end_time": "2023-01-14T07:18:18.088360Z",
     "start_time": "2023-01-14T07:18:18.072249Z"
    }
   },
   "outputs": [
    {
     "name": "stdout",
     "output_type": "stream",
     "text": [
      "200000\n"
     ]
    }
   ],
   "source": [
    "print(len(train_data)) # 리뷰 개수 출력"
   ]
  },
  {
   "cell_type": "code",
   "execution_count": 34,
   "id": "aabb2f3b",
   "metadata": {
    "ExecuteTime": {
     "end_time": "2023-01-14T07:18:24.063891Z",
     "start_time": "2023-01-14T07:18:24.029511Z"
    }
   },
   "outputs": [
    {
     "name": "stdout",
     "output_type": "stream",
     "text": [
      "True\n"
     ]
    }
   ],
   "source": [
    "# NULL 값 존재 유무\n",
    "print(train_data.isnull().values.any())"
   ]
  },
  {
   "cell_type": "code",
   "execution_count": 36,
   "id": "8ad6d474",
   "metadata": {
    "ExecuteTime": {
     "end_time": "2023-01-14T07:18:42.565225Z",
     "start_time": "2023-01-14T07:18:42.507971Z"
    }
   },
   "outputs": [
    {
     "name": "stdout",
     "output_type": "stream",
     "text": [
      "False\n",
      "199992\n"
     ]
    }
   ],
   "source": [
    "# 결측값 제거\n",
    "train_data = train_data.dropna(how = 'any') # Null 값이 존재하는 행 제거\n",
    "print(train_data.isnull().values.any()) # Null 값이 존재하는지 확인\n",
    "print(len(train_data)) # 리뷰 개수 출력"
   ]
  },
  {
   "cell_type": "code",
   "execution_count": 37,
   "id": "908eb8ab",
   "metadata": {
    "ExecuteTime": {
     "end_time": "2023-01-14T07:19:04.753337Z",
     "start_time": "2023-01-14T07:19:04.461809Z"
    }
   },
   "outputs": [
    {
     "name": "stderr",
     "output_type": "stream",
     "text": [
      "C:\\Users\\hkny0\\AppData\\Local\\Temp\\ipykernel_14704\\3523926270.py:2: FutureWarning: The default value of regex will change from True to False in a future version.\n",
      "  train_data['document'] = train_data['document'].str.replace(\"[^ㄱ-ㅎㅏ-ㅣ가-힣 ]\",\"\")\n"
     ]
    },
    {
     "data": {
      "text/html": [
       "<div>\n",
       "<style scoped>\n",
       "    .dataframe tbody tr th:only-of-type {\n",
       "        vertical-align: middle;\n",
       "    }\n",
       "\n",
       "    .dataframe tbody tr th {\n",
       "        vertical-align: top;\n",
       "    }\n",
       "\n",
       "    .dataframe thead th {\n",
       "        text-align: right;\n",
       "    }\n",
       "</style>\n",
       "<table border=\"1\" class=\"dataframe\">\n",
       "  <thead>\n",
       "    <tr style=\"text-align: right;\">\n",
       "      <th></th>\n",
       "      <th>id</th>\n",
       "      <th>document</th>\n",
       "      <th>label</th>\n",
       "    </tr>\n",
       "  </thead>\n",
       "  <tbody>\n",
       "    <tr>\n",
       "      <th>0</th>\n",
       "      <td>8112052</td>\n",
       "      <td>어릴때보고 지금다시봐도 재밌어요ㅋㅋ</td>\n",
       "      <td>1</td>\n",
       "    </tr>\n",
       "    <tr>\n",
       "      <th>1</th>\n",
       "      <td>8132799</td>\n",
       "      <td>디자인을 배우는 학생으로 외국디자이너와 그들이 일군 전통을 통해 발전해가는 문화산업...</td>\n",
       "      <td>1</td>\n",
       "    </tr>\n",
       "    <tr>\n",
       "      <th>2</th>\n",
       "      <td>4655635</td>\n",
       "      <td>폴리스스토리 시리즈는 부터 뉴까지 버릴께 하나도 없음 최고</td>\n",
       "      <td>1</td>\n",
       "    </tr>\n",
       "    <tr>\n",
       "      <th>3</th>\n",
       "      <td>9251303</td>\n",
       "      <td>와 연기가 진짜 개쩔구나 지루할거라고 생각했는데 몰입해서 봤다 그래 이런게 진짜 영화지</td>\n",
       "      <td>1</td>\n",
       "    </tr>\n",
       "    <tr>\n",
       "      <th>4</th>\n",
       "      <td>10067386</td>\n",
       "      <td>안개 자욱한 밤하늘에 떠 있는 초승달 같은 영화</td>\n",
       "      <td>1</td>\n",
       "    </tr>\n",
       "  </tbody>\n",
       "</table>\n",
       "</div>"
      ],
      "text/plain": [
       "         id                                           document  label\n",
       "0   8112052                                어릴때보고 지금다시봐도 재밌어요ㅋㅋ      1\n",
       "1   8132799  디자인을 배우는 학생으로 외국디자이너와 그들이 일군 전통을 통해 발전해가는 문화산업...      1\n",
       "2   4655635                   폴리스스토리 시리즈는 부터 뉴까지 버릴께 하나도 없음 최고      1\n",
       "3   9251303   와 연기가 진짜 개쩔구나 지루할거라고 생각했는데 몰입해서 봤다 그래 이런게 진짜 영화지      1\n",
       "4  10067386                         안개 자욱한 밤하늘에 떠 있는 초승달 같은 영화      1"
      ]
     },
     "execution_count": 37,
     "metadata": {},
     "output_type": "execute_result"
    }
   ],
   "source": [
    "# 정규 표현식을 통한 한글 외 문자 제거\n",
    "train_data['document'] = train_data['document'].str.replace(\"[^ㄱ-ㅎㅏ-ㅣ가-힣 ]\",\"\")\n",
    "train_data[:5] # 상위 5개 출력"
   ]
  },
  {
   "cell_type": "markdown",
   "id": "53f259cb",
   "metadata": {},
   "source": [
    "> str.replace의 argument에 관한 future warning   \n",
    "> - The default value of regex will change from True to False in a future version.\n",
    "> - https://stackoverflow.com/questions/66603854/futurewarning-the-default-value-of-regex-will-change-from-true-to-false-in-a-fu"
   ]
  },
  {
   "cell_type": "code",
   "execution_count": 39,
   "id": "a95ebb85",
   "metadata": {
    "ExecuteTime": {
     "end_time": "2023-01-14T07:43:49.055722Z",
     "start_time": "2023-01-14T07:32:13.984867Z"
    }
   },
   "outputs": [
    {
     "name": "stderr",
     "output_type": "stream",
     "text": [
      "100%|█████████████████████████████████████████████████████████████████████████| 199992/199992 [11:35<00:00, 287.75it/s]\n"
     ]
    }
   ],
   "source": [
    "## 불용어 제거\n",
    "from tqdm import tqdm\n",
    "\n",
    "# 불용어 정의\n",
    "stopwords = ['의','가','이','은','들','는','좀','잘','걍','과','도','를','으로','자','에','와','한','하다']\n",
    "\n",
    "# 형태소 분석기 OKT를 사용한 토큰화 작업 (다소 시간 소요)\n",
    "okt = Okt()\n",
    "\n",
    "tokenized_data = []\n",
    "for sentence in tqdm(train_data['document']):\n",
    "    tokenized_sentence = okt.morphs(sentence, stem=True) # 토큰화\n",
    "    stopwords_removed_sentence = [word for word in tokenized_sentence if not word in stopwords] # 불용어 제거\n",
    "    tokenized_data.append(stopwords_removed_sentence)"
   ]
  },
  {
   "cell_type": "markdown",
   "id": "4ffd87a1",
   "metadata": {},
   "source": [
    "> **<tqdm 사용법>**\n",
    "> - 반복문에서 진행률을 progress bar로 표혀해주고 남은 시간 정보까지 알려주는 모듈\n",
    "> - https://zephyrus1111.tistory.com/305"
   ]
  },
  {
   "cell_type": "code",
   "execution_count": 40,
   "id": "6f14c53e",
   "metadata": {
    "ExecuteTime": {
     "end_time": "2023-01-14T07:44:05.960334Z",
     "start_time": "2023-01-14T07:44:03.922791Z"
    }
   },
   "outputs": [
    {
     "name": "stdout",
     "output_type": "stream",
     "text": [
      "리뷰의 최대 길이 : 72\n",
      "리뷰의 평균 길이 : 10.716703668146726\n"
     ]
    },
    {
     "data": {
      "image/png": "[encoded data removed]",
      "text/plain": [
       "<Figure size 640x480 with 1 Axes>"
      ]
     },
     "metadata": {},
     "output_type": "display_data"
    }
   ],
   "source": [
    "# 리뷰 길이 분포 확인\n",
    "print('리뷰의 최대 길이 :',max(len(review) for review in tokenized_data))\n",
    "print('리뷰의 평균 길이 :',sum(map(len, tokenized_data))/len(tokenized_data))\n",
    "plt.hist([len(review) for review in tokenized_data], bins=50)\n",
    "plt.xlabel('length of samples')\n",
    "plt.ylabel('number of samples')\n",
    "plt.show()"
   ]
  },
  {
   "cell_type": "code",
   "execution_count": 44,
   "id": "6673b370",
   "metadata": {
    "ExecuteTime": {
     "end_time": "2023-01-14T07:44:46.528339Z",
     "start_time": "2023-01-14T07:44:40.575152Z"
    }
   },
   "outputs": [],
   "source": [
    "# Word2Vec으로 토큰화 된 네이버 영화 리뷰 데이터를 학습\n",
    "from gensim.models import Word2Vec\n",
    "\n",
    "model2 = Word2Vec(sentences = tokenized_data, vector_size = 100, window = 5, min_count = 5, workers = 4, sg = 0)"
   ]
  },
  {
   "cell_type": "code",
   "execution_count": 48,
   "id": "af6c58a8",
   "metadata": {
    "ExecuteTime": {
     "end_time": "2023-01-14T07:44:55.371912Z",
     "start_time": "2023-01-14T07:44:55.356812Z"
    }
   },
   "outputs": [
    {
     "data": {
      "text/plain": [
       "(16477, 100)"
      ]
     },
     "execution_count": 48,
     "metadata": {},
     "output_type": "execute_result"
    }
   ],
   "source": [
    "# 완성된 임베딩 매트릭스의 크기 확인\n",
    "model2.wv.vectors.shape"
   ]
  },
  {
   "cell_type": "code",
   "execution_count": 46,
   "id": "434ba968",
   "metadata": {
    "ExecuteTime": {
     "end_time": "2023-01-14T07:44:46.575066Z",
     "start_time": "2023-01-14T07:44:46.547936Z"
    }
   },
   "outputs": [
    {
     "name": "stdout",
     "output_type": "stream",
     "text": [
      "[('안성기', 0.8665849566459656), ('최민수', 0.8626821041107178), ('송강호', 0.8483191728591919), ('양동근', 0.847623884677887), ('한석규', 0.8422004580497742), ('김명민', 0.8347287178039551), ('홉킨스', 0.8315922617912292), ('이정재', 0.8312536478042603), ('정재영', 0.8311538100242615), ('박중훈', 0.8263603448867798)]\n"
     ]
    }
   ],
   "source": [
    "# '최민식'과 유사한 단어 출력\n",
    "print(model.wv.most_similar(\"최민식\"))"
   ]
  },
  {
   "cell_type": "markdown",
   "id": "eb504577",
   "metadata": {},
   "source": [
    "## 3.3 사전 훈련된 Word2Vec 임베딩(Pre-trained Word2Vec embedding) 소개\n",
    "갖고 있는 훈련 데이터의 양이 부족한 상황이라면, 위키피디아 등의 방대한 데이터로 사전에 훈련된 워드 임베딩(pre-trained word embedding vector)을 가지고 와서 해당 벡터들의 값을 원하는 작업에 사용 할 수도 있다.\n",
    "\n",
    "구글이 제공하는 사전 훈련된 Word2Vec 모델을 사용하는 방법에 대해 알아보자.   \n",
    "- 모델 다운로드 경로 : https://drive.google.com/file/d/0B7XkCwpI5KDYNlNUTTlSS21pQmM/edit   \n"
   ]
  },
  {
   "cell_type": "code",
   "execution_count": 60,
   "id": "93790815",
   "metadata": {
    "ExecuteTime": {
     "end_time": "2023-01-14T07:54:53.926722Z",
     "start_time": "2023-01-14T07:54:08.192102Z"
    },
    "scrolled": true
   },
   "outputs": [],
   "source": [
    "import gensim\n",
    "import urllib.request\n",
    "\n",
    "# 구글의 사전 훈련된 Word2Vec 모델을 로드.\n",
    "word2vec_model = gensim.models.KeyedVectors.load_word2vec_format('GoogleNews-vectors-negative300.bin.gz', binary=True)"
   ]
  },
  {
   "cell_type": "code",
   "execution_count": 55,
   "id": "7dd41031",
   "metadata": {
    "ExecuteTime": {
     "end_time": "2023-01-14T07:52:34.965686Z",
     "start_time": "2023-01-14T07:52:34.950685Z"
    }
   },
   "outputs": [
    {
     "name": "stdout",
     "output_type": "stream",
     "text": [
      "(3000000, 300)\n"
     ]
    }
   ],
   "source": [
    "# 모델의 크기 확인\n",
    "print(word2vec_model.vectors.shape)"
   ]
  },
  {
   "cell_type": "code",
   "execution_count": 56,
   "id": "9e257d00",
   "metadata": {
    "ExecuteTime": {
     "end_time": "2023-01-14T07:53:06.548730Z",
     "start_time": "2023-01-14T07:53:06.520728Z"
    }
   },
   "outputs": [
    {
     "name": "stdout",
     "output_type": "stream",
     "text": [
      "0.40797037\n",
      "0.057204384\n"
     ]
    }
   ],
   "source": [
    "# 두 단어의 유사도 계산 연습\n",
    "print(word2vec_model.similarity('this', 'is'))\n",
    "print(word2vec_model.similarity('post', 'book'))"
   ]
  },
  {
   "cell_type": "code",
   "execution_count": 59,
   "id": "81c2f87e",
   "metadata": {
    "ExecuteTime": {
     "end_time": "2023-01-14T07:54:05.750971Z",
     "start_time": "2023-01-14T07:54:05.726389Z"
    },
    "scrolled": false
   },
   "outputs": [
    {
     "name": "stdout",
     "output_type": "stream",
     "text": [
      "[ 0.11279297 -0.02612305 -0.04492188  0.06982422  0.140625    0.03039551\n",
      " -0.04370117  0.24511719  0.08740234 -0.05053711  0.23144531 -0.07470703\n",
      "  0.21875     0.03466797 -0.14550781  0.05761719  0.00671387 -0.00701904\n",
      "  0.13183594 -0.25390625]\n"
     ]
    }
   ],
   "source": [
    "# 단어 'book'의 벡터 출력\n",
    "print(word2vec_model['book'][:20])"
   ]
  },
  {
   "cell_type": "markdown",
   "id": "c0c6bf21",
   "metadata": {},
   "source": [
    "# 4. 네거티브 샘플링을 이용한 Word2Vec 구현(Skip-Gram with Negative Sampling, SGNS)"
   ]
  },
  {
   "cell_type": "markdown",
   "id": "5abc83ca",
   "metadata": {},
   "source": [
    "## 4.1 네거티브 샘플링(Negative Sampling)\n",
    "보통의 Word2Vec는 단어 집합의 크기가 수만 이상에 달한다면 학습하기 꽤나 무거운 모델이 된다. **네거티브 샘플링**은 Word2Vec이 학습 과정에서 전체 단어 집합이 아니라 일부 단어 집합에만 집중할 수 있도록 하는 방법. 기존의 단어 집합을 이진 분류 문제를 위한 데이터셋으로 변환한다."
   ]
  },
  {
   "cell_type": "markdown",
   "id": "5ad10b71",
   "metadata": {},
   "source": [
    "## 4.2 네거티브 샘플링 Skip-Gram(Skip-Gram with Negative Sampling, SGNS)"
   ]
  },
  {
   "cell_type": "code",
   "execution_count": null,
   "id": "46e251f9",
   "metadata": {},
   "outputs": [],
   "source": []
  }
 ],
 "metadata": {
  "kernelspec": {
   "display_name": "Python 3 (ipykernel)",
   "language": "python",
   "name": "python3"
  },
  "language_info": {
   "codemirror_mode": {
    "name": "ipython",
    "version": 3
   },
   "file_extension": ".py",
   "mimetype": "text/x-python",
   "name": "python",
   "nbconvert_exporter": "python",
   "pygments_lexer": "ipython3",
   "version": "3.9.13"
  },
  "toc": {
   "base_numbering": 1,
   "nav_menu": {},
   "number_sections": true,
   "sideBar": true,
   "skip_h1_title": false,
   "title_cell": "Table of Contents",
   "title_sidebar": "Contents",
   "toc_cell": false,
   "toc_position": {},
   "toc_section_display": true,
   "toc_window_display": false
  }
 },
 "nbformat": 4,
 "nbformat_minor": 5
}
