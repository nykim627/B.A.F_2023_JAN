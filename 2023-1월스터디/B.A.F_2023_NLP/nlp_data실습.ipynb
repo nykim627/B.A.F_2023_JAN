{
 "cells": [
  {
   "cell_type": "code",
   "execution_count": 2,
   "id": "95413b53",
   "metadata": {
    "ExecuteTime": {
     "end_time": "2023-01-24T05:01:27.881001Z",
     "start_time": "2023-01-24T05:01:25.727108Z"
    }
   },
   "outputs": [],
   "source": [
    "# 기본 라이브러리 설치\n",
    "import pandas as pd\n",
    "import numpy as np\n",
    "from sklearn.feature_extraction.text import CountVectorizer\n",
    "from sklearn.feature_extraction.text import TfidfVectorizer   # TF-IDF를 자동 계산\n",
    "\n",
    "\n",
    "# col 생략 없이 출력\n",
    "pd.set_option('display.max_columns', None)"
   ]
  },
  {
   "cell_type": "code",
   "execution_count": 3,
   "id": "9e4e73e7",
   "metadata": {
    "ExecuteTime": {
     "end_time": "2023-01-24T05:01:28.181875Z",
     "start_time": "2023-01-24T05:01:27.883995Z"
    },
    "scrolled": true
   },
   "outputs": [
    {
     "name": "stdout",
     "output_type": "stream",
     "text": [
      "<class 'pandas.core.frame.DataFrame'>\n",
      "RangeIndex: 54879 entries, 0 to 54878\n",
      "Data columns (total 3 columns):\n",
      " #   Column  Non-Null Count  Dtype \n",
      "---  ------  --------------  ----- \n",
      " 0   index   54879 non-null  int64 \n",
      " 1   text    54879 non-null  object\n",
      " 2   score   54879 non-null  int64 \n",
      "dtypes: int64(2), object(1)\n",
      "memory usage: 1.3+ MB\n"
     ]
    },
    {
     "data": {
      "text/html": [
       "<div>\n",
       "<style scoped>\n",
       "    .dataframe tbody tr th:only-of-type {\n",
       "        vertical-align: middle;\n",
       "    }\n",
       "\n",
       "    .dataframe tbody tr th {\n",
       "        vertical-align: top;\n",
       "    }\n",
       "\n",
       "    .dataframe thead th {\n",
       "        text-align: right;\n",
       "    }\n",
       "</style>\n",
       "<table border=\"1\" class=\"dataframe\">\n",
       "  <thead>\n",
       "    <tr style=\"text-align: right;\">\n",
       "      <th></th>\n",
       "      <th>text</th>\n",
       "      <th>score</th>\n",
       "    </tr>\n",
       "  </thead>\n",
       "  <tbody>\n",
       "    <tr>\n",
       "      <th>0</th>\n",
       "      <td>He was almost choking. There was so much, so m...</td>\n",
       "      <td>3</td>\n",
       "    </tr>\n",
       "    <tr>\n",
       "      <th>1</th>\n",
       "      <td>“Your sister asked for it, I suppose?”</td>\n",
       "      <td>2</td>\n",
       "    </tr>\n",
       "    <tr>\n",
       "      <th>2</th>\n",
       "      <td>She was engaged one day as she walked, in per...</td>\n",
       "      <td>1</td>\n",
       "    </tr>\n",
       "    <tr>\n",
       "      <th>3</th>\n",
       "      <td>The captain was in the porch, keeping himself ...</td>\n",
       "      <td>4</td>\n",
       "    </tr>\n",
       "    <tr>\n",
       "      <th>4</th>\n",
       "      <td>“Have mercy, gentlemen!” odin flung up his han...</td>\n",
       "      <td>3</td>\n",
       "    </tr>\n",
       "    <tr>\n",
       "      <th>...</th>\n",
       "      <td>...</td>\n",
       "      <td>...</td>\n",
       "    </tr>\n",
       "    <tr>\n",
       "      <th>54874</th>\n",
       "      <td>“Is that you, Mr. Smith?” odin whispered. “I h...</td>\n",
       "      <td>2</td>\n",
       "    </tr>\n",
       "    <tr>\n",
       "      <th>54875</th>\n",
       "      <td>I told my plan to the captain, and between us ...</td>\n",
       "      <td>4</td>\n",
       "    </tr>\n",
       "    <tr>\n",
       "      <th>54876</th>\n",
       "      <td>\"Your sincere well-wisher, friend, and sister...</td>\n",
       "      <td>1</td>\n",
       "    </tr>\n",
       "    <tr>\n",
       "      <th>54877</th>\n",
       "      <td>“Then you wanted me to lend you money?”</td>\n",
       "      <td>3</td>\n",
       "    </tr>\n",
       "    <tr>\n",
       "      <th>54878</th>\n",
       "      <td>It certainly had not occurred to me before, bu...</td>\n",
       "      <td>0</td>\n",
       "    </tr>\n",
       "  </tbody>\n",
       "</table>\n",
       "<p>54879 rows × 2 columns</p>\n",
       "</div>"
      ],
      "text/plain": [
       "                                                    text  score\n",
       "0      He was almost choking. There was so much, so m...      3\n",
       "1                 “Your sister asked for it, I suppose?”      2\n",
       "2       She was engaged one day as she walked, in per...      1\n",
       "3      The captain was in the porch, keeping himself ...      4\n",
       "4      “Have mercy, gentlemen!” odin flung up his han...      3\n",
       "...                                                  ...    ...\n",
       "54874  “Is that you, Mr. Smith?” odin whispered. “I h...      2\n",
       "54875  I told my plan to the captain, and between us ...      4\n",
       "54876   \"Your sincere well-wisher, friend, and sister...      1\n",
       "54877            “Then you wanted me to lend you money?”      3\n",
       "54878  It certainly had not occurred to me before, bu...      0\n",
       "\n",
       "[54879 rows x 2 columns]"
      ]
     },
     "execution_count": 3,
     "metadata": {},
     "output_type": "execute_result"
    }
   ],
   "source": [
    "df = pd.read_csv(\"nlp_data/practice.csv\")\n",
    "df.info()\n",
    "\n",
    "df = df.drop('index',axis=1)\n",
    "\n",
    "#df"
   ]
  },
  {
   "cell_type": "code",
   "execution_count": 4,
   "id": "5e1e7a3b",
   "metadata": {
    "ExecuteTime": {
     "end_time": "2023-01-24T05:01:32.101984Z",
     "start_time": "2023-01-24T05:01:28.184874Z"
    }
   },
   "outputs": [
    {
     "data": {
      "text/html": [
       "<div>\n",
       "<style scoped>\n",
       "    .dataframe tbody tr th:only-of-type {\n",
       "        vertical-align: middle;\n",
       "    }\n",
       "\n",
       "    .dataframe tbody tr th {\n",
       "        vertical-align: top;\n",
       "    }\n",
       "\n",
       "    .dataframe thead th {\n",
       "        text-align: right;\n",
       "    }\n",
       "</style>\n",
       "<table border=\"1\" class=\"dataframe\">\n",
       "  <thead>\n",
       "    <tr style=\"text-align: right;\">\n",
       "      <th></th>\n",
       "      <th>text</th>\n",
       "      <th>score</th>\n",
       "    </tr>\n",
       "  </thead>\n",
       "  <tbody>\n",
       "    <tr>\n",
       "      <th>0</th>\n",
       "      <td>He was almost choking. There was so much, so m...</td>\n",
       "      <td>3</td>\n",
       "    </tr>\n",
       "    <tr>\n",
       "      <th>1</th>\n",
       "      <td>Your sister asked for it, I suppose?</td>\n",
       "      <td>2</td>\n",
       "    </tr>\n",
       "    <tr>\n",
       "      <th>2</th>\n",
       "      <td>She was engaged one day as she walked, in per...</td>\n",
       "      <td>1</td>\n",
       "    </tr>\n",
       "    <tr>\n",
       "      <th>3</th>\n",
       "      <td>The captain was in the porch, keeping himself ...</td>\n",
       "      <td>4</td>\n",
       "    </tr>\n",
       "    <tr>\n",
       "      <th>4</th>\n",
       "      <td>Have mercy, gentlemen! odin flung up his hands...</td>\n",
       "      <td>3</td>\n",
       "    </tr>\n",
       "    <tr>\n",
       "      <th>...</th>\n",
       "      <td>...</td>\n",
       "      <td>...</td>\n",
       "    </tr>\n",
       "    <tr>\n",
       "      <th>54874</th>\n",
       "      <td>Is that you, Mr. Smith? odin whispered. I hard...</td>\n",
       "      <td>2</td>\n",
       "    </tr>\n",
       "    <tr>\n",
       "      <th>54875</th>\n",
       "      <td>I told my plan to the captain, and between us ...</td>\n",
       "      <td>4</td>\n",
       "    </tr>\n",
       "    <tr>\n",
       "      <th>54876</th>\n",
       "      <td>Your sincere well-wisher, friend, and sister,...</td>\n",
       "      <td>1</td>\n",
       "    </tr>\n",
       "    <tr>\n",
       "      <th>54877</th>\n",
       "      <td>Then you wanted me to lend you money?</td>\n",
       "      <td>3</td>\n",
       "    </tr>\n",
       "    <tr>\n",
       "      <th>54878</th>\n",
       "      <td>It certainly had not occurred to me before, bu...</td>\n",
       "      <td>0</td>\n",
       "    </tr>\n",
       "  </tbody>\n",
       "</table>\n",
       "<p>54879 rows × 2 columns</p>\n",
       "</div>"
      ],
      "text/plain": [
       "                                                    text  score\n",
       "0      He was almost choking. There was so much, so m...      3\n",
       "1                   Your sister asked for it, I suppose?      2\n",
       "2       She was engaged one day as she walked, in per...      1\n",
       "3      The captain was in the porch, keeping himself ...      4\n",
       "4      Have mercy, gentlemen! odin flung up his hands...      3\n",
       "...                                                  ...    ...\n",
       "54874  Is that you, Mr. Smith? odin whispered. I hard...      2\n",
       "54875  I told my plan to the captain, and between us ...      4\n",
       "54876   Your sincere well-wisher, friend, and sister,...      1\n",
       "54877              Then you wanted me to lend you money?      3\n",
       "54878  It certainly had not occurred to me before, bu...      0\n",
       "\n",
       "[54879 rows x 2 columns]"
      ]
     },
     "execution_count": 4,
     "metadata": {},
     "output_type": "execute_result"
    }
   ],
   "source": [
    "# 인용문에 있는 쌍따옴표 제거\n",
    "for idx, val in enumerate(df['text']):\n",
    "    val = val.replace('“',\"\")\n",
    "    val = val.replace('”','')\n",
    "    val = val.replace('\"','')\n",
    "    df.loc[idx,'text'] = val\n",
    "\n",
    "df"
   ]
  },
  {
   "cell_type": "code",
   "execution_count": 5,
   "id": "8ab4452d",
   "metadata": {
    "ExecuteTime": {
     "end_time": "2023-01-24T05:01:32.181763Z",
     "start_time": "2023-01-24T05:01:32.107995Z"
    }
   },
   "outputs": [],
   "source": [
    "# 스코어 고유값 확인\n",
    "df['score'].unique()\n",
    "\n",
    "# 스코어별로 구분 후 text만 저장한 df 생성\n",
    "s0 = df.loc[df['score']==0]\n",
    "s0 = s0[['text']]\n",
    "s0 = s0.reset_index(drop=True)\n",
    "s1 = df.loc[df['score']==1]\n",
    "s1 = s1[['text']]\n",
    "s1 = s1.reset_index(drop=True)\n",
    "s2 = df.loc[df['score']==2]\n",
    "s2 = s2[['text']]\n",
    "s2 = s2.reset_index(drop=True)\n",
    "s3 = df.loc[df['score']==3]\n",
    "s3 = s3[['text']]\n",
    "s3 = s3.reset_index(drop=True)\n",
    "s4 = df.loc[df['score']==4]\n",
    "s4 = s4[['text']]\n",
    "s4 = s4.reset_index(drop=True)"
   ]
  },
  {
   "cell_type": "code",
   "execution_count": 6,
   "id": "d15f07d7",
   "metadata": {
    "ExecuteTime": {
     "end_time": "2023-01-24T05:01:32.213118Z",
     "start_time": "2023-01-24T05:01:32.186763Z"
    }
   },
   "outputs": [
    {
     "data": {
      "text/html": [
       "<div>\n",
       "<style scoped>\n",
       "    .dataframe tbody tr th:only-of-type {\n",
       "        vertical-align: middle;\n",
       "    }\n",
       "\n",
       "    .dataframe tbody tr th {\n",
       "        vertical-align: top;\n",
       "    }\n",
       "\n",
       "    .dataframe thead th {\n",
       "        text-align: right;\n",
       "    }\n",
       "</style>\n",
       "<table border=\"1\" class=\"dataframe\">\n",
       "  <thead>\n",
       "    <tr style=\"text-align: right;\">\n",
       "      <th></th>\n",
       "      <th>text</th>\n",
       "    </tr>\n",
       "  </thead>\n",
       "  <tbody>\n",
       "    <tr>\n",
       "      <th>0</th>\n",
       "      <td>He was almost choking. There was so much, so m...</td>\n",
       "    </tr>\n",
       "    <tr>\n",
       "      <th>1</th>\n",
       "      <td>Have mercy, gentlemen! odin flung up his hands...</td>\n",
       "    </tr>\n",
       "    <tr>\n",
       "      <th>2</th>\n",
       "      <td>Not to pay him was impossible, considering his...</td>\n",
       "    </tr>\n",
       "    <tr>\n",
       "      <th>3</th>\n",
       "      <td>Indeed she didn’t. By God I swear she didn’t c...</td>\n",
       "    </tr>\n",
       "    <tr>\n",
       "      <th>4</th>\n",
       "      <td>And why are you so dressed up? What a curious ...</td>\n",
       "    </tr>\n",
       "    <tr>\n",
       "      <th>...</th>\n",
       "      <td>...</td>\n",
       "    </tr>\n",
       "    <tr>\n",
       "      <th>15058</th>\n",
       "      <td>Is that you, odin Yegorytch? asked odin.</td>\n",
       "    </tr>\n",
       "    <tr>\n",
       "      <th>15059</th>\n",
       "      <td>odin was waiting for him at the end of the pas...</td>\n",
       "    </tr>\n",
       "    <tr>\n",
       "      <th>15060</th>\n",
       "      <td>odin looked at him in silence.</td>\n",
       "    </tr>\n",
       "    <tr>\n",
       "      <th>15061</th>\n",
       "      <td>Certainly I will be so good, gentlemen.</td>\n",
       "    </tr>\n",
       "    <tr>\n",
       "      <th>15062</th>\n",
       "      <td>Then you wanted me to lend you money?</td>\n",
       "    </tr>\n",
       "  </tbody>\n",
       "</table>\n",
       "<p>15063 rows × 1 columns</p>\n",
       "</div>"
      ],
      "text/plain": [
       "                                                    text\n",
       "0      He was almost choking. There was so much, so m...\n",
       "1      Have mercy, gentlemen! odin flung up his hands...\n",
       "2      Not to pay him was impossible, considering his...\n",
       "3      Indeed she didn’t. By God I swear she didn’t c...\n",
       "4      And why are you so dressed up? What a curious ...\n",
       "...                                                  ...\n",
       "15058           Is that you, odin Yegorytch? asked odin.\n",
       "15059  odin was waiting for him at the end of the pas...\n",
       "15060                     odin looked at him in silence.\n",
       "15061            Certainly I will be so good, gentlemen.\n",
       "15062              Then you wanted me to lend you money?\n",
       "\n",
       "[15063 rows x 1 columns]"
      ]
     },
     "execution_count": 6,
     "metadata": {},
     "output_type": "execute_result"
    }
   ],
   "source": [
    "s3"
   ]
  },
  {
   "cell_type": "code",
   "execution_count": 7,
   "id": "4e748ab9",
   "metadata": {
    "ExecuteTime": {
     "end_time": "2023-01-24T05:01:32.229115Z",
     "start_time": "2023-01-24T05:01:32.217114Z"
    }
   },
   "outputs": [],
   "source": [
    "### 텍스트 전처리"
   ]
  },
  {
   "cell_type": "code",
   "execution_count": 8,
   "id": "20e97949",
   "metadata": {
    "ExecuteTime": {
     "end_time": "2023-01-24T05:01:52.098886Z",
     "start_time": "2023-01-24T05:01:32.234549Z"
    }
   },
   "outputs": [],
   "source": [
    "# 단어 토큰화 - text_to_word_sequence 선택 (모두 소문자로 통일 + 구두점 제거)\n",
    "import nltk\n",
    "from tensorflow.keras.preprocessing.text import text_to_word_sequence\n",
    "s1['text'] = s1.apply(lambda row: text_to_word_sequence(row['text']), axis=1)"
   ]
  },
  {
   "cell_type": "markdown",
   "id": "3bbe13cf",
   "metadata": {},
   "source": [
    "> **Question1**   \n",
    "여기 row의 기능? --> 매개변수 x와 같은 것. axis=1은 row로 적용"
   ]
  },
  {
   "cell_type": "code",
   "execution_count": 9,
   "id": "6b4da9ad",
   "metadata": {
    "ExecuteTime": {
     "end_time": "2023-01-24T05:01:52.130644Z",
     "start_time": "2023-01-24T05:01:52.103801Z"
    }
   },
   "outputs": [
    {
     "data": {
      "text/html": [
       "<div>\n",
       "<style scoped>\n",
       "    .dataframe tbody tr th:only-of-type {\n",
       "        vertical-align: middle;\n",
       "    }\n",
       "\n",
       "    .dataframe tbody tr th {\n",
       "        vertical-align: top;\n",
       "    }\n",
       "\n",
       "    .dataframe thead th {\n",
       "        text-align: right;\n",
       "    }\n",
       "</style>\n",
       "<table border=\"1\" class=\"dataframe\">\n",
       "  <thead>\n",
       "    <tr style=\"text-align: right;\">\n",
       "      <th></th>\n",
       "      <th>text</th>\n",
       "    </tr>\n",
       "  </thead>\n",
       "  <tbody>\n",
       "    <tr>\n",
       "      <th>0</th>\n",
       "      <td>[she, was, engaged, one, day, as, she, walked,...</td>\n",
       "    </tr>\n",
       "    <tr>\n",
       "      <th>1</th>\n",
       "      <td>[it, suited, odin, best, to, think, odin, the,...</td>\n",
       "    </tr>\n",
       "    <tr>\n",
       "      <th>2</th>\n",
       "      <td>[the, bustle, in, the, vestibule, as, she, pas...</td>\n",
       "    </tr>\n",
       "    <tr>\n",
       "      <th>3</th>\n",
       "      <td>[oh, dear, no, said, her, companion]</td>\n",
       "    </tr>\n",
       "    <tr>\n",
       "      <th>4</th>\n",
       "      <td>[from, this, day, odin, grew, more, comfortabl...</td>\n",
       "    </tr>\n",
       "  </tbody>\n",
       "</table>\n",
       "</div>"
      ],
      "text/plain": [
       "                                                text\n",
       "0  [she, was, engaged, one, day, as, she, walked,...\n",
       "1  [it, suited, odin, best, to, think, odin, the,...\n",
       "2  [the, bustle, in, the, vestibule, as, she, pas...\n",
       "3               [oh, dear, no, said, her, companion]\n",
       "4  [from, this, day, odin, grew, more, comfortabl..."
      ]
     },
     "execution_count": 9,
     "metadata": {},
     "output_type": "execute_result"
    }
   ],
   "source": [
    "# 결과 확인\n",
    "s1.head()"
   ]
  },
  {
   "cell_type": "code",
   "execution_count": 10,
   "id": "9f05c94c",
   "metadata": {
    "ExecuteTime": {
     "end_time": "2023-01-24T05:01:52.350820Z",
     "start_time": "2023-01-24T05:01:52.139554Z"
    }
   },
   "outputs": [],
   "source": [
    "# 클리닝 - 불용어 제거\n",
    "from nltk.corpus import stopwords\n",
    "from konlpy.tag import Okt"
   ]
  },
  {
   "cell_type": "code",
   "execution_count": 11,
   "id": "47f8c616",
   "metadata": {
    "ExecuteTime": {
     "end_time": "2023-01-24T05:01:52.397770Z",
     "start_time": "2023-01-24T05:01:52.357883Z"
    }
   },
   "outputs": [
    {
     "name": "stdout",
     "output_type": "stream",
     "text": [
      "불용어 개수 : 179\n",
      "불용어 10개 출력 : ['i', 'me', 'my', 'myself', 'we', 'our', 'ours', 'ourselves', 'you', \"you're\"]\n"
     ]
    }
   ],
   "source": [
    "# NLTK에서 불용어 확인하기\n",
    "# stopwords.words(\"english\") : NLTK가 정의한 영어 불용어 리스트를 리턴\n",
    "stop_words_list = stopwords.words('english')\n",
    "print('불용어 개수 :', len(stop_words_list))\n",
    "print('불용어 10개 출력 :',stop_words_list[:10])"
   ]
  },
  {
   "cell_type": "code",
   "execution_count": 12,
   "id": "85095465",
   "metadata": {
    "ExecuteTime": {
     "end_time": "2023-01-24T05:01:53.977922Z",
     "start_time": "2023-01-24T05:01:52.403824Z"
    }
   },
   "outputs": [],
   "source": [
    "# NLTK를 통해서 불용어 제거 + 단어 길이가 2이하인 경우 제거\n",
    "stop = stopwords.words('english')\n",
    "s1['text'] = s1['text'].apply(lambda x: [word for word in x if word not in (stop)])\n",
    "s1['text'] = s1['text'].apply(lambda x: [word for word in x if len(word) > 2])"
   ]
  },
  {
   "cell_type": "code",
   "execution_count": 13,
   "id": "124ddc6b",
   "metadata": {
    "ExecuteTime": {
     "end_time": "2023-01-24T05:01:54.008975Z",
     "start_time": "2023-01-24T05:01:53.983556Z"
    },
    "scrolled": true
   },
   "outputs": [
    {
     "data": {
      "text/html": [
       "<div>\n",
       "<style scoped>\n",
       "    .dataframe tbody tr th:only-of-type {\n",
       "        vertical-align: middle;\n",
       "    }\n",
       "\n",
       "    .dataframe tbody tr th {\n",
       "        vertical-align: top;\n",
       "    }\n",
       "\n",
       "    .dataframe thead th {\n",
       "        text-align: right;\n",
       "    }\n",
       "</style>\n",
       "<table border=\"1\" class=\"dataframe\">\n",
       "  <thead>\n",
       "    <tr style=\"text-align: right;\">\n",
       "      <th></th>\n",
       "      <th>text</th>\n",
       "    </tr>\n",
       "  </thead>\n",
       "  <tbody>\n",
       "    <tr>\n",
       "      <th>0</th>\n",
       "      <td>[engaged, one, day, walked, perusing, jane’s, ...</td>\n",
       "    </tr>\n",
       "    <tr>\n",
       "      <th>1</th>\n",
       "      <td>[suited, odin, best, think, odin, one, preferr...</td>\n",
       "    </tr>\n",
       "    <tr>\n",
       "      <th>2</th>\n",
       "      <td>[bustle, vestibule, passed, along, inner, lobb...</td>\n",
       "    </tr>\n",
       "    <tr>\n",
       "      <th>3</th>\n",
       "      <td>[dear, said, companion]</td>\n",
       "    </tr>\n",
       "    <tr>\n",
       "      <th>4</th>\n",
       "      <td>[day, odin, grew, comfortable, felt, friend, k...</td>\n",
       "    </tr>\n",
       "  </tbody>\n",
       "</table>\n",
       "</div>"
      ],
      "text/plain": [
       "                                                text\n",
       "0  [engaged, one, day, walked, perusing, jane’s, ...\n",
       "1  [suited, odin, best, think, odin, one, preferr...\n",
       "2  [bustle, vestibule, passed, along, inner, lobb...\n",
       "3                            [dear, said, companion]\n",
       "4  [day, odin, grew, comfortable, felt, friend, k..."
      ]
     },
     "execution_count": 13,
     "metadata": {},
     "output_type": "execute_result"
    }
   ],
   "source": [
    "# 결과 확인\n",
    "s1.head()"
   ]
  },
  {
   "cell_type": "code",
   "execution_count": 14,
   "id": "e0fb2a49",
   "metadata": {
    "ExecuteTime": {
     "end_time": "2023-01-24T05:01:59.686845Z",
     "start_time": "2023-01-24T05:01:54.013916Z"
    }
   },
   "outputs": [],
   "source": [
    "# 정규화 - 소문자 통일 : 위에서 완료.\n",
    "# 정규화 - 표제어 추출\n",
    "from nltk.stem import WordNetLemmatizer\n",
    "\n",
    "s1['text'] = s1['text'].apply(lambda x: [WordNetLemmatizer().lemmatize(word, pos='v') for word in x])"
   ]
  },
  {
   "cell_type": "code",
   "execution_count": 15,
   "id": "a7cfba5c",
   "metadata": {
    "ExecuteTime": {
     "end_time": "2023-01-24T05:01:59.718041Z",
     "start_time": "2023-01-24T05:01:59.692025Z"
    }
   },
   "outputs": [
    {
     "data": {
      "text/html": [
       "<div>\n",
       "<style scoped>\n",
       "    .dataframe tbody tr th:only-of-type {\n",
       "        vertical-align: middle;\n",
       "    }\n",
       "\n",
       "    .dataframe tbody tr th {\n",
       "        vertical-align: top;\n",
       "    }\n",
       "\n",
       "    .dataframe thead th {\n",
       "        text-align: right;\n",
       "    }\n",
       "</style>\n",
       "<table border=\"1\" class=\"dataframe\">\n",
       "  <thead>\n",
       "    <tr style=\"text-align: right;\">\n",
       "      <th></th>\n",
       "      <th>text</th>\n",
       "    </tr>\n",
       "  </thead>\n",
       "  <tbody>\n",
       "    <tr>\n",
       "      <th>0</th>\n",
       "      <td>[engage, one, day, walk, peruse, jane’s, last,...</td>\n",
       "    </tr>\n",
       "    <tr>\n",
       "      <th>1</th>\n",
       "      <td>[suit, odin, best, think, odin, one, prefer, a...</td>\n",
       "    </tr>\n",
       "    <tr>\n",
       "      <th>2</th>\n",
       "      <td>[bustle, vestibule, pass, along, inner, lobby,...</td>\n",
       "    </tr>\n",
       "    <tr>\n",
       "      <th>3</th>\n",
       "      <td>[dear, say, companion]</td>\n",
       "    </tr>\n",
       "    <tr>\n",
       "      <th>4</th>\n",
       "      <td>[day, odin, grow, comfortable, felt, friend, k...</td>\n",
       "    </tr>\n",
       "  </tbody>\n",
       "</table>\n",
       "</div>"
      ],
      "text/plain": [
       "                                                text\n",
       "0  [engage, one, day, walk, peruse, jane’s, last,...\n",
       "1  [suit, odin, best, think, odin, one, prefer, a...\n",
       "2  [bustle, vestibule, pass, along, inner, lobby,...\n",
       "3                             [dear, say, companion]\n",
       "4  [day, odin, grow, comfortable, felt, friend, k..."
      ]
     },
     "execution_count": 15,
     "metadata": {},
     "output_type": "execute_result"
    }
   ],
   "source": [
    "# 결과 확인\n",
    "s1.head()"
   ]
  },
  {
   "cell_type": "code",
   "execution_count": 16,
   "id": "91414d38",
   "metadata": {
    "ExecuteTime": {
     "end_time": "2023-01-24T05:01:59.749181Z",
     "start_time": "2023-01-24T05:01:59.723017Z"
    }
   },
   "outputs": [
    {
     "data": {
      "text/plain": [
       "0       [engage, one, day, walk, peruse, jane’s, last,...\n",
       "1       [suit, odin, best, think, odin, one, prefer, a...\n",
       "2       [bustle, vestibule, pass, along, inner, lobby,...\n",
       "3                                  [dear, say, companion]\n",
       "4       [day, odin, grow, comfortable, felt, friend, k...\n",
       "                              ...                        \n",
       "7217    [mind, make, several, point, resolution, form,...\n",
       "7218    [well, house, never, sit, anywhere, else, swee...\n",
       "7219    [appear, presently, look, little, irritable, d...\n",
       "7220    [dear, odin, talk, quite, idly, pray, would, b...\n",
       "7221    [sincere, well, wisher, friend, sister, lucy, ...\n",
       "Name: text, Length: 7222, dtype: object"
      ]
     },
     "execution_count": 16,
     "metadata": {},
     "output_type": "execute_result"
    }
   ],
   "source": [
    "# 토큰화 완료된 문장을 시리즈에 저장\n",
    "tokenized_doc = s1['text']\n",
    "tokenized_doc"
   ]
  },
  {
   "cell_type": "markdown",
   "id": "76099f40",
   "metadata": {},
   "source": [
    "# 빈도 기반(Countvector, TF-IDFvectorization) 토픽모델링(LDA) \n",
    "참고 : https://dianakang.tistory.com/51"
   ]
  },
  {
   "cell_type": "code",
   "execution_count": 17,
   "id": "6b0c6fe4",
   "metadata": {
    "ExecuteTime": {
     "end_time": "2023-01-24T05:01:59.765198Z",
     "start_time": "2023-01-24T05:01:59.753210Z"
    }
   },
   "outputs": [],
   "source": [
    "### TF-IDF 행렬 만들기\n",
    "# TfidfVectorizer는 기본적으로 토큰화가 되어있지 않은 텍스트 데이터를 입력으로 사용한다.\n",
    "# 따라서 토큰화 작업을 역으로 취소하는 역토큰화 작업을 먼저 수행한다."
   ]
  },
  {
   "cell_type": "code",
   "execution_count": 18,
   "id": "645ec9ef",
   "metadata": {
    "ExecuteTime": {
     "end_time": "2023-01-24T05:01:59.858003Z",
     "start_time": "2023-01-24T05:01:59.769188Z"
    }
   },
   "outputs": [],
   "source": [
    "# 역토큰화 (토큰화 작업을 되돌림)\n",
    "detokenized_doc = []\n",
    "for i in range(len(s1)):\n",
    "    t = ' '.join(tokenized_doc[i])\n",
    "    detokenized_doc.append(t)\n",
    "\n",
    "s1['text'] = detokenized_doc    # s1['text']에 다시 저장"
   ]
  },
  {
   "cell_type": "code",
   "execution_count": 19,
   "id": "5d2b0929",
   "metadata": {
    "ExecuteTime": {
     "end_time": "2023-01-24T05:01:59.889341Z",
     "start_time": "2023-01-24T05:01:59.863029Z"
    }
   },
   "outputs": [
    {
     "data": {
      "text/html": [
       "<div>\n",
       "<style scoped>\n",
       "    .dataframe tbody tr th:only-of-type {\n",
       "        vertical-align: middle;\n",
       "    }\n",
       "\n",
       "    .dataframe tbody tr th {\n",
       "        vertical-align: top;\n",
       "    }\n",
       "\n",
       "    .dataframe thead th {\n",
       "        text-align: right;\n",
       "    }\n",
       "</style>\n",
       "<table border=\"1\" class=\"dataframe\">\n",
       "  <thead>\n",
       "    <tr style=\"text-align: right;\">\n",
       "      <th></th>\n",
       "      <th>text</th>\n",
       "    </tr>\n",
       "  </thead>\n",
       "  <tbody>\n",
       "    <tr>\n",
       "      <th>0</th>\n",
       "      <td>engage one day walk peruse jane’s last letter ...</td>\n",
       "    </tr>\n",
       "    <tr>\n",
       "      <th>1</th>\n",
       "      <td>suit odin best think odin one prefer account o...</td>\n",
       "    </tr>\n",
       "    <tr>\n",
       "      <th>2</th>\n",
       "      <td>bustle vestibule pass along inner lobby assure...</td>\n",
       "    </tr>\n",
       "    <tr>\n",
       "      <th>3</th>\n",
       "      <td>dear say companion</td>\n",
       "    </tr>\n",
       "    <tr>\n",
       "      <th>4</th>\n",
       "      <td>day odin grow comfortable felt friend kindness...</td>\n",
       "    </tr>\n",
       "  </tbody>\n",
       "</table>\n",
       "</div>"
      ],
      "text/plain": [
       "                                                text\n",
       "0  engage one day walk peruse jane’s last letter ...\n",
       "1  suit odin best think odin one prefer account o...\n",
       "2  bustle vestibule pass along inner lobby assure...\n",
       "3                                 dear say companion\n",
       "4  day odin grow comfortable felt friend kindness..."
      ]
     },
     "execution_count": 19,
     "metadata": {},
     "output_type": "execute_result"
    }
   ],
   "source": [
    "# 결과 확인\n",
    "s1.head()"
   ]
  },
  {
   "cell_type": "code",
   "execution_count": 20,
   "id": "655ced61",
   "metadata": {
    "ExecuteTime": {
     "end_time": "2023-01-24T05:02:00.409274Z",
     "start_time": "2023-01-24T05:01:59.893892Z"
    }
   },
   "outputs": [
    {
     "data": {
      "text/plain": [
       "<7222x1000 sparse matrix of type '<class 'numpy.float64'>'\n",
       "\twith 102786 stored elements in Compressed Sparse Row format>"
      ]
     },
     "execution_count": 20,
     "metadata": {},
     "output_type": "execute_result"
    }
   ],
   "source": [
    "from sklearn.feature_extraction.text import TfidfVectorizer\n",
    "vectorizer = TfidfVectorizer(stop_words='english', max_features= 1000) # 상위 1,000개의 단어를 보존 \n",
    "X = vectorizer.fit_transform(s1['text'])   # 말뭉치 학습 및 TF-IDF 완성!!\n",
    "X"
   ]
  },
  {
   "cell_type": "code",
   "execution_count": 21,
   "id": "3fe9dc30",
   "metadata": {
    "ExecuteTime": {
     "end_time": "2023-01-24T05:02:00.487931Z",
     "start_time": "2023-01-24T05:02:00.415249Z"
    }
   },
   "outputs": [
    {
     "name": "stdout",
     "output_type": "stream",
     "text": [
      "(7222, 1000)\n",
      "[[0. 0. 0. ... 0. 0. 0.]\n",
      " [0. 0. 0. ... 0. 0. 0.]\n",
      " [0. 0. 0. ... 0. 0. 0.]\n",
      " ...\n",
      " [0. 0. 0. ... 0. 0. 0.]\n",
      " [0. 0. 0. ... 0. 0. 0.]\n",
      " [0. 0. 0. ... 0. 0. 0.]]\n"
     ]
    }
   ],
   "source": [
    "# TF-IDF 행렬 확인\n",
    "\n",
    "print(X.shape)        # TF-IDF 행렬의 크기 확인\n",
    "print(X.toarray())    # TF-IDF 행렬 확인\n",
    "# print(X.vocabulary_)  # 인덱싱된 단어 집합(?) 확인  :  오류남"
   ]
  },
  {
   "cell_type": "code",
   "execution_count": 22,
   "id": "d2c7ffb6",
   "metadata": {
    "ExecuteTime": {
     "end_time": "2023-01-24T05:02:00.503522Z",
     "start_time": "2023-01-24T05:02:00.493521Z"
    }
   },
   "outputs": [],
   "source": [
    "### 토픽 모델링"
   ]
  },
  {
   "cell_type": "code",
   "execution_count": 23,
   "id": "50dbdbcb",
   "metadata": {
    "ExecuteTime": {
     "end_time": "2023-01-24T05:02:00.612383Z",
     "start_time": "2023-01-24T05:02:00.508518Z"
    }
   },
   "outputs": [],
   "source": [
    "from sklearn.decomposition import LatentDirichletAllocation\n",
    "lda_model=LatentDirichletAllocation(n_components=10,learning_method='online',random_state=777,max_iter=1)"
   ]
  },
  {
   "cell_type": "code",
   "execution_count": 24,
   "id": "25f6843e",
   "metadata": {
    "ExecuteTime": {
     "end_time": "2023-01-24T05:02:07.875594Z",
     "start_time": "2023-01-24T05:02:00.619387Z"
    }
   },
   "outputs": [],
   "source": [
    "lda_top=lda_model.fit_transform(X)"
   ]
  },
  {
   "cell_type": "code",
   "execution_count": 25,
   "id": "ceb1afd6",
   "metadata": {
    "ExecuteTime": {
     "end_time": "2023-01-24T05:02:07.906644Z",
     "start_time": "2023-01-24T05:02:07.880610Z"
    }
   },
   "outputs": [
    {
     "name": "stdout",
     "output_type": "stream",
     "text": [
      "(10, 1000)\n",
      "[[ 0.10845964  0.65241891  1.4522278  ...  0.13417724  0.10654141\n",
      "   3.39756441]\n",
      " [ 6.88278946  4.77516893  5.2312935  ... 11.48733346  0.13762528\n",
      "  17.45833624]\n",
      " [ 0.10458893 21.06876471  6.03302326 ... 26.52979377 16.41294751\n",
      "  52.00577304]\n",
      " ...\n",
      " [ 0.11050087  0.10458754  0.10552298 ...  0.54538866  0.32738656\n",
      "   0.23060054]\n",
      " [ 0.10451132  0.11719532  0.12215923 ... 12.03193766  0.10543599\n",
      "   0.32571634]\n",
      " [ 0.10439871  0.10541486  0.1059895  ...  0.13734941  0.10794438\n",
      "   0.19667739]]\n"
     ]
    }
   ],
   "source": [
    "print(lda_model.components_.shape)   # components_의 shape 확인\n",
    "print(lda_model.components_)         # components_의 속성값 확인"
   ]
  },
  {
   "cell_type": "code",
   "execution_count": 26,
   "id": "ad99a212",
   "metadata": {
    "ExecuteTime": {
     "end_time": "2023-01-24T05:02:07.937644Z",
     "start_time": "2023-01-24T05:02:07.912655Z"
    }
   },
   "outputs": [
    {
     "name": "stderr",
     "output_type": "stream",
     "text": [
      "C:\\ProgramData\\Anaconda3\\envs\\data\\lib\\site-packages\\sklearn\\utils\\deprecation.py:87: FutureWarning: Function get_feature_names is deprecated; get_feature_names is deprecated in 1.0 and will be removed in 1.2. Please use get_feature_names_out instead.\n",
      "  warnings.warn(msg, category=FutureWarning)\n"
     ]
    },
    {
     "data": {
      "text/plain": [
       "['abbey',\n",
       " 'able',\n",
       " 'absence',\n",
       " 'absent',\n",
       " 'absolutely',\n",
       " 'accept',\n",
       " 'account',\n",
       " 'acknowledge',\n",
       " 'acquaint',\n",
       " 'acquaintance']"
      ]
     },
     "execution_count": 26,
     "metadata": {},
     "output_type": "execute_result"
    }
   ],
   "source": [
    "terms = vectorizer.get_feature_names() # 단어 집합. 1,000개의 단어가 저장됨.\n",
    "terms[:10]"
   ]
  },
  {
   "cell_type": "code",
   "execution_count": 27,
   "id": "2a3b1dce",
   "metadata": {
    "ExecuteTime": {
     "end_time": "2023-01-24T05:02:07.985630Z",
     "start_time": "2023-01-24T05:02:07.942646Z"
    },
    "scrolled": true
   },
   "outputs": [
    {
     "name": "stdout",
     "output_type": "stream",
     "text": [
      "Topic 1: [('odin', 112.16), ('answer', 44.26), ('eye', 39.71), ('say', 37.03), ('little', 33.63)]\n",
      "Topic 2: [('odin', 162.57), ('say', 63.49), ('ask', 56.14), ('mrs', 50.1), ('miss', 48.59)]\n",
      "Topic 3: [('odin', 266.16), ('say', 98.22), ('think', 88.32), ('know', 87.4), ('good', 77.71)]\n",
      "Topic 4: [('odin', 86.54), ('say', 80.24), ('room', 33.58), ('sir', 33.12), ('walk', 27.05)]\n",
      "Topic 5: [('yes', 54.4), ('come', 25.8), ('reply', 19.55), ('lizzy', 13.19), ('perfectly', 12.99)]\n",
      "Topic 6: [('odin', 72.94), ('tell', 35.0), ('say', 30.22), ('letter', 29.36), ('understand', 23.56)]\n",
      "Topic 7: [('true', 22.66), ('colour', 21.8), ('bow', 15.98), ('assure', 13.62), ('remember', 13.2)]\n",
      "Topic 8: [('smile', 36.37), ('mrs', 21.42), ('pray', 19.84), ('say', 19.71), ('odin', 17.13)]\n",
      "Topic 9: [('shall', 43.53), ('read', 36.04), ('think', 35.92), ('sure', 27.94), ('odin', 27.43)]\n",
      "Topic 10: [('afraid', 21.76), ('away', 17.77), ('add', 16.34), ('don', 14.7), ('agree', 11.43)]\n"
     ]
    }
   ],
   "source": [
    "# 토픽별로 가장 연관도가 높은 단어 5개씩 추출 + 연관도까지 같이 출력\n",
    "def get_topics(components, feature_names, n=5):\n",
    "    for idx, topic in enumerate(components):\n",
    "        print(\"Topic %d:\" % (idx+1), [(feature_names[i], topic[i].round(2)) for i in topic.argsort()[:-n - 1:-1]])\n",
    "get_topics(lda_model.components_, terms)"
   ]
  },
  {
   "cell_type": "markdown",
   "id": "44da9203",
   "metadata": {},
   "source": [
    "------\n",
    "------"
   ]
  },
  {
   "cell_type": "markdown",
   "id": "7038dfe0",
   "metadata": {
    "ExecuteTime": {
     "end_time": "2023-01-24T05:02:08.017776Z",
     "start_time": "2023-01-24T05:02:07.998683Z"
    }
   },
   "source": [
    "# 워드임베딩"
   ]
  },
  {
   "cell_type": "code",
   "execution_count": 45,
   "id": "8673ec07",
   "metadata": {
    "ExecuteTime": {
     "end_time": "2023-01-24T05:37:58.739694Z",
     "start_time": "2023-01-24T05:05:59.511837Z"
    }
   },
   "outputs": [],
   "source": [
    "# Word2Vec 훈련시키기\n",
    "from gensim.models import Word2Vec\n",
    "from gensim.models import KeyedVectors\n",
    "\n",
    "model = Word2Vec(sentences=tokenized_doc, size=100, window=5, min_count=5, workers=4, sg=0)"
   ]
  },
  {
   "cell_type": "code",
   "execution_count": 48,
   "id": "ee6a5bc8",
   "metadata": {
    "ExecuteTime": {
     "end_time": "2023-01-24T06:05:38.602793Z",
     "start_time": "2023-01-24T06:05:38.520929Z"
    },
    "scrolled": true
   },
   "outputs": [
    {
     "name": "stdout",
     "output_type": "stream",
     "text": [
      "[('life', 0.999595046043396), ('years', 0.9993919134140015), ('five', 0.9993911981582642), ('society', 0.9993870854377747), ('family', 0.9993654489517212), ('year', 0.99935382604599), ('among', 0.9993314743041992), ('character', 0.9993167519569397), ('another', 0.9993091821670532), ('happiness', 0.9992923736572266)]\n"
     ]
    }
   ],
   "source": [
    "# model.wv.most_similar : 입력한 단어에 대해서 가장 유사한 단어들을 출력\n",
    "model_result = model.wv.most_similar(\"one\")\n",
    "print(model_result)"
   ]
  },
  {
   "cell_type": "code",
   "execution_count": 49,
   "id": "0d3c23d2",
   "metadata": {
    "ExecuteTime": {
     "end_time": "2023-01-24T06:05:45.223228Z",
     "start_time": "2023-01-24T06:05:43.957936Z"
    }
   },
   "outputs": [],
   "source": [
    "# Word2Vec 모델 저장하고 로드하기\n",
    "model.wv.save_word2vec_format('eng_w2v') # 모델 저장\n",
    "loaded_model = KeyedVectors.load_word2vec_format(\"eng_w2v\") # 모델 로드"
   ]
  },
  {
   "cell_type": "code",
   "execution_count": 50,
   "id": "26dbb854",
   "metadata": {
    "ExecuteTime": {
     "end_time": "2023-01-24T06:05:47.184195Z",
     "start_time": "2023-01-24T06:05:47.158901Z"
    },
    "scrolled": true
   },
   "outputs": [
    {
     "name": "stdout",
     "output_type": "stream",
     "text": [
      "[('woman', 0.990466833114624), ('people', 0.9884623289108276), ('ladies', 0.9876526594161987), ('men', 0.9854093194007874), ('young', 0.9842920899391174), ('good', 0.9831441044807434), ('agreeable', 0.98298579454422), ('sensible', 0.9825071096420288), ('love', 0.9822222590446472), ('sort', 0.9816296696662903)]\n"
     ]
    }
   ],
   "source": [
    "# 유사한 단어 다시 출력해보기\n",
    "model_result = loaded_model.most_similar(\"man\")\n",
    "print(model_result)"
   ]
  },
  {
   "cell_type": "code",
   "execution_count": null,
   "id": "5b54a722",
   "metadata": {
    "ExecuteTime": {
     "start_time": "2023-01-24T06:26:33.284Z"
    },
    "scrolled": true
   },
   "outputs": [
    {
     "name": "stderr",
     "output_type": "stream",
     "text": [
      "Exception in thread Exception in thread Exception in thread Thread-85:\n",
      "Traceback (most recent call last):\n",
      "  File \"C:\\ProgramData\\Anaconda3\\envs\\data\\lib\\threading.py\", line 980, in _bootstrap_inner\n",
      "Exception in thread Thread-87:\n",
      "Traceback (most recent call last):\n",
      "  File \"C:\\ProgramData\\Anaconda3\\envs\\data\\lib\\threading.py\", line 980, in _bootstrap_inner\n",
      "Thread-88:\n",
      "Traceback (most recent call last):\n",
      "  File \"C:\\ProgramData\\Anaconda3\\envs\\data\\lib\\threading.py\", line 980, in _bootstrap_inner\n",
      "    self.run()\n",
      "  File \"C:\\ProgramData\\Anaconda3\\envs\\data\\lib\\threading.py\", line 917, in run\n",
      "Thread-86    self.run()\n",
      "  File \"C:\\ProgramData\\Anaconda3\\envs\\data\\lib\\threading.py\", line 917, in run\n",
      ":\n",
      "Traceback (most recent call last):\n",
      "  File \"C:\\ProgramData\\Anaconda3\\envs\\data\\lib\\threading.py\", line 980, in _bootstrap_inner\n",
      "    self._target(*self._args, **self._kwargs)\n",
      "  File \"C:\\ProgramData\\Anaconda3\\envs\\data\\lib\\site-packages\\gensim\\models\\base_any2vec.py\", line 211, in _worker_loop\n",
      "    self.run()\n",
      "  File \"C:\\ProgramData\\Anaconda3\\envs\\data\\lib\\threading.py\", line 917, in run\n",
      "    tally, raw_tally = self._do_train_job(data_iterable, job_parameters, thread_private_mem)\n",
      "  File \"C:\\ProgramData\\Anaconda3\\envs\\data\\lib\\site-packages\\gensim\\models\\fasttext.py\", line 593, in _do_train_job\n",
      "    self.run()\n",
      "  File \"C:\\ProgramData\\Anaconda3\\envs\\data\\lib\\threading.py\", line 917, in run\n",
      "        self._target(*self._args, **self._kwargs)\n",
      "  File \"C:\\ProgramData\\Anaconda3\\envs\\data\\lib\\site-packages\\gensim\\models\\base_any2vec.py\", line 211, in _worker_loop\n",
      "self._target(*self._args, **self._kwargs)\n",
      "  File \"C:\\ProgramData\\Anaconda3\\envs\\data\\lib\\site-packages\\gensim\\models\\base_any2vec.py\", line 211, in _worker_loop\n",
      "            tally += train_batch_sg(self, sentences, alpha, work, neu1)\n",
      "  File \"C:\\ProgramData\\Anaconda3\\envs\\data\\lib\\site-packages\\gensim\\models\\fasttext.py\", line 203, in train_batch_sg\n",
      "tally, raw_tally = self._do_train_job(data_iterable, job_parameters, thread_private_mem)\n",
      "self._target(*self._args, **self._kwargs)\n",
      "  File \"C:\\ProgramData\\Anaconda3\\envs\\data\\lib\\site-packages\\gensim\\models\\fasttext.py\", line 593, in _do_train_job\n",
      "  File \"C:\\ProgramData\\Anaconda3\\envs\\data\\lib\\site-packages\\gensim\\models\\base_any2vec.py\", line 211, in _worker_loop\n",
      "    tally, raw_tally = self._do_train_job(data_iterable, job_parameters, thread_private_mem)\n",
      "  File \"C:\\ProgramData\\Anaconda3\\envs\\data\\lib\\site-packages\\gensim\\models\\fasttext.py\", line 593, in _do_train_job\n",
      "    train_sg_pair(model, model.wv.index2word[word2.index], subwords_indices, alpha, is_ft=True)\n",
      "  File \"C:\\ProgramData\\Anaconda3\\envs\\data\\lib\\site-packages\\gensim\\models\\word2vec.py\", line 404, in train_sg_pair\n",
      "    tally, raw_tally = self._do_train_job(data_iterable, job_parameters, thread_private_mem)\n",
      "  File \"C:\\ProgramData\\Anaconda3\\envs\\data\\lib\\site-packages\\gensim\\models\\fasttext.py\", line 593, in _do_train_job\n",
      "    tally += train_batch_sg(self, sentences, alpha, work, neu1)\n",
      "  File \"C:\\ProgramData\\Anaconda3\\envs\\data\\lib\\site-packages\\gensim\\models\\fasttext.py\", line 203, in train_batch_sg\n",
      "    tally += train_batch_sg(self, sentences, alpha, work, neu1)\n",
      "      File \"C:\\ProgramData\\Anaconda3\\envs\\data\\lib\\site-packages\\gensim\\models\\fasttext.py\", line 203, in train_batch_sg\n",
      "tally += train_batch_sg(self, sentences, alpha, work, neu1)\n",
      "  File \"C:\\ProgramData\\Anaconda3\\envs\\data\\lib\\site-packages\\gensim\\models\\fasttext.py\", line 203, in train_batch_sg\n",
      "    l1_ngrams = np_sum(context_vectors_ngrams[context_index[1:]], axis=0)\n",
      "IndexError    : too many indices for array: array is 2-dimensional, but 18 were indexed\n",
      "train_sg_pair(model, model.wv.index2word[word2.index], subwords_indices, alpha, is_ft=True)\n",
      "  File \"C:\\ProgramData\\Anaconda3\\envs\\data\\lib\\site-packages\\gensim\\models\\word2vec.py\", line 404, in train_sg_pair\n",
      "    train_sg_pair(model, model.wv.index2word[word2.index], subwords_indices, alpha, is_ft=True)\n",
      "      File \"C:\\ProgramData\\Anaconda3\\envs\\data\\lib\\site-packages\\gensim\\models\\word2vec.py\", line 404, in train_sg_pair\n",
      "train_sg_pair(model, model.wv.index2word[word2.index], subwords_indices, alpha, is_ft=True)\n",
      "      File \"C:\\ProgramData\\Anaconda3\\envs\\data\\lib\\site-packages\\gensim\\models\\word2vec.py\", line 404, in train_sg_pair\n",
      "l1_ngrams = np_sum(context_vectors_ngrams[context_index[1:]], axis=0)\n",
      "IndexError: too many indices for array: array is 2-dimensional, but 3 were indexed\n",
      "    l1_ngrams = np_sum(context_vectors_ngrams[context_index[1:]], axis=0)\n",
      "IndexError: too many indices for array: array is 2-dimensional, but 18 were indexed\n",
      "    l1_ngrams = np_sum(context_vectors_ngrams[context_index[1:]], axis=0)\n",
      "IndexError: too many indices for array: array is 2-dimensional, but 10 were indexed\n"
     ]
    }
   ],
   "source": [
    "## fasttext\n",
    "from gensim.models import FastText\n",
    "\n",
    "model_FT = FastText(tokenized_doc, size=100, window=5, min_count=5, workers=4, sg=1)\n",
    "model_FT.wv.most_similar(\"once\")   # 유사한 단어를 계산해서 출력함"
   ]
  }
 ],
 "metadata": {
  "kernelspec": {
   "display_name": "Python 3 (ipykernel)",
   "language": "python",
   "name": "python3"
  },
  "language_info": {
   "codemirror_mode": {
    "name": "ipython",
    "version": 3
   },
   "file_extension": ".py",
   "mimetype": "text/x-python",
   "name": "python",
   "nbconvert_exporter": "python",
   "pygments_lexer": "ipython3",
   "version": "3.9.13"
  },
  "toc": {
   "base_numbering": 1,
   "nav_menu": {},
   "number_sections": true,
   "sideBar": true,
   "skip_h1_title": false,
   "title_cell": "Table of Contents",
   "title_sidebar": "Contents",
   "toc_cell": false,
   "toc_position": {},
   "toc_section_display": true,
   "toc_window_display": false
  }
 },
 "nbformat": 4,
 "nbformat_minor": 5
}
