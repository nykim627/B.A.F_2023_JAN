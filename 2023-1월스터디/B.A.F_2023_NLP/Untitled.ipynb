{
 "cells": [
  {
   "cell_type": "markdown",
   "id": "04c0c368",
   "metadata": {},
   "source": [
    "**rename error** - 해결못함ㅜㅜ\n",
    "- NameError: name 'os' is not defined    라는 오류    \n",
    "- import os 해주고 아래처럼 작성\n",
    "- https://discourse.jupyter.org/t/rename-failed-os-path-is-not-defined/14687/3"
   ]
  },
  {
   "cell_type": "code",
   "execution_count": 3,
   "id": "6d860b3e",
   "metadata": {
    "ExecuteTime": {
     "end_time": "2023-01-16T12:41:25.981465Z",
     "start_time": "2023-01-16T12:41:25.968572Z"
    }
   },
   "outputs": [],
   "source": [
    "import os\n",
    "\n",
    "def rename_file(self, old_path, new_path):\n",
    "    \"\"\"Rename a file.\"\"\"\n",
    "    old_path = old_path.strip('/')\n",
    "    new_path = new_path.strip('/')\n",
    "    if new_path == old_path:\n",
    "        return\n",
    "\n",
    "          \n",
    "    if (is_hidden(old_path, self.root_dir) or is_hidden(new_path, self.root_dir)) and not self.allow_hidden:\n",
    "        raise web.HTTPError(400, f'Cannot rename file or directory {os_path!r}')"
   ]
  },
  {
   "cell_type": "markdown",
   "id": "263596d3",
   "metadata": {},
   "source": [
    "------------------"
   ]
  },
  {
   "cell_type": "code",
   "execution_count": 6,
   "id": "9e4e73e7",
   "metadata": {
    "ExecuteTime": {
     "end_time": "2023-01-16T12:47:30.468172Z",
     "start_time": "2023-01-16T12:47:27.644083Z"
    }
   },
   "outputs": [
    {
     "name": "stdout",
     "output_type": "stream",
     "text": [
      "<class 'pandas.core.frame.DataFrame'>\n",
      "RangeIndex: 54879 entries, 0 to 54878\n",
      "Data columns (total 3 columns):\n",
      " #   Column  Non-Null Count  Dtype \n",
      "---  ------  --------------  ----- \n",
      " 0   index   54879 non-null  int64 \n",
      " 1   text    54879 non-null  object\n",
      " 2   score   54879 non-null  int64 \n",
      "dtypes: int64(2), object(1)\n",
      "memory usage: 1.3+ MB\n"
     ]
    },
    {
     "data": {
      "text/html": [
       "<div>\n",
       "<style scoped>\n",
       "    .dataframe tbody tr th:only-of-type {\n",
       "        vertical-align: middle;\n",
       "    }\n",
       "\n",
       "    .dataframe tbody tr th {\n",
       "        vertical-align: top;\n",
       "    }\n",
       "\n",
       "    .dataframe thead th {\n",
       "        text-align: right;\n",
       "    }\n",
       "</style>\n",
       "<table border=\"1\" class=\"dataframe\">\n",
       "  <thead>\n",
       "    <tr style=\"text-align: right;\">\n",
       "      <th></th>\n",
       "      <th>text</th>\n",
       "      <th>score</th>\n",
       "    </tr>\n",
       "  </thead>\n",
       "  <tbody>\n",
       "    <tr>\n",
       "      <th>0</th>\n",
       "      <td>He was almost choking. There was so much, so m...</td>\n",
       "      <td>3</td>\n",
       "    </tr>\n",
       "    <tr>\n",
       "      <th>1</th>\n",
       "      <td>“Your sister asked for it, I suppose?”</td>\n",
       "      <td>2</td>\n",
       "    </tr>\n",
       "    <tr>\n",
       "      <th>2</th>\n",
       "      <td>She was engaged one day as she walked, in per...</td>\n",
       "      <td>1</td>\n",
       "    </tr>\n",
       "    <tr>\n",
       "      <th>3</th>\n",
       "      <td>The captain was in the porch, keeping himself ...</td>\n",
       "      <td>4</td>\n",
       "    </tr>\n",
       "    <tr>\n",
       "      <th>4</th>\n",
       "      <td>“Have mercy, gentlemen!” odin flung up his han...</td>\n",
       "      <td>3</td>\n",
       "    </tr>\n",
       "  </tbody>\n",
       "</table>\n",
       "</div>"
      ],
      "text/plain": [
       "                                                text  score\n",
       "0  He was almost choking. There was so much, so m...      3\n",
       "1             “Your sister asked for it, I suppose?”      2\n",
       "2   She was engaged one day as she walked, in per...      1\n",
       "3  The captain was in the porch, keeping himself ...      4\n",
       "4  “Have mercy, gentlemen!” odin flung up his han...      3"
      ]
     },
     "execution_count": 6,
     "metadata": {},
     "output_type": "execute_result"
    }
   ],
   "source": [
    "import pandas as pd\n",
    "\n",
    "# col 생략 없이 출력\n",
    "pd.set_option('display.max_columns', None)\n",
    "\n",
    "df = pd.read_csv(\"nlp_data/practice.csv\")\n",
    "df.info()\n",
    "\n",
    "df = df.drop('index',axis=1)\n",
    "\n",
    "df.head()"
   ]
  },
  {
   "cell_type": "code",
   "execution_count": null,
   "id": "ac5c54cd",
   "metadata": {},
   "outputs": [],
   "source": []
  }
 ],
 "metadata": {
  "kernelspec": {
   "display_name": "Python 3 (ipykernel)",
   "language": "python",
   "name": "python3"
  },
  "language_info": {
   "codemirror_mode": {
    "name": "ipython",
    "version": 3
   },
   "file_extension": ".py",
   "mimetype": "text/x-python",
   "name": "python",
   "nbconvert_exporter": "python",
   "pygments_lexer": "ipython3",
   "version": "3.9.13"
  },
  "toc": {
   "base_numbering": 1,
   "nav_menu": {},
   "number_sections": true,
   "sideBar": true,
   "skip_h1_title": false,
   "title_cell": "Table of Contents",
   "title_sidebar": "Contents",
   "toc_cell": false,
   "toc_position": {},
   "toc_section_display": true,
   "toc_window_display": false
  }
 },
 "nbformat": 4,
 "nbformat_minor": 5
}
